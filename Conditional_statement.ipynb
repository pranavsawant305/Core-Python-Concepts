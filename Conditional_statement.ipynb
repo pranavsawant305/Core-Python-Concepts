{
 "cells": [
  {
   "cell_type": "markdown",
   "id": "95d75745-84a4-482f-9c8c-cc6fd7eb9188",
   "metadata": {},
   "source": [
    "#  Branching statements:\n",
    "  - conditional statements/ decision statements\n",
    "  - looping statements\n",
    "\n",
    "\n",
    "## conditional statements/ decision statements\n",
    "\n",
    "\n",
    "- if\n",
    "- if-else\n",
    "- if-elif\n",
    "- if-elif-else\n",
    "- nested  if-elif else\n"
   ]
  },
  {
   "cell_type": "markdown",
   "id": "94e486bc-084c-4c2a-a67d-e730c9fe5730",
   "metadata": {},
   "source": [
    "# if"
   ]
  },
  {
   "cell_type": "code",
   "execution_count": 1,
   "id": "4f36e81f-f0f5-4edd-89e4-a88abfef3968",
   "metadata": {},
   "outputs": [
    {
     "name": "stdin",
     "output_type": "stream",
     "text": [
      "enter the distance  300\n"
     ]
    },
    {
     "name": "stdout",
     "output_type": "stream",
     "text": [
      "heloz\n"
     ]
    }
   ],
   "source": [
    "distance=int(input(\"enter the distance \"))\n",
    "if distance>400:\n",
    "    print(\"will go to the outing\")\n",
    "print(\"heloz\")"
   ]
  },
  {
   "cell_type": "code",
   "execution_count": 2,
   "id": "ae925bf5-75ed-4020-ac27-fdcd3f00a0cc",
   "metadata": {},
   "outputs": [
    {
     "name": "stdin",
     "output_type": "stream",
     "text": [
      "enter the distance  500\n"
     ]
    },
    {
     "name": "stdout",
     "output_type": "stream",
     "text": [
      "will go to the outing\n",
      "heloz\n"
     ]
    }
   ],
   "source": [
    "distance1=int(input(\"enter the distance \"))\n",
    "if distance1>400:\n",
    "    print(\"will go to the outing\")\n",
    "print(\"heloz\")"
   ]
  },
  {
   "cell_type": "markdown",
   "id": "cd2bb7c0-1fbf-4e1e-adfa-a4186e2f20f2",
   "metadata": {},
   "source": [
    "# if - elif"
   ]
  },
  {
   "cell_type": "code",
   "execution_count": 1,
   "id": "6cbc740b-b940-486b-8950-46a9cae04c24",
   "metadata": {},
   "outputs": [
    {
     "name": "stdin",
     "output_type": "stream",
     "text": [
      "enter the distance  450\n"
     ]
    },
    {
     "name": "stdout",
     "output_type": "stream",
     "text": [
      "will go via flight\n",
      "helos\n"
     ]
    }
   ],
   "source": [
    "distance=int(input(\"enter the distance \"))\n",
    "if distance>=0 and distance<100:\n",
    "    print(\"will go via personal car\")\n",
    "elif distance>=100 and distance<200:\n",
    "    print(\"will go via cab\")\n",
    "elif distance>=200 and distance<300:\n",
    "    print(\"will go via bus\")\n",
    "elif distance>=300 and distance<400:\n",
    "    print(\"will go via train\")\n",
    "elif distance>=400:\n",
    "    print(\"will go via flight\")\n",
    "print(\"helos\")\n"
   ]
  },
  {
   "cell_type": "markdown",
   "id": "080509d3-b83f-4e0f-801a-57148252ad30",
   "metadata": {},
   "source": [
    "# if-elif-else"
   ]
  },
  {
   "cell_type": "code",
   "execution_count": 2,
   "id": "78ccef6e-0da5-4cb0-b1a5-18735149cc7e",
   "metadata": {},
   "outputs": [
    {
     "name": "stdin",
     "output_type": "stream",
     "text": [
      "enter the distance  -98\n"
     ]
    },
    {
     "name": "stdout",
     "output_type": "stream",
     "text": [
      "distance can't be negative \n"
     ]
    }
   ],
   "source": [
    "distance=int(input(\"enter the distance \"))\n",
    "if distance>=0 and distance<100:\n",
    "    print(\"will go via personal car\")\n",
    "elif distance>=100 and distance<200:\n",
    "    print(\"will go via cab\")\n",
    "elif distance>=200 and distance<300:\n",
    "    print(\"will go via bus\")\n",
    "elif distance>=300 and distance<400:\n",
    "    print(\"will go via train\")\n",
    "elif distance>=400:\n",
    "    print(\"will go via flight\")\n",
    "else:\n",
    "    print(\"distance can't be negative \")"
   ]
  },
  {
   "cell_type": "markdown",
   "id": "91f7407c-daa3-4abf-864d-af6751e5b484",
   "metadata": {},
   "source": [
    "# nested if-elif else"
   ]
  },
  {
   "cell_type": "code",
   "execution_count": 3,
   "id": "29e86c34-3786-4122-80e0-228f67d63ee4",
   "metadata": {},
   "outputs": [
    {
     "name": "stdin",
     "output_type": "stream",
     "text": [
      "enter the distance  34\n"
     ]
    },
    {
     "name": "stdout",
     "output_type": "stream",
     "text": [
      "will go via personal car\n"
     ]
    },
    {
     "name": "stdin",
     "output_type": "stream",
     "text": [
      "enter the wether condition  rainy\n"
     ]
    },
    {
     "name": "stdout",
     "output_type": "stream",
     "text": [
      "will continue my drive\n"
     ]
    }
   ],
   "source": [
    "distance=int(input(\"enter the distance \"))\n",
    "if distance>=0 and distance<100:\n",
    "    print(\"will go via personal car\")\n",
    "    wether=input(\"enter the wether condition \")\n",
    "    if wether==\"rainy\" or wether==\"stormy\":\n",
    "        print(\"will continue my drive\")\n",
    "    elif wether==\"sunny\":\n",
    "        print(\"will buy the drinks\")\n",
    "    elif wether==\"windy\":\n",
    "        print(\"will take the stop\")\n",
    "    else:\n",
    "        print(\"invalid wether \")\n",
    "elif distance>=100 and distance<200:\n",
    "    print(\"will go via cab\")\n",
    "elif distance>=200 and distance<300:\n",
    "    print(\"will go via bus\")\n",
    "elif distance>=300 and distance<400:\n",
    "    print(\"will go via train\")\n",
    "elif distance>=400:\n",
    "    print(\"will go via flight\")\n",
    "    flight=input(\"enter the flight \")\n",
    "    if flight==\"indigo\":\n",
    "        print(\"will  carry home food \")\n",
    "    elif flight==\"vistara\":\n",
    "        print(\"wont  carry home food \")\n",
    "    elif flight==\"air india\":\n",
    "        print(\"will carry light snacks\")\n",
    "    else:\n",
    "        print(\"in valid flight name\")\n",
    "else:\n",
    "    print(\"distance can't be negative \")"
   ]
  },
  {
   "cell_type": "markdown",
   "id": "15c9ddc7-5f9b-4a15-b5ea-b26462839c44",
   "metadata": {},
   "source": [
    "# wap to display the entered number is positive or negetive"
   ]
  },
  {
   "cell_type": "code",
   "execution_count": 3,
   "id": "caad7ec5-540c-4b4f-8c96-96b67d9ddbd8",
   "metadata": {},
   "outputs": [
    {
     "name": "stdin",
     "output_type": "stream",
     "text": [
      "enter the number 0\n"
     ]
    },
    {
     "name": "stdout",
     "output_type": "stream",
     "text": [
      "0 is zero\n"
     ]
    }
   ],
   "source": [
    "num=int(input(\"enter the number\"))\n",
    "if num>0:\n",
    "    print(num,\"is positive\")\n",
    "elif num==0:\n",
    "    print(num,\"is zero\")\n",
    "else:\n",
    "    print(num,\"is negative\")\n"
   ]
  },
  {
   "cell_type": "markdown",
   "id": "0e5f0aa7-4037-464f-8742-b7c121028af3",
   "metadata": {},
   "source": [
    "# wap to display even or odd"
   ]
  },
  {
   "cell_type": "code",
   "execution_count": 4,
   "id": "dae06f7f-eaeb-4fb7-a721-4ee0d192f186",
   "metadata": {},
   "outputs": [
    {
     "name": "stdin",
     "output_type": "stream",
     "text": [
      "enter the number 324\n"
     ]
    },
    {
     "name": "stdout",
     "output_type": "stream",
     "text": [
      "324 number is even\n"
     ]
    }
   ],
   "source": [
    "num=int(input(\"enter the number\"))\n",
    "if num%2==0:\n",
    "    print(num,\"number is even\")\n",
    "else:\n",
    "    print(num,\"number is odd\")"
   ]
  },
  {
   "cell_type": "markdown",
   "id": "f5891610-43b1-4d22-877b-60329b1ef636",
   "metadata": {},
   "source": [
    "# wap to display happy if divisible by 5 only and sad if divisible by 6 only and excited if divisible by 5  and 6"
   ]
  },
  {
   "cell_type": "code",
   "execution_count": 6,
   "id": "371a7c17-59e8-4172-88a3-caa39ff47ba8",
   "metadata": {},
   "outputs": [
    {
     "name": "stdin",
     "output_type": "stream",
     "text": [
      "enter the number 36\n"
     ]
    },
    {
     "name": "stdout",
     "output_type": "stream",
     "text": [
      "sad\n"
     ]
    }
   ],
   "source": [
    "num=int(input(\"enter the number\"))\n",
    "if num%5==0 and num%6==0:\n",
    "    print(\"excited\")\n",
    "elif num%5==0:\n",
    "    print(\"happy\")\n",
    "elif num%6==0:\n",
    "    print(\"sad\")\n",
    "else:\n",
    "    print(\"invalid number\")"
   ]
  },
  {
   "cell_type": "markdown",
   "id": "cba77ef0-bd8f-4ffe-be3e-9569b4431fac",
   "metadata": {},
   "source": [
    "#  HW-wap to display happy if divisible by 5 only and sad if divisible by 6 only and exited if divisible by 5 and 6 using nested"
   ]
  },
  {
   "cell_type": "code",
   "execution_count": 12,
   "id": "643407b8-e494-4e97-af42-32abffa729db",
   "metadata": {},
   "outputs": [
    {
     "name": "stdin",
     "output_type": "stream",
     "text": [
      "enter the number: 30\n"
     ]
    },
    {
     "name": "stdout",
     "output_type": "stream",
     "text": [
      "Exited\n"
     ]
    }
   ],
   "source": [
    "number=int(input(\"enter the number:\"))\n",
    "if number % 5 == 0:\n",
    "        if number % 6 == 0:\n",
    "            print(\"Exited\")\n",
    "        else:\n",
    "            print(\"Happy\")\n",
    "elif number % 6 == 0:\n",
    "     print(\"Sad\")\n"
   ]
  },
  {
   "cell_type": "markdown",
   "id": "d615d93a-62e0-4385-bf5e-1d6dc04eaa75",
   "metadata": {},
   "source": [
    "# wap to display the detained status of the student based on the following criteria\n",
    "\n",
    "\n",
    "- present % >=75 : not detained otherwise detained\n",
    "\n",
    "input: \n",
    "\n",
    "- total working days\n",
    "- total absent days"
   ]
  },
  {
   "cell_type": "code",
   "execution_count": 19,
   "id": "d0ef729b-171e-4e59-a399-8f0b9a9c9bdd",
   "metadata": {},
   "outputs": [
    {
     "name": "stdin",
     "output_type": "stream",
     "text": [
      "working days: 365\n",
      "absent days: 65\n"
     ]
    },
    {
     "name": "stdout",
     "output_type": "stream",
     "text": [
      "present days: 300\n",
      "percentage is : 82 %\n",
      "not detained\n"
     ]
    }
   ],
   "source": [
    "tw=int(input(\"working days:\"))\n",
    "ab=int(input(\"absent days:\"))\n",
    "if tw>=ab:\n",
    "    present = tw-ab\n",
    "    print(\"present days:\",present)\n",
    "    per=present*100/tw\n",
    "    per1=int(per)\n",
    "    print(\"percentage is :\",per1,\"%\")\n",
    "    if per1>=75:\n",
    "        print(\"not detained\")\n",
    "    else:\n",
    "        print(\"detained\")\n",
    "else:\n",
    "    print(\"invalid input from user\")"
   ]
  },
  {
   "cell_type": "markdown",
   "id": "180ba2b3-86ad-4acd-9c45-149b16b44678",
   "metadata": {},
   "source": [
    "# wap to display character is vowel or not"
   ]
  },
  {
   "cell_type": "code",
   "execution_count": 14,
   "id": "f127c666-13d1-49a0-97da-37e3e56b66e0",
   "metadata": {},
   "outputs": [
    {
     "name": "stdin",
     "output_type": "stream",
     "text": [
      "enter the char r\n"
     ]
    },
    {
     "name": "stdout",
     "output_type": "stream",
     "text": [
      "not vowel\n"
     ]
    }
   ],
   "source": [
    "ch=input(\"enter the char\")\n",
    "if ch in [\"a\",\"e\",\"i\",\"o\",\"u\",\"A\",\"E\",\"I\",\"O\",\"U\"]:\n",
    "    print(\"vowel\")\n",
    "else:\n",
    "    print(\"not vowel\")\n"
   ]
  },
  {
   "cell_type": "code",
   "execution_count": 20,
   "id": "d5c166dd-cbb0-46b9-8190-8dc89793518f",
   "metadata": {},
   "outputs": [
    {
     "data": {
      "text/plain": [
       "97"
      ]
     },
     "execution_count": 20,
     "metadata": {},
     "output_type": "execute_result"
    }
   ],
   "source": [
    "ord(\"a\") # ord() tells the ascii"
   ]
  },
  {
   "cell_type": "code",
   "execution_count": 16,
   "id": "d66f6d50-881a-4e6b-8400-cc2c4681c5ab",
   "metadata": {},
   "outputs": [
    {
     "data": {
      "text/plain": [
       "64"
      ]
     },
     "execution_count": 16,
     "metadata": {},
     "output_type": "execute_result"
    }
   ],
   "source": [
    "ord(\"@\")"
   ]
  },
  {
   "cell_type": "code",
   "execution_count": 18,
   "id": "fe11dc0f-faf0-4ad9-8fa6-e22f822146ab",
   "metadata": {},
   "outputs": [
    {
     "data": {
      "text/plain": [
       "'-'"
      ]
     },
     "execution_count": 18,
     "metadata": {},
     "output_type": "execute_result"
    }
   ],
   "source": [
    "chr(45)"
   ]
  },
  {
   "cell_type": "code",
   "execution_count": 22,
   "id": "09d4f555-dd59-44a8-8880-2226d875b373",
   "metadata": {},
   "outputs": [
    {
     "name": "stdin",
     "output_type": "stream",
     "text": [
      "enter the char 3\n"
     ]
    },
    {
     "name": "stdout",
     "output_type": "stream",
     "text": [
      "special  character or digit\n"
     ]
    }
   ],
   "source": [
    "ch=input(\"enter the char\")\n",
    "if (ord(ch)>=65 and ord(ch)<=90) or (ord(ch)>=97 and ord(ch)<=122):\n",
    "    if ch in [\"a\",\"e\",\"i\",\"o\",\"u\",\"A\",\"E\",\"I\",\"O\",\"U\"]:\n",
    "          print(\"vowel\")\n",
    "    else:\n",
    "        print(\"consonant\")\n",
    "else:\n",
    "    print(\"special  character or digit\")"
   ]
  },
  {
   "cell_type": "markdown",
   "id": "3eca4017-04e0-4a03-866b-266c5755d856",
   "metadata": {},
   "source": [
    "# wap to display the calculator"
   ]
  },
  {
   "cell_type": "code",
   "execution_count": 29,
   "id": "52f0408e-3fdd-4afc-8e90-c0a40b5956ee",
   "metadata": {},
   "outputs": [
    {
     "name": "stdout",
     "output_type": "stream",
     "text": [
      "calculator\n",
      "+ : addition\n",
      "- : subtraction\n",
      "* : multiplication\n",
      "/ : division\n",
      "\n"
     ]
    },
    {
     "name": "stdin",
     "output_type": "stream",
     "text": [
      "enter the first number  34\n",
      "enter the second number  23\n",
      "enter the operator  *\n"
     ]
    },
    {
     "name": "stdout",
     "output_type": "stream",
     "text": [
      "the result is  782\n"
     ]
    }
   ],
   "source": [
    "print(\"calculator\")\n",
    "print(\"+ : addition\\n- : subtraction\\n* : multiplication\\n/ : division\\n\")\n",
    "num1=int(input(\"enter the first number \"))\n",
    "num2=int(input(\"enter the second number \"))\n",
    "op=input(\"enter the operator \")\n",
    "\n",
    "\n",
    "if op==\"+\":\n",
    "    r=num1+num2\n",
    "    print(\"the result is \",r)\n",
    "elif op==\"-\":\n",
    "    r=num1-num2\n",
    "    print(\"the result is \",r)\n",
    "elif op==\"*\":\n",
    "    r=num1*num2\n",
    "    print(\"the result is \",r)\n",
    "elif op==\"/\":\n",
    "    r=num1/num2\n",
    "    print(\"the result is \",r)\n",
    "else:\n",
    "    print(\"this choice of operator is invalid this time\")"
   ]
  },
  {
   "cell_type": "markdown",
   "id": "962226e1-aa9b-4ea4-bffa-ee8de74d0f91",
   "metadata": {},
   "source": [
    "# wap for dummy ATM"
   ]
  },
  {
   "cell_type": "code",
   "execution_count": 30,
   "id": "c35f358c-2a09-4646-8f79-d727fb9236bf",
   "metadata": {},
   "outputs": [],
   "source": [
    "username=\"pranav\"\n",
    "pin=\"pranav@123\"\n",
    "balance=100000"
   ]
  },
  {
   "cell_type": "code",
   "execution_count": 33,
   "id": "190b772d-a8bb-4046-abb8-ff55fd1db8c4",
   "metadata": {},
   "outputs": [
    {
     "name": "stdout",
     "output_type": "stream",
     "text": [
      "----------------welcome SBI--------------------------\n",
      "1 : deposit\n",
      "2 : withdrawl\n",
      "3 : check balance\n",
      "4 : Reset pin\n",
      "\n"
     ]
    },
    {
     "name": "stdin",
     "output_type": "stream",
     "text": [
      "enter the choice for operation  3\n",
      "enter the pin  pranav@123\n"
     ]
    },
    {
     "name": "stdout",
     "output_type": "stream",
     "text": [
      "valid user ...welcome ... pranav !\n",
      "ur balance is  100000\n"
     ]
    }
   ],
   "source": [
    "print(\"----------------welcome SBI--------------------------\")\n",
    "print(\"1 : deposit\\n2 : withdrawl\\n3 : check balance\\n4 : Reset pin\\n\")\n",
    "choice=input(\"enter the choice for operation \")\n",
    "if choice==\"1\":\n",
    "    pin1=input(\"enter the pin \")\n",
    "    if pin1==pin:\n",
    "        print(\"valid user ...welcome ...\",username,\"!\")\n",
    "        amount=float(input(\"enter the amount to be deposited \"))\n",
    "        balance=balance+amount\n",
    "        print(\"deposited successfully \")\n",
    "    else:\n",
    "        print(\"invalid user \")\n",
    "elif choice==\"2\":\n",
    "    pin1=input(\"enter the pin \")\n",
    "    if pin1==pin:\n",
    "        print(\"valid user ...welcome ...\",username,\"!\")\n",
    "        amount=float(input(\"enter the amount to be withdrawn\"))\n",
    "        if amount<=balance:\n",
    "            balance=balance-amount\n",
    "        else:\n",
    "            print(\"insufficient balance \")\n",
    "    else:\n",
    "        print(\"invalid user \")\n",
    "elif choice==\"3\":\n",
    "    pin1=input(\"enter the pin \")\n",
    "    if pin1==pin:\n",
    "        print(\"valid user ...welcome ...\",username,\"!\")\n",
    "        print(\"ur balance is \",balance)\n",
    "    else:\n",
    "        print(\"invalid user \")\n",
    "elif  choice==\"4\":\n",
    "    pin1=input(\"enter the old  pin \")\n",
    "    if pin1==pin:\n",
    "        print(\"valid user ...welcome ...\",username,\"!\")\n",
    "        pin2=input(\"enter the new pin \")\n",
    "        pin=pin2\n",
    "        print(\"ur pin has been updated successfully \")\n",
    "    else:\n",
    "        print(\"invalid user \")\n",
    "else:\n",
    "    print(\"sorry..!! this option is not working\")\n",
    "        "
   ]
  },
  {
   "cell_type": "markdown",
   "id": "af4fb14a-0f73-4e27-ab47-f64bf32343fd",
   "metadata": {},
   "source": [
    "# The Paschim Gujarat Vij Company Ltd. computes the electricity bill based on the following table:\n",
    "\n",
    "\n",
    "Units Consumed\t      Charges\n",
    "- 0-100\t             0.50 per unit\n",
    "\n",
    "- 101-200\t             Rs. 50 plus Rs. 1 per unit over 100 units\n",
    "\n",
    "- 201-300\t             Rs. 150 plus 1.50 per unit over 200 units\n",
    "\n",
    "> 300\t             Rs. 300 plus Rs.2 per unit over 300 units\n",
    "\n",
    "\n",
    "\n",
    " Hint : 300+(500-300)*2 if unit is 500\n",
    "1.\tAsk user to enter the Past meter reading and current meter reading.\n",
    "2.\tFind the units consumed.\n",
    "3.\tCompute the bill according to given matrix.\n"
   ]
  },
  {
   "cell_type": "code",
   "execution_count": 2,
   "id": "d5c4b828-cd8e-4117-b7ce-aec30e55b864",
   "metadata": {},
   "outputs": [
    {
     "name": "stdin",
     "output_type": "stream",
     "text": [
      "enter the past meter reading 234\n",
      "enter the current meter reading 456\n"
     ]
    },
    {
     "name": "stdout",
     "output_type": "stream",
     "text": [
      "the units used is 222.0\n",
      "ur bill is  183.0\n"
     ]
    }
   ],
   "source": [
    "pm=float(input(\"enter the past meter reading\"))\n",
    "cr=float(input(\"enter the current meter reading\"))\n",
    "if pm<=cr:\n",
    "    uc=cr-pm\n",
    "    print(\"the units used is\",uc)\n",
    "    if uc>=0 and uc<=100:\n",
    "        print(\"ur bill is \",0.5*uc)\n",
    "    elif uc>=101 and uc<=200:\n",
    "        print(\"ur bill is \",50+(uc-100)*1)\n",
    "    elif uc>=201 and uc<=300:\n",
    "        print(\"ur bill is \",150+(uc-200)*1.50)\n",
    "    elif uc>300:\n",
    "        print(\"ur bill is \",300+(uc-300)*2)\n",
    "else:\n",
    "    print('error')\n",
    "        "
   ]
  },
  {
   "cell_type": "markdown",
   "id": "dd29eeb3-7f2e-4c0f-9673-c568b6cbc064",
   "metadata": {},
   "source": [
    "# wap to display the no of days corresponding to month number given by user"
   ]
  },
  {
   "cell_type": "code",
   "execution_count": 4,
   "id": "d4af3d1e-d784-46ba-ba0f-f5d021d8eb07",
   "metadata": {},
   "outputs": [
    {
     "name": "stdin",
     "output_type": "stream",
     "text": [
      "enter the month no: 2\n",
      "enter the year 1800\n"
     ]
    },
    {
     "name": "stdout",
     "output_type": "stream",
     "text": [
      "has 28 days 1800\n"
     ]
    }
   ],
   "source": [
    "month_no=int(input(\"enter the month no:\"))\n",
    "if month_no in [1,3,5,7,8,10,12]:\n",
    "    print(month_no,\"has 31 days\")\n",
    "elif month_no in [4,6,9,11]:\n",
    "    print(month_no,\"has 30 days\")\n",
    "elif month_no==2:\n",
    "    year=int(input(\"enter the year\"))\n",
    "    if (year%4==0 and year%100!=0) or (year%400==0):\n",
    "        print(\"has 29 days\",year)\n",
    "    else:\n",
    "        print(\"has 28 days\",year)\n",
    "else:\n",
    "    print(\"invalid month\")\n",
    "    "
   ]
  },
  {
   "cell_type": "markdown",
   "id": "6dd72af8-aacb-45fe-960f-753ae124b4b7",
   "metadata": {},
   "source": [
    "# Consider you have your own restaurant : three item choices  is there :\n",
    "# 1: pizza\n",
    "# 2:  burger\n",
    "# 3:  hotdog\n",
    "# toppings available for pizza: paneer, mushrooms, and capsicum\n",
    "# fillings avialable for burger and hot dog is  single layer cheeze and double layer cheese\n",
    "# and side order menu is softdrinks\n"
   ]
  },
  {
   "cell_type": "code",
   "execution_count": 5,
   "id": "8b394ff3-6289-4ef9-85aa-f3c2fd388854",
   "metadata": {},
   "outputs": [
    {
     "name": "stdout",
     "output_type": "stream",
     "text": [
      "-------------------------welcome  Pranav cafe-----------------------------------\n",
      "1 : pizza : Rs 200\n",
      "2 : burger : Rs 100\n",
      "3 : hot dog : Rs 150\n",
      "\n"
     ]
    },
    {
     "name": "stdin",
     "output_type": "stream",
     "text": [
      "What would u like to have ? kindly tell your choice  1\n"
     ]
    },
    {
     "name": "stdout",
     "output_type": "stream",
     "text": [
      "topings available\n",
      "p : paneer Rs 70\n",
      "m : mushroom Rs 80\n",
      "c : capsicum Rs 30\n",
      "\n"
     ]
    },
    {
     "name": "stdin",
     "output_type": "stream",
     "text": [
      "Which toping would u like to add ? m\n"
     ]
    },
    {
     "name": "stdout",
     "output_type": "stream",
     "text": [
      "ur bill is  280\n"
     ]
    },
    {
     "name": "stdin",
     "output_type": "stream",
     "text": [
      "would u like to add softdrink or not if yes press y otherwise press any key  y\n",
      "which softdrink would u like to addd?\n",
      "\n",
      "1 : mojito : Rs 250\n",
      "2 : lemonade : Rs 210 1\n"
     ]
    },
    {
     "name": "stdout",
     "output_type": "stream",
     "text": [
      "ur final bill is  530\n"
     ]
    }
   ],
   "source": [
    "print(\"-------------------------welcome  Pranav cafe-----------------------------------\")\n",
    "print(\"1 : pizza : Rs 200\\n2 : burger : Rs 100\\n3 : hot dog : Rs 150\\n\")\n",
    "choice=input(\"What would u like to have ? kindly tell your choice \")\n",
    "amount=0\n",
    "if choice==\"1\":\n",
    "    print(\"topings available\\np : paneer Rs 70\\nm : mushroom Rs 80\\nc : capsicum Rs 30\\n\")\n",
    "    top_ch=input(\"Which toping would u like to add ?\")\n",
    "    if top_ch==\"p\":\n",
    "        amount=200+70\n",
    "        print(\"ur bill is \",amount)\n",
    "    elif top_ch==\"m\":\n",
    "        amount=200+80\n",
    "        print(\"ur bill is \",amount)\n",
    "    elif top_ch==\"c\":\n",
    "        amount=200+30\n",
    "        print(\"ur bill is \",amount)\n",
    "    else:\n",
    "        print(\"sorry.!! this toping is not available this time \")\n",
    "elif choice==\"2\":\n",
    "    print(\"cheese  available\\nsc : single layer cheese  Rs 60\\ndc : double layer cheese  Rs 110\\n\")\n",
    "    cheese_ch=input(\"Which layer  of cheese would u like to add ?\")\n",
    "    if cheese_ch==\"sc\":\n",
    "        amount=100+60\n",
    "        print(\"ur bill is \",amount)\n",
    "    elif cheese_ch==\"dc\":\n",
    "        amount=100+110\n",
    "        print(\"ur bill is \",amount)\n",
    "    else:\n",
    "        print(\"this layer of cheese spread is not available \")\n",
    "elif choice==\"3\":\n",
    "    print(\"cheese  available\\nsc : single layer cheese  Rs 80\\ndc : double layer cheese  Rs 120\\n\")\n",
    "    cheese_ch=input(\"Which layer  of cheese would u like to add ?\")\n",
    "    if cheese_ch==\"sc\":\n",
    "        amount=100+80\n",
    "        print(\"ur bill is \",amount)\n",
    "    elif cheese_ch==\"dc\":\n",
    "        amount=100+120\n",
    "        print(\"ur bill is \",amount)\n",
    "    else:\n",
    "        print(\"this layer of cheese spread is not available \")\n",
    "else:\n",
    "    print(\"sorry this item is not present \")\n",
    "choice=input(\"would u like to add softdrink or not if yes press y otherwise press any key \")\n",
    "if choice==\"y\":\n",
    "    s_ch=input(\"which softdrink would u like to addd?\\n\\n1 : mojito : Rs 250\\n2 : lemonade : Rs 210\")\n",
    "    if s_ch==\"1\":\n",
    "        amount=amount+250\n",
    "        print(\"ur final bill is \",amount)\n",
    "    elif s_ch==\"2\":\n",
    "        amount=amount+230\n",
    "        print(\"ur final bill is \",amount)\n",
    "    else:\n",
    "        print(\"this drink is not available\")\n",
    "else:\n",
    "    print(\"ur final bil is \",amount)\n"
   ]
  },
  {
   "cell_type": "markdown",
   "id": "45123639-1eb5-45b9-8475-c4fbe007c794",
   "metadata": {},
   "source": [
    "# wap to display wheather the person in senior citizen"
   ]
  },
  {
   "cell_type": "code",
   "execution_count": 7,
   "id": "fab6f4f3-66c5-4ca2-88a7-130d375d46ed",
   "metadata": {},
   "outputs": [
    {
     "name": "stdin",
     "output_type": "stream",
     "text": [
      "enter the age 34\n"
     ]
    },
    {
     "name": "stdout",
     "output_type": "stream",
     "text": [
      "not\n"
     ]
    }
   ],
   "source": [
    "age = int(input(\"enter the age\"))\n",
    "if age>=60:\n",
    "    print(\"senior citizen\")\n",
    "else:\n",
    "    print(\"not\")"
   ]
  },
  {
   "cell_type": "markdown",
   "id": "551d4a4e-ce2a-45c5-b45c-38ee4578783e",
   "metadata": {},
   "source": [
    "# wap to display happy if number is divisible by 3 and also present in range given by user otherwise sad"
   ]
  },
  {
   "cell_type": "code",
   "execution_count": 2,
   "id": "9ef16fc6-b9fa-4ac8-b3a6-a962e0c572d6",
   "metadata": {},
   "outputs": [
    {
     "name": "stdin",
     "output_type": "stream",
     "text": [
      "enter the start: 3\n",
      "enter the end: 90\n",
      "enter the number: 87\n"
     ]
    },
    {
     "name": "stdout",
     "output_type": "stream",
     "text": [
      "happy\n"
     ]
    }
   ],
   "source": [
    "start=int(input(\"enter the start:\"))\n",
    "end=int(input(\"enter the end:\"))\n",
    "num=int(input(\"enter the number:\"))\n",
    "if num>=start and num<=end:\n",
    "    if num%3==0:\n",
    "        print(\"happy\")\n",
    "else:\n",
    "    print(\"sad\")"
   ]
  },
  {
   "cell_type": "code",
   "execution_count": 10,
   "id": "29a3c582-0940-47fe-bcdc-5346c11da003",
   "metadata": {},
   "outputs": [
    {
     "name": "stdin",
     "output_type": "stream",
     "text": [
      "enter the start 23\n",
      "enter the end 56\n",
      "enter the number 33\n"
     ]
    },
    {
     "name": "stdout",
     "output_type": "stream",
     "text": [
      "happy\n"
     ]
    }
   ],
   "source": [
    "start=int(input(\"enter the start\"))\n",
    "end=int(input(\"enter the end\"))\n",
    "num=int(input(\"enter the number\"))\n",
    "if num>=start and num<=end and num%3==0:\n",
    "        print(\"happy\")\n",
    "else:\n",
    "    print(\"sad\")"
   ]
  },
  {
   "cell_type": "markdown",
   "id": "2738c09d-f455-4b14-8e2f-0fdd743ec334",
   "metadata": {},
   "source": [
    "# wap to disply happy if the last digit is divisible by 5 otherwise display sad"
   ]
  },
  {
   "cell_type": "code",
   "execution_count": 1,
   "id": "30317b51-f0da-4981-b505-22b1d3311f19",
   "metadata": {},
   "outputs": [
    {
     "name": "stdin",
     "output_type": "stream",
     "text": [
      "enter the number: 89\n"
     ]
    },
    {
     "name": "stdout",
     "output_type": "stream",
     "text": [
      "sad\n"
     ]
    }
   ],
   "source": [
    "num=int(input(\"enter the number:\"))\n",
    "ld=num%10\n",
    "if ld%5==0:\n",
    "    print(\"happy\")\n",
    "else:\n",
    "    print(\"sad\")"
   ]
  }
 ],
 "metadata": {
  "kernelspec": {
   "display_name": "Python 3 (ipykernel)",
   "language": "python",
   "name": "python3"
  },
  "language_info": {
   "codemirror_mode": {
    "name": "ipython",
    "version": 3
   },
   "file_extension": ".py",
   "mimetype": "text/x-python",
   "name": "python",
   "nbconvert_exporter": "python",
   "pygments_lexer": "ipython3",
   "version": "3.11.7"
  }
 },
 "nbformat": 4,
 "nbformat_minor": 5
}
