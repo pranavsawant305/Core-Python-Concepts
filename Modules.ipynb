{
 "cells": [
  {
   "cell_type": "markdown",
   "id": "7425b69f-faf9-4887-89b0-bad5e1c0871e",
   "metadata": {},
   "source": [
    "# modules are nothing but my python files which contains only function definitions"
   ]
  },
  {
   "cell_type": "markdown",
   "id": "69e1be51-f3f2-448b-aa19-1e9c2918e35a",
   "metadata": {},
   "source": [
    "# there are two type of modules \n",
    "- built in\n",
    "- user defined"
   ]
  },
  {
   "cell_type": "markdown",
   "id": "7989118e-9e60-496f-b300-efa183f0bd57",
   "metadata": {},
   "source": [
    "# built in \n",
    "- math\n",
    "- os\n",
    "- sys\n",
    "- etc"
   ]
  },
  {
   "cell_type": "code",
   "execution_count": 5,
   "id": "1bbaf4a4-4f79-42ac-acb5-0433925e6638",
   "metadata": {},
   "outputs": [],
   "source": [
    "import math"
   ]
  },
  {
   "cell_type": "code",
   "execution_count": 2,
   "id": "0428c407-1751-405c-b4c4-156aa0e416d6",
   "metadata": {},
   "outputs": [
    {
     "data": {
      "text/plain": [
       "['__doc__',\n",
       " '__loader__',\n",
       " '__name__',\n",
       " '__package__',\n",
       " '__spec__',\n",
       " 'acos',\n",
       " 'acosh',\n",
       " 'asin',\n",
       " 'asinh',\n",
       " 'atan',\n",
       " 'atan2',\n",
       " 'atanh',\n",
       " 'cbrt',\n",
       " 'ceil',\n",
       " 'comb',\n",
       " 'copysign',\n",
       " 'cos',\n",
       " 'cosh',\n",
       " 'degrees',\n",
       " 'dist',\n",
       " 'e',\n",
       " 'erf',\n",
       " 'erfc',\n",
       " 'exp',\n",
       " 'exp2',\n",
       " 'expm1',\n",
       " 'fabs',\n",
       " 'factorial',\n",
       " 'floor',\n",
       " 'fmod',\n",
       " 'frexp',\n",
       " 'fsum',\n",
       " 'gamma',\n",
       " 'gcd',\n",
       " 'hypot',\n",
       " 'inf',\n",
       " 'isclose',\n",
       " 'isfinite',\n",
       " 'isinf',\n",
       " 'isnan',\n",
       " 'isqrt',\n",
       " 'lcm',\n",
       " 'ldexp',\n",
       " 'lgamma',\n",
       " 'log',\n",
       " 'log10',\n",
       " 'log1p',\n",
       " 'log2',\n",
       " 'modf',\n",
       " 'nan',\n",
       " 'nextafter',\n",
       " 'perm',\n",
       " 'pi',\n",
       " 'pow',\n",
       " 'prod',\n",
       " 'radians',\n",
       " 'remainder',\n",
       " 'sin',\n",
       " 'sinh',\n",
       " 'sqrt',\n",
       " 'tan',\n",
       " 'tanh',\n",
       " 'tau',\n",
       " 'trunc',\n",
       " 'ulp']"
      ]
     },
     "execution_count": 2,
     "metadata": {},
     "output_type": "execute_result"
    }
   ],
   "source": [
    "dir(math)"
   ]
  },
  {
   "cell_type": "code",
   "execution_count": 6,
   "id": "da785823-9933-4ff3-9a37-48fccd28c6b6",
   "metadata": {},
   "outputs": [
    {
     "name": "stdin",
     "output_type": "stream",
     "text": [
      "enter the number  5\n"
     ]
    },
    {
     "data": {
      "text/plain": [
       "2.23606797749979"
      ]
     },
     "execution_count": 6,
     "metadata": {},
     "output_type": "execute_result"
    }
   ],
   "source": [
    "num=int(input(\"enter the number \"))\n",
    "math.sqrt(num)"
   ]
  },
  {
   "cell_type": "code",
   "execution_count": 7,
   "id": "cf2d9104-b8a6-4e0e-8081-34c9fe8866c2",
   "metadata": {},
   "outputs": [
    {
     "name": "stdin",
     "output_type": "stream",
     "text": [
      "enter the number  5\n"
     ]
    },
    {
     "data": {
      "text/plain": [
       "120"
      ]
     },
     "execution_count": 7,
     "metadata": {},
     "output_type": "execute_result"
    }
   ],
   "source": [
    "num=int(input(\"enter the number \"))\n",
    "math.factorial(num)"
   ]
  },
  {
   "cell_type": "markdown",
   "id": "3b54291b-bdf1-47d0-ad0a-ccc42007738f",
   "metadata": {},
   "source": [
    "# diff between round,floor,ceil\n",
    "- round : common function\n",
    "- floor: math \n",
    "- ceil: math"
   ]
  },
  {
   "cell_type": "code",
   "execution_count": 9,
   "id": "69787d53-9ad3-4b5f-aab0-38a2f385eb21",
   "metadata": {},
   "outputs": [
    {
     "data": {
      "text/plain": [
       "34"
      ]
     },
     "execution_count": 9,
     "metadata": {},
     "output_type": "execute_result"
    }
   ],
   "source": [
    "round(34.4379282762626)"
   ]
  },
  {
   "cell_type": "code",
   "execution_count": 17,
   "id": "0c20acb3-d053-4da4-b2a3-1e9e3cfa2bec",
   "metadata": {},
   "outputs": [
    {
     "data": {
      "text/plain": [
       "35"
      ]
     },
     "execution_count": 17,
     "metadata": {},
     "output_type": "execute_result"
    }
   ],
   "source": [
    "round(34.8379282762626)"
   ]
  },
  {
   "cell_type": "code",
   "execution_count": 10,
   "id": "6d8b0931-a5ef-46fe-b37d-57140b38a1af",
   "metadata": {},
   "outputs": [
    {
     "data": {
      "text/plain": [
       "34.39"
      ]
     },
     "execution_count": 10,
     "metadata": {},
     "output_type": "execute_result"
    }
   ],
   "source": [
    "round(34.3856,2)"
   ]
  },
  {
   "cell_type": "code",
   "execution_count": 18,
   "id": "b04a0753-2560-4bd2-ae93-1234fd675ed7",
   "metadata": {},
   "outputs": [
    {
     "data": {
      "text/plain": [
       "34.38"
      ]
     },
     "execution_count": 18,
     "metadata": {},
     "output_type": "execute_result"
    }
   ],
   "source": [
    "round(34.3838,2)"
   ]
  },
  {
   "cell_type": "markdown",
   "id": "bfd7f55b-4a2f-4565-a344-e156a3d98e53",
   "metadata": {},
   "source": [
    "# floor : it returns the nearest smallest integer \n",
    "# ceil : it return the nearest largest integer\n"
   ]
  },
  {
   "cell_type": "code",
   "execution_count": 11,
   "id": "4ab63e62-da94-413a-9349-bf5540fb0ba6",
   "metadata": {},
   "outputs": [
    {
     "data": {
      "text/plain": [
       "3"
      ]
     },
     "execution_count": 11,
     "metadata": {},
     "output_type": "execute_result"
    }
   ],
   "source": [
    "math.floor(3.567)"
   ]
  },
  {
   "cell_type": "code",
   "execution_count": 12,
   "id": "5214e8df-c3b4-4dd8-adbb-fe8166ff6652",
   "metadata": {},
   "outputs": [
    {
     "data": {
      "text/plain": [
       "4"
      ]
     },
     "execution_count": 12,
     "metadata": {},
     "output_type": "execute_result"
    }
   ],
   "source": [
    "math.ceil(3.567)"
   ]
  },
  {
   "cell_type": "code",
   "execution_count": 13,
   "id": "c727b3c2-c87b-4f1d-8937-e027500fb260",
   "metadata": {},
   "outputs": [
    {
     "data": {
      "text/plain": [
       "9"
      ]
     },
     "execution_count": 13,
     "metadata": {},
     "output_type": "execute_result"
    }
   ],
   "source": [
    "math.floor(9.78)"
   ]
  },
  {
   "cell_type": "code",
   "execution_count": 14,
   "id": "aa563e5c-1d7b-4f78-bf2e-69e6f4f78421",
   "metadata": {},
   "outputs": [
    {
     "data": {
      "text/plain": [
       "10"
      ]
     },
     "execution_count": 14,
     "metadata": {},
     "output_type": "execute_result"
    }
   ],
   "source": [
    "math.ceil(9.78)"
   ]
  },
  {
   "cell_type": "code",
   "execution_count": 15,
   "id": "7f1e620d-3c6e-4492-9d90-4b5754854105",
   "metadata": {},
   "outputs": [
    {
     "data": {
      "text/plain": [
       "-4"
      ]
     },
     "execution_count": 15,
     "metadata": {},
     "output_type": "execute_result"
    }
   ],
   "source": [
    "math.floor(-3.456)"
   ]
  },
  {
   "cell_type": "code",
   "execution_count": 16,
   "id": "4d463a6b-4829-4a4d-9e64-ca1c63cf42f2",
   "metadata": {},
   "outputs": [
    {
     "data": {
      "text/plain": [
       "-3"
      ]
     },
     "execution_count": 16,
     "metadata": {},
     "output_type": "execute_result"
    }
   ],
   "source": [
    "math.ceil(-3.456)"
   ]
  },
  {
   "cell_type": "code",
   "execution_count": null,
   "id": "db05b835-6ae5-4f9c-9faa-92d048a4b4c7",
   "metadata": {},
   "outputs": [],
   "source": []
  }
 ],
 "metadata": {
  "kernelspec": {
   "display_name": "Python 3 (ipykernel)",
   "language": "python",
   "name": "python3"
  },
  "language_info": {
   "codemirror_mode": {
    "name": "ipython",
    "version": 3
   },
   "file_extension": ".py",
   "mimetype": "text/x-python",
   "name": "python",
   "nbconvert_exporter": "python",
   "pygments_lexer": "ipython3",
   "version": "3.11.7"
  }
 },
 "nbformat": 4,
 "nbformat_minor": 5
}
