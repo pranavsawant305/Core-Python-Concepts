{
 "cells": [
  {
   "cell_type": "markdown",
   "id": "2994cb79",
   "metadata": {},
   "source": [
    "## set : It is unordered collection of elements"
   ]
  },
  {
   "cell_type": "markdown",
   "id": "acef5e48",
   "metadata": {},
   "source": [
    "# How to create the set?"
   ]
  },
  {
   "cell_type": "code",
   "execution_count": 1,
   "id": "1c5bc61e",
   "metadata": {},
   "outputs": [
    {
     "name": "stdout",
     "output_type": "stream",
     "text": [
      "{1, 2, 3, 4, 10, 45, -1}\n",
      "<class 'set'>\n"
     ]
    }
   ],
   "source": [
    "s={2,3,4,45,10,1,-1} # homo genous\n",
    "print(s)\n",
    "print(type(s))"
   ]
  },
  {
   "cell_type": "code",
   "execution_count": 1,
   "id": "fcdbbe74",
   "metadata": {},
   "outputs": [
    {
     "name": "stdout",
     "output_type": "stream",
     "text": [
      "{1, 2, 3, 4, 10, 45, 'python', -1}\n",
      "<class 'set'>\n"
     ]
    }
   ],
   "source": [
    "s={2,3,4,45,10,1,-1,\"python\"} # hetrogenous\n",
    "print(s)\n",
    "print(type(s))"
   ]
  },
  {
   "cell_type": "markdown",
   "id": "ed190634",
   "metadata": {},
   "source": [
    "# empty set"
   ]
  },
  {
   "cell_type": "code",
   "execution_count": 7,
   "id": "12e644c7",
   "metadata": {},
   "outputs": [
    {
     "name": "stdout",
     "output_type": "stream",
     "text": [
      "set()\n"
     ]
    },
    {
     "data": {
      "text/plain": [
       "set"
      ]
     },
     "execution_count": 7,
     "metadata": {},
     "output_type": "execute_result"
    }
   ],
   "source": [
    "s=set()\n",
    "print(s)\n",
    "type(s)"
   ]
  },
  {
   "cell_type": "markdown",
   "id": "eeaa167a",
   "metadata": {},
   "source": [
    "# set properties \n",
    "- set allows unique elements\n",
    "- set can have immutable elements\n",
    "- set is not indexing\n",
    "- nesting of set is not allowed\n",
    "- set is mutable"
   ]
  },
  {
   "cell_type": "markdown",
   "id": "e655069b",
   "metadata": {},
   "source": [
    "# uniqueness "
   ]
  },
  {
   "cell_type": "code",
   "execution_count": 9,
   "id": "abb0d0b2",
   "metadata": {},
   "outputs": [
    {
     "data": {
      "text/plain": [
       "{2, 3, 4, 5, 10, 11}"
      ]
     },
     "execution_count": 9,
     "metadata": {},
     "output_type": "execute_result"
    }
   ],
   "source": [
    "s={3,4,5,5,10,11,2,2,3}\n",
    "s"
   ]
  },
  {
   "cell_type": "markdown",
   "id": "cbc3591b",
   "metadata": {},
   "source": [
    "# remove duplicants in list"
   ]
  },
  {
   "cell_type": "code",
   "execution_count": 12,
   "id": "0ad6eae0",
   "metadata": {},
   "outputs": [
    {
     "data": {
      "text/plain": [
       "[2, 3, 4, 5, 10, 11]"
      ]
     },
     "execution_count": 12,
     "metadata": {},
     "output_type": "execute_result"
    }
   ],
   "source": [
    "l=[3,4,5,5,10,11,2,2,3]\n",
    "s=set(l)\n",
    "list(s)"
   ]
  },
  {
   "cell_type": "markdown",
   "id": "9a019bfb",
   "metadata": {},
   "source": [
    "## set can have immutable elements"
   ]
  },
  {
   "cell_type": "markdown",
   "id": "a463bb4c",
   "metadata": {},
   "source": [
    "#  immutable\n",
    "\n",
    "- string\n",
    "- tuple\n",
    "- int\n",
    "- float\n",
    "- bool\n"
   ]
  },
  {
   "cell_type": "markdown",
   "id": "b07fd9f2",
   "metadata": {},
   "source": [
    "# mutable:\n",
    "- list\n",
    "- set\n",
    "- dict"
   ]
  },
  {
   "cell_type": "code",
   "execution_count": 13,
   "id": "55f99e3b",
   "metadata": {},
   "outputs": [
    {
     "name": "stdout",
     "output_type": "stream",
     "text": [
      "90\n",
      "1561242522768\n",
      "99\n"
     ]
    },
    {
     "data": {
      "text/plain": [
       "1561242523056"
      ]
     },
     "execution_count": 13,
     "metadata": {},
     "output_type": "execute_result"
    }
   ],
   "source": [
    "a=90\n",
    "print(a)\n",
    "print(id(a))\n",
    "a=99\n",
    "print(a)\n",
    "id(a)\n"
   ]
  },
  {
   "cell_type": "code",
   "execution_count": 14,
   "id": "f08a1539",
   "metadata": {},
   "outputs": [
    {
     "ename": "TypeError",
     "evalue": "unhashable type: 'list'",
     "output_type": "error",
     "traceback": [
      "\u001b[1;31m---------------------------------------------------------------------------\u001b[0m",
      "\u001b[1;31mTypeError\u001b[0m                                 Traceback (most recent call last)",
      "Input \u001b[1;32mIn [14]\u001b[0m, in \u001b[0;36m<cell line: 1>\u001b[1;34m()\u001b[0m\n\u001b[1;32m----> 1\u001b[0m s\u001b[38;5;241m=\u001b[39m{\u001b[38;5;124m\"\u001b[39m\u001b[38;5;124mpython\u001b[39m\u001b[38;5;124m\"\u001b[39m,\u001b[38;5;241m89\u001b[39m,\u001b[38;5;241m90.6\u001b[39m,[\u001b[38;5;241m9\u001b[39m,\u001b[38;5;241m8\u001b[39m]}\n",
      "\u001b[1;31mTypeError\u001b[0m: unhashable type: 'list'"
     ]
    }
   ],
   "source": [
    "s={\"python\",89,90.6,[9,8]}"
   ]
  },
  {
   "cell_type": "code",
   "execution_count": 15,
   "id": "c366d239",
   "metadata": {},
   "outputs": [],
   "source": [
    "s={\"python\",89,90.6,(9,8)}"
   ]
  },
  {
   "cell_type": "code",
   "execution_count": 16,
   "id": "a5d8fbd5",
   "metadata": {},
   "outputs": [
    {
     "data": {
      "text/plain": [
       "{(9, 8), 89, 90.6, 'python'}"
      ]
     },
     "execution_count": 16,
     "metadata": {},
     "output_type": "execute_result"
    }
   ],
   "source": [
    "s"
   ]
  },
  {
   "cell_type": "markdown",
   "id": "435798d4",
   "metadata": {},
   "source": [
    "## set is not indexing"
   ]
  },
  {
   "cell_type": "markdown",
   "id": "602a8391",
   "metadata": {},
   "source": [
    "## nesting of set is not allowed"
   ]
  },
  {
   "cell_type": "markdown",
   "id": "e462dc64",
   "metadata": {},
   "source": [
    "# traversal:\n",
    "- for\n"
   ]
  },
  {
   "cell_type": "code",
   "execution_count": 17,
   "id": "5a6193cf",
   "metadata": {},
   "outputs": [
    {
     "name": "stdout",
     "output_type": "stream",
     "text": [
      "10\n",
      "2\n",
      "11\n",
      "4\n"
     ]
    }
   ],
   "source": [
    "s={2,4,4,10,11}\n",
    "for i in s:\n",
    "    print(i)"
   ]
  },
  {
   "cell_type": "markdown",
   "id": "6957b39f",
   "metadata": {},
   "source": [
    "# common functions"
   ]
  },
  {
   "cell_type": "markdown",
   "id": "77e03213",
   "metadata": {},
   "source": [
    "- max\n",
    "- min\n",
    "- len\n",
    "- sum\n",
    "- sorted\n",
    "- del"
   ]
  },
  {
   "cell_type": "code",
   "execution_count": 24,
   "id": "fe1fd6db",
   "metadata": {},
   "outputs": [
    {
     "name": "stdout",
     "output_type": "stream",
     "text": [
      "7\n",
      "340\n",
      "0\n",
      "419\n",
      "[0, 1, 2, 10, 32, 34, 340]\n"
     ]
    }
   ],
   "source": [
    "s={2,34,10,1,0,340,32,32}\n",
    "print(len(s))\n",
    "print(max(s))\n",
    "print(min(s))\n",
    "print(sum(s))\n",
    "print(sorted(s))\n"
   ]
  },
  {
   "cell_type": "code",
   "execution_count": 25,
   "id": "7d76d703",
   "metadata": {},
   "outputs": [],
   "source": [
    "del s"
   ]
  },
  {
   "cell_type": "code",
   "execution_count": 26,
   "id": "0bec5093",
   "metadata": {},
   "outputs": [
    {
     "ename": "NameError",
     "evalue": "name 's' is not defined",
     "output_type": "error",
     "traceback": [
      "\u001b[1;31m---------------------------------------------------------------------------\u001b[0m",
      "\u001b[1;31mNameError\u001b[0m                                 Traceback (most recent call last)",
      "Input \u001b[1;32mIn [26]\u001b[0m, in \u001b[0;36m<cell line: 1>\u001b[1;34m()\u001b[0m\n\u001b[1;32m----> 1\u001b[0m \u001b[43ms\u001b[49m\n",
      "\u001b[1;31mNameError\u001b[0m: name 's' is not defined"
     ]
    }
   ],
   "source": [
    "s"
   ]
  },
  {
   "cell_type": "code",
   "execution_count": 27,
   "id": "f3e7834f",
   "metadata": {},
   "outputs": [
    {
     "data": {
      "text/plain": [
       "['__and__',\n",
       " '__class__',\n",
       " '__class_getitem__',\n",
       " '__contains__',\n",
       " '__delattr__',\n",
       " '__dir__',\n",
       " '__doc__',\n",
       " '__eq__',\n",
       " '__format__',\n",
       " '__ge__',\n",
       " '__getattribute__',\n",
       " '__gt__',\n",
       " '__hash__',\n",
       " '__iand__',\n",
       " '__init__',\n",
       " '__init_subclass__',\n",
       " '__ior__',\n",
       " '__isub__',\n",
       " '__iter__',\n",
       " '__ixor__',\n",
       " '__le__',\n",
       " '__len__',\n",
       " '__lt__',\n",
       " '__ne__',\n",
       " '__new__',\n",
       " '__or__',\n",
       " '__rand__',\n",
       " '__reduce__',\n",
       " '__reduce_ex__',\n",
       " '__repr__',\n",
       " '__ror__',\n",
       " '__rsub__',\n",
       " '__rxor__',\n",
       " '__setattr__',\n",
       " '__sizeof__',\n",
       " '__str__',\n",
       " '__sub__',\n",
       " '__subclasshook__',\n",
       " '__xor__',\n",
       " 'add',\n",
       " 'clear',\n",
       " 'copy',\n",
       " 'difference',\n",
       " 'difference_update',\n",
       " 'discard',\n",
       " 'intersection',\n",
       " 'intersection_update',\n",
       " 'isdisjoint',\n",
       " 'issubset',\n",
       " 'issuperset',\n",
       " 'pop',\n",
       " 'remove',\n",
       " 'symmetric_difference',\n",
       " 'symmetric_difference_update',\n",
       " 'union',\n",
       " 'update']"
      ]
     },
     "execution_count": 27,
     "metadata": {},
     "output_type": "execute_result"
    }
   ],
   "source": [
    "dir(set)"
   ]
  },
  {
   "cell_type": "markdown",
   "id": "b7aebee6",
   "metadata": {},
   "source": [
    "# since the set is mutable so we may \n",
    "- add\n",
    "- delete\n",
    "- update "
   ]
  },
  {
   "cell_type": "markdown",
   "id": "b7690abb",
   "metadata": {},
   "source": [
    "## add"
   ]
  },
  {
   "cell_type": "code",
   "execution_count": 28,
   "id": "c1e506b7",
   "metadata": {},
   "outputs": [],
   "source": [
    "s={2,3,4,5,10}\n",
    "s.add(100)"
   ]
  },
  {
   "cell_type": "code",
   "execution_count": 29,
   "id": "f7250931",
   "metadata": {},
   "outputs": [
    {
     "data": {
      "text/plain": [
       "{2, 3, 4, 5, 10, 100}"
      ]
     },
     "execution_count": 29,
     "metadata": {},
     "output_type": "execute_result"
    }
   ],
   "source": [
    "s"
   ]
  },
  {
   "cell_type": "markdown",
   "id": "68268fb8",
   "metadata": {},
   "source": [
    "# how to take the elements in the set from user"
   ]
  },
  {
   "cell_type": "code",
   "execution_count": 30,
   "id": "cf4dc353",
   "metadata": {},
   "outputs": [
    {
     "name": "stdout",
     "output_type": "stream",
     "text": [
      "enter the number of students 6\n",
      "enter the marks 45\n",
      "enter the marks 56\n",
      "enter the marks 78\n",
      "enter the marks 89\n",
      "enter the marks 23\n",
      "enter the marks 54\n"
     ]
    },
    {
     "data": {
      "text/plain": [
       "{23, 45, 54, 56, 78, 89}"
      ]
     },
     "execution_count": 30,
     "metadata": {},
     "output_type": "execute_result"
    }
   ],
   "source": [
    "s=set()\n",
    "n=int(input(\"enter the number of students \"))\n",
    "for i in range(n):\n",
    "    m=int(input(\"enter the marks \"))\n",
    "    s.add(m)\n",
    "s"
   ]
  },
  {
   "cell_type": "markdown",
   "id": "17e12264",
   "metadata": {},
   "source": [
    "# deletion"
   ]
  },
  {
   "cell_type": "markdown",
   "id": "4ba89792",
   "metadata": {},
   "source": [
    "- pop\n",
    "- remove\n",
    "- clear\n",
    "- del"
   ]
  },
  {
   "cell_type": "code",
   "execution_count": 32,
   "id": "958bb661",
   "metadata": {},
   "outputs": [
    {
     "data": {
      "text/plain": [
       "1"
      ]
     },
     "execution_count": 32,
     "metadata": {},
     "output_type": "execute_result"
    }
   ],
   "source": [
    "s={2,3,4,4,10,4,1,2,-1,41}\n",
    "s.pop()"
   ]
  },
  {
   "cell_type": "code",
   "execution_count": 33,
   "id": "bc02ac9b",
   "metadata": {},
   "outputs": [
    {
     "data": {
      "text/plain": [
       "{-1, 2, 3, 4, 10, 41}"
      ]
     },
     "execution_count": 33,
     "metadata": {},
     "output_type": "execute_result"
    }
   ],
   "source": [
    "s"
   ]
  },
  {
   "cell_type": "markdown",
   "id": "e34cf205",
   "metadata": {},
   "source": [
    "## remove"
   ]
  },
  {
   "cell_type": "code",
   "execution_count": 35,
   "id": "43076b3b",
   "metadata": {},
   "outputs": [
    {
     "data": {
      "text/plain": [
       "{-1, 1, 2, 3, 4, 10, 41}"
      ]
     },
     "execution_count": 35,
     "metadata": {},
     "output_type": "execute_result"
    }
   ],
   "source": [
    "s={2,3,4,4,10,4,1,2,-1,41}\n",
    "s"
   ]
  },
  {
   "cell_type": "code",
   "execution_count": 40,
   "id": "03b7ea48",
   "metadata": {},
   "outputs": [
    {
     "name": "stdout",
     "output_type": "stream",
     "text": [
      "Enter the element to be removed 3\n",
      "{1, 2, 41, 10, -1}\n"
     ]
    }
   ],
   "source": [
    "e=int(input(\"Enter the element to be removed \"))\n",
    "if e in s:\n",
    "    s.remove(e)\n",
    "    print(s)\n",
    "else:\n",
    "    print(\"not present\")"
   ]
  },
  {
   "cell_type": "code",
   "execution_count": 41,
   "id": "829baa89",
   "metadata": {},
   "outputs": [],
   "source": [
    "s.clear()"
   ]
  },
  {
   "cell_type": "code",
   "execution_count": 42,
   "id": "a1821657",
   "metadata": {},
   "outputs": [
    {
     "data": {
      "text/plain": [
       "set()"
      ]
     },
     "execution_count": 42,
     "metadata": {},
     "output_type": "execute_result"
    }
   ],
   "source": [
    "s"
   ]
  },
  {
   "cell_type": "code",
   "execution_count": 43,
   "id": "1da55c6c",
   "metadata": {},
   "outputs": [],
   "source": [
    "del s"
   ]
  },
  {
   "cell_type": "code",
   "execution_count": 44,
   "id": "f36a56af",
   "metadata": {},
   "outputs": [
    {
     "ename": "NameError",
     "evalue": "name 's' is not defined",
     "output_type": "error",
     "traceback": [
      "\u001b[1;31m---------------------------------------------------------------------------\u001b[0m",
      "\u001b[1;31mNameError\u001b[0m                                 Traceback (most recent call last)",
      "Input \u001b[1;32mIn [44]\u001b[0m, in \u001b[0;36m<cell line: 1>\u001b[1;34m()\u001b[0m\n\u001b[1;32m----> 1\u001b[0m \u001b[43ms\u001b[49m\n",
      "\u001b[1;31mNameError\u001b[0m: name 's' is not defined"
     ]
    }
   ],
   "source": [
    "s"
   ]
  },
  {
   "cell_type": "markdown",
   "id": "d5f991f8-2b8c-4871-86b7-90949683a8db",
   "metadata": {},
   "source": [
    "# opeartors +,*,< not working with set"
   ]
  },
  {
   "cell_type": "code",
   "execution_count": 47,
   "id": "38afd40c",
   "metadata": {},
   "outputs": [
    {
     "ename": "TypeError",
     "evalue": "'<' not supported between instances of 'set' and 'int'",
     "output_type": "error",
     "traceback": [
      "\u001b[1;31m---------------------------------------------------------------------------\u001b[0m",
      "\u001b[1;31mTypeError\u001b[0m                                 Traceback (most recent call last)",
      "Input \u001b[1;32mIn [47]\u001b[0m, in \u001b[0;36m<cell line: 3>\u001b[1;34m()\u001b[0m\n\u001b[0;32m      1\u001b[0m s1\u001b[38;5;241m=\u001b[39m{\u001b[38;5;241m2\u001b[39m,\u001b[38;5;241m3\u001b[39m,\u001b[38;5;241m3\u001b[39m,\u001b[38;5;241m10\u001b[39m}\n\u001b[0;32m      2\u001b[0m s2\u001b[38;5;241m=\u001b[39m{\u001b[38;5;241m5\u001b[39m,\u001b[38;5;241m6\u001b[39m,\u001b[38;5;241m7\u001b[39m,\u001b[38;5;241m78\u001b[39m,\u001b[38;5;241m10\u001b[39m}\n\u001b[1;32m----> 3\u001b[0m \u001b[43ms1\u001b[49m\u001b[38;5;241;43m<\u001b[39;49m\u001b[38;5;241;43m2\u001b[39;49m\n",
      "\u001b[1;31mTypeError\u001b[0m: '<' not supported between instances of 'set' and 'int'"
     ]
    }
   ],
   "source": [
    "s1={2,3,3,10}\n",
    "s2={5,6,7,78,10}\n",
    "s1<2"
   ]
  },
  {
   "cell_type": "code",
   "execution_count": 1,
   "id": "b1dce123",
   "metadata": {},
   "outputs": [
    {
     "data": {
      "text/plain": [
       "{'almond', 'apple', 'cashew', 'dates', 'litchi', 'mango'}"
      ]
     },
     "execution_count": 1,
     "metadata": {},
     "output_type": "execute_result"
    }
   ],
   "source": [
    "s1={\"apple\",\"mango\",\"litchi\"}\n",
    "s2={\"mango\",\"dates\",\"almond\",\"cashew\"}\n",
    "s1.union(s2)"
   ]
  },
  {
   "cell_type": "code",
   "execution_count": 2,
   "id": "2837725b",
   "metadata": {},
   "outputs": [],
   "source": [
    "s1.update(s2)"
   ]
  },
  {
   "cell_type": "code",
   "execution_count": 3,
   "id": "af9d87e2",
   "metadata": {},
   "outputs": [
    {
     "data": {
      "text/plain": [
       "{'almond', 'apple', 'cashew', 'dates', 'litchi', 'mango'}"
      ]
     },
     "execution_count": 3,
     "metadata": {},
     "output_type": "execute_result"
    }
   ],
   "source": [
    "s1"
   ]
  },
  {
   "cell_type": "code",
   "execution_count": 55,
   "id": "8f2ee044",
   "metadata": {},
   "outputs": [
    {
     "data": {
      "text/plain": [
       "{'mango'}"
      ]
     },
     "execution_count": 55,
     "metadata": {},
     "output_type": "execute_result"
    }
   ],
   "source": [
    "s1={\"apple\",\"mango\",\"litchi\"}\n",
    "s2={\"mango\",\"dates\",\"almond\",\"cashew\"}\n",
    "s1.intersection(s2)"
   ]
  },
  {
   "cell_type": "code",
   "execution_count": 56,
   "id": "4e0cdce0",
   "metadata": {},
   "outputs": [],
   "source": [
    "s1={\"apple\",\"mango\",\"litchi\"}\n",
    "s2={\"mango\",\"dates\",\"almond\",\"cashew\"}\n",
    "s1.intersection_update(s2)"
   ]
  },
  {
   "cell_type": "code",
   "execution_count": 57,
   "id": "6a67f2f3",
   "metadata": {},
   "outputs": [
    {
     "data": {
      "text/plain": [
       "{'mango'}"
      ]
     },
     "execution_count": 57,
     "metadata": {},
     "output_type": "execute_result"
    }
   ],
   "source": [
    "s1"
   ]
  },
  {
   "cell_type": "code",
   "execution_count": 58,
   "id": "679254f7",
   "metadata": {},
   "outputs": [
    {
     "data": {
      "text/plain": [
       "{'almond', 'apple', 'cashew', 'dates', 'litchi'}"
      ]
     },
     "execution_count": 58,
     "metadata": {},
     "output_type": "execute_result"
    }
   ],
   "source": [
    "s1={\"apple\",\"mango\",\"litchi\"}\n",
    "s2={\"mango\",\"dates\",\"almond\",\"cashew\"}\n",
    "s1.symmetric_difference(s2)"
   ]
  },
  {
   "cell_type": "code",
   "execution_count": 59,
   "id": "e4ca7094",
   "metadata": {},
   "outputs": [
    {
     "data": {
      "text/plain": [
       "{'apple', 'litchi'}"
      ]
     },
     "execution_count": 59,
     "metadata": {},
     "output_type": "execute_result"
    }
   ],
   "source": [
    "s1={\"apple\",\"mango\",\"litchi\"}\n",
    "s2={\"mango\",\"dates\",\"almond\",\"cashew\"}\n",
    "s1.difference(s2)"
   ]
  },
  {
   "cell_type": "code",
   "execution_count": 61,
   "id": "8493a057",
   "metadata": {},
   "outputs": [
    {
     "data": {
      "text/plain": [
       "True"
      ]
     },
     "execution_count": 61,
     "metadata": {},
     "output_type": "execute_result"
    }
   ],
   "source": [
    "s1={\"apple\",\"litchi\"}\n",
    "s2={\"mango\",\"dates\",\"almond\",\"cashew\"}\n",
    "s1.isdisjoint(s2)"
   ]
  },
  {
   "cell_type": "code",
   "execution_count": 63,
   "id": "e19f33d2",
   "metadata": {},
   "outputs": [
    {
     "data": {
      "text/plain": [
       "True"
      ]
     },
     "execution_count": 63,
     "metadata": {},
     "output_type": "execute_result"
    }
   ],
   "source": [
    "s1={\"apple\",\"litchi\",\"mango\"}\n",
    "s2={\"mango\",\"dates\",\"almond\",\"cashew\",\"apple\",\"litchi\"}\n",
    "s1.issubset(s2)"
   ]
  },
  {
   "cell_type": "code",
   "execution_count": 65,
   "id": "6a73a1db",
   "metadata": {},
   "outputs": [
    {
     "data": {
      "text/plain": [
       "True"
      ]
     },
     "execution_count": 65,
     "metadata": {},
     "output_type": "execute_result"
    }
   ],
   "source": [
    "s1={\"apple\",\"litchi\",\"mango\"}\n",
    "s2={\"mango\",\"dates\",\"almond\",\"cashew\",\"apple\",\"litchi\"}\n",
    "s2.issuperset(s1)"
   ]
  },
  {
   "cell_type": "code",
   "execution_count": 66,
   "id": "a50ada9f",
   "metadata": {},
   "outputs": [
    {
     "data": {
      "text/plain": [
       "['__and__',\n",
       " '__class__',\n",
       " '__class_getitem__',\n",
       " '__contains__',\n",
       " '__delattr__',\n",
       " '__dir__',\n",
       " '__doc__',\n",
       " '__eq__',\n",
       " '__format__',\n",
       " '__ge__',\n",
       " '__getattribute__',\n",
       " '__gt__',\n",
       " '__hash__',\n",
       " '__iand__',\n",
       " '__init__',\n",
       " '__init_subclass__',\n",
       " '__ior__',\n",
       " '__isub__',\n",
       " '__iter__',\n",
       " '__ixor__',\n",
       " '__le__',\n",
       " '__len__',\n",
       " '__lt__',\n",
       " '__ne__',\n",
       " '__new__',\n",
       " '__or__',\n",
       " '__rand__',\n",
       " '__reduce__',\n",
       " '__reduce_ex__',\n",
       " '__repr__',\n",
       " '__ror__',\n",
       " '__rsub__',\n",
       " '__rxor__',\n",
       " '__setattr__',\n",
       " '__sizeof__',\n",
       " '__str__',\n",
       " '__sub__',\n",
       " '__subclasshook__',\n",
       " '__xor__',\n",
       " 'add',\n",
       " 'clear',\n",
       " 'copy',\n",
       " 'difference',\n",
       " 'difference_update',\n",
       " 'discard',\n",
       " 'intersection',\n",
       " 'intersection_update',\n",
       " 'isdisjoint',\n",
       " 'issubset',\n",
       " 'issuperset',\n",
       " 'pop',\n",
       " 'remove',\n",
       " 'symmetric_difference',\n",
       " 'symmetric_difference_update',\n",
       " 'union',\n",
       " 'update']"
      ]
     },
     "execution_count": 66,
     "metadata": {},
     "output_type": "execute_result"
    }
   ],
   "source": [
    "dir(set)"
   ]
  },
  {
   "cell_type": "markdown",
   "id": "828b95a5",
   "metadata": {},
   "source": [
    "# frozen set: immutble"
   ]
  },
  {
   "cell_type": "code",
   "execution_count": 67,
   "id": "f087f6fc",
   "metadata": {},
   "outputs": [
    {
     "data": {
      "text/plain": [
       "{'apple', 'litchi', 'mango'}"
      ]
     },
     "execution_count": 67,
     "metadata": {},
     "output_type": "execute_result"
    }
   ],
   "source": [
    "s1"
   ]
  },
  {
   "cell_type": "code",
   "execution_count": 69,
   "id": "655d13ec",
   "metadata": {},
   "outputs": [
    {
     "data": {
      "text/plain": [
       "frozenset({'apple', 'litchi', 'mango'})"
      ]
     },
     "execution_count": 69,
     "metadata": {},
     "output_type": "execute_result"
    }
   ],
   "source": [
    "s2=frozenset(s1)\n",
    "s2"
   ]
  },
  {
   "cell_type": "code",
   "execution_count": 70,
   "id": "e1135d16",
   "metadata": {},
   "outputs": [
    {
     "ename": "AttributeError",
     "evalue": "'frozenset' object has no attribute 'add'",
     "output_type": "error",
     "traceback": [
      "\u001b[1;31m---------------------------------------------------------------------------\u001b[0m",
      "\u001b[1;31mAttributeError\u001b[0m                            Traceback (most recent call last)",
      "Input \u001b[1;32mIn [70]\u001b[0m, in \u001b[0;36m<cell line: 1>\u001b[1;34m()\u001b[0m\n\u001b[1;32m----> 1\u001b[0m \u001b[43ms2\u001b[49m\u001b[38;5;241;43m.\u001b[39;49m\u001b[43madd\u001b[49m(\u001b[38;5;124m\"\u001b[39m\u001b[38;5;124mcashew\u001b[39m\u001b[38;5;124m\"\u001b[39m)\n",
      "\u001b[1;31mAttributeError\u001b[0m: 'frozenset' object has no attribute 'add'"
     ]
    }
   ],
   "source": [
    "s2.add(\"cashew\")"
   ]
  },
  {
   "cell_type": "code",
   "execution_count": null,
   "id": "41d09dc2-9305-44c6-a1df-19a2ad874255",
   "metadata": {},
   "outputs": [],
   "source": []
  }
 ],
 "metadata": {
  "kernelspec": {
   "display_name": "Python 3 (ipykernel)",
   "language": "python",
   "name": "python3"
  },
  "language_info": {
   "codemirror_mode": {
    "name": "ipython",
    "version": 3
   },
   "file_extension": ".py",
   "mimetype": "text/x-python",
   "name": "python",
   "nbconvert_exporter": "python",
   "pygments_lexer": "ipython3",
   "version": "3.11.7"
  }
 },
 "nbformat": 4,
 "nbformat_minor": 5
}
