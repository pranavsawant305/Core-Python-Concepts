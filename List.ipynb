{
 "cells": [
  {
   "cell_type": "markdown",
   "id": "1e17e89c",
   "metadata": {},
   "source": [
    "## list: It is ordered collections of multiple elements"
   ]
  },
  {
   "cell_type": "markdown",
   "id": "2b6f93fa",
   "metadata": {},
   "source": [
    "# How to create the list"
   ]
  },
  {
   "cell_type": "code",
   "execution_count": 2,
   "id": "8c46e308",
   "metadata": {},
   "outputs": [
    {
     "name": "stdout",
     "output_type": "stream",
     "text": [
      "[12, 3, 4, 56, 10]\n",
      "<class 'list'>\n"
     ]
    }
   ],
   "source": [
    "l=[12,3,4,56,10] # homogenous\n",
    "print(l)\n",
    "print(type(l))"
   ]
  },
  {
   "cell_type": "code",
   "execution_count": 1,
   "id": "edb7d897",
   "metadata": {},
   "outputs": [
    {
     "name": "stdout",
     "output_type": "stream",
     "text": [
      "[12, 3, 4, 56, 10, 'python', 45.78]\n",
      "<class 'list'>\n"
     ]
    }
   ],
   "source": [
    "l=[12,3,4,56,10,\"python\",45.78] # hetrogenous\n",
    "print(l)\n",
    "print(type(l))"
   ]
  },
  {
   "cell_type": "markdown",
   "id": "236b4988",
   "metadata": {},
   "source": [
    "# empty list"
   ]
  },
  {
   "cell_type": "code",
   "execution_count": 6,
   "id": "65bb53c2",
   "metadata": {},
   "outputs": [
    {
     "name": "stdout",
     "output_type": "stream",
     "text": [
      "[]\n",
      "<class 'list'>\n"
     ]
    }
   ],
   "source": [
    "l=[]\n",
    "print(l)\n",
    "print(type(l))"
   ]
  },
  {
   "cell_type": "markdown",
   "id": "45355aba",
   "metadata": {},
   "source": [
    "# from list constructor"
   ]
  },
  {
   "cell_type": "code",
   "execution_count": 7,
   "id": "ba24fc25",
   "metadata": {},
   "outputs": [
    {
     "data": {
      "text/plain": [
       "['m', 'a', 'd', 'r', 'i', 'd']"
      ]
     },
     "execution_count": 7,
     "metadata": {},
     "output_type": "execute_result"
    }
   ],
   "source": [
    "l=list(\"madrid\")\n",
    "l"
   ]
  },
  {
   "cell_type": "markdown",
   "id": "4fd516e2",
   "metadata": {},
   "source": [
    "#  indexing and slicing"
   ]
  },
  {
   "cell_type": "code",
   "execution_count": 3,
   "id": "4b291472",
   "metadata": {},
   "outputs": [
    {
     "data": {
      "text/plain": [
       "['apple', 'mango', 67, 'litchi', 900]"
      ]
     },
     "execution_count": 3,
     "metadata": {},
     "output_type": "execute_result"
    }
   ],
   "source": [
    "l=[\"apple\",\"mango\",67,\"litchi\",900]\n",
    "l"
   ]
  },
  {
   "cell_type": "markdown",
   "id": "ddd3c530",
   "metadata": {},
   "source": [
    "# fetch 67"
   ]
  },
  {
   "cell_type": "code",
   "execution_count": 9,
   "id": "974f8785",
   "metadata": {},
   "outputs": [
    {
     "data": {
      "text/plain": [
       "67"
      ]
     },
     "execution_count": 9,
     "metadata": {},
     "output_type": "execute_result"
    }
   ],
   "source": [
    "l[2]"
   ]
  },
  {
   "cell_type": "markdown",
   "id": "1f6b466a",
   "metadata": {},
   "source": [
    "or "
   ]
  },
  {
   "cell_type": "code",
   "execution_count": 10,
   "id": "91b514eb",
   "metadata": {},
   "outputs": [
    {
     "data": {
      "text/plain": [
       "67"
      ]
     },
     "execution_count": 10,
     "metadata": {},
     "output_type": "execute_result"
    }
   ],
   "source": [
    "l[-3]"
   ]
  },
  {
   "cell_type": "code",
   "execution_count": 11,
   "id": "01782e63",
   "metadata": {},
   "outputs": [
    {
     "data": {
      "text/plain": [
       "'litchi'"
      ]
     },
     "execution_count": 11,
     "metadata": {},
     "output_type": "execute_result"
    }
   ],
   "source": [
    "l[3]"
   ]
  },
  {
   "cell_type": "code",
   "execution_count": 12,
   "id": "05b9723e",
   "metadata": {},
   "outputs": [
    {
     "ename": "IndexError",
     "evalue": "list index out of range",
     "output_type": "error",
     "traceback": [
      "\u001b[1;31m---------------------------------------------------------------------------\u001b[0m",
      "\u001b[1;31mIndexError\u001b[0m                                Traceback (most recent call last)",
      "Input \u001b[1;32mIn [12]\u001b[0m, in \u001b[0;36m<cell line: 1>\u001b[1;34m()\u001b[0m\n\u001b[1;32m----> 1\u001b[0m \u001b[43ml\u001b[49m\u001b[43m[\u001b[49m\u001b[38;5;241;43m10\u001b[39;49m\u001b[43m]\u001b[49m\n",
      "\u001b[1;31mIndexError\u001b[0m: list index out of range"
     ]
    }
   ],
   "source": [
    "l[10]"
   ]
  },
  {
   "cell_type": "markdown",
   "id": "a60b512a",
   "metadata": {},
   "source": [
    "# slicing: [start,end,stepsize]"
   ]
  },
  {
   "cell_type": "code",
   "execution_count": 4,
   "id": "eb8b40a3",
   "metadata": {},
   "outputs": [
    {
     "data": {
      "text/plain": [
       "['apple', 'mango', 67, 'litchi', 900]"
      ]
     },
     "execution_count": 4,
     "metadata": {},
     "output_type": "execute_result"
    }
   ],
   "source": [
    "l"
   ]
  },
  {
   "cell_type": "code",
   "execution_count": 14,
   "id": "9b9dce51",
   "metadata": {},
   "outputs": [
    {
     "data": {
      "text/plain": [
       "[67, 'litchi', 900]"
      ]
     },
     "execution_count": 14,
     "metadata": {},
     "output_type": "execute_result"
    }
   ],
   "source": [
    "l[2:]"
   ]
  },
  {
   "cell_type": "code",
   "execution_count": 15,
   "id": "4556a4e5",
   "metadata": {},
   "outputs": [
    {
     "data": {
      "text/plain": [
       "['mango', 67, 'litchi']"
      ]
     },
     "execution_count": 15,
     "metadata": {},
     "output_type": "execute_result"
    }
   ],
   "source": [
    "l[-4:-1]"
   ]
  },
  {
   "cell_type": "code",
   "execution_count": 5,
   "id": "4c9d6181",
   "metadata": {},
   "outputs": [
    {
     "data": {
      "text/plain": [
       "[]"
      ]
     },
     "execution_count": 5,
     "metadata": {},
     "output_type": "execute_result"
    }
   ],
   "source": [
    "l[-4:-1:-2] # forward direction and -ve sign of stepsize"
   ]
  },
  {
   "cell_type": "code",
   "execution_count": 17,
   "id": "18c6bb4d",
   "metadata": {},
   "outputs": [
    {
     "data": {
      "text/plain": [
       "['apple', 'mango']"
      ]
     },
     "execution_count": 17,
     "metadata": {},
     "output_type": "execute_result"
    }
   ],
   "source": [
    "l[:-3]"
   ]
  },
  {
   "cell_type": "code",
   "execution_count": 18,
   "id": "2499b98d",
   "metadata": {},
   "outputs": [
    {
     "data": {
      "text/plain": [
       "['mango', 67, 'litchi', 900]"
      ]
     },
     "execution_count": 18,
     "metadata": {},
     "output_type": "execute_result"
    }
   ],
   "source": [
    "l[-4:1000]"
   ]
  },
  {
   "cell_type": "code",
   "execution_count": 19,
   "id": "60393a0c",
   "metadata": {},
   "outputs": [
    {
     "data": {
      "text/plain": [
       "['apple', 'mango', 67, 'litchi', 900]"
      ]
     },
     "execution_count": 19,
     "metadata": {},
     "output_type": "execute_result"
    }
   ],
   "source": [
    "l[:]"
   ]
  },
  {
   "cell_type": "markdown",
   "id": "3f668a98-311b-4b60-9c3b-a9eedb398e00",
   "metadata": {},
   "source": [
    "# advance indexing [start:stepszie]"
   ]
  },
  {
   "cell_type": "code",
   "execution_count": 21,
   "id": "c12a023a",
   "metadata": {},
   "outputs": [
    {
     "data": {
      "text/plain": [
       "[67, 900]"
      ]
     },
     "execution_count": 21,
     "metadata": {},
     "output_type": "execute_result"
    }
   ],
   "source": [
    "l[2::2]"
   ]
  },
  {
   "cell_type": "code",
   "execution_count": 22,
   "id": "a59796c9",
   "metadata": {},
   "outputs": [
    {
     "data": {
      "text/plain": [
       "[900, 'litchi', 67, 'mango', 'apple']"
      ]
     },
     "execution_count": 22,
     "metadata": {},
     "output_type": "execute_result"
    }
   ],
   "source": [
    "l[::-1]"
   ]
  },
  {
   "cell_type": "markdown",
   "id": "19e0ce55",
   "metadata": {},
   "source": [
    "# traversal in list:\n",
    "- for\n",
    "- while"
   ]
  },
  {
   "cell_type": "code",
   "execution_count": 23,
   "id": "94167ab6",
   "metadata": {},
   "outputs": [
    {
     "name": "stdout",
     "output_type": "stream",
     "text": [
      "1\n",
      "2\n",
      "4\n",
      "5\n",
      "10\n"
     ]
    }
   ],
   "source": [
    "l=[1,2,4,5,10]\n",
    "for i in l:\n",
    "    print(i)"
   ]
  },
  {
   "cell_type": "code",
   "execution_count": 24,
   "id": "46575bdf",
   "metadata": {},
   "outputs": [
    {
     "name": "stdout",
     "output_type": "stream",
     "text": [
      "1\n",
      "2\n",
      "4\n",
      "5\n",
      "10\n"
     ]
    }
   ],
   "source": [
    "index=0\n",
    "while(index<len(l)):\n",
    "    print(l[index])\n",
    "    index=index+1"
   ]
  },
  {
   "cell_type": "markdown",
   "id": "1f766d27",
   "metadata": {},
   "source": [
    "# list : property: mutable: changes are allowed"
   ]
  },
  {
   "cell_type": "code",
   "execution_count": 25,
   "id": "86de745a",
   "metadata": {},
   "outputs": [
    {
     "name": "stdout",
     "output_type": "stream",
     "text": [
      "[12, 3, 4, 4, 10]\n",
      "2094657830464\n",
      "[12, 3, 4, 4, 100]\n",
      "2094657830464\n"
     ]
    }
   ],
   "source": [
    "l=[12,3,4,4,10]\n",
    "print(l)\n",
    "print(id(l))\n",
    "l[-1]=100\n",
    "print(l)\n",
    "print(id(l))\n"
   ]
  },
  {
   "cell_type": "markdown",
   "id": "96ed3489",
   "metadata": {},
   "source": [
    "# nested list"
   ]
  },
  {
   "cell_type": "code",
   "execution_count": 9,
   "id": "4181b388",
   "metadata": {},
   "outputs": [
    {
     "data": {
      "text/plain": [
       "['shakes',\n",
       " ['brinjal', 'ladyfinger', 'bottlegourd'],\n",
       " ['chips', 'cookies'],\n",
       " 'drinks']"
      ]
     },
     "execution_count": 9,
     "metadata": {},
     "output_type": "execute_result"
    }
   ],
   "source": [
    "items=[\"shakes\",[\"brinjal\",\"ladyfinger\",\"bottlegourd\"],[\"chips\",\"cookies\"],\"drinks\"]\n",
    "items"
   ]
  },
  {
   "cell_type": "markdown",
   "id": "d704b971",
   "metadata": {},
   "source": [
    "# fetch chips"
   ]
  },
  {
   "cell_type": "code",
   "execution_count": 29,
   "id": "f30a581f",
   "metadata": {},
   "outputs": [
    {
     "data": {
      "text/plain": [
       "'chips'"
      ]
     },
     "execution_count": 29,
     "metadata": {},
     "output_type": "execute_result"
    }
   ],
   "source": [
    "items[2][0]"
   ]
  },
  {
   "cell_type": "markdown",
   "id": "eef27747-c5d1-4cf7-a42c-14b5ae976697",
   "metadata": {},
   "source": [
    "# FETCH BOTTLE GOURD"
   ]
  },
  {
   "cell_type": "code",
   "execution_count": 33,
   "id": "91590227",
   "metadata": {},
   "outputs": [
    {
     "data": {
      "text/plain": [
       "'bottlegourd'"
      ]
     },
     "execution_count": 33,
     "metadata": {},
     "output_type": "execute_result"
    }
   ],
   "source": [
    "items[1][-1]"
   ]
  },
  {
   "cell_type": "markdown",
   "id": "bbf69679-49e4-47e4-9152-843d808437ad",
   "metadata": {},
   "source": [
    "# fetch cook"
   ]
  },
  {
   "cell_type": "code",
   "execution_count": 38,
   "id": "a8bfb423",
   "metadata": {},
   "outputs": [
    {
     "data": {
      "text/plain": [
       "'cook'"
      ]
     },
     "execution_count": 38,
     "metadata": {},
     "output_type": "execute_result"
    }
   ],
   "source": [
    "items[2][-1][0:4]"
   ]
  },
  {
   "cell_type": "code",
   "execution_count": 39,
   "id": "17b9b23c",
   "metadata": {},
   "outputs": [
    {
     "data": {
      "text/plain": [
       "['ladyfinger', 'bottlegourd']"
      ]
     },
     "execution_count": 39,
     "metadata": {},
     "output_type": "execute_result"
    }
   ],
   "source": [
    "items[-3][-2:]"
   ]
  },
  {
   "cell_type": "code",
   "execution_count": 43,
   "id": "d93217c1",
   "metadata": {},
   "outputs": [
    {
     "data": {
      "text/plain": [
       "['ladyfinger', 'bottlegourd']"
      ]
     },
     "execution_count": 43,
     "metadata": {},
     "output_type": "execute_result"
    }
   ],
   "source": [
    "items[0:-1][1][1:]"
   ]
  },
  {
   "cell_type": "code",
   "execution_count": 46,
   "id": "2044cc02",
   "metadata": {},
   "outputs": [
    {
     "data": {
      "text/plain": [
       "['brinjal', 'ladyfinger', 'bottlegourd']"
      ]
     },
     "execution_count": 46,
     "metadata": {},
     "output_type": "execute_result"
    }
   ],
   "source": [
    "items[0:-1][1]"
   ]
  },
  {
   "cell_type": "code",
   "execution_count": 47,
   "id": "24b7a68e",
   "metadata": {},
   "outputs": [
    {
     "data": {
      "text/plain": [
       "['shakes', ['brinjal', 'ladyfinger', 'bottlegourd'], ['chips', 'cookies']]"
      ]
     },
     "execution_count": 47,
     "metadata": {},
     "output_type": "execute_result"
    }
   ],
   "source": [
    "items[0:-1]"
   ]
  },
  {
   "cell_type": "code",
   "execution_count": 49,
   "id": "b5d84ee3",
   "metadata": {},
   "outputs": [
    {
     "data": {
      "text/plain": [
       "[]"
      ]
     },
     "execution_count": 49,
     "metadata": {},
     "output_type": "execute_result"
    }
   ],
   "source": [
    "items[0:-1][1:-1][1:]"
   ]
  },
  {
   "cell_type": "code",
   "execution_count": 52,
   "id": "8d9c859e",
   "metadata": {},
   "outputs": [
    {
     "data": {
      "text/plain": [
       "'dik'"
      ]
     },
     "execution_count": 52,
     "metadata": {},
     "output_type": "execute_result"
    }
   ],
   "source": [
    "items[-2:][-1][::2]"
   ]
  },
  {
   "cell_type": "markdown",
   "id": "73de8f33",
   "metadata": {},
   "source": [
    "# operators "
   ]
  },
  {
   "cell_type": "markdown",
   "id": "b4b323df",
   "metadata": {},
   "source": [
    "# arithemetic : + and *"
   ]
  },
  {
   "cell_type": "code",
   "execution_count": 53,
   "id": "90bfc934",
   "metadata": {},
   "outputs": [
    {
     "data": {
      "text/plain": [
       "[12, 3, 4, 10, 200, 100]"
      ]
     },
     "execution_count": 53,
     "metadata": {},
     "output_type": "execute_result"
    }
   ],
   "source": [
    "l1=[12,3,4,10]\n",
    "l2=[200,100]\n",
    "l1+l2"
   ]
  },
  {
   "cell_type": "code",
   "execution_count": 55,
   "id": "b0c59b6f",
   "metadata": {},
   "outputs": [
    {
     "data": {
      "text/plain": [
       "[12, 3, 4, 10, 12, 3, 4, 10]"
      ]
     },
     "execution_count": 55,
     "metadata": {},
     "output_type": "execute_result"
    }
   ],
   "source": [
    "l1*2"
   ]
  },
  {
   "cell_type": "code",
   "execution_count": 56,
   "id": "c42243c9",
   "metadata": {},
   "outputs": [
    {
     "ename": "TypeError",
     "evalue": "unsupported operand type(s) for /: 'list' and 'list'",
     "output_type": "error",
     "traceback": [
      "\u001b[1;31m---------------------------------------------------------------------------\u001b[0m",
      "\u001b[1;31mTypeError\u001b[0m                                 Traceback (most recent call last)",
      "Input \u001b[1;32mIn [56]\u001b[0m, in \u001b[0;36m<cell line: 1>\u001b[1;34m()\u001b[0m\n\u001b[1;32m----> 1\u001b[0m \u001b[43ml1\u001b[49m\u001b[38;5;241;43m/\u001b[39;49m\u001b[43ml2\u001b[49m\n",
      "\u001b[1;31mTypeError\u001b[0m: unsupported operand type(s) for /: 'list' and 'list'"
     ]
    }
   ],
   "source": [
    "l1/l2"
   ]
  },
  {
   "cell_type": "markdown",
   "id": "230302c6-5702-430b-b62e-5e67d76c8bea",
   "metadata": {},
   "source": [
    "# relational"
   ]
  },
  {
   "cell_type": "code",
   "execution_count": 58,
   "id": "280ad995",
   "metadata": {},
   "outputs": [
    {
     "data": {
      "text/plain": [
       "[12, 3, 4, 10]"
      ]
     },
     "execution_count": 58,
     "metadata": {},
     "output_type": "execute_result"
    }
   ],
   "source": [
    "l1"
   ]
  },
  {
   "cell_type": "code",
   "execution_count": 59,
   "id": "9a0e1c75",
   "metadata": {},
   "outputs": [
    {
     "data": {
      "text/plain": [
       "[200, 100]"
      ]
     },
     "execution_count": 59,
     "metadata": {},
     "output_type": "execute_result"
    }
   ],
   "source": [
    "l2"
   ]
  },
  {
   "cell_type": "code",
   "execution_count": 60,
   "id": "273238c0",
   "metadata": {},
   "outputs": [
    {
     "data": {
      "text/plain": [
       "True"
      ]
     },
     "execution_count": 60,
     "metadata": {},
     "output_type": "execute_result"
    }
   ],
   "source": [
    "l1<l2"
   ]
  },
  {
   "cell_type": "code",
   "execution_count": 69,
   "id": "3d8cc780",
   "metadata": {},
   "outputs": [],
   "source": [
    "l1=[1200,100,4,10]\n",
    "l2=[1200,100]"
   ]
  },
  {
   "cell_type": "code",
   "execution_count": 68,
   "id": "fa69f5dc",
   "metadata": {},
   "outputs": [
    {
     "data": {
      "text/plain": [
       "False"
      ]
     },
     "execution_count": 68,
     "metadata": {},
     "output_type": "execute_result"
    }
   ],
   "source": [
    "l1<l2"
   ]
  },
  {
   "cell_type": "markdown",
   "id": "09eb38ea",
   "metadata": {},
   "source": [
    "# logical"
   ]
  },
  {
   "cell_type": "code",
   "execution_count": 70,
   "id": "5ec43078",
   "metadata": {},
   "outputs": [
    {
     "data": {
      "text/plain": [
       "[1, 2, 3, 4]"
      ]
     },
     "execution_count": 70,
     "metadata": {},
     "output_type": "execute_result"
    }
   ],
   "source": [
    "[] or [1,2,3,4]"
   ]
  },
  {
   "cell_type": "code",
   "execution_count": 71,
   "id": "aaa6c494",
   "metadata": {},
   "outputs": [
    {
     "data": {
      "text/plain": [
       "[100, 20]"
      ]
     },
     "execution_count": 71,
     "metadata": {},
     "output_type": "execute_result"
    }
   ],
   "source": [
    "[100,20] or [1,2,3,4]"
   ]
  },
  {
   "cell_type": "code",
   "execution_count": 6,
   "id": "c10ad458-da81-4a75-88e3-e3899dabab3f",
   "metadata": {},
   "outputs": [
    {
     "data": {
      "text/plain": [
       "[1, 2, 3, 4]"
      ]
     },
     "execution_count": 6,
     "metadata": {},
     "output_type": "execute_result"
    }
   ],
   "source": [
    "[100,20] and [1,2,3,4]"
   ]
  },
  {
   "cell_type": "code",
   "execution_count": 3,
   "id": "94366874-a0c2-4667-ad07-340089a93040",
   "metadata": {},
   "outputs": [
    {
     "data": {
      "text/plain": [
       "[1, 2, 3, 4]"
      ]
     },
     "execution_count": 3,
     "metadata": {},
     "output_type": "execute_result"
    }
   ],
   "source": [
    "[100,204,5,56,7,7] and [1,2,3,4]"
   ]
  },
  {
   "cell_type": "code",
   "execution_count": 4,
   "id": "b25bde6e-ecf9-48fd-a30f-f70ec3db3fd7",
   "metadata": {},
   "outputs": [
    {
     "data": {
      "text/plain": [
       "[]"
      ]
     },
     "execution_count": 4,
     "metadata": {},
     "output_type": "execute_result"
    }
   ],
   "source": [
    "[] and [1,2,3,4]"
   ]
  },
  {
   "cell_type": "code",
   "execution_count": 5,
   "id": "7f7ba606-530b-4e7a-a622-703da46af8f3",
   "metadata": {},
   "outputs": [
    {
     "data": {
      "text/plain": [
       "False"
      ]
     },
     "execution_count": 5,
     "metadata": {},
     "output_type": "execute_result"
    }
   ],
   "source": [
    "not [1,2,3,4]"
   ]
  },
  {
   "cell_type": "code",
   "execution_count": 6,
   "id": "0224c13d-d67f-4201-86fa-d725c44ac890",
   "metadata": {},
   "outputs": [
    {
     "data": {
      "text/plain": [
       "True"
      ]
     },
     "execution_count": 6,
     "metadata": {},
     "output_type": "execute_result"
    }
   ],
   "source": [
    "not []"
   ]
  },
  {
   "cell_type": "markdown",
   "id": "de7de869-5df5-4b77-bdcc-3c18297d1701",
   "metadata": {},
   "source": [
    "# in and not in: done before"
   ]
  },
  {
   "cell_type": "markdown",
   "id": "405114f1",
   "metadata": {},
   "source": [
    "# COMMON FUNCTIONS"
   ]
  },
  {
   "cell_type": "markdown",
   "id": "1d9fd820",
   "metadata": {},
   "source": [
    "- len\n",
    "- max\n",
    "- min\n",
    "- sum\n",
    "- sorted\n",
    "- del"
   ]
  },
  {
   "cell_type": "code",
   "execution_count": 7,
   "id": "34a16bdd",
   "metadata": {},
   "outputs": [
    {
     "name": "stdout",
     "output_type": "stream",
     "text": [
      "6\n",
      "34\n",
      "53\n",
      "-1\n"
     ]
    }
   ],
   "source": [
    "l=[2,34,-1,4,4,10]\n",
    "print(len(l))\n",
    "print(max(l))\n",
    "print(sum(l))\n",
    "print(min(l))"
   ]
  },
  {
   "cell_type": "code",
   "execution_count": 76,
   "id": "18e3ceac",
   "metadata": {},
   "outputs": [
    {
     "name": "stdout",
     "output_type": "stream",
     "text": [
      "7\n"
     ]
    },
    {
     "ename": "TypeError",
     "evalue": "'>' not supported between instances of 'str' and 'int'",
     "output_type": "error",
     "traceback": [
      "\u001b[1;31m---------------------------------------------------------------------------\u001b[0m",
      "\u001b[1;31mTypeError\u001b[0m                                 Traceback (most recent call last)",
      "Input \u001b[1;32mIn [76]\u001b[0m, in \u001b[0;36m<cell line: 3>\u001b[1;34m()\u001b[0m\n\u001b[0;32m      1\u001b[0m l\u001b[38;5;241m=\u001b[39m[\u001b[38;5;241m2\u001b[39m,\u001b[38;5;241m34\u001b[39m,\u001b[38;5;241m-\u001b[39m\u001b[38;5;241m1\u001b[39m,\u001b[38;5;241m4\u001b[39m,\u001b[38;5;241m4\u001b[39m,\u001b[38;5;241m10\u001b[39m,\u001b[38;5;124m\"\u001b[39m\u001b[38;5;124mpython\u001b[39m\u001b[38;5;124m\"\u001b[39m]\n\u001b[0;32m      2\u001b[0m \u001b[38;5;28mprint\u001b[39m(\u001b[38;5;28mlen\u001b[39m(l))\n\u001b[1;32m----> 3\u001b[0m \u001b[38;5;28mprint\u001b[39m(\u001b[38;5;28;43mmax\u001b[39;49m\u001b[43m(\u001b[49m\u001b[43ml\u001b[49m\u001b[43m)\u001b[49m)\n",
      "\u001b[1;31mTypeError\u001b[0m: '>' not supported between instances of 'str' and 'int'"
     ]
    }
   ],
   "source": [
    "l=[2,34,-1,4,4,10,\"python\"]\n",
    "print(len(l))\n",
    "print(max(l))"
   ]
  },
  {
   "cell_type": "code",
   "execution_count": 8,
   "id": "a38681f0",
   "metadata": {},
   "outputs": [
    {
     "name": "stdout",
     "output_type": "stream",
     "text": [
      "3\n",
      "python\n"
     ]
    }
   ],
   "source": [
    "l=[\"data\",\"python\",\"java datavscience\"]\n",
    "print(len(l))\n",
    "print(max(l)) # when there is string then it work on the basis of ascii"
   ]
  },
  {
   "cell_type": "code",
   "execution_count": 80,
   "id": "c5f4b6f5",
   "metadata": {},
   "outputs": [
    {
     "name": "stdout",
     "output_type": "stream",
     "text": [
      "3\n",
      "python\n",
      "data\n"
     ]
    }
   ],
   "source": [
    "l=[\"data\",\"python\",\"java datavscience\"]\n",
    "print(len(l))\n",
    "print(max(l))\n",
    "print(min(l))"
   ]
  },
  {
   "cell_type": "code",
   "execution_count": 9,
   "id": "c336420b",
   "metadata": {},
   "outputs": [
    {
     "name": "stdout",
     "output_type": "stream",
     "text": [
      "3\n",
      "python\n",
      "data\n"
     ]
    },
    {
     "data": {
      "text/plain": [
       "['data', 'java datavscience', 'python']"
      ]
     },
     "execution_count": 9,
     "metadata": {},
     "output_type": "execute_result"
    }
   ],
   "source": [
    "l=[\"data\",\"python\",\"java datavscience\"]\n",
    "print(len(l))\n",
    "print(max(l))\n",
    "print(min(l))\n",
    "#print(sum(l))\n",
    "sorted(l)  # when there is string then it work on the basis of ascii"
   ]
  },
  {
   "cell_type": "code",
   "execution_count": 85,
   "id": "95f4cf55",
   "metadata": {},
   "outputs": [],
   "source": [
    "del l[0]"
   ]
  },
  {
   "cell_type": "code",
   "execution_count": 86,
   "id": "1dec3c59",
   "metadata": {},
   "outputs": [
    {
     "data": {
      "text/plain": [
       "['python', 'java datavscience']"
      ]
     },
     "execution_count": 86,
     "metadata": {},
     "output_type": "execute_result"
    }
   ],
   "source": [
    "l"
   ]
  },
  {
   "cell_type": "code",
   "execution_count": 87,
   "id": "5204edf0",
   "metadata": {},
   "outputs": [],
   "source": [
    "del l"
   ]
  },
  {
   "cell_type": "code",
   "execution_count": 88,
   "id": "15bc5c3f",
   "metadata": {},
   "outputs": [
    {
     "ename": "NameError",
     "evalue": "name 'l' is not defined",
     "output_type": "error",
     "traceback": [
      "\u001b[1;31m---------------------------------------------------------------------------\u001b[0m",
      "\u001b[1;31mNameError\u001b[0m                                 Traceback (most recent call last)",
      "Input \u001b[1;32mIn [88]\u001b[0m, in \u001b[0;36m<cell line: 1>\u001b[1;34m()\u001b[0m\n\u001b[1;32m----> 1\u001b[0m \u001b[43ml\u001b[49m\n",
      "\u001b[1;31mNameError\u001b[0m: name 'l' is not defined"
     ]
    }
   ],
   "source": [
    "l"
   ]
  },
  {
   "cell_type": "code",
   "execution_count": 89,
   "id": "053bb538",
   "metadata": {},
   "outputs": [
    {
     "data": {
      "text/plain": [
       "['__add__',\n",
       " '__class__',\n",
       " '__class_getitem__',\n",
       " '__contains__',\n",
       " '__delattr__',\n",
       " '__delitem__',\n",
       " '__dir__',\n",
       " '__doc__',\n",
       " '__eq__',\n",
       " '__format__',\n",
       " '__ge__',\n",
       " '__getattribute__',\n",
       " '__getitem__',\n",
       " '__gt__',\n",
       " '__hash__',\n",
       " '__iadd__',\n",
       " '__imul__',\n",
       " '__init__',\n",
       " '__init_subclass__',\n",
       " '__iter__',\n",
       " '__le__',\n",
       " '__len__',\n",
       " '__lt__',\n",
       " '__mul__',\n",
       " '__ne__',\n",
       " '__new__',\n",
       " '__reduce__',\n",
       " '__reduce_ex__',\n",
       " '__repr__',\n",
       " '__reversed__',\n",
       " '__rmul__',\n",
       " '__setattr__',\n",
       " '__setitem__',\n",
       " '__sizeof__',\n",
       " '__str__',\n",
       " '__subclasshook__',\n",
       " 'append',\n",
       " 'clear',\n",
       " 'copy',\n",
       " 'count',\n",
       " 'extend',\n",
       " 'index',\n",
       " 'insert',\n",
       " 'pop',\n",
       " 'remove',\n",
       " 'reverse',\n",
       " 'sort']"
      ]
     },
     "execution_count": 89,
     "metadata": {},
     "output_type": "execute_result"
    }
   ],
   "source": [
    "dir(list)"
   ]
  },
  {
   "cell_type": "markdown",
   "id": "6c3b49cc",
   "metadata": {},
   "source": [
    "# how to add the element in the list"
   ]
  },
  {
   "cell_type": "markdown",
   "id": "bfedb8ec",
   "metadata": {},
   "source": [
    "- append\n",
    "- extend\n",
    "- insert"
   ]
  },
  {
   "cell_type": "markdown",
   "id": "60d56a51",
   "metadata": {},
   "source": [
    "## append: it adds the element in the list in the end"
   ]
  },
  {
   "cell_type": "code",
   "execution_count": 90,
   "id": "20129c2c",
   "metadata": {},
   "outputs": [
    {
     "name": "stdout",
     "output_type": "stream",
     "text": [
      "2094667463680\n",
      "[12, 3, 4, 10]\n",
      "[12, 3, 4, 10, 100]\n",
      "2094667463680\n"
     ]
    }
   ],
   "source": [
    "l=[12,3,4,10]\n",
    "print(id(l))\n",
    "print(l)\n",
    "l.append(100)\n",
    "print(l)\n",
    "print(id(l))"
   ]
  },
  {
   "cell_type": "code",
   "execution_count": 91,
   "id": "b14ccb16",
   "metadata": {},
   "outputs": [
    {
     "name": "stdout",
     "output_type": "stream",
     "text": [
      "2094667471616\n",
      "[12, 3, 4, 10]\n",
      "[12, 3, 4, 10, 'python']\n",
      "2094667471616\n"
     ]
    }
   ],
   "source": [
    "l=[12,3,4,10]\n",
    "print(id(l))\n",
    "print(l)\n",
    "l.append(\"python\")\n",
    "print(l)\n",
    "print(id(l))"
   ]
  },
  {
   "cell_type": "markdown",
   "id": "25ed5458",
   "metadata": {},
   "source": [
    "# extend: is same as append , it adds the multiple elements "
   ]
  },
  {
   "cell_type": "code",
   "execution_count": 92,
   "id": "22ec20e0",
   "metadata": {},
   "outputs": [
    {
     "name": "stdout",
     "output_type": "stream",
     "text": [
      "2094667469120\n",
      "[12, 3, 4, 10]\n",
      "[12, 3, 4, 10, 'p', 'y', 't', 'h', 'o', 'n']\n",
      "2094667469120\n"
     ]
    }
   ],
   "source": [
    "l=[12,3,4,10]\n",
    "print(id(l))\n",
    "print(l)\n",
    "l.extend(\"python\")\n",
    "print(l)\n",
    "print(id(l))"
   ]
  },
  {
   "cell_type": "code",
   "execution_count": 93,
   "id": "beb8ad48",
   "metadata": {},
   "outputs": [
    {
     "name": "stdout",
     "output_type": "stream",
     "text": [
      "2094667435776\n",
      "[12, 3, 4, 10]\n",
      "[12, 3, 4, 10, 200, 900]\n",
      "2094667435776\n"
     ]
    }
   ],
   "source": [
    "l=[12,3,4,10]\n",
    "print(id(l))\n",
    "print(l)\n",
    "l.extend([200,900])\n",
    "print(l)\n",
    "print(id(l))"
   ]
  },
  {
   "cell_type": "code",
   "execution_count": 94,
   "id": "43f26c4e",
   "metadata": {},
   "outputs": [
    {
     "name": "stdout",
     "output_type": "stream",
     "text": [
      "2094667472128\n",
      "[12, 3, 4, 10]\n",
      "[12, 3, 4, 10, [200, 900]]\n",
      "2094667472128\n"
     ]
    }
   ],
   "source": [
    "l=[12,3,4,10]\n",
    "print(id(l))\n",
    "print(l)\n",
    "l.append([200,900])\n",
    "print(l)\n",
    "print(id(l))"
   ]
  },
  {
   "cell_type": "code",
   "execution_count": 95,
   "id": "71360bbf",
   "metadata": {},
   "outputs": [
    {
     "name": "stdout",
     "output_type": "stream",
     "text": [
      "2094667442240\n",
      "[12, 3, 4, 10]\n"
     ]
    },
    {
     "ename": "TypeError",
     "evalue": "'int' object is not iterable",
     "output_type": "error",
     "traceback": [
      "\u001b[1;31m---------------------------------------------------------------------------\u001b[0m",
      "\u001b[1;31mTypeError\u001b[0m                                 Traceback (most recent call last)",
      "Input \u001b[1;32mIn [95]\u001b[0m, in \u001b[0;36m<cell line: 4>\u001b[1;34m()\u001b[0m\n\u001b[0;32m      2\u001b[0m \u001b[38;5;28mprint\u001b[39m(\u001b[38;5;28mid\u001b[39m(l))\n\u001b[0;32m      3\u001b[0m \u001b[38;5;28mprint\u001b[39m(l)\n\u001b[1;32m----> 4\u001b[0m \u001b[43ml\u001b[49m\u001b[38;5;241;43m.\u001b[39;49m\u001b[43mextend\u001b[49m\u001b[43m(\u001b[49m\u001b[38;5;241;43m20\u001b[39;49m\u001b[43m)\u001b[49m\n\u001b[0;32m      5\u001b[0m \u001b[38;5;28mprint\u001b[39m(l)\n\u001b[0;32m      6\u001b[0m \u001b[38;5;28mprint\u001b[39m(\u001b[38;5;28mid\u001b[39m(l))\n",
      "\u001b[1;31mTypeError\u001b[0m: 'int' object is not iterable"
     ]
    }
   ],
   "source": [
    "l=[12,3,4,10]\n",
    "print(id(l))\n",
    "print(l)\n",
    "l.extend(20)\n",
    "print(l)\n",
    "print(id(l))"
   ]
  },
  {
   "cell_type": "markdown",
   "id": "858a29ef",
   "metadata": {},
   "source": [
    "# insert: it inserts at specific position"
   ]
  },
  {
   "cell_type": "code",
   "execution_count": 97,
   "id": "1e79aea1",
   "metadata": {},
   "outputs": [
    {
     "data": {
      "text/plain": [
       "[12, 3, 1000, 4, 10]"
      ]
     },
     "execution_count": 97,
     "metadata": {},
     "output_type": "execute_result"
    }
   ],
   "source": [
    "l=[12,3,4,10]\n",
    "l.insert(2,1000)\n",
    "l"
   ]
  },
  {
   "cell_type": "code",
   "execution_count": 3,
   "id": "577406ba",
   "metadata": {},
   "outputs": [
    {
     "data": {
      "text/plain": [
       "[12, 3, 4, 10, 1000]"
      ]
     },
     "execution_count": 3,
     "metadata": {},
     "output_type": "execute_result"
    }
   ],
   "source": [
    "l=[12,3,4,10]\n",
    "l.insert(20,1000) # when we enter the out of range then it insert in end\n",
    "l"
   ]
  },
  {
   "cell_type": "markdown",
   "id": "100ea1eb",
   "metadata": {},
   "source": [
    "#  how to take the list from user"
   ]
  },
  {
   "cell_type": "code",
   "execution_count": 9,
   "id": "064ed649",
   "metadata": {},
   "outputs": [
    {
     "name": "stdin",
     "output_type": "stream",
     "text": [
      "enter the name  pranav\n",
      "enter the course  da\n",
      "enter the gender  m\n",
      "enter the marks  90\n"
     ]
    },
    {
     "data": {
      "text/plain": [
       "['pranav', 'da', 'm', 90]"
      ]
     },
     "execution_count": 9,
     "metadata": {},
     "output_type": "execute_result"
    }
   ],
   "source": [
    "l=[]\n",
    "n=input(\"enter the name \")\n",
    "c=input(\"enter the course \")\n",
    "g=input(\"enter the gender \")\n",
    "m=int(input(\"enter the marks \"))\n",
    "l.append(n)\n",
    "l.append(c)\n",
    "l.append(g)\n",
    "l.append(m)\n",
    "l\n",
    "# l.extend([n,c,g,m])\n",
    "# l"
   ]
  },
  {
   "cell_type": "markdown",
   "id": "453bfb36-05da-4e80-ac28-113600cada7e",
   "metadata": {},
   "source": [
    "# multiple list from user"
   ]
  },
  {
   "cell_type": "code",
   "execution_count": 4,
   "id": "c8a320e3",
   "metadata": {},
   "outputs": [
    {
     "name": "stdin",
     "output_type": "stream",
     "text": [
      "enter the number of students  3\n",
      "enter the name  of student 1  pranav\n",
      "enter the course of student 1  da\n",
      "enter the gender of student  1  m\n",
      "enter the marks of student 1  98\n",
      "enter the name  of student 2  jai\n",
      "enter the course of student 2  ds\n",
      "enter the gender of student  2  m\n",
      "enter the marks of student 2  87\n",
      "enter the name  of student 3  veer\n",
      "enter the course of student 3  ds\n",
      "enter the gender of student  3  m\n",
      "enter the marks of student 3  78\n"
     ]
    },
    {
     "name": "stdout",
     "output_type": "stream",
     "text": [
      "[['pranav', 'da', 'm', 98], ['jai', 'ds', 'm', 87], ['veer', 'ds', 'm', 78]]\n"
     ]
    }
   ],
   "source": [
    "students=[]\n",
    "n=int(input(\"enter the number of students \"))\n",
    "for i in range(n):\n",
    "    student=[]\n",
    "    name=input(f\"enter the name  of student {i+1} \")\n",
    "    c=input(f\"enter the course of student {i+1} \")\n",
    "    g=input(f\"enter the gender of student  {i+1} \")\n",
    "    m=int(input(f\"enter the marks of student {i+1} \"))\n",
    "    student.append(name)\n",
    "    student.append(c)\n",
    "    student.append(g)\n",
    "    student.append(m)\n",
    "    students.append(student)\n",
    "print(students)\n",
    "    \n"
   ]
  },
  {
   "cell_type": "markdown",
   "id": "bc31fb4a",
   "metadata": {},
   "source": [
    "# updation"
   ]
  },
  {
   "cell_type": "code",
   "execution_count": 10,
   "id": "73910f1d",
   "metadata": {},
   "outputs": [
    {
     "data": {
      "text/plain": [
       "['shakes',\n",
       " ['brinjal', 'ladyfinger', 'bottlegourd'],\n",
       " ['chips', 'cookies'],\n",
       " 'drinks']"
      ]
     },
     "execution_count": 10,
     "metadata": {},
     "output_type": "execute_result"
    }
   ],
   "source": [
    "items"
   ]
  },
  {
   "cell_type": "code",
   "execution_count": 11,
   "id": "3064341e",
   "metadata": {},
   "outputs": [],
   "source": [
    "items[-1]=\"fruits\""
   ]
  },
  {
   "cell_type": "code",
   "execution_count": 12,
   "id": "bc0fbe06",
   "metadata": {},
   "outputs": [
    {
     "data": {
      "text/plain": [
       "['shakes',\n",
       " ['brinjal', 'ladyfinger', 'bottlegourd'],\n",
       " ['chips', 'cookies'],\n",
       " 'fruits']"
      ]
     },
     "execution_count": 12,
     "metadata": {},
     "output_type": "execute_result"
    }
   ],
   "source": [
    "items"
   ]
  },
  {
   "cell_type": "code",
   "execution_count": 13,
   "id": "255fe3e7",
   "metadata": {},
   "outputs": [],
   "source": [
    "items[2][-1]=\"biscuits\""
   ]
  },
  {
   "cell_type": "code",
   "execution_count": 14,
   "id": "b502fc05",
   "metadata": {},
   "outputs": [
    {
     "data": {
      "text/plain": [
       "['shakes',\n",
       " ['brinjal', 'ladyfinger', 'bottlegourd'],\n",
       " ['chips', 'biscuits'],\n",
       " 'fruits']"
      ]
     },
     "execution_count": 14,
     "metadata": {},
     "output_type": "execute_result"
    }
   ],
   "source": [
    "items"
   ]
  },
  {
   "cell_type": "markdown",
   "id": "f9ea92e6",
   "metadata": {},
   "source": [
    "# deletion"
   ]
  },
  {
   "cell_type": "code",
   "execution_count": 112,
   "id": "f45d63ee",
   "metadata": {},
   "outputs": [
    {
     "data": {
      "text/plain": [
       "['__add__',\n",
       " '__class__',\n",
       " '__class_getitem__',\n",
       " '__contains__',\n",
       " '__delattr__',\n",
       " '__delitem__',\n",
       " '__dir__',\n",
       " '__doc__',\n",
       " '__eq__',\n",
       " '__format__',\n",
       " '__ge__',\n",
       " '__getattribute__',\n",
       " '__getitem__',\n",
       " '__gt__',\n",
       " '__hash__',\n",
       " '__iadd__',\n",
       " '__imul__',\n",
       " '__init__',\n",
       " '__init_subclass__',\n",
       " '__iter__',\n",
       " '__le__',\n",
       " '__len__',\n",
       " '__lt__',\n",
       " '__mul__',\n",
       " '__ne__',\n",
       " '__new__',\n",
       " '__reduce__',\n",
       " '__reduce_ex__',\n",
       " '__repr__',\n",
       " '__reversed__',\n",
       " '__rmul__',\n",
       " '__setattr__',\n",
       " '__setitem__',\n",
       " '__sizeof__',\n",
       " '__str__',\n",
       " '__subclasshook__',\n",
       " 'append',\n",
       " 'clear',\n",
       " 'copy',\n",
       " 'count',\n",
       " 'extend',\n",
       " 'index',\n",
       " 'insert',\n",
       " 'pop',\n",
       " 'remove',\n",
       " 'reverse',\n",
       " 'sort']"
      ]
     },
     "execution_count": 112,
     "metadata": {},
     "output_type": "execute_result"
    }
   ],
   "source": [
    "dir(list)"
   ]
  },
  {
   "cell_type": "markdown",
   "id": "b6eed1fd",
   "metadata": {},
   "source": [
    "- pop\n",
    "- remove\n",
    "- clear\n",
    "- del"
   ]
  },
  {
   "cell_type": "markdown",
   "id": "420da270",
   "metadata": {},
   "source": [
    "# pop:"
   ]
  },
  {
   "cell_type": "code",
   "execution_count": 113,
   "id": "3b85a840",
   "metadata": {},
   "outputs": [],
   "source": [
    "l=[12,4,19,100]\n",
    "e=l.pop()\n"
   ]
  },
  {
   "cell_type": "code",
   "execution_count": 114,
   "id": "b32c2d6d",
   "metadata": {},
   "outputs": [
    {
     "data": {
      "text/plain": [
       "[12, 4, 19]"
      ]
     },
     "execution_count": 114,
     "metadata": {},
     "output_type": "execute_result"
    }
   ],
   "source": [
    "l"
   ]
  },
  {
   "cell_type": "code",
   "execution_count": 115,
   "id": "07bd7993",
   "metadata": {},
   "outputs": [
    {
     "data": {
      "text/plain": [
       "100"
      ]
     },
     "execution_count": 115,
     "metadata": {},
     "output_type": "execute_result"
    }
   ],
   "source": [
    "e"
   ]
  },
  {
   "cell_type": "markdown",
   "id": "3f086990-49d4-4c47-832b-59f7566b87ce",
   "metadata": {},
   "source": [
    "# deletion based on specific pos"
   ]
  },
  {
   "cell_type": "code",
   "execution_count": 16,
   "id": "4aec7125",
   "metadata": {},
   "outputs": [
    {
     "name": "stdin",
     "output_type": "stream",
     "text": [
      "enter the pos at which u wnat to delete: 2\n"
     ]
    },
    {
     "data": {
      "text/plain": [
       "[12, 3, 100]"
      ]
     },
     "execution_count": 16,
     "metadata": {},
     "output_type": "execute_result"
    }
   ],
   "source": [
    "l=[12,3,10,100]\n",
    "pos=int(input(\"enter the pos at which u wnat to delete:\"))\n",
    "e=l.pop(pos)\n",
    "l"
   ]
  },
  {
   "cell_type": "code",
   "execution_count": 17,
   "id": "ec9899f0-2405-4ae4-9ad4-494ffec32066",
   "metadata": {},
   "outputs": [
    {
     "name": "stdin",
     "output_type": "stream",
     "text": [
      "enter the pos at which u wnat to delete: 10\n"
     ]
    },
    {
     "ename": "IndexError",
     "evalue": "pop index out of range",
     "output_type": "error",
     "traceback": [
      "\u001b[1;31m---------------------------------------------------------------------------\u001b[0m",
      "\u001b[1;31mIndexError\u001b[0m                                Traceback (most recent call last)",
      "Cell \u001b[1;32mIn[17], line 3\u001b[0m\n\u001b[0;32m      1\u001b[0m l\u001b[38;5;241m=\u001b[39m[\u001b[38;5;241m12\u001b[39m,\u001b[38;5;241m3\u001b[39m,\u001b[38;5;241m10\u001b[39m,\u001b[38;5;241m100\u001b[39m]\n\u001b[0;32m      2\u001b[0m pos\u001b[38;5;241m=\u001b[39m\u001b[38;5;28mint\u001b[39m(\u001b[38;5;28minput\u001b[39m(\u001b[38;5;124m\"\u001b[39m\u001b[38;5;124menter the pos at which u wnat to delete:\u001b[39m\u001b[38;5;124m\"\u001b[39m))\n\u001b[1;32m----> 3\u001b[0m e\u001b[38;5;241m=\u001b[39ml\u001b[38;5;241m.\u001b[39mpop(pos)\n\u001b[0;32m      4\u001b[0m l\n",
      "\u001b[1;31mIndexError\u001b[0m: pop index out of range"
     ]
    }
   ],
   "source": [
    "l=[12,3,10,100]\n",
    "pos=int(input(\"enter the pos at which u wnat to delete:\"))\n",
    "e=l.pop(pos)\n",
    "l"
   ]
  },
  {
   "cell_type": "markdown",
   "id": "19637353-1094-4c85-a300-9e4a456861ff",
   "metadata": {},
   "source": [
    "# remove: it work on element"
   ]
  },
  {
   "cell_type": "code",
   "execution_count": 26,
   "id": "f692e7de",
   "metadata": {},
   "outputs": [
    {
     "name": "stdin",
     "output_type": "stream",
     "text": [
      "enter the element to be deleted  23\n"
     ]
    }
   ],
   "source": [
    "l=[1,23,4,5,6,7,23]\n",
    "e=int(input(\"enter the element to be deleted \"))\n",
    "l.remove(e)"
   ]
  },
  {
   "cell_type": "code",
   "execution_count": 27,
   "id": "97db3849",
   "metadata": {},
   "outputs": [
    {
     "data": {
      "text/plain": [
       "[1, 4, 5, 6, 7, 23]"
      ]
     },
     "execution_count": 27,
     "metadata": {},
     "output_type": "execute_result"
    }
   ],
   "source": [
    "l"
   ]
  },
  {
   "cell_type": "code",
   "execution_count": 128,
   "id": "14c0ca22",
   "metadata": {},
   "outputs": [
    {
     "name": "stdout",
     "output_type": "stream",
     "text": [
      "enter the element to be deleted 6\n"
     ]
    },
    {
     "data": {
      "text/plain": [
       "6"
      ]
     },
     "execution_count": 128,
     "metadata": {},
     "output_type": "execute_result"
    }
   ],
   "source": [
    "l=[1,23,4,5,6,7,23]\n",
    "e=int(input(\"enter the element to be deleted \"))\n",
    "pos=l.index(e)\n",
    "l.pop(pos)"
   ]
  },
  {
   "cell_type": "code",
   "execution_count": 28,
   "id": "f88af42a",
   "metadata": {},
   "outputs": [
    {
     "data": {
      "text/plain": [
       "[1, 4, 5, 6, 7, 23]"
      ]
     },
     "execution_count": 28,
     "metadata": {},
     "output_type": "execute_result"
    }
   ],
   "source": [
    "l"
   ]
  },
  {
   "cell_type": "code",
   "execution_count": 130,
   "id": "9b3981b5",
   "metadata": {},
   "outputs": [
    {
     "data": {
      "text/plain": [
       "['__add__',\n",
       " '__class__',\n",
       " '__class_getitem__',\n",
       " '__contains__',\n",
       " '__delattr__',\n",
       " '__delitem__',\n",
       " '__dir__',\n",
       " '__doc__',\n",
       " '__eq__',\n",
       " '__format__',\n",
       " '__ge__',\n",
       " '__getattribute__',\n",
       " '__getitem__',\n",
       " '__gt__',\n",
       " '__hash__',\n",
       " '__iadd__',\n",
       " '__imul__',\n",
       " '__init__',\n",
       " '__init_subclass__',\n",
       " '__iter__',\n",
       " '__le__',\n",
       " '__len__',\n",
       " '__lt__',\n",
       " '__mul__',\n",
       " '__ne__',\n",
       " '__new__',\n",
       " '__reduce__',\n",
       " '__reduce_ex__',\n",
       " '__repr__',\n",
       " '__reversed__',\n",
       " '__rmul__',\n",
       " '__setattr__',\n",
       " '__setitem__',\n",
       " '__sizeof__',\n",
       " '__str__',\n",
       " '__subclasshook__',\n",
       " 'append',\n",
       " 'clear',\n",
       " 'copy',\n",
       " 'count',\n",
       " 'extend',\n",
       " 'index',\n",
       " 'insert',\n",
       " 'pop',\n",
       " 'remove',\n",
       " 'reverse',\n",
       " 'sort']"
      ]
     },
     "execution_count": 130,
     "metadata": {},
     "output_type": "execute_result"
    }
   ],
   "source": [
    "dir(list)"
   ]
  },
  {
   "cell_type": "markdown",
   "id": "7daf8f7f",
   "metadata": {},
   "source": [
    "# clear: delete all elements from the list"
   ]
  },
  {
   "cell_type": "code",
   "execution_count": 10,
   "id": "1f7f8ba9",
   "metadata": {},
   "outputs": [],
   "source": [
    "l=[1, 23, 4, 5, 7, 23]"
   ]
  },
  {
   "cell_type": "code",
   "execution_count": 11,
   "id": "f416204e",
   "metadata": {},
   "outputs": [],
   "source": [
    "l.clear()"
   ]
  },
  {
   "cell_type": "code",
   "execution_count": 12,
   "id": "ad7d5bba",
   "metadata": {},
   "outputs": [
    {
     "data": {
      "text/plain": [
       "[]"
      ]
     },
     "execution_count": 12,
     "metadata": {},
     "output_type": "execute_result"
    }
   ],
   "source": [
    "l"
   ]
  },
  {
   "cell_type": "code",
   "execution_count": 24,
   "id": "7d111f63",
   "metadata": {},
   "outputs": [],
   "source": [
    "del l # delete whole list"
   ]
  },
  {
   "cell_type": "code",
   "execution_count": 25,
   "id": "fb965f20",
   "metadata": {},
   "outputs": [
    {
     "ename": "NameError",
     "evalue": "name 'l' is not defined",
     "output_type": "error",
     "traceback": [
      "\u001b[1;31m---------------------------------------------------------------------------\u001b[0m",
      "\u001b[1;31mNameError\u001b[0m                                 Traceback (most recent call last)",
      "Cell \u001b[1;32mIn[25], line 1\u001b[0m\n\u001b[1;32m----> 1\u001b[0m l\n",
      "\u001b[1;31mNameError\u001b[0m: name 'l' is not defined"
     ]
    }
   ],
   "source": [
    "l"
   ]
  },
  {
   "cell_type": "markdown",
   "id": "6eb87083",
   "metadata": {},
   "source": [
    "# deletion in nested "
   ]
  },
  {
   "cell_type": "code",
   "execution_count": 3,
   "id": "8ee48dcb",
   "metadata": {},
   "outputs": [],
   "source": [
    "items=['shakes',\n",
    " ['brinjal', 'ladyfinger', 'bottlegourd'],\n",
    " ['chips', 'buiscuits'],\n",
    " 'fruits']"
   ]
  },
  {
   "cell_type": "markdown",
   "id": "f71de9f4-1452-42eb-b0ff-f987cb3ea176",
   "metadata": {},
   "source": [
    "# delete fruits"
   ]
  },
  {
   "cell_type": "code",
   "execution_count": 4,
   "id": "c70a4818-df2a-4052-9926-71d11e7ea0a4",
   "metadata": {},
   "outputs": [
    {
     "data": {
      "text/plain": [
       "'fruits'"
      ]
     },
     "execution_count": 4,
     "metadata": {},
     "output_type": "execute_result"
    }
   ],
   "source": [
    "items.pop(3)"
   ]
  },
  {
   "cell_type": "code",
   "execution_count": 5,
   "id": "e123e349-ed35-4380-bf53-3e76d78eea83",
   "metadata": {},
   "outputs": [
    {
     "data": {
      "text/plain": [
       "['shakes', ['brinjal', 'ladyfinger', 'bottlegourd'], ['chips', 'buiscuits']]"
      ]
     },
     "execution_count": 5,
     "metadata": {},
     "output_type": "execute_result"
    }
   ],
   "source": [
    "items"
   ]
  },
  {
   "cell_type": "markdown",
   "id": "f2b6ae66-0e21-43a3-905b-40a0f52b0656",
   "metadata": {},
   "source": [
    "# delete bottlegourd"
   ]
  },
  {
   "cell_type": "code",
   "execution_count": 6,
   "id": "e44bc5c2-b54a-4dfd-bc4e-ab6d0061b32f",
   "metadata": {},
   "outputs": [
    {
     "data": {
      "text/plain": [
       "'bottlegourd'"
      ]
     },
     "execution_count": 6,
     "metadata": {},
     "output_type": "execute_result"
    }
   ],
   "source": [
    "items[1].pop(2)"
   ]
  },
  {
   "cell_type": "code",
   "execution_count": 7,
   "id": "22c33129-222f-48eb-8b7f-bafb5d76418a",
   "metadata": {},
   "outputs": [
    {
     "data": {
      "text/plain": [
       "['shakes', ['brinjal', 'ladyfinger'], ['chips', 'buiscuits']]"
      ]
     },
     "execution_count": 7,
     "metadata": {},
     "output_type": "execute_result"
    }
   ],
   "source": [
    "items"
   ]
  },
  {
   "cell_type": "markdown",
   "id": "1e21a50a-a29f-4142-831f-48b393b637d1",
   "metadata": {},
   "source": [
    "# or del"
   ]
  },
  {
   "cell_type": "code",
   "execution_count": 8,
   "id": "7c542cc5-edce-462b-bb6e-c37b9491f658",
   "metadata": {},
   "outputs": [
    {
     "data": {
      "text/plain": [
       "['shakes', ['brinjal', 'ladyfinger'], ['chips', 'buiscuits']]"
      ]
     },
     "execution_count": 8,
     "metadata": {},
     "output_type": "execute_result"
    }
   ],
   "source": [
    "items"
   ]
  },
  {
   "cell_type": "code",
   "execution_count": 9,
   "id": "42c5850a-1ae0-4545-b551-10754d8edebc",
   "metadata": {},
   "outputs": [],
   "source": [
    "del items[2][-1]"
   ]
  },
  {
   "cell_type": "code",
   "execution_count": 10,
   "id": "e4eb8bdd-01f2-414e-abd6-cc3b7de16792",
   "metadata": {},
   "outputs": [
    {
     "data": {
      "text/plain": [
       "['shakes', ['brinjal', 'ladyfinger'], ['chips']]"
      ]
     },
     "execution_count": 10,
     "metadata": {},
     "output_type": "execute_result"
    }
   ],
   "source": [
    "items"
   ]
  },
  {
   "cell_type": "markdown",
   "id": "946c4cab-df45-4cf6-b0c2-bc5452954a46",
   "metadata": {},
   "source": [
    "# copy"
   ]
  },
  {
   "cell_type": "code",
   "execution_count": 38,
   "id": "2fbf2111-e4da-46f9-bfc3-c88cd48e6b5e",
   "metadata": {},
   "outputs": [
    {
     "name": "stdout",
     "output_type": "stream",
     "text": [
      "[12, 3, 5, 65, 10] =l\n",
      "[12, 3, 5, 65, 10] =l1\n",
      "---------------------\n",
      "[12, 3, 5, 65, 100] =l1\n",
      "[12, 3, 5, 65, 10] =l\n",
      "2471205695936\n",
      "2471197713280\n"
     ]
    }
   ],
   "source": [
    "l=[12,3,5,65,10]\n",
    "l1=l.copy() # deep copy: change in copy does not reflect in original\n",
    "print(l,\"=l\")\n",
    "print(l1,\"=l1\")\n",
    "l1[-1]=100\n",
    "print(\"---------------------\")\n",
    "print(l1,\"=l1\")\n",
    "print(l,\"=l\")\n",
    "print(id(l1))\n",
    "print(id(l))"
   ]
  },
  {
   "cell_type": "code",
   "execution_count": 41,
   "id": "cf401f41-5c66-471e-b152-6cea45055d6f",
   "metadata": {},
   "outputs": [
    {
     "name": "stdout",
     "output_type": "stream",
     "text": [
      "[12, 3, 5, 65, 10] =l\n",
      "[12, 3, 5, 65, 10] =l1\n",
      "--------------------------\n",
      "[12, 3, 5, 65, 100] =l1\n",
      "[12, 3, 5, 65, 100] =l\n",
      "2471197713280\n",
      "2471197713280\n"
     ]
    }
   ],
   "source": [
    "l=[12,3,5,65,10]\n",
    "l1=l # shallow copy : change in copy reflect in original\n",
    "print(l,\"=l\")\n",
    "print(l1,\"=l1\")\n",
    "l1[-1]=100\n",
    "print(\"--------------------------\")\n",
    "print(l1,\"=l1\")\n",
    "print(l,\"=l\")\n",
    "print(id(l1))\n",
    "print(id(l))"
   ]
  },
  {
   "cell_type": "markdown",
   "id": "a8f21adf-2558-4ccb-a489-1d7af81c36d3",
   "metadata": {},
   "source": [
    "# count and index "
   ]
  },
  {
   "cell_type": "markdown",
   "id": "b6356ee7-0fd1-4468-9d74-ddb246c5ebe5",
   "metadata": {},
   "source": [
    "# index : it tells the position of the element of the list"
   ]
  },
  {
   "cell_type": "code",
   "execution_count": 13,
   "id": "8eb2c651-56f2-452b-b71e-6fa8b097b15d",
   "metadata": {},
   "outputs": [
    {
     "data": {
      "text/plain": [
       "3"
      ]
     },
     "execution_count": 13,
     "metadata": {},
     "output_type": "execute_result"
    }
   ],
   "source": [
    "l=[12,3,4,5,6,7,12,3,4,10]\n",
    "l.index(5)"
   ]
  },
  {
   "cell_type": "code",
   "execution_count": 14,
   "id": "6e41e367-f13f-4ed5-842e-6effd4b72c63",
   "metadata": {},
   "outputs": [
    {
     "data": {
      "text/plain": [
       "0"
      ]
     },
     "execution_count": 14,
     "metadata": {},
     "output_type": "execute_result"
    }
   ],
   "source": [
    "l=[12,3,4,5,6,7,12,3,4,10]\n",
    "l.index(12)"
   ]
  },
  {
   "cell_type": "code",
   "execution_count": 42,
   "id": "a9a47b71-02bf-4722-80a7-f6e87b1b0636",
   "metadata": {},
   "outputs": [
    {
     "data": {
      "text/plain": [
       "6"
      ]
     },
     "execution_count": 42,
     "metadata": {},
     "output_type": "execute_result"
    }
   ],
   "source": [
    "l=[12,3,4,5,6,7,12,3,4,10]\n",
    "l.index(12,5,10) # here we explicitly provide the range "
   ]
  },
  {
   "cell_type": "markdown",
   "id": "8e7146ba-48ee-44eb-a487-f077f0b5ced6",
   "metadata": {},
   "source": [
    "# count: It tells the frequency of the element you provide"
   ]
  },
  {
   "cell_type": "code",
   "execution_count": 16,
   "id": "de7bc7d2-346d-4ae2-8ac6-2bd9cd01ff8f",
   "metadata": {},
   "outputs": [
    {
     "data": {
      "text/plain": [
       "2"
      ]
     },
     "execution_count": 16,
     "metadata": {},
     "output_type": "execute_result"
    }
   ],
   "source": [
    "l=[12,3,4,5,6,7,12,3,4,10]\n",
    "l.count(12)"
   ]
  },
  {
   "cell_type": "code",
   "execution_count": 17,
   "id": "02862dda-2984-4be2-8e37-c83fad47491f",
   "metadata": {},
   "outputs": [
    {
     "data": {
      "text/plain": [
       "1"
      ]
     },
     "execution_count": 17,
     "metadata": {},
     "output_type": "execute_result"
    }
   ],
   "source": [
    "l=[12,3,4,5,6,7,12,3,4,10]\n",
    "l.count(5)"
   ]
  },
  {
   "cell_type": "code",
   "execution_count": 18,
   "id": "2ee893f7-d559-4d85-ae7b-5b6aaf54922b",
   "metadata": {},
   "outputs": [],
   "source": [
    "from collections import Counter"
   ]
  },
  {
   "cell_type": "code",
   "execution_count": 19,
   "id": "e8e25deb-ee73-4c50-aaef-5895fe0ea94d",
   "metadata": {},
   "outputs": [
    {
     "data": {
      "text/plain": [
       "Counter({12: 2, 3: 2, 4: 2, 5: 1, 6: 1, 7: 1, 10: 1})"
      ]
     },
     "execution_count": 19,
     "metadata": {},
     "output_type": "execute_result"
    }
   ],
   "source": [
    "Counter(l)"
   ]
  },
  {
   "cell_type": "markdown",
   "id": "a0310948-04ad-4d2d-a058-9027b9737f05",
   "metadata": {},
   "source": [
    "# reverse"
   ]
  },
  {
   "cell_type": "code",
   "execution_count": 20,
   "id": "0052b126-fbaa-40fe-93c7-b09b68e3e91b",
   "metadata": {},
   "outputs": [],
   "source": [
    "l=[12,3,4,5,6,7,12,3,4,10]\n",
    "l.reverse()"
   ]
  },
  {
   "cell_type": "code",
   "execution_count": 21,
   "id": "e6788895-d671-4992-8883-7aeaacd72f63",
   "metadata": {},
   "outputs": [
    {
     "data": {
      "text/plain": [
       "[10, 4, 3, 12, 7, 6, 5, 4, 3, 12]"
      ]
     },
     "execution_count": 21,
     "metadata": {},
     "output_type": "execute_result"
    }
   ],
   "source": [
    "l"
   ]
  },
  {
   "cell_type": "markdown",
   "id": "2afa9716-d5d2-4e7f-b637-fdc5471c974d",
   "metadata": {},
   "source": [
    "# or"
   ]
  },
  {
   "cell_type": "code",
   "execution_count": 22,
   "id": "9c1028ac-96c0-45e5-98fa-f8f8e5868986",
   "metadata": {},
   "outputs": [
    {
     "data": {
      "text/plain": [
       "[10, 4, 3, 12, 7, 6, 5, 4, 3, 12]"
      ]
     },
     "execution_count": 22,
     "metadata": {},
     "output_type": "execute_result"
    }
   ],
   "source": [
    "l=[12,3,4,5,6,7,12,3,4,10]\n",
    "l[::-1]"
   ]
  },
  {
   "cell_type": "code",
   "execution_count": 23,
   "id": "fe4d97ae-f726-43ea-abbc-e8945d410fb8",
   "metadata": {},
   "outputs": [
    {
     "data": {
      "text/plain": [
       "[12, 3, 4, 5, 6, 7, 12, 3, 4, 10]"
      ]
     },
     "execution_count": 23,
     "metadata": {},
     "output_type": "execute_result"
    }
   ],
   "source": [
    "l"
   ]
  },
  {
   "cell_type": "markdown",
   "id": "c240d609-9e3b-4421-8f76-48fe4d81546d",
   "metadata": {},
   "source": [
    "# sort"
   ]
  },
  {
   "cell_type": "code",
   "execution_count": 24,
   "id": "117fd171-6ba2-4dd2-a1d9-d05212186dca",
   "metadata": {},
   "outputs": [
    {
     "data": {
      "text/plain": [
       "[-1, 0, 1, 2, 3, 4, 4]"
      ]
     },
     "execution_count": 24,
     "metadata": {},
     "output_type": "execute_result"
    }
   ],
   "source": [
    "l=[1,3,4,4,0,-1,2]\n",
    "l.sort()\n",
    "l"
   ]
  },
  {
   "cell_type": "code",
   "execution_count": 25,
   "id": "124ea774-bead-4ea4-8aa6-833a20bdf74c",
   "metadata": {},
   "outputs": [
    {
     "data": {
      "text/plain": [
       "[-1, 0, 1, 2, 3, 4, 4]"
      ]
     },
     "execution_count": 25,
     "metadata": {},
     "output_type": "execute_result"
    }
   ],
   "source": [
    "l=[1,3,4,4,0,-1,2]\n",
    "sorted(l)"
   ]
  },
  {
   "cell_type": "code",
   "execution_count": 26,
   "id": "05a636fe-7338-4f3b-9e1f-c0e2efd7e9bf",
   "metadata": {},
   "outputs": [
    {
     "data": {
      "text/plain": [
       "[1, 3, 4, 4, 0, -1, 2]"
      ]
     },
     "execution_count": 26,
     "metadata": {},
     "output_type": "execute_result"
    }
   ],
   "source": [
    "l"
   ]
  },
  {
   "cell_type": "markdown",
   "id": "4f0fb630-7094-4e3a-8fa9-73ca638dfb0b",
   "metadata": {},
   "source": [
    "# list comprehension: it is nothing but a short or optimised way for simple logic"
   ]
  },
  {
   "cell_type": "markdown",
   "id": "e800910b-f8dc-47a0-8ff1-649d233b20c3",
   "metadata": {},
   "source": [
    "# create a list having\n",
    "# [1,even,3,even,5,even......]"
   ]
  },
  {
   "cell_type": "code",
   "execution_count": 44,
   "id": "5bbf18a0-38b7-4969-9450-e523fa978d08",
   "metadata": {},
   "outputs": [
    {
     "name": "stdin",
     "output_type": "stream",
     "text": [
      "enter the value of n: 10\n"
     ]
    },
    {
     "data": {
      "text/plain": [
       "[1, 'even', 3, 'even', 5, 'even', 7, 'even', 9, 'even']"
      ]
     },
     "execution_count": 44,
     "metadata": {},
     "output_type": "execute_result"
    }
   ],
   "source": [
    "l=[]\n",
    "n=int(input(\"enter the value of n:\"))\n",
    "for i in range(1,n+1):\n",
    "    if i%2==0:\n",
    "        l.append(\"even\")\n",
    "    else:\n",
    "        l.append(i)\n",
    "l"
   ]
  },
  {
   "cell_type": "markdown",
   "id": "8c57b5a9-d8e0-4eef-b88c-19202f3f836c",
   "metadata": {},
   "source": [
    "# or"
   ]
  },
  {
   "cell_type": "code",
   "execution_count": 4,
   "id": "d34990f4-aa40-48c5-a261-9538d52f1792",
   "metadata": {},
   "outputs": [
    {
     "data": {
      "text/plain": [
       "[1, 'even', 3, 'even', 5, 'even', 7, 'even', 9, 'even']"
      ]
     },
     "execution_count": 4,
     "metadata": {},
     "output_type": "execute_result"
    }
   ],
   "source": [
    "[\"even\" if i%2==0 else i for i in range(1,n+1)]"
   ]
  },
  {
   "cell_type": "markdown",
   "id": "0c1c1555-9738-4b3d-9eae-3fd3e65ec786",
   "metadata": {},
   "source": [
    "# task2 [2:even,4:even,6:even.........]"
   ]
  },
  {
   "cell_type": "code",
   "execution_count": 7,
   "id": "9da7c3f0-cdf4-401e-8d5a-2525805dac5c",
   "metadata": {},
   "outputs": [
    {
     "name": "stdin",
     "output_type": "stream",
     "text": [
      "enter the value of n: 7\n"
     ]
    },
    {
     "data": {
      "text/plain": [
       "['2: even', '4: even', '6: even']"
      ]
     },
     "execution_count": 7,
     "metadata": {},
     "output_type": "execute_result"
    }
   ],
   "source": [
    "n=int(input(\"enter the value of n:\"))\n",
    "l=[]\n",
    "for i in range(2,n+1):\n",
    "    if i%2==0:\n",
    "        l.append(str(i)+\": even\")\n",
    "l"
   ]
  },
  {
   "cell_type": "markdown",
   "id": "805bce78-f60a-4e73-930c-70e598fa7057",
   "metadata": {},
   "source": [
    "# or"
   ]
  },
  {
   "cell_type": "code",
   "execution_count": 9,
   "id": "781fad25-7fc7-4edd-a298-e99adac72015",
   "metadata": {},
   "outputs": [
    {
     "data": {
      "text/plain": [
       "['2: even', '4: even', '6: even']"
      ]
     },
     "execution_count": 9,
     "metadata": {},
     "output_type": "execute_result"
    }
   ],
   "source": [
    "[str(i)+\": even\" for i in range(2,n+1) if i%2==0]"
   ]
  },
  {
   "cell_type": "markdown",
   "id": "13597b22-e47f-4123-b6f9-9fb3581a5bc9",
   "metadata": {},
   "source": [
    "# task 3 [1,2,3,4,5...........]"
   ]
  },
  {
   "cell_type": "code",
   "execution_count": 11,
   "id": "d3c1c696-e8ac-4e84-877d-9e8a9f3dbcde",
   "metadata": {},
   "outputs": [
    {
     "data": {
      "text/plain": [
       "[1, 2, 3, 4, 5, 6, 7]"
      ]
     },
     "execution_count": 11,
     "metadata": {},
     "output_type": "execute_result"
    }
   ],
   "source": [
    "[i for i in range(1,n+1)]"
   ]
  },
  {
   "cell_type": "markdown",
   "id": "d56a99ab-1449-4d66-b40c-a38af5a4084b",
   "metadata": {},
   "source": [
    "# NOTE: for list comprehension\n",
    "# if for has if and else then it should be written before for and body of else after else \n",
    "# if for has only if then if is written after the for\n",
    "# if for has neither if nor else then it is written before for"
   ]
  },
  {
   "cell_type": "markdown",
   "id": "c68e40f7-6796-4d2f-8b4e-28a3e5bf6727",
   "metadata": {},
   "source": [
    "# wap to remove duplicant element from the list"
   ]
  },
  {
   "cell_type": "code",
   "execution_count": 2,
   "id": "42c5b12c-f4a2-48cd-8dd9-acea4642ddb8",
   "metadata": {},
   "outputs": [
    {
     "data": {
      "text/plain": [
       "[1, 2, 3, 4, 5, 43, 6, 8]"
      ]
     },
     "execution_count": 2,
     "metadata": {},
     "output_type": "execute_result"
    }
   ],
   "source": [
    "l=[1,2,3,4,5,43,2,6,8,6]\n",
    "uni=[]\n",
    "for num in l:\n",
    "    if num not in uni:\n",
    "        uni.append(num)\n",
    "uni"
   ]
  },
  {
   "cell_type": "code",
   "execution_count": 48,
   "id": "161e47d9-4d5e-48cc-a346-e177a35c161d",
   "metadata": {},
   "outputs": [
    {
     "data": {
      "text/plain": [
       "['a', 'quick', 'brown', 'fox', 'jumps', 'over', 'the', 'lazy', 'dog']"
      ]
     },
     "execution_count": 48,
     "metadata": {},
     "output_type": "execute_result"
    }
   ],
   "source": [
    "l=[\"a\",\"quick\",\"brown\",\"fox\",\"jumps\",\"over\",\"the\",\"lazy\",\"dog\"]\n",
    "l"
   ]
  },
  {
   "cell_type": "markdown",
   "id": "c3c22327-e5b6-46d4-a910-7337e12f8175",
   "metadata": {},
   "source": [
    "# task 1 count total alpha and distinct alpha\n",
    "# task 2 most frequent alpha"
   ]
  },
  {
   "cell_type": "code",
   "execution_count": 49,
   "id": "7a1e3861-9643-41cf-acf9-e8fc8fb53ef1",
   "metadata": {},
   "outputs": [
    {
     "data": {
      "text/plain": [
       "33"
      ]
     },
     "execution_count": 49,
     "metadata": {},
     "output_type": "execute_result"
    }
   ],
   "source": [
    "count=0\n",
    "for word in l:\n",
    "    for j in word:\n",
    "        count=count+1\n",
    "count"
   ]
  },
  {
   "cell_type": "markdown",
   "id": "69fd1e55-398a-4893-81bf-26195a9c0207",
   "metadata": {},
   "source": [
    "# or"
   ]
  },
  {
   "cell_type": "code",
   "execution_count": 50,
   "id": "25f7efe4-59c1-4e6b-8dfa-c052b35cf33f",
   "metadata": {},
   "outputs": [
    {
     "data": {
      "text/plain": [
       "'aquickbrownfoxjumpsoverthelazydog'"
      ]
     },
     "execution_count": 50,
     "metadata": {},
     "output_type": "execute_result"
    }
   ],
   "source": [
    "s=\"\"\n",
    "s1=s.join(l)\n",
    "s1"
   ]
  },
  {
   "cell_type": "code",
   "execution_count": 10,
   "id": "0de145dd-7d5b-4e06-82ac-1dc9c985c4e5",
   "metadata": {},
   "outputs": [
    {
     "data": {
      "text/plain": [
       "['a',\n",
       " 'q',\n",
       " 'u',\n",
       " 'i',\n",
       " 'c',\n",
       " 'k',\n",
       " 'b',\n",
       " 'r',\n",
       " 'o',\n",
       " 'w',\n",
       " 'n',\n",
       " 'f',\n",
       " 'x',\n",
       " 'j',\n",
       " 'm',\n",
       " 'p',\n",
       " 's',\n",
       " 'v',\n",
       " 'e',\n",
       " 't',\n",
       " 'h',\n",
       " 'l',\n",
       " 'z',\n",
       " 'y',\n",
       " 'd',\n",
       " 'g']"
      ]
     },
     "execution_count": 10,
     "metadata": {},
     "output_type": "execute_result"
    }
   ],
   "source": [
    "u=[]\n",
    "for i in s1:\n",
    "    if i not in u:\n",
    "        u.append(i)\n",
    "u"
   ]
  },
  {
   "cell_type": "code",
   "execution_count": 11,
   "id": "3f9b7b33-408b-4568-805e-6f4ee0472faa",
   "metadata": {},
   "outputs": [
    {
     "data": {
      "text/plain": [
       "26"
      ]
     },
     "execution_count": 11,
     "metadata": {},
     "output_type": "execute_result"
    }
   ],
   "source": [
    "len(u)"
   ]
  },
  {
   "cell_type": "code",
   "execution_count": 12,
   "id": "8534adab-6eda-4f82-982f-97e96983e408",
   "metadata": {},
   "outputs": [
    {
     "data": {
      "text/plain": [
       "'aquickbrownfoxjumpsoverthelazydog'"
      ]
     },
     "execution_count": 12,
     "metadata": {},
     "output_type": "execute_result"
    }
   ],
   "source": [
    "s1"
   ]
  },
  {
   "cell_type": "code",
   "execution_count": 14,
   "id": "13354bba-7ff9-4f9e-8e4a-5af2955d0460",
   "metadata": {},
   "outputs": [],
   "source": [
    "from collections import Counter"
   ]
  },
  {
   "cell_type": "code",
   "execution_count": 16,
   "id": "62edc710-835f-40e2-ae59-1dde0d4134ff",
   "metadata": {},
   "outputs": [
    {
     "data": {
      "text/plain": [
       "Counter({'o': 4,\n",
       "         'a': 2,\n",
       "         'u': 2,\n",
       "         'r': 2,\n",
       "         'e': 2,\n",
       "         'q': 1,\n",
       "         'i': 1,\n",
       "         'c': 1,\n",
       "         'k': 1,\n",
       "         'b': 1,\n",
       "         'w': 1,\n",
       "         'n': 1,\n",
       "         'f': 1,\n",
       "         'x': 1,\n",
       "         'j': 1,\n",
       "         'm': 1,\n",
       "         'p': 1,\n",
       "         's': 1,\n",
       "         'v': 1,\n",
       "         't': 1,\n",
       "         'h': 1,\n",
       "         'l': 1,\n",
       "         'z': 1,\n",
       "         'y': 1,\n",
       "         'd': 1,\n",
       "         'g': 1})"
      ]
     },
     "execution_count": 16,
     "metadata": {},
     "output_type": "execute_result"
    }
   ],
   "source": [
    "Counter(s1)"
   ]
  },
  {
   "cell_type": "markdown",
   "id": "c82eec56-e1c1-4ed5-aaa4-7722ab6c6ebf",
   "metadata": {},
   "source": [
    "# wap to take name and display as alpha count eg a 1,b 2,c 3 \n",
    "# \"balmeet\"\n",
    "# \"2112135520\""
   ]
  },
  {
   "cell_type": "code",
   "execution_count": 19,
   "id": "831547d5-8ea4-464d-b6b8-b1b4fca55dc2",
   "metadata": {},
   "outputs": [
    {
     "data": {
      "text/plain": [
       "['a',\n",
       " 'b',\n",
       " 'c',\n",
       " 'd',\n",
       " 'e',\n",
       " 'f',\n",
       " 'g',\n",
       " 'h',\n",
       " 'i',\n",
       " 'j',\n",
       " 'k',\n",
       " 'l',\n",
       " 'm',\n",
       " 'n',\n",
       " 'o',\n",
       " 'p',\n",
       " 'q',\n",
       " 'r',\n",
       " 's',\n",
       " 't',\n",
       " 'u',\n",
       " 'v',\n",
       " 'w',\n",
       " 'x',\n",
       " 'y',\n",
       " 'z']"
      ]
     },
     "execution_count": 19,
     "metadata": {},
     "output_type": "execute_result"
    }
   ],
   "source": [
    "l=[]\n",
    "for i in range(97,123):\n",
    "    l.append(chr(i))\n",
    "l"
   ]
  },
  {
   "cell_type": "code",
   "execution_count": 20,
   "id": "c907af51-d8fe-4b87-9ac2-14d71b5af249",
   "metadata": {},
   "outputs": [
    {
     "name": "stdin",
     "output_type": "stream",
     "text": [
      "enter the name:  BalMeEt\n"
     ]
    },
    {
     "data": {
      "text/plain": [
       "'2112135520'"
      ]
     },
     "execution_count": 20,
     "metadata": {},
     "output_type": "execute_result"
    }
   ],
   "source": [
    "name=input(\"enter the name: \")\n",
    "ss=\"\"\n",
    "for ch in name:\n",
    "    ch1=ch.lower()\n",
    "    if ch1 in l:\n",
    "        pos=l.index(ch1)\n",
    "        ss=ss+str(pos+1)\n",
    "ss"
   ]
  },
  {
   "cell_type": "code",
   "execution_count": 21,
   "id": "2efe75e7-0f70-44ef-89bf-088032d6c6b1",
   "metadata": {},
   "outputs": [
    {
     "name": "stdin",
     "output_type": "stream",
     "text": [
      "enter the name:  balmeet\n"
     ]
    },
    {
     "data": {
      "text/plain": [
       "[2, 1, 12, 13, 5, 5, 20]"
      ]
     },
     "execution_count": 21,
     "metadata": {},
     "output_type": "execute_result"
    }
   ],
   "source": [
    "name=input(\"enter the name: \")\n",
    "ss=[]\n",
    "for ch in name:\n",
    "    ch1=ch.lower()\n",
    "    if ch1 in l:\n",
    "        pos=l.index(ch1)\n",
    "        ss.append(pos+1)\n",
    "ss"
   ]
  },
  {
   "cell_type": "markdown",
   "id": "c23a256a-478a-4796-850b-ce10bb314b0d",
   "metadata": {},
   "source": [
    "# Expected Output :  [1,2,3,4,5,6,7,8,9]\n",
    "\n",
    "# sample Input \n",
    "# l=[[1,2,3],[[[4,5,6]]],[[[[[[7,8,9]]]]]]]\n"
   ]
  },
  {
   "cell_type": "code",
   "execution_count": 27,
   "id": "59553db0-2bcf-40e2-8de9-b35c90e1e803",
   "metadata": {},
   "outputs": [
    {
     "data": {
      "text/plain": [
       "'[[1, 2, 3], [[[4, 5, 6]]], [[[[[[7, 8, 9]]]]]]]'"
      ]
     },
     "execution_count": 27,
     "metadata": {},
     "output_type": "execute_result"
    }
   ],
   "source": [
    "l=[[1,2,3],[[[4,5,6]]],[[[[[[7,8,9]]]]]]]\n",
    "s=str(l)\n",
    "s"
   ]
  },
  {
   "cell_type": "code",
   "execution_count": 28,
   "id": "a0e06e90-2397-43f6-8748-4ca895c36cf5",
   "metadata": {},
   "outputs": [
    {
     "data": {
      "text/plain": [
       "'123456789'"
      ]
     },
     "execution_count": 28,
     "metadata": {},
     "output_type": "execute_result"
    }
   ],
   "source": [
    "s1=s.replace(\"[\",\"\").replace(\"]\",\"\").replace(\", \",\"\")\n",
    "s1"
   ]
  },
  {
   "cell_type": "code",
   "execution_count": 29,
   "id": "ed74e54b-5e7c-4523-a977-5f426aa7ff7e",
   "metadata": {},
   "outputs": [
    {
     "data": {
      "text/plain": [
       "[1, 2, 3, 4, 5, 6, 7, 8, 9]"
      ]
     },
     "execution_count": 29,
     "metadata": {},
     "output_type": "execute_result"
    }
   ],
   "source": [
    "l=[]\n",
    "for i in s1:\n",
    "    l.append(int(i))\n",
    "l"
   ]
  },
  {
   "cell_type": "markdown",
   "id": "1841459b-c924-42e4-a9ba-d7e3df661be5",
   "metadata": {},
   "source": [
    "# task : words : reverse"
   ]
  },
  {
   "cell_type": "code",
   "execution_count": 30,
   "id": "0bf54e8b-b852-41ba-9fd8-5ca01df0e817",
   "metadata": {},
   "outputs": [
    {
     "data": {
      "text/plain": [
       "['elppa', 'ognam', 'ihctil', 'odacava']"
      ]
     },
     "execution_count": 30,
     "metadata": {},
     "output_type": "execute_result"
    }
   ],
   "source": [
    "ll=[]\n",
    "l=[\"apple\",\"mango\",\"litchi\",\"avacado\"]\n",
    "for word in l:\n",
    "    ll.append(word[::-1])\n",
    "ll"
   ]
  },
  {
   "cell_type": "markdown",
   "id": "acd5db6e-8df9-43de-b49f-23b16683a42b",
   "metadata": {},
   "source": [
    "# task : display happy if the list is atleast two words which are palindrome otherwise sad"
   ]
  },
  {
   "cell_type": "code",
   "execution_count": 1,
   "id": "70a7daed-16c9-4873-a6d2-acb5be1a0ee9",
   "metadata": {},
   "outputs": [
    {
     "name": "stdout",
     "output_type": "stream",
     "text": [
      "happy\n"
     ]
    }
   ],
   "source": [
    "ll=[]\n",
    "count=0\n",
    "l=[\"apple\",\"mango\",\"litchi\",\"avacado\",\"aba\",\"nitin\"]\n",
    "for word in l:\n",
    "    if word==word[::-1]:\n",
    "        count=count+1\n",
    "if count>=2:\n",
    "    print(\"happy\")\n",
    "else:\n",
    "    print(\"sad\")"
   ]
  },
  {
   "cell_type": "markdown",
   "id": "0f863a80-1cc4-4523-ae3e-515b4bd610e0",
   "metadata": {},
   "source": [
    "# s=\"bal_meet897kaur@123\"\n",
    "# output=[897123,_@,\"balmeetkaur\"]\n",
    "# output=[\"897123:6\",_@:2,\"balmeetkaur:\"]"
   ]
  },
  {
   "cell_type": "code",
   "execution_count": 34,
   "id": "c69b24c4-303b-4bb5-9af5-70ddf328f742",
   "metadata": {},
   "outputs": [
    {
     "data": {
      "text/plain": [
       "'897123'"
      ]
     },
     "execution_count": 34,
     "metadata": {},
     "output_type": "execute_result"
    }
   ],
   "source": [
    "s=\"bal_meet897kaur@123\"\n",
    "ss=\"\"\n",
    "for i in s:\n",
    "    if i.isdigit():\n",
    "        ss=ss+i\n",
    "ss"
   ]
  },
  {
   "cell_type": "code",
   "execution_count": 35,
   "id": "da04d016-7f83-47a6-af7d-65ee18a8d873",
   "metadata": {},
   "outputs": [
    {
     "data": {
      "text/plain": [
       "'bal_meet897kaur'"
      ]
     },
     "execution_count": 35,
     "metadata": {},
     "output_type": "execute_result"
    }
   ],
   "source": [
    "s=\"bal_meet897kaur@123\"\n",
    "ss=s.split(\"@\")[0]\n",
    "ss"
   ]
  }
 ],
 "metadata": {
  "kernelspec": {
   "display_name": "Python 3 (ipykernel)",
   "language": "python",
   "name": "python3"
  },
  "language_info": {
   "codemirror_mode": {
    "name": "ipython",
    "version": 3
   },
   "file_extension": ".py",
   "mimetype": "text/x-python",
   "name": "python",
   "nbconvert_exporter": "python",
   "pygments_lexer": "ipython3",
   "version": "3.11.7"
  }
 },
 "nbformat": 4,
 "nbformat_minor": 5
}
