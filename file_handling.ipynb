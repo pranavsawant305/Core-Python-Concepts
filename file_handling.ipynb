{
 "cells": [
  {
   "cell_type": "markdown",
   "id": "bffdd6e9-808b-4cda-93a2-26c7e4fd224c",
   "metadata": {},
   "source": [
    "# file:\n",
    "- reading\n",
    "- writting"
   ]
  },
  {
   "cell_type": "markdown",
   "id": "fd3ba76d-3407-495a-ac13-6cb5d2edfd74",
   "metadata": {},
   "source": [
    "# reading"
   ]
  },
  {
   "cell_type": "code",
   "execution_count": 2,
   "id": "83ce0b66-4b3c-4f1e-bc4a-5a77e9da17b5",
   "metadata": {},
   "outputs": [],
   "source": [
    "f=open(\"C:\\\\PRANAV\\\\data1.txt\") # double backward \\ or single forward / , by default mode is read that is r"
   ]
  },
  {
   "cell_type": "markdown",
   "id": "720f82d0-a934-4d50-af0c-37d9122a30d8",
   "metadata": {},
   "source": [
    "# read()\n",
    "# readline()\n",
    "# readlines()"
   ]
  },
  {
   "cell_type": "markdown",
   "id": "4c1ef550-48ce-44b5-9a02-19444c629ecb",
   "metadata": {},
   "source": [
    "# tell(): it tells the current position of pointer"
   ]
  },
  {
   "cell_type": "code",
   "execution_count": 3,
   "id": "86f5f3e9-bad5-46e4-9028-7242846dee41",
   "metadata": {},
   "outputs": [
    {
     "data": {
      "text/plain": [
       "0"
      ]
     },
     "execution_count": 3,
     "metadata": {},
     "output_type": "execute_result"
    }
   ],
   "source": [
    "f.tell()"
   ]
  },
  {
   "cell_type": "code",
   "execution_count": 4,
   "id": "fd0a76dd-2a56-4070-b5c8-5bbf77026144",
   "metadata": {},
   "outputs": [
    {
     "data": {
      "text/plain": [
       "'dsfadbfd\\nfrfadfsvklnfadb\\ndsflkdsnfvibfrv\\nf adskjvbaerkjvvklsnmfvkdfsjnv\\ndfvdfb\\n'"
      ]
     },
     "execution_count": 4,
     "metadata": {},
     "output_type": "execute_result"
    }
   ],
   "source": [
    "f.read()"
   ]
  },
  {
   "cell_type": "code",
   "execution_count": 6,
   "id": "0cf879bf-4632-4137-b0ec-21e6a1c8915a",
   "metadata": {},
   "outputs": [
    {
     "data": {
      "text/plain": [
       "''"
      ]
     },
     "execution_count": 6,
     "metadata": {},
     "output_type": "execute_result"
    }
   ],
   "source": [
    "f.read() # pointer is at end that is why it return empty"
   ]
  },
  {
   "cell_type": "markdown",
   "id": "bd922d37-850f-4363-9f97-8708d31199bd",
   "metadata": {},
   "source": [
    "# seek(): it is uesd to reposition the current pointer "
   ]
  },
  {
   "cell_type": "code",
   "execution_count": 19,
   "id": "df2210f9-fa50-46ae-9d85-e935a41b5efd",
   "metadata": {},
   "outputs": [
    {
     "data": {
      "text/plain": [
       "0"
      ]
     },
     "execution_count": 19,
     "metadata": {},
     "output_type": "execute_result"
    }
   ],
   "source": [
    "f.seek(0)"
   ]
  },
  {
   "cell_type": "code",
   "execution_count": 20,
   "id": "f45d8584-b461-4c55-b83e-8e6e16a99290",
   "metadata": {},
   "outputs": [
    {
     "data": {
      "text/plain": [
       "0"
      ]
     },
     "execution_count": 20,
     "metadata": {},
     "output_type": "execute_result"
    }
   ],
   "source": [
    "f.tell()"
   ]
  },
  {
   "cell_type": "code",
   "execution_count": 21,
   "id": "ccf3fe1a-2b97-49a8-8ad2-7504b396cdc9",
   "metadata": {},
   "outputs": [
    {
     "data": {
      "text/plain": [
       "'dsfadbfd\\nfrfadfsvklnfadb\\ndsflkdsnfvibfrv\\nf adskjvbaerkjvvklsnmfvkdfsjnv\\ndfvdfb\\n'"
      ]
     },
     "execution_count": 21,
     "metadata": {},
     "output_type": "execute_result"
    }
   ],
   "source": [
    "f.read()"
   ]
  },
  {
   "cell_type": "code",
   "execution_count": 22,
   "id": "21969005-85aa-45b3-866e-9a8ca77ffd14",
   "metadata": {},
   "outputs": [
    {
     "data": {
      "text/plain": [
       "5"
      ]
     },
     "execution_count": 22,
     "metadata": {},
     "output_type": "execute_result"
    }
   ],
   "source": [
    "f.seek(5) # current location of pointer is at 5"
   ]
  },
  {
   "cell_type": "code",
   "execution_count": 23,
   "id": "3ffaa24e-fed1-44be-badf-1845f4de8a42",
   "metadata": {},
   "outputs": [
    {
     "data": {
      "text/plain": [
       "5"
      ]
     },
     "execution_count": 23,
     "metadata": {},
     "output_type": "execute_result"
    }
   ],
   "source": [
    "f.tell()"
   ]
  },
  {
   "cell_type": "code",
   "execution_count": 24,
   "id": "96ecf7d0-61fb-470c-afab-7da747ca0c77",
   "metadata": {},
   "outputs": [
    {
     "data": {
      "text/plain": [
       "'bfd\\nfrfadfsvklnfadb\\ndsflkdsnfvibfrv\\nf adskjvbaerkjvvklsnmfvkdfsjnv\\ndfvdfb\\n'"
      ]
     },
     "execution_count": 24,
     "metadata": {},
     "output_type": "execute_result"
    }
   ],
   "source": [
    "f.read()"
   ]
  },
  {
   "cell_type": "markdown",
   "id": "91dacb59-bb2d-4fbb-ba7a-5c8288966388",
   "metadata": {},
   "source": [
    "# read(n): "
   ]
  },
  {
   "cell_type": "code",
   "execution_count": 35,
   "id": "bd1d01da-bba0-4221-acc1-cc4166d7f91a",
   "metadata": {},
   "outputs": [
    {
     "data": {
      "text/plain": [
       "0"
      ]
     },
     "execution_count": 35,
     "metadata": {},
     "output_type": "execute_result"
    }
   ],
   "source": [
    "f.seek(0)"
   ]
  },
  {
   "cell_type": "code",
   "execution_count": 36,
   "id": "0ea6c1ec-d0d8-419c-aace-10d2558047c9",
   "metadata": {},
   "outputs": [
    {
     "data": {
      "text/plain": [
       "'dsfad'"
      ]
     },
     "execution_count": 36,
     "metadata": {},
     "output_type": "execute_result"
    }
   ],
   "source": [
    "f.read(5)"
   ]
  },
  {
   "cell_type": "code",
   "execution_count": 37,
   "id": "4a5ef33b-f3b2-4db4-a49f-8a566b0656d9",
   "metadata": {},
   "outputs": [
    {
     "data": {
      "text/plain": [
       "5"
      ]
     },
     "execution_count": 37,
     "metadata": {},
     "output_type": "execute_result"
    }
   ],
   "source": [
    "f.tell()\n"
   ]
  },
  {
   "cell_type": "code",
   "execution_count": 38,
   "id": "664f4e77-3efd-45b6-a0b1-c359c49e653e",
   "metadata": {},
   "outputs": [
    {
     "data": {
      "text/plain": [
       "'bfd\\nf'"
      ]
     },
     "execution_count": 38,
     "metadata": {},
     "output_type": "execute_result"
    }
   ],
   "source": [
    "f.read(5)"
   ]
  },
  {
   "cell_type": "code",
   "execution_count": 39,
   "id": "66b13d8e-a8d2-4920-9e21-63e136708670",
   "metadata": {},
   "outputs": [
    {
     "data": {
      "text/plain": [
       "11"
      ]
     },
     "execution_count": 39,
     "metadata": {},
     "output_type": "execute_result"
    }
   ],
   "source": [
    "f.tell()"
   ]
  },
  {
   "cell_type": "code",
   "execution_count": 40,
   "id": "8e803d81-3d0c-4d75-b495-a6c8c5e4d4f7",
   "metadata": {},
   "outputs": [
    {
     "data": {
      "text/plain": [
       "'rfadfsvklnfadb\\ndsflkdsnfvibfrv\\nf adskjvbaerkjvvklsnmfvkdfsjnv\\ndfvdfb\\n'"
      ]
     },
     "execution_count": 40,
     "metadata": {},
     "output_type": "execute_result"
    }
   ],
   "source": [
    "f.read()"
   ]
  },
  {
   "cell_type": "markdown",
   "id": "944965d9-e61c-45f4-9cd0-789d972a9e67",
   "metadata": {},
   "source": [
    "# readline(): reads one line per time"
   ]
  },
  {
   "cell_type": "code",
   "execution_count": 41,
   "id": "c35f538b-48cf-41fb-b959-15f07736f034",
   "metadata": {},
   "outputs": [
    {
     "data": {
      "text/plain": [
       "0"
      ]
     },
     "execution_count": 41,
     "metadata": {},
     "output_type": "execute_result"
    }
   ],
   "source": [
    "f.seek(0)"
   ]
  },
  {
   "cell_type": "code",
   "execution_count": 42,
   "id": "603ebb52-9b87-4dbd-93c3-3f5a76138496",
   "metadata": {},
   "outputs": [
    {
     "data": {
      "text/plain": [
       "'dsfadbfd\\n'"
      ]
     },
     "execution_count": 42,
     "metadata": {},
     "output_type": "execute_result"
    }
   ],
   "source": [
    "f.readline()"
   ]
  },
  {
   "cell_type": "markdown",
   "id": "fb98f07c-7ac6-4c69-aeb0-a1797842cb13",
   "metadata": {},
   "source": [
    "# readlines(): reads all line at a time and present it in list"
   ]
  },
  {
   "cell_type": "code",
   "execution_count": 38,
   "id": "bb5f87a1-eddc-4425-8bb6-a49e76cb619f",
   "metadata": {},
   "outputs": [
    {
     "data": {
      "text/plain": [
       "0"
      ]
     },
     "execution_count": 38,
     "metadata": {},
     "output_type": "execute_result"
    }
   ],
   "source": [
    "f.seek(0)"
   ]
  },
  {
   "cell_type": "code",
   "execution_count": 39,
   "id": "b96cde37-af1c-4165-afd4-e381213b81f0",
   "metadata": {},
   "outputs": [
    {
     "data": {
      "text/plain": [
       "['dsfadbfd\\n',\n",
       " 'frfadfsvklnfadb\\n',\n",
       " 'dsflkdsnfvibfrv\\n',\n",
       " 'f adskjvbaerkjvvklsnmfvkdfsjnv\\n',\n",
       " 'dfvdfb\\n']"
      ]
     },
     "execution_count": 39,
     "metadata": {},
     "output_type": "execute_result"
    }
   ],
   "source": [
    "f.readlines()"
   ]
  },
  {
   "cell_type": "markdown",
   "id": "55a5551d-d1d6-4c01-b36c-c0e2db5b8ea0",
   "metadata": {},
   "source": [
    "# task total words and alphabats and vowels HW"
   ]
  },
  {
   "cell_type": "markdown",
   "id": "4febffad-9b88-4395-8d9a-1a201e5cae25",
   "metadata": {},
   "source": [
    "# x mode: it is responsible to create new file and allows us to perform write operation \n",
    "# it raises the error if file already exists"
   ]
  },
  {
   "cell_type": "code",
   "execution_count": 43,
   "id": "cb27b656-a1cc-4d8e-8679-9109eb2862d2",
   "metadata": {},
   "outputs": [
    {
     "data": {
      "text/plain": [
       "<_io.TextIOWrapper name='data4.txt' mode='x' encoding='cp1252'>"
      ]
     },
     "execution_count": 43,
     "metadata": {},
     "output_type": "execute_result"
    }
   ],
   "source": [
    "f=open(\"data4.txt\",\"x\")\n",
    "f"
   ]
  },
  {
   "cell_type": "code",
   "execution_count": 44,
   "id": "52c565a2-a111-4b1c-8868-dde832174e20",
   "metadata": {},
   "outputs": [
    {
     "data": {
      "text/plain": [
       "False"
      ]
     },
     "execution_count": 44,
     "metadata": {},
     "output_type": "execute_result"
    }
   ],
   "source": [
    "f.readable()"
   ]
  },
  {
   "cell_type": "code",
   "execution_count": 45,
   "id": "f1e90524-738f-44c8-ac2c-b84b57d3dba4",
   "metadata": {},
   "outputs": [
    {
     "data": {
      "text/plain": [
       "True"
      ]
     },
     "execution_count": 45,
     "metadata": {},
     "output_type": "execute_result"
    }
   ],
   "source": [
    "f.writable()"
   ]
  },
  {
   "cell_type": "markdown",
   "id": "c7affcc4-ba69-45bb-8de4-b3f7be263e40",
   "metadata": {},
   "source": [
    "# write\n",
    "# writeline\n",
    "# writelines"
   ]
  },
  {
   "cell_type": "code",
   "execution_count": 46,
   "id": "5f05b33a-2da2-4d0d-bd99-10d0ca0baec0",
   "metadata": {},
   "outputs": [
    {
     "name": "stdin",
     "output_type": "stream",
     "text": [
      "enter the courses u want to add: 4\n",
      "enter the course: ds\n",
      "enter the course: da\n",
      "enter the course: python\n",
      "enter the course: ui ux\n"
     ]
    }
   ],
   "source": [
    "n=int(input(\"enter the courses u want to add:\"))\n",
    "for i in range(n):\n",
    "    c=input(\"enter the course:\")\n",
    "    f.write(f\"{c}\\n\")\n",
    "f.close()\n"
   ]
  },
  {
   "cell_type": "markdown",
   "id": "b8fb5d28-7a8d-445d-ac5e-29ec3a653bca",
   "metadata": {},
   "source": [
    "# w: it allows us to write the data also it allows us to create the new file if the file already exist or not"
   ]
  },
  {
   "cell_type": "code",
   "execution_count": 59,
   "id": "a6dcc8c2-d71a-4091-938d-c08a846bf91e",
   "metadata": {},
   "outputs": [],
   "source": [
    "f=open(\"data4.txt\",\"w\")"
   ]
  },
  {
   "cell_type": "code",
   "execution_count": 48,
   "id": "31bd6197-cff0-4a37-b949-39ed93839136",
   "metadata": {},
   "outputs": [
    {
     "data": {
      "text/plain": [
       "False"
      ]
     },
     "execution_count": 48,
     "metadata": {},
     "output_type": "execute_result"
    }
   ],
   "source": [
    "f.readable()"
   ]
  },
  {
   "cell_type": "code",
   "execution_count": 50,
   "id": "10ee4d5c-80eb-48d9-a323-c8183304d9db",
   "metadata": {},
   "outputs": [
    {
     "data": {
      "text/plain": [
       "True"
      ]
     },
     "execution_count": 50,
     "metadata": {},
     "output_type": "execute_result"
    }
   ],
   "source": [
    "f.writable()"
   ]
  },
  {
   "cell_type": "code",
   "execution_count": 60,
   "id": "18a3eb78-3fe2-4e9e-9709-047afee917eb",
   "metadata": {},
   "outputs": [],
   "source": [
    "f.write(\"full stack\\n\")\n",
    "f.close()"
   ]
  },
  {
   "cell_type": "markdown",
   "id": "e30ca125-a19a-4526-a54f-5b0c965ad849",
   "metadata": {},
   "source": [
    "# a: append"
   ]
  },
  {
   "cell_type": "code",
   "execution_count": 45,
   "id": "d2ca0f37-6279-4520-a873-629d2aadc479",
   "metadata": {},
   "outputs": [],
   "source": [
    "f=open(\"data4.txt\",\"a\") # pointer is at end "
   ]
  },
  {
   "cell_type": "code",
   "execution_count": 46,
   "id": "8197e72f-aba3-473f-b804-f29a155b624c",
   "metadata": {},
   "outputs": [
    {
     "data": {
      "text/plain": [
       "18"
      ]
     },
     "execution_count": 46,
     "metadata": {},
     "output_type": "execute_result"
    }
   ],
   "source": [
    "f.tell()"
   ]
  },
  {
   "cell_type": "code",
   "execution_count": 64,
   "id": "a6432ef3-0f8e-4ad9-af18-6878c4f02f54",
   "metadata": {},
   "outputs": [],
   "source": [
    "f.write(\"python\")\n",
    "f.close()"
   ]
  },
  {
   "cell_type": "markdown",
   "id": "ce706321-5862-460a-b0d9-fe1d9390b4d6",
   "metadata": {},
   "source": [
    "# r+ w+ a+: means reading and writting "
   ]
  },
  {
   "cell_type": "code",
   "execution_count": 66,
   "id": "22c1c259-69da-40e1-89ac-6fd5b40f3c2c",
   "metadata": {},
   "outputs": [],
   "source": [
    "f=open(\"food.txt\",\"x\")"
   ]
  },
  {
   "cell_type": "markdown",
   "id": "9776df9a-57f8-46e5-838a-2f3857cc9a7c",
   "metadata": {},
   "source": [
    "# task 1"
   ]
  },
  {
   "cell_type": "code",
   "execution_count": 67,
   "id": "6e89d6af-c4b2-481e-b311-5b0526e070ce",
   "metadata": {},
   "outputs": [
    {
     "name": "stdin",
     "output_type": "stream",
     "text": [
      "enter the  number of items u want to add: 4\n",
      "enter the item: chips\n",
      "enter the item: pizza\n",
      "enter the item: nachos\n",
      "enter the item: burger\n"
     ]
    }
   ],
   "source": [
    "n=int(input(\"enter the  number of items u want to add:\"))\n",
    "for i in range(n):\n",
    "    c=input(\"enter the item:\")\n",
    "    f.write(f\"{c}\\n\")\n",
    "f.close()"
   ]
  },
  {
   "cell_type": "markdown",
   "id": "d449dfb2-9d30-43be-826a-f32b1d9175c4",
   "metadata": {},
   "source": [
    "# task 2: take new "
   ]
  },
  {
   "cell_type": "code",
   "execution_count": 68,
   "id": "dc3e5185-bb0b-4e40-a6f2-b74affa2d714",
   "metadata": {},
   "outputs": [],
   "source": [
    "f=open(\"food.txt\",\"r+\")"
   ]
  },
  {
   "cell_type": "code",
   "execution_count": 69,
   "id": "9a95d428-406e-49dc-b9ed-21047edcd583",
   "metadata": {},
   "outputs": [
    {
     "data": {
      "text/plain": [
       "True"
      ]
     },
     "execution_count": 69,
     "metadata": {},
     "output_type": "execute_result"
    }
   ],
   "source": [
    "f.readable()"
   ]
  },
  {
   "cell_type": "code",
   "execution_count": 70,
   "id": "8e1f26d5-b601-48f5-b8bf-8e8c14e6069f",
   "metadata": {},
   "outputs": [
    {
     "data": {
      "text/plain": [
       "True"
      ]
     },
     "execution_count": 70,
     "metadata": {},
     "output_type": "execute_result"
    }
   ],
   "source": [
    "f.writable()"
   ]
  },
  {
   "cell_type": "code",
   "execution_count": 71,
   "id": "6e2193ad-2558-4bfa-88f9-6b57ba486c4d",
   "metadata": {},
   "outputs": [
    {
     "data": {
      "text/plain": [
       "['chips\\n', 'pizza\\n', 'nachos\\n', 'burger\\n']"
      ]
     },
     "execution_count": 71,
     "metadata": {},
     "output_type": "execute_result"
    }
   ],
   "source": [
    "l=f.readlines()\n",
    "l"
   ]
  },
  {
   "cell_type": "code",
   "execution_count": 74,
   "id": "c0ba0121-b518-4ab0-bb01-cb81f0de2e8e",
   "metadata": {},
   "outputs": [
    {
     "data": {
      "text/plain": [
       "['chips', 'pizza', 'nachos', 'burger']"
      ]
     },
     "execution_count": 74,
     "metadata": {},
     "output_type": "execute_result"
    }
   ],
   "source": [
    "l1=list(map(lambda x :x.replace(\"\\n\",\"\"),l))\n",
    "l1"
   ]
  },
  {
   "cell_type": "code",
   "execution_count": 76,
   "id": "c7a0b5d3-7196-4f44-bb39-c317eaf241eb",
   "metadata": {},
   "outputs": [
    {
     "name": "stdin",
     "output_type": "stream",
     "text": [
      "emter the new item sweetcorn\n"
     ]
    },
    {
     "name": "stdout",
     "output_type": "stream",
     "text": [
      "item added\n"
     ]
    }
   ],
   "source": [
    "item=input(\"emter the new item\")\n",
    "if item not in l1:\n",
    "    f.write(item)\n",
    "    f.write(\"\\n\")\n",
    "    print(\"item added\")\n",
    "    f.close()\n",
    "else:\n",
    "    print(\"no operation\")"
   ]
  },
  {
   "cell_type": "markdown",
   "id": "0b3b092c-5faf-4053-aa6e-772490103118",
   "metadata": {},
   "source": [
    "# wap to display the last n lines in particular file"
   ]
  },
  {
   "cell_type": "code",
   "execution_count": 1,
   "id": "6b626974-7dee-47ed-aa47-efc174ceea6c",
   "metadata": {},
   "outputs": [],
   "source": [
    "f=open(\"food.txt\")"
   ]
  },
  {
   "cell_type": "code",
   "execution_count": 2,
   "id": "91a4cdc7-a450-48a4-9fce-a21c009adfa8",
   "metadata": {},
   "outputs": [
    {
     "data": {
      "text/plain": [
       "['chips\\n', 'pizza\\n', 'nachos\\n', 'burger\\n', 'sweetcorn\\n']"
      ]
     },
     "execution_count": 2,
     "metadata": {},
     "output_type": "execute_result"
    }
   ],
   "source": [
    "l=f.readlines()\n",
    "l"
   ]
  },
  {
   "cell_type": "code",
   "execution_count": 3,
   "id": "550e3a43-6080-4fca-8248-7f57d83ff5a4",
   "metadata": {},
   "outputs": [
    {
     "data": {
      "text/plain": [
       "['chips', 'pizza', 'nachos', 'burger', 'sweetcorn']"
      ]
     },
     "execution_count": 3,
     "metadata": {},
     "output_type": "execute_result"
    }
   ],
   "source": [
    "l1=list(map(lambda x: x.replace(\"\\n\",\"\"),l))\n",
    "l1"
   ]
  },
  {
   "cell_type": "code",
   "execution_count": 8,
   "id": "4230b389-5222-47ed-a610-ccd9a568e059",
   "metadata": {},
   "outputs": [
    {
     "name": "stdin",
     "output_type": "stream",
     "text": [
      "enter the no of lines u wnt to display from end 4\n"
     ]
    },
    {
     "name": "stdout",
     "output_type": "stream",
     "text": [
      "pizza\n",
      "nachos\n",
      "burger\n",
      "sweetcorn\n"
     ]
    }
   ],
   "source": [
    "n=int(input(\"enter the no of lines u wnt to display from end\"))\n",
    "for i in l1[-n:]:\n",
    "    print(i)"
   ]
  },
  {
   "cell_type": "markdown",
   "id": "3ce7c3b9-a7ef-4600-8b13-65a6562aa2c8",
   "metadata": {},
   "source": [
    "# wap to create two files \n",
    "\n",
    "# first:first name\n",
    "# last:last name\n",
    "\n",
    "# new file having first:last"
   ]
  },
  {
   "cell_type": "code",
   "execution_count": 9,
   "id": "62ad64ca-7ac8-4e18-a926-2d357baecd36",
   "metadata": {},
   "outputs": [],
   "source": [
    "f1=open(\"first.txt\",\"x\")\n",
    "f2=open(\"last.txt\",\"x\")"
   ]
  },
  {
   "cell_type": "code",
   "execution_count": 10,
   "id": "61ca07e2-bf9d-45bb-b39d-d1be99511114",
   "metadata": {},
   "outputs": [
    {
     "name": "stdin",
     "output_type": "stream",
     "text": [
      "enter the number of students 3\n",
      "enter the first name of student0 a\n",
      "enter the last name of student0 b\n",
      "enter the first name of student1 c\n",
      "enter the last name of student1 d\n",
      "enter the first name of student2 e\n",
      "enter the last name of student2 f\n"
     ]
    }
   ],
   "source": [
    "n=int(input(\"enter the number of students\"))\n",
    "for i in range(n):\n",
    "    f=input(f\"enter the first name of student{i}\")\n",
    "    l=input(f\"enter the last name of student{i}\")\n",
    "    f1.write(f\"{f}\\n\")\n",
    "    f2.write(f\"{l}\\n\")\n",
    "f1.close()\n",
    "f2.close()\n"
   ]
  },
  {
   "cell_type": "code",
   "execution_count": 23,
   "id": "3dce51cc-0986-4cd2-9286-481e3fe54de3",
   "metadata": {},
   "outputs": [],
   "source": [
    "f1=open(\"first.txt\")\n",
    "f2=open(\"last.txt\")"
   ]
  },
  {
   "cell_type": "code",
   "execution_count": 24,
   "id": "9f2806b4-e7d8-4fb6-80a0-99cbb9cd986c",
   "metadata": {},
   "outputs": [],
   "source": [
    "l1=f1.readlines()\n",
    "l2=f2.readlines()"
   ]
  },
  {
   "cell_type": "code",
   "execution_count": 25,
   "id": "1edf8104-f3cc-492c-b445-47b83f03966e",
   "metadata": {},
   "outputs": [
    {
     "data": {
      "text/plain": [
       "['a\\n', 'c\\n', 'e\\n']"
      ]
     },
     "execution_count": 25,
     "metadata": {},
     "output_type": "execute_result"
    }
   ],
   "source": [
    "l1"
   ]
  },
  {
   "cell_type": "code",
   "execution_count": 26,
   "id": "abc07ab4-2901-4300-bb7e-c0f5c15da656",
   "metadata": {},
   "outputs": [
    {
     "data": {
      "text/plain": [
       "['b\\n', 'd\\n', 'f\\n']"
      ]
     },
     "execution_count": 26,
     "metadata": {},
     "output_type": "execute_result"
    }
   ],
   "source": [
    "l2"
   ]
  },
  {
   "cell_type": "code",
   "execution_count": 28,
   "id": "7b9db060-9cea-4063-89bb-cc0bf7ca76d4",
   "metadata": {},
   "outputs": [],
   "source": [
    "l11=list(map(lambda x: x.replace(\"\\n\",\"\"),l1))\n",
    "\n",
    "l22=list(map(lambda x: x.replace(\"\\n\",\"\"),l2))\n",
    "\n"
   ]
  },
  {
   "cell_type": "code",
   "execution_count": 29,
   "id": "8e1c1306-c843-4185-9c44-d6489bbfca27",
   "metadata": {},
   "outputs": [
    {
     "data": {
      "text/plain": [
       "['a', 'c', 'e']"
      ]
     },
     "execution_count": 29,
     "metadata": {},
     "output_type": "execute_result"
    }
   ],
   "source": [
    "l11\n"
   ]
  },
  {
   "cell_type": "code",
   "execution_count": 30,
   "id": "9e817ab8-e942-4a56-b4a7-e75eee379287",
   "metadata": {},
   "outputs": [
    {
     "data": {
      "text/plain": [
       "['b', 'd', 'f']"
      ]
     },
     "execution_count": 30,
     "metadata": {},
     "output_type": "execute_result"
    }
   ],
   "source": [
    "l22"
   ]
  },
  {
   "cell_type": "code",
   "execution_count": 31,
   "id": "09f623cd-2174-40fa-bef5-2d7258f7df94",
   "metadata": {},
   "outputs": [],
   "source": [
    "ff=open(\"complete.txt\",\"x\")"
   ]
  },
  {
   "cell_type": "code",
   "execution_count": 32,
   "id": "904703f8-bdfb-4c40-81d5-7483844ff1a5",
   "metadata": {},
   "outputs": [],
   "source": [
    "for i in range(len(l11)):\n",
    "    ff.write(l11[i]+\":\"+l22[i])\n",
    "    ff.write(\"\\n\")\n",
    "ff.close()"
   ]
  },
  {
   "cell_type": "markdown",
   "id": "faac2e59-3fef-4b05-a37f-c03d1d316dc6",
   "metadata": {},
   "source": [
    "# traversal"
   ]
  },
  {
   "cell_type": "code",
   "execution_count": 33,
   "id": "84f7681f-c540-472e-9ada-e5e3bc42fd3a",
   "metadata": {},
   "outputs": [],
   "source": [
    "f=open(\"C:\\\\PRANAV\\\\data1.txt\")"
   ]
  },
  {
   "cell_type": "code",
   "execution_count": 34,
   "id": "c8b5d2cb-e559-4a49-95ff-6352a902174d",
   "metadata": {},
   "outputs": [
    {
     "name": "stdout",
     "output_type": "stream",
     "text": [
      "dsfadbfd\n",
      "\n",
      "frfadfsvklnfadb\n",
      "\n",
      "dsflkdsnfvibfrv\n",
      "\n",
      "f adskjvbaerkjvvklsnmfvkdfsjnv\n",
      "\n",
      "dfvdfb\n",
      "\n"
     ]
    }
   ],
   "source": [
    "for i in f:\n",
    "    print(i)"
   ]
  },
  {
   "cell_type": "code",
   "execution_count": null,
   "id": "ea1e069f-7276-421c-803e-ed58cd458dd6",
   "metadata": {},
   "outputs": [],
   "source": []
  }
 ],
 "metadata": {
  "kernelspec": {
   "display_name": "Python 3 (ipykernel)",
   "language": "python",
   "name": "python3"
  },
  "language_info": {
   "codemirror_mode": {
    "name": "ipython",
    "version": 3
   },
   "file_extension": ".py",
   "mimetype": "text/x-python",
   "name": "python",
   "nbconvert_exporter": "python",
   "pygments_lexer": "ipython3",
   "version": "3.11.7"
  }
 },
 "nbformat": 4,
 "nbformat_minor": 5
}
