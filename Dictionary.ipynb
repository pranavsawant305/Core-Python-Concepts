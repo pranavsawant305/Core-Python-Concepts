{
 "cells": [
  {
   "cell_type": "markdown",
   "id": "d4a1bed8",
   "metadata": {},
   "source": [
    "# dictionary: It is multiple collection of elements which are represented in key-value pairs"
   ]
  },
  {
   "cell_type": "markdown",
   "id": "30b5d9cd",
   "metadata": {},
   "source": [
    "# How to create the dictionary"
   ]
  },
  {
   "cell_type": "code",
   "execution_count": 2,
   "id": "9aeaa73d",
   "metadata": {},
   "outputs": [
    {
     "name": "stdout",
     "output_type": "stream",
     "text": [
      "{1: 'one', 0: 'zero', 2: 'two', 3: 'three'}\n",
      "<class 'dict'>\n"
     ]
    }
   ],
   "source": [
    "d={1:\"one\",0:\"zero\",2:\"two\",3:\"three\"}\n",
    "print(d)\n",
    "print(type(d))"
   ]
  },
  {
   "cell_type": "markdown",
   "id": "1951beef",
   "metadata": {},
   "source": [
    "# empty dictionary"
   ]
  },
  {
   "cell_type": "code",
   "execution_count": 3,
   "id": "2852587d",
   "metadata": {},
   "outputs": [
    {
     "name": "stdout",
     "output_type": "stream",
     "text": [
      "{}\n",
      "<class 'dict'>\n"
     ]
    }
   ],
   "source": [
    "d={}\n",
    "print(d)\n",
    "print(type(d))"
   ]
  },
  {
   "cell_type": "markdown",
   "id": "01b9e0c8",
   "metadata": {},
   "source": [
    "# dictionary properties"
   ]
  },
  {
   "cell_type": "markdown",
   "id": "3a4e7e88",
   "metadata": {},
   "source": [
    "- keys are unique\n",
    "- keys should be immutable\n",
    "- values can be mutable and immutable\n",
    "- dictionary is mutable\n",
    "- nesting of dictionary is allowed\n",
    "- idexing of dictionary is not allowed on basis of  position rather than on the basis of key"
   ]
  },
  {
   "cell_type": "markdown",
   "id": "828eb06e",
   "metadata": {},
   "source": [
    "# - keys are unique"
   ]
  },
  {
   "cell_type": "code",
   "execution_count": 4,
   "id": "81498656",
   "metadata": {},
   "outputs": [
    {
     "data": {
      "text/plain": [
       "{1: 'first', 0: 'zero', 2: 'two', 3: 'three'}"
      ]
     },
     "execution_count": 4,
     "metadata": {},
     "output_type": "execute_result"
    }
   ],
   "source": [
    "d={1:\"one\",0:\"zero\",2:\"two\",3:\"three\",1:\"first\"}\n",
    "d"
   ]
  },
  {
   "cell_type": "markdown",
   "id": "0ae5db30",
   "metadata": {},
   "source": [
    "# keys are immuatable "
   ]
  },
  {
   "cell_type": "code",
   "execution_count": 2,
   "id": "b6f5a15d",
   "metadata": {},
   "outputs": [
    {
     "ename": "TypeError",
     "evalue": "unhashable type: 'list'",
     "output_type": "error",
     "traceback": [
      "\u001b[1;31m---------------------------------------------------------------------------\u001b[0m",
      "\u001b[1;31mTypeError\u001b[0m                                 Traceback (most recent call last)",
      "Cell \u001b[1;32mIn[2], line 1\u001b[0m\n\u001b[1;32m----> 1\u001b[0m d\u001b[38;5;241m=\u001b[39m{\u001b[38;5;241m1\u001b[39m:\u001b[38;5;124m\"\u001b[39m\u001b[38;5;124mone\u001b[39m\u001b[38;5;124m\"\u001b[39m,\u001b[38;5;124m\"\u001b[39m\u001b[38;5;124m2\u001b[39m\u001b[38;5;124m\"\u001b[39m:\u001b[38;5;124m\"\u001b[39m\u001b[38;5;124mtwo\u001b[39m\u001b[38;5;124m\"\u001b[39m,\u001b[38;5;124m\"\u001b[39m\u001b[38;5;124mmarks\u001b[39m\u001b[38;5;124m\"\u001b[39m:[\u001b[38;5;241m2\u001b[39m,\u001b[38;5;241m3\u001b[39m,\u001b[38;5;241m3\u001b[39m,\u001b[38;5;241m10\u001b[39m],[\u001b[38;5;241m3\u001b[39m,\u001b[38;5;241m4\u001b[39m,\u001b[38;5;241m4\u001b[39m,\u001b[38;5;241m10\u001b[39m]:\u001b[38;5;124m\"\u001b[39m\u001b[38;5;124mroll no\u001b[39m\u001b[38;5;124m\"\u001b[39m} \u001b[38;5;66;03m# error because list[3,4,4,10] is mutable\u001b[39;00m\n\u001b[0;32m      2\u001b[0m d\n",
      "\u001b[1;31mTypeError\u001b[0m: unhashable type: 'list'"
     ]
    }
   ],
   "source": [
    "d={1:\"one\",\"2\":\"two\",\"marks\":[2,3,3,10],[3,4,4,10]:\"roll no\"} # error because list[3,4,4,10] is mutable\n",
    "d"
   ]
  },
  {
   "cell_type": "code",
   "execution_count": 3,
   "id": "880d8280",
   "metadata": {},
   "outputs": [
    {
     "data": {
      "text/plain": [
       "{1: 'one', '2': 'two', 'marks': [2, 3, 3, 10], (3, 4, 4, 10): 'roll no'}"
      ]
     },
     "execution_count": 3,
     "metadata": {},
     "output_type": "execute_result"
    }
   ],
   "source": [
    "d={1:\"one\",\"2\":\"two\",\"marks\":[2,3,3,10],(3,4,4,10):\"roll no\"} # tuple is immutable\n",
    "d"
   ]
  },
  {
   "cell_type": "markdown",
   "id": "dd82bf96",
   "metadata": {},
   "source": [
    "## values can be mutable and immutable\n"
   ]
  },
  {
   "cell_type": "markdown",
   "id": "8b0514fc",
   "metadata": {},
   "source": [
    "## nesting of dictionary is allowed"
   ]
  },
  {
   "cell_type": "markdown",
   "id": "389b6a0a",
   "metadata": {},
   "source": [
    "## indexing of dictionary is not allowed on basis of  position rather than on the basis of key"
   ]
  },
  {
   "cell_type": "code",
   "execution_count": 7,
   "id": "9e4bb1bc",
   "metadata": {},
   "outputs": [
    {
     "data": {
      "text/plain": [
       "{1: 'one', '2': 'two', 'marks': [2, 3, 3, 10], (3, 4, 4, 10): 'roll no'}"
      ]
     },
     "execution_count": 7,
     "metadata": {},
     "output_type": "execute_result"
    }
   ],
   "source": [
    "d"
   ]
  },
  {
   "cell_type": "markdown",
   "id": "e3b3c2d6",
   "metadata": {},
   "source": [
    "# d[key_name]"
   ]
  },
  {
   "cell_type": "code",
   "execution_count": 8,
   "id": "42860f79",
   "metadata": {},
   "outputs": [
    {
     "data": {
      "text/plain": [
       "{1: 'one', '2': 'two', 'marks': [2, 3, 3, 10], (3, 4, 4, 10): 'roll no'}"
      ]
     },
     "execution_count": 8,
     "metadata": {},
     "output_type": "execute_result"
    }
   ],
   "source": [
    "d"
   ]
  },
  {
   "cell_type": "code",
   "execution_count": 9,
   "id": "43d91ba4",
   "metadata": {},
   "outputs": [
    {
     "data": {
      "text/plain": [
       "'two'"
      ]
     },
     "execution_count": 9,
     "metadata": {},
     "output_type": "execute_result"
    }
   ],
   "source": [
    "d[\"2\"]"
   ]
  },
  {
   "cell_type": "code",
   "execution_count": 10,
   "id": "a27d0218",
   "metadata": {},
   "outputs": [
    {
     "ename": "KeyError",
     "evalue": "2",
     "output_type": "error",
     "traceback": [
      "\u001b[1;31m---------------------------------------------------------------------------\u001b[0m",
      "\u001b[1;31mKeyError\u001b[0m                                  Traceback (most recent call last)",
      "Input \u001b[1;32mIn [10]\u001b[0m, in \u001b[0;36m<cell line: 1>\u001b[1;34m()\u001b[0m\n\u001b[1;32m----> 1\u001b[0m \u001b[43md\u001b[49m\u001b[43m[\u001b[49m\u001b[38;5;241;43m2\u001b[39;49m\u001b[43m]\u001b[49m\n",
      "\u001b[1;31mKeyError\u001b[0m: 2"
     ]
    }
   ],
   "source": [
    "d[2]"
   ]
  },
  {
   "cell_type": "markdown",
   "id": "b2248872",
   "metadata": {},
   "source": [
    "# nested dictionary"
   ]
  },
  {
   "cell_type": "code",
   "execution_count": 12,
   "id": "57459a7f",
   "metadata": {},
   "outputs": [],
   "source": [
    "items={\"vegetable\":{\"routine_veg\":[\"brinjal\",\"tomato\",\"potato\"],\"occasion_veg\":[\"paneer\",\"mushroom\",\"nutrela\"]},\"drinks\":{\"hot\":[\"kawa\",\"tea\",\"coffee\"],\"cold\":[\"lemonade\",\"pepsi\"]},\"snacks\":[\"pizza\",\"sweetcorn\",\"burger\"],\"supper_snacks\":\"chips-biscuits\"}"
   ]
  },
  {
   "cell_type": "code",
   "execution_count": 13,
   "id": "0d5c2e32",
   "metadata": {},
   "outputs": [
    {
     "data": {
      "text/plain": [
       "{'vegetable': {'routine_veg': ['brinjal', 'tomato', 'potato'],\n",
       "  'occasion_veg': ['paneer', 'mushroom', 'nutrela']},\n",
       " 'drinks': {'hot': ['kawa', 'tea', 'coffee'], 'cold': ['lemonade', 'pepsi']},\n",
       " 'snacks': ['pizza', 'sweetcorn', 'burger'],\n",
       " 'supper_snacks': 'chips-biscuits'}"
      ]
     },
     "execution_count": 13,
     "metadata": {},
     "output_type": "execute_result"
    }
   ],
   "source": [
    "items"
   ]
  },
  {
   "cell_type": "markdown",
   "id": "17694711-a863-4609-9d7d-947d94c3d65f",
   "metadata": {},
   "source": [
    "# fetching"
   ]
  },
  {
   "cell_type": "code",
   "execution_count": 14,
   "id": "c4947b8e",
   "metadata": {},
   "outputs": [
    {
     "data": {
      "text/plain": [
       "'chips-biscuits'"
      ]
     },
     "execution_count": 14,
     "metadata": {},
     "output_type": "execute_result"
    }
   ],
   "source": [
    "items[\"supper_snacks\"]"
   ]
  },
  {
   "cell_type": "code",
   "execution_count": 15,
   "id": "e71abc60",
   "metadata": {},
   "outputs": [
    {
     "data": {
      "text/plain": [
       "{'vegetable': {'routine_veg': ['brinjal', 'tomato', 'potato'],\n",
       "  'occasion_veg': ['paneer', 'mushroom', 'nutrela']},\n",
       " 'drinks': {'hot': ['kawa', 'tea', 'coffee'], 'cold': ['lemonade', 'pepsi']},\n",
       " 'snacks': ['pizza', 'sweetcorn', 'burger'],\n",
       " 'supper_snacks': 'chips-biscuits'}"
      ]
     },
     "execution_count": 15,
     "metadata": {},
     "output_type": "execute_result"
    }
   ],
   "source": [
    "items"
   ]
  },
  {
   "cell_type": "code",
   "execution_count": 16,
   "id": "d81d02d3",
   "metadata": {},
   "outputs": [
    {
     "data": {
      "text/plain": [
       "'pepsi'"
      ]
     },
     "execution_count": 16,
     "metadata": {},
     "output_type": "execute_result"
    }
   ],
   "source": [
    "items[\"drinks\"][\"cold\"][-1]"
   ]
  },
  {
   "cell_type": "code",
   "execution_count": 17,
   "id": "c978a963",
   "metadata": {},
   "outputs": [
    {
     "data": {
      "text/plain": [
       "{'vegetable': {'routine_veg': ['brinjal', 'tomato', 'potato'],\n",
       "  'occasion_veg': ['paneer', 'mushroom', 'nutrela']},\n",
       " 'drinks': {'hot': ['kawa', 'tea', 'coffee'], 'cold': ['lemonade', 'pepsi']},\n",
       " 'snacks': ['pizza', 'sweetcorn', 'burger'],\n",
       " 'supper_snacks': 'chips-biscuits'}"
      ]
     },
     "execution_count": 17,
     "metadata": {},
     "output_type": "execute_result"
    }
   ],
   "source": [
    "items"
   ]
  },
  {
   "cell_type": "code",
   "execution_count": 18,
   "id": "71ba52a2",
   "metadata": {},
   "outputs": [
    {
     "data": {
      "text/plain": [
       "'rela'"
      ]
     },
     "execution_count": 18,
     "metadata": {},
     "output_type": "execute_result"
    }
   ],
   "source": [
    "items[\"vegetable\"][\"occasion_veg\"][-1][-4:]"
   ]
  },
  {
   "cell_type": "code",
   "execution_count": 19,
   "id": "8173302f",
   "metadata": {},
   "outputs": [
    {
     "data": {
      "text/plain": [
       "'pza'"
      ]
     },
     "execution_count": 19,
     "metadata": {},
     "output_type": "execute_result"
    }
   ],
   "source": [
    "items[\"snacks\"][::2][0][::2]"
   ]
  },
  {
   "cell_type": "code",
   "execution_count": 20,
   "id": "5d1758b8",
   "metadata": {},
   "outputs": [
    {
     "data": {
      "text/plain": [
       "'bre'"
      ]
     },
     "execution_count": 20,
     "metadata": {},
     "output_type": "execute_result"
    }
   ],
   "source": [
    "items[\"snacks\"][::2][1][::2]"
   ]
  },
  {
   "cell_type": "markdown",
   "id": "e9e28027-baa4-430c-81df-dbc77a70ab08",
   "metadata": {},
   "source": [
    "# since the dictionary is mutable \n",
    "- add\n",
    "- update\n",
    "- delete"
   ]
  },
  {
   "cell_type": "markdown",
   "id": "8afad376-5a8c-4a0e-9e78-d9d953b22256",
   "metadata": {},
   "source": [
    "# addition?\n",
    "\n",
    "d[new_key]=new_value"
   ]
  },
  {
   "cell_type": "code",
   "execution_count": 1,
   "id": "4f0c90bc-09ff-4f3f-a49a-4a5861fe4d9c",
   "metadata": {},
   "outputs": [],
   "source": [
    "d={1:\"one\",\"2\":\"two\",3:\"three\",0:\"zero\",4:\"four\"}"
   ]
  },
  {
   "cell_type": "code",
   "execution_count": 2,
   "id": "1d20c951-da35-48ab-b5ed-c957387b754c",
   "metadata": {},
   "outputs": [],
   "source": [
    "d[10]=\"ten\""
   ]
  },
  {
   "cell_type": "code",
   "execution_count": 3,
   "id": "6d490d50-ecc2-49d5-a1f5-0b88a9eb837b",
   "metadata": {},
   "outputs": [
    {
     "data": {
      "text/plain": [
       "{1: 'one', '2': 'two', 3: 'three', 0: 'zero', 4: 'four', 10: 'ten'}"
      ]
     },
     "execution_count": 3,
     "metadata": {},
     "output_type": "execute_result"
    }
   ],
   "source": [
    "d"
   ]
  },
  {
   "cell_type": "markdown",
   "id": "2691accb-b5d0-4acb-9513-3fd5461734d4",
   "metadata": {},
   "source": [
    "# dict from user "
   ]
  },
  {
   "cell_type": "code",
   "execution_count": 4,
   "id": "587af724",
   "metadata": {},
   "outputs": [
    {
     "name": "stdin",
     "output_type": "stream",
     "text": [
      "enter the number of stduents  3\n",
      "enter the name of student 1 a\n",
      "enter the marks of student 1 34\n",
      "enter the gender of student 1 m\n",
      "enter the course of student 1 ds\n",
      "enter the name of student 2 b\n",
      "enter the marks of student 2 76\n",
      "enter the gender of student 2 f\n",
      "enter the course of student 2 da\n",
      "enter the name of student 3 c\n",
      "enter the marks of student 3 78\n",
      "enter the gender of student 3 m\n",
      "enter the course of student 3 ds\n"
     ]
    },
    {
     "data": {
      "text/plain": [
       "{'stu_names': ['a', 'b', 'c'],\n",
       " 'stu_course': ['ds', 'da', 'ds'],\n",
       " 'stu_sex': ['m', 'f', 'm'],\n",
       " 'stu_marks': [34, 76, 78]}"
      ]
     },
     "execution_count": 4,
     "metadata": {},
     "output_type": "execute_result"
    }
   ],
   "source": [
    "n=int(input(\"enter the number of stduents \"))\n",
    "d={}\n",
    "names=[]\n",
    "marks=[]\n",
    "gender=[]\n",
    "courses=[]\n",
    "for i in range(1,n+1):\n",
    "    name=input(f\"enter the name of student {i}\")\n",
    "    m=int(input(f\"enter the marks of student {i}\"))\n",
    "    g=input(f\"enter the gender of student {i}\")\n",
    "    c=input(f\"enter the course of student {i}\")\n",
    "    names.append(name)\n",
    "    marks.append(m)\n",
    "    gender.append(g)\n",
    "    courses.append(c)\n",
    "d[\"stu_names\"]=names\n",
    "d[\"stu_course\"]=courses\n",
    "d[\"stu_sex\"]=gender\n",
    "d[\"stu_marks\"]=marks\n",
    "d\n"
   ]
  },
  {
   "cell_type": "markdown",
   "id": "b214304e-6c76-44cb-ae90-63f3fcc37fac",
   "metadata": {},
   "source": [
    "# keys\n",
    "# values\n",
    "# items"
   ]
  },
  {
   "cell_type": "code",
   "execution_count": 5,
   "id": "1ccf25ab-d24f-4581-b308-920b0249d0eb",
   "metadata": {},
   "outputs": [],
   "source": [
    "d={1:\"one\",\"2\":\"two\",3:\"three\",0:\"zero\",4:\"four\"}"
   ]
  },
  {
   "cell_type": "code",
   "execution_count": 6,
   "id": "5b3916a1-09db-4730-b096-556327fccfc9",
   "metadata": {},
   "outputs": [
    {
     "data": {
      "text/plain": [
       "dict_keys([1, '2', 3, 0, 4])"
      ]
     },
     "execution_count": 6,
     "metadata": {},
     "output_type": "execute_result"
    }
   ],
   "source": [
    "d.keys()"
   ]
  },
  {
   "cell_type": "code",
   "execution_count": 7,
   "id": "8459a67d-e3a2-4112-8bf1-7d06b7807aa4",
   "metadata": {},
   "outputs": [
    {
     "data": {
      "text/plain": [
       "dict_values(['one', 'two', 'three', 'zero', 'four'])"
      ]
     },
     "execution_count": 7,
     "metadata": {},
     "output_type": "execute_result"
    }
   ],
   "source": [
    "d.values()"
   ]
  },
  {
   "cell_type": "code",
   "execution_count": 8,
   "id": "dd650c97-b484-488e-972c-f97bc255f631",
   "metadata": {},
   "outputs": [
    {
     "data": {
      "text/plain": [
       "dict_items([(1, 'one'), ('2', 'two'), (3, 'three'), (0, 'zero'), (4, 'four')])"
      ]
     },
     "execution_count": 8,
     "metadata": {},
     "output_type": "execute_result"
    }
   ],
   "source": [
    "d.items()"
   ]
  },
  {
   "cell_type": "markdown",
   "id": "b5e8e5a1-80fe-4384-b6a4-0d968456fd7f",
   "metadata": {},
   "source": [
    "# traversal in dictionary\n",
    "- for"
   ]
  },
  {
   "cell_type": "code",
   "execution_count": 9,
   "id": "fb0ed1bb-3b75-4506-8ac7-9c691829a311",
   "metadata": {},
   "outputs": [
    {
     "data": {
      "text/plain": [
       "{1: 'one', '2': 'two', 3: 'three', 0: 'zero', 4: 'four'}"
      ]
     },
     "execution_count": 9,
     "metadata": {},
     "output_type": "execute_result"
    }
   ],
   "source": [
    "d"
   ]
  },
  {
   "cell_type": "code",
   "execution_count": 10,
   "id": "6ea1c736-130b-41c6-a1a6-f6b481705762",
   "metadata": {},
   "outputs": [
    {
     "name": "stdout",
     "output_type": "stream",
     "text": [
      "1\n",
      "2\n",
      "3\n",
      "0\n",
      "4\n"
     ]
    }
   ],
   "source": [
    "for i in d: # BY DEFAULT : KEYS\n",
    "    print(i)"
   ]
  },
  {
   "cell_type": "code",
   "execution_count": 11,
   "id": "0e49859b-db8e-4c14-8d73-b12bcdaf3b1a",
   "metadata": {},
   "outputs": [
    {
     "name": "stdout",
     "output_type": "stream",
     "text": [
      "one\n",
      "two\n",
      "three\n",
      "zero\n",
      "four\n"
     ]
    }
   ],
   "source": [
    "for i in d.values():\n",
    "    print(i)"
   ]
  },
  {
   "cell_type": "code",
   "execution_count": 12,
   "id": "4bff8087-1854-419f-9bf8-c683de29dd13",
   "metadata": {},
   "outputs": [
    {
     "name": "stdout",
     "output_type": "stream",
     "text": [
      "(1, 'one')\n",
      "('2', 'two')\n",
      "(3, 'three')\n",
      "(0, 'zero')\n",
      "(4, 'four')\n"
     ]
    }
   ],
   "source": [
    "for i in d.items():\n",
    "    print(i)"
   ]
  },
  {
   "cell_type": "code",
   "execution_count": 13,
   "id": "45fded91-fe35-40c6-a0bc-f7f13657e60e",
   "metadata": {},
   "outputs": [
    {
     "name": "stdout",
     "output_type": "stream",
     "text": [
      "key is  1\n",
      "value is  one\n",
      "key is  2\n",
      "value is  two\n",
      "key is  3\n",
      "value is  three\n",
      "key is  0\n",
      "value is  zero\n",
      "key is  4\n",
      "value is  four\n"
     ]
    }
   ],
   "source": [
    "for i in d.items():\n",
    "    print(\"key is \",i[0])\n",
    "    print(\"value is \",i[1])"
   ]
  },
  {
   "cell_type": "code",
   "execution_count": 14,
   "id": "cc59fb78-606f-4743-9f3a-3f07042c8d59",
   "metadata": {},
   "outputs": [
    {
     "name": "stdout",
     "output_type": "stream",
     "text": [
      "key is  1\n",
      "value is  one\n",
      "key is  2\n",
      "value is  two\n",
      "key is  3\n",
      "value is  three\n",
      "key is  0\n",
      "value is  zero\n",
      "key is  4\n",
      "value is  four\n"
     ]
    }
   ],
   "source": [
    "for i,j in d.items():\n",
    "    print(\"key is \",i)\n",
    "    print(\"value is \",j)"
   ]
  },
  {
   "cell_type": "markdown",
   "id": "cfc84fd2-372d-40c4-ad65-551d9b7211e0",
   "metadata": {},
   "source": [
    "# common functions\n",
    "- len\n",
    "- max\n",
    "- min\n",
    "- sum\n",
    "- sorted\n",
    "- del"
   ]
  },
  {
   "cell_type": "code",
   "execution_count": 15,
   "id": "367fbb88-19ec-45fb-af08-b5b83a980c3d",
   "metadata": {},
   "outputs": [
    {
     "data": {
      "text/plain": [
       "{1: 'one', '2': 'two', 3: 'three', 0: 'zero', 4: 'four'}"
      ]
     },
     "execution_count": 15,
     "metadata": {},
     "output_type": "execute_result"
    }
   ],
   "source": [
    "d"
   ]
  },
  {
   "cell_type": "code",
   "execution_count": 16,
   "id": "e6791111-9f24-4151-858b-926513b3a040",
   "metadata": {},
   "outputs": [
    {
     "name": "stdout",
     "output_type": "stream",
     "text": [
      "5\n"
     ]
    }
   ],
   "source": [
    "print(len(d))"
   ]
  },
  {
   "cell_type": "code",
   "execution_count": 17,
   "id": "be76b94a-e099-4876-adfd-9eed32600249",
   "metadata": {},
   "outputs": [
    {
     "ename": "TypeError",
     "evalue": "'>' not supported between instances of 'str' and 'int'",
     "output_type": "error",
     "traceback": [
      "\u001b[1;31m---------------------------------------------------------------------------\u001b[0m",
      "\u001b[1;31mTypeError\u001b[0m                                 Traceback (most recent call last)",
      "Cell \u001b[1;32mIn[17], line 1\u001b[0m\n\u001b[1;32m----> 1\u001b[0m \u001b[38;5;28mprint\u001b[39m(\u001b[38;5;28mmax\u001b[39m(d))\n",
      "\u001b[1;31mTypeError\u001b[0m: '>' not supported between instances of 'str' and 'int'"
     ]
    }
   ],
   "source": [
    "print(max(d))"
   ]
  },
  {
   "cell_type": "code",
   "execution_count": 2,
   "id": "0dd4a4c0-c42c-4983-a0d7-fd26e941a66a",
   "metadata": {},
   "outputs": [],
   "source": [
    "d={1:\"one\",2:\"two\",3:\"three\",0:\"zero\",4:\"four\"}"
   ]
  },
  {
   "cell_type": "code",
   "execution_count": 5,
   "id": "e022aeaa-e639-4526-8494-48a9d9ac758f",
   "metadata": {},
   "outputs": [
    {
     "name": "stdout",
     "output_type": "stream",
     "text": [
      "4\n"
     ]
    }
   ],
   "source": [
    "print(max(d)) # based on keys "
   ]
  },
  {
   "cell_type": "code",
   "execution_count": 4,
   "id": "df197443-27c2-403b-a49c-824ece9753c0",
   "metadata": {},
   "outputs": [
    {
     "name": "stdout",
     "output_type": "stream",
     "text": [
      "zero\n"
     ]
    }
   ],
   "source": [
    "print(max(d.values())) # on the basis of ascii"
   ]
  },
  {
   "cell_type": "code",
   "execution_count": 21,
   "id": "fc42aeb8-3a5a-4614-bea2-d2c22bbd96cd",
   "metadata": {},
   "outputs": [
    {
     "name": "stdout",
     "output_type": "stream",
     "text": [
      "(4, 'four')\n"
     ]
    }
   ],
   "source": [
    "print(max(d.items())) # max based on keys "
   ]
  },
  {
   "cell_type": "code",
   "execution_count": 22,
   "id": "f56ae1e2-e4b6-4525-86cb-5a13990e249e",
   "metadata": {},
   "outputs": [
    {
     "data": {
      "text/plain": [
       "{1: 'one', 2: 'two', 3: 'three', 0: 'zero', 4: 'four'}"
      ]
     },
     "execution_count": 22,
     "metadata": {},
     "output_type": "execute_result"
    }
   ],
   "source": [
    "d"
   ]
  },
  {
   "cell_type": "code",
   "execution_count": 23,
   "id": "63773376-b0ee-40c8-933e-7d7eb686cded",
   "metadata": {},
   "outputs": [
    {
     "name": "stdout",
     "output_type": "stream",
     "text": [
      "10\n"
     ]
    }
   ],
   "source": [
    "print(sum(d))"
   ]
  },
  {
   "cell_type": "code",
   "execution_count": 24,
   "id": "5f40a1b9-fd49-4e2e-8124-fe9dec2705b8",
   "metadata": {},
   "outputs": [
    {
     "name": "stdout",
     "output_type": "stream",
     "text": [
      "[0, 1, 2, 3, 4]\n"
     ]
    }
   ],
   "source": [
    "print(sorted(d))"
   ]
  },
  {
   "cell_type": "code",
   "execution_count": 25,
   "id": "f53a35d4-75eb-4985-8bb9-291246552544",
   "metadata": {},
   "outputs": [
    {
     "name": "stdout",
     "output_type": "stream",
     "text": [
      "[(0, 'zero'), (1, 'one'), (2, 'two'), (3, 'three'), (4, 'four')]\n"
     ]
    }
   ],
   "source": [
    "print(sorted(d.items()))"
   ]
  },
  {
   "cell_type": "code",
   "execution_count": 26,
   "id": "dc20efda-c15a-4a1a-a5f7-09ef9d25a4c9",
   "metadata": {},
   "outputs": [],
   "source": [
    "del d"
   ]
  },
  {
   "cell_type": "code",
   "execution_count": 27,
   "id": "615c78d5-2d33-4510-8c2c-c53b5179e1e1",
   "metadata": {},
   "outputs": [
    {
     "ename": "NameError",
     "evalue": "name 'd' is not defined",
     "output_type": "error",
     "traceback": [
      "\u001b[1;31m---------------------------------------------------------------------------\u001b[0m",
      "\u001b[1;31mNameError\u001b[0m                                 Traceback (most recent call last)",
      "Cell \u001b[1;32mIn[27], line 1\u001b[0m\n\u001b[1;32m----> 1\u001b[0m d\n",
      "\u001b[1;31mNameError\u001b[0m: name 'd' is not defined"
     ]
    }
   ],
   "source": [
    "d"
   ]
  },
  {
   "cell_type": "markdown",
   "id": "a8191a79-1474-462c-981f-9387ecb4f02e",
   "metadata": {},
   "source": [
    "# operators "
   ]
  },
  {
   "cell_type": "code",
   "execution_count": 28,
   "id": "080137a3-b02a-4099-9513-5ec5df42da48",
   "metadata": {},
   "outputs": [
    {
     "ename": "TypeError",
     "evalue": "unsupported operand type(s) for +: 'dict' and 'dict'",
     "output_type": "error",
     "traceback": [
      "\u001b[1;31m---------------------------------------------------------------------------\u001b[0m",
      "\u001b[1;31mTypeError\u001b[0m                                 Traceback (most recent call last)",
      "Cell \u001b[1;32mIn[28], line 3\u001b[0m\n\u001b[0;32m      1\u001b[0m d1\u001b[38;5;241m=\u001b[39m{\u001b[38;5;241m1\u001b[39m:\u001b[38;5;124m\"\u001b[39m\u001b[38;5;124mone\u001b[39m\u001b[38;5;124m\"\u001b[39m,\u001b[38;5;241m2\u001b[39m:\u001b[38;5;124m\"\u001b[39m\u001b[38;5;124mtwo\u001b[39m\u001b[38;5;124m\"\u001b[39m}\n\u001b[0;32m      2\u001b[0m d2\u001b[38;5;241m=\u001b[39m{\u001b[38;5;124m\"\u001b[39m\u001b[38;5;124m4\u001b[39m\u001b[38;5;124m\"\u001b[39m:\u001b[38;5;124m\"\u001b[39m\u001b[38;5;124mfour\u001b[39m\u001b[38;5;124m\"\u001b[39m}\n\u001b[1;32m----> 3\u001b[0m d1\u001b[38;5;241m+\u001b[39md2\n",
      "\u001b[1;31mTypeError\u001b[0m: unsupported operand type(s) for +: 'dict' and 'dict'"
     ]
    }
   ],
   "source": [
    "d1={1:\"one\",2:\"two\"}\n",
    "d2={\"4\":\"four\"}\n",
    "d1+d2"
   ]
  },
  {
   "cell_type": "code",
   "execution_count": 29,
   "id": "09a0950c-f7a7-4197-a8f7-ec501271fa0f",
   "metadata": {},
   "outputs": [],
   "source": [
    "d1.update(d2)"
   ]
  },
  {
   "cell_type": "code",
   "execution_count": 30,
   "id": "d22caca4-04ff-4f86-aa27-25327380714f",
   "metadata": {},
   "outputs": [
    {
     "data": {
      "text/plain": [
       "{1: 'one', 2: 'two', '4': 'four'}"
      ]
     },
     "execution_count": 30,
     "metadata": {},
     "output_type": "execute_result"
    }
   ],
   "source": [
    "d1"
   ]
  },
  {
   "cell_type": "markdown",
   "id": "39a720ef-a408-454e-a04f-9b0682dde392",
   "metadata": {},
   "source": [
    "# updation in dictionary"
   ]
  },
  {
   "cell_type": "code",
   "execution_count": 31,
   "id": "32facef5-6309-4e48-8ba6-841930191def",
   "metadata": {},
   "outputs": [
    {
     "data": {
      "text/plain": [
       "{1: 'one', 2: 'two', '4': 'four'}"
      ]
     },
     "execution_count": 31,
     "metadata": {},
     "output_type": "execute_result"
    }
   ],
   "source": [
    "d1"
   ]
  },
  {
   "cell_type": "code",
   "execution_count": 32,
   "id": "fb2b4ff5-7374-4516-a578-7ad97812a38b",
   "metadata": {},
   "outputs": [
    {
     "data": {
      "text/plain": [
       "{1: 'one', 2: 'two', '4': 'fourth'}"
      ]
     },
     "execution_count": 32,
     "metadata": {},
     "output_type": "execute_result"
    }
   ],
   "source": [
    "d1[\"4\"]=\"fourth\"\n",
    "d1"
   ]
  },
  {
   "cell_type": "markdown",
   "id": "677dbb37-11bd-4f41-a7a7-74c398b8b99d",
   "metadata": {},
   "source": [
    "# deletion\n",
    "- pop\n",
    "- popitem\n",
    "- clear"
   ]
  },
  {
   "cell_type": "code",
   "execution_count": 6,
   "id": "ad9590c1-f4b8-4340-b99b-ccd3421e302a",
   "metadata": {},
   "outputs": [],
   "source": [
    "d={1:\"one\",0:\"zero\",2:\"two\",3:\"three\"}"
   ]
  },
  {
   "cell_type": "code",
   "execution_count": 7,
   "id": "b3ff4ee0-b9ec-4abb-8602-a68b88766bac",
   "metadata": {},
   "outputs": [
    {
     "data": {
      "text/plain": [
       "'two'"
      ]
     },
     "execution_count": 7,
     "metadata": {},
     "output_type": "execute_result"
    }
   ],
   "source": [
    "d.pop(2)"
   ]
  },
  {
   "cell_type": "code",
   "execution_count": 35,
   "id": "0da91570-5af0-4376-9490-0d34666c3dde",
   "metadata": {},
   "outputs": [
    {
     "data": {
      "text/plain": [
       "{1: 'one', 0: 'zero', 2: 'two'}"
      ]
     },
     "execution_count": 35,
     "metadata": {},
     "output_type": "execute_result"
    }
   ],
   "source": [
    "d"
   ]
  },
  {
   "cell_type": "code",
   "execution_count": 8,
   "id": "a43d5ba6-89af-4bbb-bebb-e509883efe3b",
   "metadata": {},
   "outputs": [
    {
     "data": {
      "text/plain": [
       "(3, 'three')"
      ]
     },
     "execution_count": 8,
     "metadata": {},
     "output_type": "execute_result"
    }
   ],
   "source": [
    "d={1:\"one\",0:\"zero\",2:\"two\",3:\"three\"}\n",
    "d.popitem()"
   ]
  },
  {
   "cell_type": "code",
   "execution_count": 37,
   "id": "bffd0f89-c398-4bd1-a0e1-bcee27f64543",
   "metadata": {},
   "outputs": [
    {
     "data": {
      "text/plain": [
       "{1: 'one', 0: 'zero', 2: 'two'}"
      ]
     },
     "execution_count": 37,
     "metadata": {},
     "output_type": "execute_result"
    }
   ],
   "source": [
    "d"
   ]
  },
  {
   "cell_type": "code",
   "execution_count": 38,
   "id": "80c8d35c-2445-4686-b675-e30c3ce3499e",
   "metadata": {},
   "outputs": [],
   "source": [
    "d.clear()"
   ]
  },
  {
   "cell_type": "code",
   "execution_count": 39,
   "id": "f926351e-15ba-4f7d-808f-060dd0b4fe7b",
   "metadata": {},
   "outputs": [
    {
     "data": {
      "text/plain": [
       "{}"
      ]
     },
     "execution_count": 39,
     "metadata": {},
     "output_type": "execute_result"
    }
   ],
   "source": [
    "d"
   ]
  },
  {
   "cell_type": "markdown",
   "id": "be83c8c6-4994-494f-a7ed-7376d775f82c",
   "metadata": {},
   "source": [
    "# get : "
   ]
  },
  {
   "cell_type": "code",
   "execution_count": 40,
   "id": "043e4a12-fa60-4ea4-abc6-c04f5b78c502",
   "metadata": {},
   "outputs": [],
   "source": [
    "d={1:\"one\",0:\"zero\",2:\"two\",3:\"three\"}"
   ]
  },
  {
   "cell_type": "code",
   "execution_count": 41,
   "id": "94b245c7-7231-4edb-a83f-08a9d86c85ed",
   "metadata": {},
   "outputs": [
    {
     "data": {
      "text/plain": [
       "'two'"
      ]
     },
     "execution_count": 41,
     "metadata": {},
     "output_type": "execute_result"
    }
   ],
   "source": [
    "d[2]"
   ]
  },
  {
   "cell_type": "code",
   "execution_count": 42,
   "id": "937e3192-4ff4-470a-9944-9eb11acbc665",
   "metadata": {},
   "outputs": [
    {
     "ename": "KeyError",
     "evalue": "90",
     "output_type": "error",
     "traceback": [
      "\u001b[1;31m---------------------------------------------------------------------------\u001b[0m",
      "\u001b[1;31mKeyError\u001b[0m                                  Traceback (most recent call last)",
      "Cell \u001b[1;32mIn[42], line 1\u001b[0m\n\u001b[1;32m----> 1\u001b[0m d[\u001b[38;5;241m90\u001b[39m]\n",
      "\u001b[1;31mKeyError\u001b[0m: 90"
     ]
    }
   ],
   "source": [
    "d[90]"
   ]
  },
  {
   "cell_type": "code",
   "execution_count": 43,
   "id": "1e95ce1f-c1c9-495c-a65f-bc8bc7a11d08",
   "metadata": {},
   "outputs": [
    {
     "data": {
      "text/plain": [
       "'two'"
      ]
     },
     "execution_count": 43,
     "metadata": {},
     "output_type": "execute_result"
    }
   ],
   "source": [
    "d.get(2)"
   ]
  },
  {
   "cell_type": "code",
   "execution_count": 44,
   "id": "eadf39a8-31c0-4f99-9d7b-7cb4618af3c7",
   "metadata": {},
   "outputs": [
    {
     "name": "stdout",
     "output_type": "stream",
     "text": [
      "None\n"
     ]
    }
   ],
   "source": [
    "print(d.get(90))"
   ]
  },
  {
   "cell_type": "markdown",
   "id": "38631525-0ab2-4bbe-b6da-872fad9834c5",
   "metadata": {},
   "source": [
    "# wap to display {1:odd,2:even......}"
   ]
  },
  {
   "cell_type": "code",
   "execution_count": 22,
   "id": "361917fa-21c1-4edd-8161-ef91c53c95e5",
   "metadata": {},
   "outputs": [
    {
     "name": "stdin",
     "output_type": "stream",
     "text": [
      "enter the value: 6\n"
     ]
    },
    {
     "data": {
      "text/plain": [
       "{1: 'odd', 2: 'even', 3: 'odd', 4: 'even', 5: 'odd', 6: 'even'}"
      ]
     },
     "execution_count": 22,
     "metadata": {},
     "output_type": "execute_result"
    }
   ],
   "source": [
    "n=int(input(\"enter the value:\"))\n",
    "d={}\n",
    "for i in range(1,n+1):\n",
    "    if i%2==0:\n",
    "        d[i]=\"even\"\n",
    "    else:\n",
    "        d[i]=\"odd\"\n",
    "d"
   ]
  },
  {
   "cell_type": "markdown",
   "id": "439c69bd-9b38-4a10-8c8a-192c3b0b1420",
   "metadata": {},
   "source": [
    "# or"
   ]
  },
  {
   "cell_type": "code",
   "execution_count": 23,
   "id": "e6da1e5c-ab47-4e8f-bdbf-2e9c3558c31b",
   "metadata": {},
   "outputs": [
    {
     "data": {
      "text/plain": [
       "{1: 'odd', 2: 'even', 3: 'odd', 4: 'even', 5: 'odd', 6: 'even'}"
      ]
     },
     "execution_count": 23,
     "metadata": {},
     "output_type": "execute_result"
    }
   ],
   "source": [
    "{i:\"even\" if i%2==0 else \"odd\" for i in range(1,n+1)}"
   ]
  },
  {
   "cell_type": "markdown",
   "id": "d0d2e8e6-49e0-4d0b-9c09-8ef28bf6fb0d",
   "metadata": {},
   "source": [
    "# wap to take your name and display as below:\n",
    "# \"balmeet\"={B:\"66-con\",a:\"97-vowel\"......}"
   ]
  },
  {
   "cell_type": "code",
   "execution_count": 26,
   "id": "82e38716-1d5a-4f8e-93f5-8147bcb08fd1",
   "metadata": {},
   "outputs": [
    {
     "name": "stdin",
     "output_type": "stream",
     "text": [
      "enter the name: maxwel\n"
     ]
    },
    {
     "data": {
      "text/plain": [
       "{'M': '77-con',\n",
       " 'a': '97-vowel',\n",
       " 'x': '120-con',\n",
       " 'w': '119-con',\n",
       " 'e': '101-vowel',\n",
       " 'l': '108-con'}"
      ]
     },
     "execution_count": 26,
     "metadata": {},
     "output_type": "execute_result"
    }
   ],
   "source": [
    "name=input(\"enter the name:\")\n",
    "d={}\n",
    "name=name.title()\n",
    "for ch in name:\n",
    "    if ch in \"aeiouAEIOU\":\n",
    "        d[ch]=str(ord(ch))+\"-\"+\"vowel\"\n",
    "    else:\n",
    "        d[ch]=str(ord(ch))+\"-\"+\"con\"\n",
    "d"
   ]
  },
  {
   "cell_type": "code",
   "execution_count": 45,
   "id": "0f413ae3-627e-4846-95af-1ce9e29d3173",
   "metadata": {},
   "outputs": [
    {
     "data": {
      "text/plain": [
       "{'dhruv': '69', 'pranav': '63', 'uttkarsh': '121'}"
      ]
     },
     "execution_count": 45,
     "metadata": {},
     "output_type": "execute_result"
    }
   ],
   "source": [
    "d={\"dhruv\":[23,45,1],\"pranav\":[34,6,23],\"uttkarsh\":[9,78,34]}\n",
    "for i,j in d.items():\n",
    "    d[i]=str(sum(j))\n",
    "d"
   ]
  },
  {
   "cell_type": "code",
   "execution_count": 46,
   "id": "1e7e6cb5-1034-4e44-9386-988318b1c656",
   "metadata": {},
   "outputs": [
    {
     "data": {
      "text/plain": [
       "{'dhruv': [1, 23, 45], 'pranav': [6, 23, 34], 'uttkarsh': [9, 34, 78]}"
      ]
     },
     "execution_count": 46,
     "metadata": {},
     "output_type": "execute_result"
    }
   ],
   "source": [
    "d={\"dhruv\":[23,45,1],\"pranav\":[34,6,23],\"uttkarsh\":[9,78,34]}\n",
    "\n",
    "for i,j in d.items():\n",
    "    d[i]=sorted(j)\n",
    "d"
   ]
  },
  {
   "cell_type": "markdown",
   "id": "85a545e5-6312-41eb-8a96-97f9930a3ff1",
   "metadata": {},
   "source": [
    "# - <20 : kids\n",
    "# 20 - 35 : young\n",
    "# 35-55: adult\n",
    "# >55: old"
   ]
  },
  {
   "cell_type": "code",
   "execution_count": 47,
   "id": "bce41470-e3c3-43ed-a2ac-a65853e42b43",
   "metadata": {},
   "outputs": [
    {
     "data": {
      "text/plain": [
       "{'rani': 'adult', 'heena': 'young', 'jai': 'old', 'riya': 'young'}"
      ]
     },
     "execution_count": 47,
     "metadata": {},
     "output_type": "execute_result"
    }
   ],
   "source": [
    "d={\"rani\":45,\"heena\":20,\"jai\":65,\"riya\":31}\n",
    "for i,j in d.items():\n",
    "    if j>0 and j<20:\n",
    "        d[i]=\"kids\"\n",
    "    elif j>=20 and j<35:\n",
    "        d[i]=\"young\"\n",
    "    elif j>=35 and j<55:\n",
    "        d[i]=\"adult\"\n",
    "    elif j>=55 and j<=100:\n",
    "        d[i]=\"old\"\n",
    "    else:\n",
    "        d[i]=\"invalid age\"\n",
    "d"
   ]
  },
  {
   "cell_type": "code",
   "execution_count": 48,
   "id": "08c616b1-3bd6-4437-8e84-c164fc684bb2",
   "metadata": {},
   "outputs": [],
   "source": [
    "l1=[\"python\",\"tablaeu\",\"ui/ux\"]\n",
    "l2=[\"programming\",\"tool\",\"design\"]\n",
    "\n",
    "\n",
    "l=[\"python:programming\",\"python:tool\",\"python:design\",\"tablaeu:programming\",\"tablaeu:tool\",\"tablaeu:design\",\"ui/ux:programming\",\"ui/ux:tool\",\"ui/ux:design\"]"
   ]
  },
  {
   "cell_type": "code",
   "execution_count": 49,
   "id": "1970f3cb-62c9-4e54-b0f1-354f91ca60e6",
   "metadata": {},
   "outputs": [
    {
     "data": {
      "text/plain": [
       "['python:programming',\n",
       " 'python:tool',\n",
       " 'python:design',\n",
       " 'tablaeu:programming',\n",
       " 'tablaeu:tool',\n",
       " 'tablaeu:design',\n",
       " 'ui/ux:programming',\n",
       " 'ui/ux:tool',\n",
       " 'ui/ux:design']"
      ]
     },
     "execution_count": 49,
     "metadata": {},
     "output_type": "execute_result"
    }
   ],
   "source": [
    "l"
   ]
  },
  {
   "cell_type": "code",
   "execution_count": 50,
   "id": "50997ac9-658b-46aa-8657-c24a0cbfeaff",
   "metadata": {},
   "outputs": [
    {
     "data": {
      "text/plain": [
       "['python', 'tablaeu', 'ui/ux']"
      ]
     },
     "execution_count": 50,
     "metadata": {},
     "output_type": "execute_result"
    }
   ],
   "source": [
    "l1"
   ]
  },
  {
   "cell_type": "code",
   "execution_count": 51,
   "id": "7bc196bf-01ff-4d96-841f-9621f254130d",
   "metadata": {},
   "outputs": [
    {
     "data": {
      "text/plain": [
       "['programming', 'tool', 'design']"
      ]
     },
     "execution_count": 51,
     "metadata": {},
     "output_type": "execute_result"
    }
   ],
   "source": [
    "l2"
   ]
  },
  {
   "cell_type": "code",
   "execution_count": 52,
   "id": "b0fca8ab-c5a6-49fd-aa76-58a0cf24dac8",
   "metadata": {},
   "outputs": [
    {
     "data": {
      "text/plain": [
       "['python:programming',\n",
       " 'python:tool',\n",
       " 'python:design',\n",
       " 'tablaeu:programming',\n",
       " 'tablaeu:tool',\n",
       " 'tablaeu:design',\n",
       " 'ui/ux:programming',\n",
       " 'ui/ux:tool',\n",
       " 'ui/ux:design']"
      ]
     },
     "execution_count": 52,
     "metadata": {},
     "output_type": "execute_result"
    }
   ],
   "source": [
    "l=[]\n",
    "for i in l1:\n",
    "    for j in l2:\n",
    "        l.append(i+\":\"+j)\n",
    "l   "
   ]
  },
  {
   "cell_type": "markdown",
   "id": "c9575047-0017-484e-a0f9-02a79c2bc5cd",
   "metadata": {},
   "source": [
    "# task : l=[\"python:programming\",\"tablaeu:tool\",\"ui/ux:design\"]"
   ]
  },
  {
   "cell_type": "code",
   "execution_count": 16,
   "id": "aa3d849e-86dd-4d4d-81a6-da016423dfd5",
   "metadata": {},
   "outputs": [],
   "source": [
    "l1=[\"python\",\"tablaeu\",\"ui/ux\"]\n",
    "l2=[\"programming\",\"tool\",\"design\"]"
   ]
  },
  {
   "cell_type": "code",
   "execution_count": 17,
   "id": "c0f9e5b0-d10e-40e2-a418-23117c144922",
   "metadata": {},
   "outputs": [
    {
     "data": {
      "text/plain": [
       "['python:programming', 'tablaeu:tool', 'ui/ux:design']"
      ]
     },
     "execution_count": 17,
     "metadata": {},
     "output_type": "execute_result"
    }
   ],
   "source": [
    "l=[]\n",
    "for i in l1:\n",
    "        for j in l2:\n",
    "            if l2.index(j)==l1.index(i):\n",
    "                l.append(i+\":\"+j)\n",
    "l"
   ]
  },
  {
   "cell_type": "code",
   "execution_count": null,
   "id": "2ee8ce2d-b198-4acd-bc63-eb0fd2f8bbe1",
   "metadata": {},
   "outputs": [],
   "source": []
  }
 ],
 "metadata": {
  "kernelspec": {
   "display_name": "Python 3 (ipykernel)",
   "language": "python",
   "name": "python3"
  },
  "language_info": {
   "codemirror_mode": {
    "name": "ipython",
    "version": 3
   },
   "file_extension": ".py",
   "mimetype": "text/x-python",
   "name": "python",
   "nbconvert_exporter": "python",
   "pygments_lexer": "ipython3",
   "version": "3.11.7"
  }
 },
 "nbformat": 4,
 "nbformat_minor": 5
}
