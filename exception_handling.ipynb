{
 "cells": [
  {
   "cell_type": "markdown",
   "id": "a5f5a9bf",
   "metadata": {},
   "source": [
    "# exception: are the run time errors which leads to abnormal termination of the program"
   ]
  },
  {
   "cell_type": "markdown",
   "id": "7a3b6bb8",
   "metadata": {},
   "source": [
    "# types of errors \n",
    "- syntax error\n",
    "- logical error\n",
    "- run time errors "
   ]
  },
  {
   "cell_type": "markdown",
   "id": "c2f99431-d90d-47b2-b195-07dbff86b300",
   "metadata": {},
   "source": [
    "# task : divide"
   ]
  },
  {
   "cell_type": "code",
   "execution_count": 7,
   "id": "68f6f496",
   "metadata": {},
   "outputs": [
    {
     "name": "stdout",
     "output_type": "stream",
     "text": [
      "enter the dividend 36\n",
      "enter the divisor 0\n"
     ]
    },
    {
     "ename": "ZeroDivisionError",
     "evalue": "division by zero",
     "output_type": "error",
     "traceback": [
      "\u001b[1;31m---------------------------------------------------------------------------\u001b[0m",
      "\u001b[1;31mZeroDivisionError\u001b[0m                         Traceback (most recent call last)",
      "Input \u001b[1;32mIn [7]\u001b[0m, in \u001b[0;36m<cell line: 3>\u001b[1;34m()\u001b[0m\n\u001b[0;32m      1\u001b[0m dividend\u001b[38;5;241m=\u001b[39m\u001b[38;5;28mint\u001b[39m(\u001b[38;5;28minput\u001b[39m(\u001b[38;5;124m\"\u001b[39m\u001b[38;5;124menter the dividend \u001b[39m\u001b[38;5;124m\"\u001b[39m))\n\u001b[0;32m      2\u001b[0m divisor\u001b[38;5;241m=\u001b[39m\u001b[38;5;28mint\u001b[39m(\u001b[38;5;28minput\u001b[39m(\u001b[38;5;124m\"\u001b[39m\u001b[38;5;124menter the divisor \u001b[39m\u001b[38;5;124m\"\u001b[39m))\n\u001b[1;32m----> 3\u001b[0m q\u001b[38;5;241m=\u001b[39m\u001b[43mdividend\u001b[49m\u001b[38;5;241;43m/\u001b[39;49m\u001b[43mdivisor\u001b[49m\n\u001b[0;32m      4\u001b[0m \u001b[38;5;28mprint\u001b[39m(\u001b[38;5;124m\"\u001b[39m\u001b[38;5;124mthe result is \u001b[39m\u001b[38;5;124m\"\u001b[39m,q)\n",
      "\u001b[1;31mZeroDivisionError\u001b[0m: division by zero"
     ]
    }
   ],
   "source": [
    "dividend=int(input(\"enter the dividend \"))\n",
    "divisor=int(input(\"enter the divisor \"))\n",
    "q=dividend/divisor\n",
    "print(\"the result is \",q)"
   ]
  },
  {
   "cell_type": "markdown",
   "id": "0d6f8c80",
   "metadata": {},
   "source": [
    "# eg : 2"
   ]
  },
  {
   "cell_type": "code",
   "execution_count": 11,
   "id": "b7c1525d",
   "metadata": {},
   "outputs": [
    {
     "name": "stdout",
     "output_type": "stream",
     "text": [
      "enter the nunber helo\n"
     ]
    },
    {
     "ename": "ValueError",
     "evalue": "invalid literal for int() with base 10: 'helo'",
     "output_type": "error",
     "traceback": [
      "\u001b[1;31m---------------------------------------------------------------------------\u001b[0m",
      "\u001b[1;31mValueError\u001b[0m                                Traceback (most recent call last)",
      "Input \u001b[1;32mIn [11]\u001b[0m, in \u001b[0;36m<cell line: 1>\u001b[1;34m()\u001b[0m\n\u001b[1;32m----> 1\u001b[0m a\u001b[38;5;241m=\u001b[39m\u001b[38;5;28;43mint\u001b[39;49m\u001b[43m(\u001b[49m\u001b[38;5;28;43minput\u001b[39;49m\u001b[43m(\u001b[49m\u001b[38;5;124;43m\"\u001b[39;49m\u001b[38;5;124;43menter the nunber \u001b[39;49m\u001b[38;5;124;43m\"\u001b[39;49m\u001b[43m)\u001b[49m\u001b[43m)\u001b[49m\n\u001b[0;32m      2\u001b[0m a\u001b[38;5;241m+\u001b[39m\u001b[38;5;241m5\u001b[39m\n",
      "\u001b[1;31mValueError\u001b[0m: invalid literal for int() with base 10: 'helo'"
     ]
    }
   ],
   "source": [
    "a=int(input(\"enter the nunber \"))\n",
    "a+5"
   ]
  },
  {
   "cell_type": "markdown",
   "id": "575f64b0",
   "metadata": {},
   "source": [
    "# eg : 3"
   ]
  },
  {
   "cell_type": "code",
   "execution_count": 1,
   "id": "f5f26de2",
   "metadata": {},
   "outputs": [
    {
     "name": "stdin",
     "output_type": "stream",
     "text": [
      "enter the pos: 9\n"
     ]
    },
    {
     "ename": "IndexError",
     "evalue": "list index out of range",
     "output_type": "error",
     "traceback": [
      "\u001b[1;31m---------------------------------------------------------------------------\u001b[0m",
      "\u001b[1;31mIndexError\u001b[0m                                Traceback (most recent call last)",
      "Cell \u001b[1;32mIn[1], line 3\u001b[0m\n\u001b[0;32m      1\u001b[0m l\u001b[38;5;241m=\u001b[39m[\u001b[38;5;241m2\u001b[39m,\u001b[38;5;241m3\u001b[39m,\u001b[38;5;241m3\u001b[39m,\u001b[38;5;241m3\u001b[39m,\u001b[38;5;241m3\u001b[39m,\u001b[38;5;241m10\u001b[39m]\n\u001b[0;32m      2\u001b[0m pos\u001b[38;5;241m=\u001b[39m\u001b[38;5;28mint\u001b[39m(\u001b[38;5;28minput\u001b[39m(\u001b[38;5;124m\"\u001b[39m\u001b[38;5;124menter the pos:\u001b[39m\u001b[38;5;124m\"\u001b[39m))\n\u001b[1;32m----> 3\u001b[0m l[pos]\n",
      "\u001b[1;31mIndexError\u001b[0m: list index out of range"
     ]
    }
   ],
   "source": [
    "l=[2,3,3,3,3,10]\n",
    "pos=int(input(\"enter the pos:\"))\n",
    "l[pos]"
   ]
  },
  {
   "cell_type": "code",
   "execution_count": 15,
   "id": "471bf68e",
   "metadata": {},
   "outputs": [
    {
     "name": "stdout",
     "output_type": "stream",
     "text": [
      "enter the dividend 45\n",
      "enter the divisor 0\n"
     ]
    },
    {
     "ename": "TypeError",
     "evalue": "unsupported operand type(s) for /: 'str' and 'int'",
     "output_type": "error",
     "traceback": [
      "\u001b[1;31m---------------------------------------------------------------------------\u001b[0m",
      "\u001b[1;31mTypeError\u001b[0m                                 Traceback (most recent call last)",
      "Input \u001b[1;32mIn [15]\u001b[0m, in \u001b[0;36m<cell line: 3>\u001b[1;34m()\u001b[0m\n\u001b[0;32m      1\u001b[0m dividend\u001b[38;5;241m=\u001b[39m\u001b[38;5;28minput\u001b[39m(\u001b[38;5;124m\"\u001b[39m\u001b[38;5;124menter the dividend \u001b[39m\u001b[38;5;124m\"\u001b[39m)\n\u001b[0;32m      2\u001b[0m divisor\u001b[38;5;241m=\u001b[39m\u001b[38;5;28mint\u001b[39m(\u001b[38;5;28minput\u001b[39m(\u001b[38;5;124m\"\u001b[39m\u001b[38;5;124menter the divisor \u001b[39m\u001b[38;5;124m\"\u001b[39m))\n\u001b[1;32m----> 3\u001b[0m q\u001b[38;5;241m=\u001b[39m\u001b[43mdividend\u001b[49m\u001b[38;5;241;43m/\u001b[39;49m\u001b[43mdivisor\u001b[49m\n\u001b[0;32m      4\u001b[0m \u001b[38;5;28mprint\u001b[39m(\u001b[38;5;124m\"\u001b[39m\u001b[38;5;124mthe result is \u001b[39m\u001b[38;5;124m\"\u001b[39m,q)\n",
      "\u001b[1;31mTypeError\u001b[0m: unsupported operand type(s) for /: 'str' and 'int'"
     ]
    }
   ],
   "source": [
    "dividend=input(\"enter the dividend \")\n",
    "divisor=int(input(\"enter the divisor \"))\n",
    "q=dividend/divisor\n",
    "print(\"the result is \",q) "
   ]
  },
  {
   "cell_type": "markdown",
   "id": "07ed9b3b",
   "metadata": {},
   "source": [
    "# handling :\n",
    "- try\n",
    "- except"
   ]
  },
  {
   "cell_type": "markdown",
   "id": "729a77d5",
   "metadata": {},
   "source": [
    "# try: "
   ]
  },
  {
   "cell_type": "code",
   "execution_count": 2,
   "id": "f8f30bcc",
   "metadata": {},
   "outputs": [
    {
     "name": "stdin",
     "output_type": "stream",
     "text": [
      "enter the dividend  23\n",
      "enter the divisor  0\n"
     ]
    },
    {
     "name": "stdout",
     "output_type": "stream",
     "text": [
      "divisor should not be zero\n"
     ]
    }
   ],
   "source": [
    "dividend=int(input(\"enter the dividend \"))\n",
    "divisor=int(input(\"enter the divisor \"))\n",
    "try:\n",
    "    q=dividend/divisor\n",
    "    print(\"the result is \",q) \n",
    "except:\n",
    "    print(\"divisor should not be zero\")"
   ]
  },
  {
   "cell_type": "code",
   "execution_count": 3,
   "id": "8db5e455",
   "metadata": {},
   "outputs": [
    {
     "name": "stdin",
     "output_type": "stream",
     "text": [
      "enter the dividend  34\n",
      "enter the divisor  0\n"
     ]
    },
    {
     "name": "stdout",
     "output_type": "stream",
     "text": [
      "oops this  <class 'ZeroDivisionError'> exception came\n"
     ]
    }
   ],
   "source": [
    "dividend=int(input(\"enter the dividend \"))\n",
    "divisor=int(input(\"enter the divisor \"))\n",
    "try:\n",
    "    q=dividend/divisor\n",
    "    print(\"the result is \",q) \n",
    "except Exception as e:\n",
    "    print(\"oops this \",e.__class__,\"exception came\") # returns type of error "
   ]
  },
  {
   "cell_type": "code",
   "execution_count": 4,
   "id": "cf7b1c2f",
   "metadata": {},
   "outputs": [
    {
     "name": "stdin",
     "output_type": "stream",
     "text": [
      "enter the dividend  helo\n",
      "enter the divisor  56\n"
     ]
    },
    {
     "name": "stdout",
     "output_type": "stream",
     "text": [
      "Type error \n"
     ]
    }
   ],
   "source": [
    "div=input(\"enter the dividend \")\n",
    "divis=int(input(\"enter the divisor \"))\n",
    "try:\n",
    "    q=div/divis\n",
    "    print(\"the result is \",q) \n",
    "except ZeroDivisionError:\n",
    "    print(\"divisor should not be zero\")\n",
    "except TypeError:\n",
    "    print(\"Type error \")\n",
    "except ValueError:\n",
    "    print(\"value error\")"
   ]
  },
  {
   "cell_type": "code",
   "execution_count": 30,
   "id": "9c81ab82",
   "metadata": {},
   "outputs": [
    {
     "name": "stdout",
     "output_type": "stream",
     "text": [
      "enter the dividend 78\n",
      "enter the divisor 0\n",
      "divisor should not be zero\n",
      "kindly re enter the divisor \n",
      "enter the divisor 9\n",
      "the result is  8.666666666666666\n"
     ]
    }
   ],
   "source": [
    "dividend=int(input(\"enter the dividend \"))\n",
    "\n",
    "while(True):\n",
    "    divisor=int(input(\"enter the divisor \"))\n",
    "    try:\n",
    "        q=dividend/divisor\n",
    "        print(\"the result is \",q) \n",
    "        break\n",
    "    except:\n",
    "        print(\"divisor should not be zero\")\n",
    "        print(\"kindly re enter the divisor \")\n",
    "        continue\n",
    "    \n"
   ]
  },
  {
   "cell_type": "markdown",
   "id": "55a2dfb9",
   "metadata": {},
   "source": [
    "# nested try except"
   ]
  },
  {
   "cell_type": "code",
   "execution_count": 1,
   "id": "2347a300",
   "metadata": {},
   "outputs": [
    {
     "name": "stdout",
     "output_type": "stream",
     "text": [
      "hi\n",
      "helo\n",
      "happy\n"
     ]
    }
   ],
   "source": [
    "try:\n",
    "    print(\"hi\")\n",
    "    print(\"helo\")\n",
    "    try :\n",
    "        print(\"happy\")\n",
    "    except:\n",
    "        print(\"sad\")\n",
    "except:\n",
    "    print(\"helo\")\n",
    "    try:\n",
    "        print(\"heloz\")\n",
    "    except:\n",
    "        print(\"kk\")"
   ]
  },
  {
   "cell_type": "code",
   "execution_count": null,
   "id": "34de8e54",
   "metadata": {},
   "outputs": [],
   "source": []
  }
 ],
 "metadata": {
  "kernelspec": {
   "display_name": "Python 3 (ipykernel)",
   "language": "python",
   "name": "python3"
  },
  "language_info": {
   "codemirror_mode": {
    "name": "ipython",
    "version": 3
   },
   "file_extension": ".py",
   "mimetype": "text/x-python",
   "name": "python",
   "nbconvert_exporter": "python",
   "pygments_lexer": "ipython3",
   "version": "3.11.7"
  }
 },
 "nbformat": 4,
 "nbformat_minor": 5
}
