{
 "cells": [
  {
   "cell_type": "markdown",
   "id": "bc3178c7-3cd4-4de4-849e-986bacc67bd7",
   "metadata": {},
   "source": [
    "while(expression)\n",
    "- body"
   ]
  },
  {
   "cell_type": "markdown",
   "id": "2ef189d8-1ee3-4b66-8df4-cdd62b9b428d",
   "metadata": {},
   "source": [
    "# infinite iteration:"
   ]
  },
  {
   "cell_type": "code",
   "execution_count": 1,
   "id": "8aa95c48-85be-471f-aead-54baa8cf9e69",
   "metadata": {},
   "outputs": [],
   "source": [
    "# i=1\n",
    "# while(i>0):\n",
    "#      print(\"pranav\")\n",
    "#      i=i+1"
   ]
  },
  {
   "cell_type": "code",
   "execution_count": 2,
   "id": "d15c2eb4-c3f5-4857-afee-7bb168cb4ca9",
   "metadata": {},
   "outputs": [
    {
     "name": "stdout",
     "output_type": "stream",
     "text": [
      "pranav\n",
      "pranav\n",
      "pranav\n",
      "pranav\n"
     ]
    }
   ],
   "source": [
    "i=4\n",
    "while(i>0):\n",
    "    print(\"pranav\")\n",
    "    i=i-1"
   ]
  },
  {
   "cell_type": "code",
   "execution_count": 3,
   "id": "c3cace80-f6c0-4028-a050-2f2f596a9c9b",
   "metadata": {},
   "outputs": [
    {
     "name": "stdout",
     "output_type": "stream",
     "text": [
      "pranav\n",
      "pranav\n",
      "pranav\n",
      "pranav\n"
     ]
    }
   ],
   "source": [
    "i=1\n",
    "while(i<5):\n",
    "    print(\"pranav\")\n",
    "    i=i+1"
   ]
  },
  {
   "cell_type": "markdown",
   "id": "2cbf7d28-be0a-4947-8605-7c6301cde188",
   "metadata": {},
   "source": [
    "# counting 1-10"
   ]
  },
  {
   "cell_type": "code",
   "execution_count": 1,
   "id": "6738c460-b888-49fb-8836-a5bd40963752",
   "metadata": {},
   "outputs": [
    {
     "name": "stdout",
     "output_type": "stream",
     "text": [
      "1 2 3 4 5 6 7 8 9 10 "
     ]
    }
   ],
   "source": [
    "i=1\n",
    "while(i<11):\n",
    "    print(i,end=\" \",sep=\" \")\n",
    "    i=i+1"
   ]
  },
  {
   "cell_type": "markdown",
   "id": "12430b02-2e8a-49ec-8e7e-637c95b492a8",
   "metadata": {},
   "source": [
    "# counting from choice of user"
   ]
  },
  {
   "cell_type": "code",
   "execution_count": 2,
   "id": "b97af971-5191-45ef-9435-215555994998",
   "metadata": {},
   "outputs": [
    {
     "name": "stdin",
     "output_type": "stream",
     "text": [
      "enter the start: 1\n",
      "enter the end: 10\n"
     ]
    },
    {
     "name": "stdout",
     "output_type": "stream",
     "text": [
      "1 2 3 4 5 6 7 8 9 10 "
     ]
    }
   ],
   "source": [
    "start=int(input(\"enter the start:\"))\n",
    "end=int(input(\"enter the end:\"))\n",
    "while(start<=end):\n",
    "    print(start,end=\" \")\n",
    "    start=start+1"
   ]
  },
  {
   "cell_type": "markdown",
   "id": "01de630d-a8cf-43d2-8c68-ffb00f19e946",
   "metadata": {},
   "source": [
    "# wap to display the table given by user"
   ]
  },
  {
   "cell_type": "code",
   "execution_count": 3,
   "id": "feb9b521-60d2-450a-ab7f-ac117ca11a89",
   "metadata": {},
   "outputs": [
    {
     "name": "stdin",
     "output_type": "stream",
     "text": [
      "enter the number: 9\n"
     ]
    },
    {
     "name": "stdout",
     "output_type": "stream",
     "text": [
      "9 * 1 = 9\n",
      "9 * 2 = 18\n",
      "9 * 3 = 27\n",
      "9 * 4 = 36\n",
      "9 * 5 = 45\n",
      "9 * 6 = 54\n",
      "9 * 7 = 63\n",
      "9 * 8 = 72\n",
      "9 * 9 = 81\n",
      "9 * 10 = 90\n"
     ]
    }
   ],
   "source": [
    "i=1\n",
    "num =int(input(\"enter the number:\"))\n",
    "while(i<11):\n",
    "    print(num,\"*\",i,\"=\",num*i)\n",
    "    i=i+1"
   ]
  },
  {
   "cell_type": "code",
   "execution_count": 4,
   "id": "fa429857-1bbe-4261-8863-d0c80adf31bc",
   "metadata": {},
   "outputs": [
    {
     "name": "stdin",
     "output_type": "stream",
     "text": [
      "enter the number: 9\n"
     ]
    },
    {
     "name": "stdout",
     "output_type": "stream",
     "text": [
      "9 * 10 = 90\n",
      "9 * 9 = 81\n",
      "9 * 8 = 72\n",
      "9 * 7 = 63\n",
      "9 * 6 = 54\n",
      "9 * 5 = 45\n",
      "9 * 4 = 36\n",
      "9 * 3 = 27\n",
      "9 * 2 = 18\n",
      "9 * 1 = 9\n"
     ]
    }
   ],
   "source": [
    "i=10\n",
    "num =int(input(\"enter the number:\"))\n",
    "while(i>0):\n",
    "    print(num,\"*\",i,\"=\",num*i)\n",
    "    i=i-1"
   ]
  },
  {
   "cell_type": "markdown",
   "id": "2a67112f-8f5e-4900-9cf1-2d4e2f23157a",
   "metadata": {},
   "source": [
    "# wap to display even and odd in given range"
   ]
  },
  {
   "cell_type": "code",
   "execution_count": 3,
   "id": "7ebebb0a-9d28-476d-8461-212ffd8fb403",
   "metadata": {},
   "outputs": [
    {
     "name": "stdin",
     "output_type": "stream",
     "text": [
      "enter the start: 2\n",
      "enter the end: 20\n"
     ]
    },
    {
     "name": "stdout",
     "output_type": "stream",
     "text": [
      "2 is even\n",
      "3 is odd\n",
      "4 is even\n",
      "5 is odd\n",
      "6 is even\n",
      "7 is odd\n",
      "8 is even\n",
      "9 is odd\n",
      "10 is even\n",
      "11 is odd\n",
      "12 is even\n",
      "13 is odd\n",
      "14 is even\n",
      "15 is odd\n",
      "16 is even\n",
      "17 is odd\n",
      "18 is even\n",
      "19 is odd\n",
      "20 is even\n",
      "total evens are: 10\n",
      "total odds are: 9\n"
     ]
    }
   ],
   "source": [
    "start=int(input(\"enter the start:\"))\n",
    "end=int(input(\"enter the end:\"))\n",
    "counte=0\n",
    "counto=0\n",
    "while(start<=end):\n",
    "    if start%2==0:\n",
    "        print(start,\"is even\")\n",
    "        counte=counte+1\n",
    "    else:\n",
    "        print(start,\"is odd\")\n",
    "        counto=counto+1\n",
    "    start=start+1\n",
    "print(\"total evens are:\",counte)\n",
    "print(\"total odds are:\",counto)\n",
    "        "
   ]
  },
  {
   "cell_type": "markdown",
   "id": "1d8f99fd-f9f6-4e29-a186-d1117a88746a",
   "metadata": {},
   "source": [
    "# wap to display the factors of number given by user "
   ]
  },
  {
   "cell_type": "code",
   "execution_count": 4,
   "id": "4b6f8c38-1be6-43ad-bf5d-675191e068e1",
   "metadata": {},
   "outputs": [
    {
     "name": "stdin",
     "output_type": "stream",
     "text": [
      "enter the number: 18\n"
     ]
    },
    {
     "name": "stdout",
     "output_type": "stream",
     "text": [
      "1 is factor of  18\n",
      "2 is factor of  18\n",
      "3 is factor of  18\n",
      "6 is factor of  18\n",
      "9 is factor of  18\n",
      "18 is factor of  18\n"
     ]
    }
   ],
   "source": [
    "start=1\n",
    "num=int(input(\"enter the number:\"))\n",
    "while(start<=num):\n",
    "    if num%start==0:\n",
    "        print(start,\"is factor of \",num)\n",
    "    start=start+1"
   ]
  },
  {
   "cell_type": "markdown",
   "id": "a970e02b-6179-4d98-b8e7-815ee4e8c28a",
   "metadata": {},
   "source": [
    "# wap to display prime number given by user"
   ]
  },
  {
   "cell_type": "code",
   "execution_count": 5,
   "id": "781cff34-eb89-4571-94a1-6cbd7a412b1f",
   "metadata": {},
   "outputs": [
    {
     "name": "stdin",
     "output_type": "stream",
     "text": [
      "enter the number: 19\n"
     ]
    },
    {
     "name": "stdout",
     "output_type": "stream",
     "text": [
      "prime\n"
     ]
    }
   ],
   "source": [
    "start=1\n",
    "count=0\n",
    "num=int(input(\"enter the number:\"))\n",
    "while(start<=num):\n",
    "    if num%start==0:\n",
    "        #print(start,\"is factor\")\n",
    "        count=count+1\n",
    "    start=start+1\n",
    "if count==2:\n",
    "    print(\"prime\")\n",
    "else:\n",
    "    print(\"not prime\")"
   ]
  },
  {
   "cell_type": "markdown",
   "id": "df26d610-d6ac-48a2-9aaf-7264cf99eb04",
   "metadata": {},
   "source": [
    "# wap to display the factorial of number given by user"
   ]
  },
  {
   "cell_type": "code",
   "execution_count": 15,
   "id": "520acacf-7a07-43d6-8db2-bc4a8bcaaa28",
   "metadata": {},
   "outputs": [
    {
     "name": "stdin",
     "output_type": "stream",
     "text": [
      "enter the number: 5\n"
     ]
    },
    {
     "name": "stdout",
     "output_type": "stream",
     "text": [
      "120\n"
     ]
    }
   ],
   "source": [
    "fact=1\n",
    "num=int(input(\"enter the number:\"))\n",
    "while(num>0):\n",
    "    fact=fact*num\n",
    "    num=num-1\n",
    "print(fact)"
   ]
  },
  {
   "cell_type": "markdown",
   "id": "5d8ada98-818a-419c-9f6b-aeae76ca67b2",
   "metadata": {},
   "source": [
    "# wap to display the reverse of number"
   ]
  },
  {
   "cell_type": "code",
   "execution_count": 16,
   "id": "72460cc3-37cf-4e25-b394-fad556745f33",
   "metadata": {},
   "outputs": [
    {
     "name": "stdin",
     "output_type": "stream",
     "text": [
      "enter the number: 1234\n"
     ]
    },
    {
     "name": "stdout",
     "output_type": "stream",
     "text": [
      "4321\n"
     ]
    }
   ],
   "source": [
    "num=int(input(\"enter the number:\"))\n",
    "rev=0\n",
    "while(num>0):\n",
    "    ld=num%10\n",
    "    num=num//10\n",
    "    rev=rev*10+ld\n",
    "print(rev)"
   ]
  },
  {
   "cell_type": "code",
   "execution_count": 17,
   "id": "81097ae6-a82f-44e8-accb-0c8b1c30a7b4",
   "metadata": {},
   "outputs": [
    {
     "name": "stdin",
     "output_type": "stream",
     "text": [
      "enter the number: 90\n"
     ]
    },
    {
     "name": "stdout",
     "output_type": "stream",
     "text": [
      "9\n"
     ]
    }
   ],
   "source": [
    "num=int(input(\"enter the number:\"))\n",
    "rev=0\n",
    "while(num>0):\n",
    "    ld=num%10\n",
    "    num=num//10\n",
    "    rev=rev*10+ld\n",
    "print(rev)\n"
   ]
  },
  {
   "cell_type": "markdown",
   "id": "8f31b33a-35e8-4e91-851a-2719b35fe2ff",
   "metadata": {},
   "source": [
    "# wap to display the entered number is armstrong or not"
   ]
  },
  {
   "cell_type": "code",
   "execution_count": 6,
   "id": "f41267f6-7bc4-4cf9-8b7e-36a27b053d39",
   "metadata": {},
   "outputs": [
    {
     "name": "stdin",
     "output_type": "stream",
     "text": [
      "enter the number 153\n"
     ]
    },
    {
     "name": "stdout",
     "output_type": "stream",
     "text": [
      "the sum is  153\n",
      "armstrong\n"
     ]
    }
   ],
   "source": [
    "num=int(input(\"enter the number\"))\n",
    "sum1=0\n",
    "temp=num\n",
    "while(num>0):\n",
    "    ld=num%10\n",
    "    num=num//10\n",
    "    number=ld**3\n",
    "    sum1=sum1+number\n",
    "print(\"the sum is \",sum1)\n",
    "if sum1==temp:\n",
    "    print(\"armstrong\")\n",
    "else:\n",
    "    print(\"NOT\")\n"
   ]
  },
  {
   "cell_type": "markdown",
   "id": "b37dcd96-ae34-4f27-9ada-e6fa86d6b68a",
   "metadata": {},
   "source": [
    "# wap to display the number of digits in entered number"
   ]
  },
  {
   "cell_type": "code",
   "execution_count": 21,
   "id": "569c67ed-cfc2-4a22-8e42-c70a07bb02e1",
   "metadata": {},
   "outputs": [
    {
     "name": "stdin",
     "output_type": "stream",
     "text": [
      "enter the number: 345\n"
     ]
    },
    {
     "name": "stdout",
     "output_type": "stream",
     "text": [
      "total digits are: 3\n"
     ]
    }
   ],
   "source": [
    "num=int(input(\"enter the number:\"))\n",
    "count=0\n",
    "while(num>0):\n",
    "    num=num//10\n",
    "    count=count+1\n",
    "print(\"total digits are:\",count)"
   ]
  },
  {
   "cell_type": "code",
   "execution_count": 22,
   "id": "f5e80f71-7807-477f-baf0-1436df5f750c",
   "metadata": {},
   "outputs": [],
   "source": [
    "# wap to dsplay 1+1/2+1/3+1/4........"
   ]
  },
  {
   "cell_type": "code",
   "execution_count": 24,
   "id": "189c0aab-a3c9-4f3d-adaa-93ee5f0ba8d8",
   "metadata": {},
   "outputs": [
    {
     "name": "stdin",
     "output_type": "stream",
     "text": [
      "enter the value of n: 3\n"
     ]
    },
    {
     "name": "stdout",
     "output_type": "stream",
     "text": [
      "1.8333333333333333\n"
     ]
    }
   ],
   "source": [
    "n=int(input(\"enter the value of n:\"))\n",
    "sum1=0\n",
    "for i in range(1,n+1):\n",
    "    sum1=sum1+(1/i)\n",
    "print(sum1)"
   ]
  },
  {
   "cell_type": "code",
   "execution_count": 27,
   "id": "41197624-0601-4885-9767-914a0dbfe3c9",
   "metadata": {},
   "outputs": [
    {
     "name": "stdin",
     "output_type": "stream",
     "text": [
      "enter the value of n: 7\n"
     ]
    },
    {
     "name": "stdout",
     "output_type": "stream",
     "text": [
      "1 / 1 +1 / 2 +1 / 3 +1 / 4 +1 / 5 +1 / 6 +1/7"
     ]
    }
   ],
   "source": [
    "n=int(input(\"enter the value of n:\"))\n",
    "for i in range(1,n+1):\n",
    "    if i!=n:\n",
    "        print(1,\"/\",i,\"+\",end=\"\",sep=\" \")\n",
    "    else:\n",
    "         print(1,\"/\",i,end=\"\",sep=\" \")"
   ]
  }
 ],
 "metadata": {
  "kernelspec": {
   "display_name": "Python 3 (ipykernel)",
   "language": "python",
   "name": "python3"
  },
  "language_info": {
   "codemirror_mode": {
    "name": "ipython",
    "version": 3
   },
   "file_extension": ".py",
   "mimetype": "text/x-python",
   "name": "python",
   "nbconvert_exporter": "python",
   "pygments_lexer": "ipython3",
   "version": "3.11.7"
  }
 },
 "nbformat": 4,
 "nbformat_minor": 5
}
