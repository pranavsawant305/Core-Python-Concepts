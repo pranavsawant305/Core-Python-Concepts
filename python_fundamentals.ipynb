{
 "cells": [
  {
   "cell_type": "markdown",
   "id": "456f841b-d4e5-47ad-9353-2b16f30fdd20",
   "metadata": {},
   "source": [
    "# '''fdsafdsf\n",
    "dsfsdg\n",
    "dsg\n",
    "g\n",
    "sd\n",
    "g\n",
    "\n",
    "gdsg\n",
    "s'''\n",
    "print(\"fjsdalfkj\")"
   ]
  },
  {
   "cell_type": "code",
   "execution_count": 8,
   "id": "9b2e5460-0aeb-44bb-b081-23a57bcf8aaf",
   "metadata": {},
   "outputs": [
    {
     "name": "stdout",
     "output_type": "stream",
     "text": [
      "fsdd\n"
     ]
    }
   ],
   "source": [
    "# asdgjhklgjhadflkgjh\n",
    "print(\"fsdd\")"
   ]
  },
  {
   "cell_type": "markdown",
   "id": "4691dd66-9500-4770-98af-5894274baa7d",
   "metadata": {},
   "source": [
    "# comments: used to explain or describe the code\n",
    "- it enhance the readibility\n",
    "- helps in debugging\n",
    "## types\n",
    "- single line : using #\n",
    "- multi line: using '''type here'''"
   ]
  },
  {
   "cell_type": "markdown",
   "id": "6d355db3-9840-4ad8-b58d-d59320c04ff9",
   "metadata": {},
   "source": [
    "# variable : the container which is used to store data/value\n",
    "# create\n",
    "## name=value"
   ]
  },
  {
   "cell_type": "code",
   "execution_count": 11,
   "id": "d05792e4-2fa4-4110-81c2-24b60c123a55",
   "metadata": {},
   "outputs": [],
   "source": [
    "a=90"
   ]
  },
  {
   "cell_type": "code",
   "execution_count": 12,
   "id": "faa7ecdb-83b7-4676-806a-8d04f0deb3ab",
   "metadata": {},
   "outputs": [
    {
     "data": {
      "text/plain": [
       "140721235676744"
      ]
     },
     "execution_count": 12,
     "metadata": {},
     "output_type": "execute_result"
    }
   ],
   "source": [
    "id(a) #id is inbuilt function which tells the address"
   ]
  },
  {
   "cell_type": "code",
   "execution_count": 13,
   "id": "651780b4-ff8f-44cf-adea-1f422fdaf5e0",
   "metadata": {},
   "outputs": [
    {
     "data": {
      "text/plain": [
       "95"
      ]
     },
     "execution_count": 13,
     "metadata": {},
     "output_type": "execute_result"
    }
   ],
   "source": [
    "a + 5"
   ]
  },
  {
   "cell_type": "code",
   "execution_count": 14,
   "id": "f0cc0f51-55c5-4e93-9bbd-26d16d7b0e01",
   "metadata": {},
   "outputs": [],
   "source": [
    "a=100"
   ]
  },
  {
   "cell_type": "markdown",
   "id": "1841977e-fb4a-4c92-8a73-1fb805cfc3b4",
   "metadata": {},
   "source": [
    "# how to access variable"
   ]
  },
  {
   "cell_type": "code",
   "execution_count": 15,
   "id": "21f06c1b-56a6-47e6-b993-a9217f3c07b9",
   "metadata": {},
   "outputs": [
    {
     "data": {
      "text/plain": [
       "100"
      ]
     },
     "execution_count": 15,
     "metadata": {},
     "output_type": "execute_result"
    }
   ],
   "source": [
    "a"
   ]
  },
  {
   "cell_type": "markdown",
   "id": "6a93887b-9f59-446c-8a2e-764a6f165e2e",
   "metadata": {},
   "source": [
    "# scope of vaiable: the area upto which can be access"
   ]
  },
  {
   "cell_type": "code",
   "execution_count": 16,
   "id": "fec749af-4941-4801-a0f9-4b4de2eafaa3",
   "metadata": {},
   "outputs": [
    {
     "data": {
      "text/plain": [
       "100"
      ]
     },
     "execution_count": 16,
     "metadata": {},
     "output_type": "execute_result"
    }
   ],
   "source": [
    "a"
   ]
  },
  {
   "cell_type": "markdown",
   "id": "882c5d9c-009c-4b43-a51c-b311ccf4ca16",
   "metadata": {},
   "source": [
    "# variable: are the naming rules for variable,function etc"
   ]
  },
  {
   "cell_type": "markdown",
   "id": "0eaf7449-7c03-4db2-b288-4b0a13dde2ca",
   "metadata": {},
   "source": [
    "# rule 1 : begins with alphabat or only _ "
   ]
  },
  {
   "cell_type": "code",
   "execution_count": 17,
   "id": "66040259-6423-4253-bdc5-12cf7e8d4c98",
   "metadata": {},
   "outputs": [],
   "source": [
    "pranav=21"
   ]
  },
  {
   "cell_type": "code",
   "execution_count": 18,
   "id": "f7d49953-9c88-493b-b4ce-f3a60b88f517",
   "metadata": {},
   "outputs": [
    {
     "ename": "SyntaxError",
     "evalue": "invalid decimal literal (3280776587.py, line 1)",
     "output_type": "error",
     "traceback": [
      "\u001b[1;36m  Cell \u001b[1;32mIn[18], line 1\u001b[1;36m\u001b[0m\n\u001b[1;33m    2pranav=4\u001b[0m\n\u001b[1;37m    ^\u001b[0m\n\u001b[1;31mSyntaxError\u001b[0m\u001b[1;31m:\u001b[0m invalid decimal literal\n"
     ]
    }
   ],
   "source": [
    "2pranav=4"
   ]
  },
  {
   "cell_type": "code",
   "execution_count": 20,
   "id": "97f6ed54-546a-41d2-ba09-d57e9406a813",
   "metadata": {},
   "outputs": [],
   "source": [
    "_pranav=32"
   ]
  },
  {
   "cell_type": "markdown",
   "id": "da496a3d-ca9b-4f42-bb7e-9fadc04fe01d",
   "metadata": {},
   "source": [
    "# rule 2: can have alphabat ,digit and _ followed by begining"
   ]
  },
  {
   "cell_type": "code",
   "execution_count": 21,
   "id": "03711820-f575-4189-9e2e-01a25798ca4b",
   "metadata": {},
   "outputs": [],
   "source": [
    "pranav3=23"
   ]
  },
  {
   "cell_type": "code",
   "execution_count": 22,
   "id": "649a0b20-5693-4757-93f1-6a268a36d3b5",
   "metadata": {},
   "outputs": [],
   "source": [
    "pranav_=32"
   ]
  },
  {
   "cell_type": "code",
   "execution_count": 23,
   "id": "4bff0391-5188-4d80-97aa-2251e6ae90f3",
   "metadata": {},
   "outputs": [],
   "source": [
    "pra12nav_fasf=65"
   ]
  },
  {
   "cell_type": "code",
   "execution_count": 24,
   "id": "a7945153-855e-4664-a649-7ae7a4cdafdc",
   "metadata": {},
   "outputs": [
    {
     "ename": "NameError",
     "evalue": "name 'ptat_' is not defined",
     "output_type": "error",
     "traceback": [
      "\u001b[1;31m---------------------------------------------------------------------------\u001b[0m",
      "\u001b[1;31mNameError\u001b[0m                                 Traceback (most recent call last)",
      "Cell \u001b[1;32mIn[24], line 1\u001b[0m\n\u001b[1;32m----> 1\u001b[0m ptat_\u001b[38;5;241m@\u001b[39m\u001b[38;5;241m=\u001b[39m\u001b[38;5;241m32\u001b[39m\n",
      "\u001b[1;31mNameError\u001b[0m: name 'ptat_' is not defined"
     ]
    }
   ],
   "source": [
    "ptat_@=32"
   ]
  },
  {
   "cell_type": "markdown",
   "id": "91ee80b3-d1c8-439f-9fc8-3d975e1aecdd",
   "metadata": {},
   "source": [
    "# rule 3 : it could be of any length"
   ]
  },
  {
   "cell_type": "code",
   "execution_count": 26,
   "id": "1c2337dd-9fc4-433f-b1f6-3189b321ea87",
   "metadata": {},
   "outputs": [],
   "source": [
    "gvfdshfbdshbfk=4325345"
   ]
  },
  {
   "cell_type": "markdown",
   "id": "c69d680e-0a75-49cc-a618-12028b84f60d",
   "metadata": {},
   "source": [
    "# rule 4: it is case sensitive"
   ]
  },
  {
   "cell_type": "code",
   "execution_count": 27,
   "id": "b1f6cedf-3577-4c62-b583-a98a01b248ef",
   "metadata": {},
   "outputs": [],
   "source": [
    "pranav=15"
   ]
  },
  {
   "cell_type": "code",
   "execution_count": 28,
   "id": "82592fb5-109d-4fea-aa8e-4e6cba21e5de",
   "metadata": {},
   "outputs": [],
   "source": [
    "Pranav=10"
   ]
  },
  {
   "cell_type": "code",
   "execution_count": 29,
   "id": "2731f8f1-2a0c-4b0a-a69e-13d7dea08afd",
   "metadata": {},
   "outputs": [
    {
     "data": {
      "text/plain": [
       "15"
      ]
     },
     "execution_count": 29,
     "metadata": {},
     "output_type": "execute_result"
    }
   ],
   "source": [
    "pranav"
   ]
  },
  {
   "cell_type": "code",
   "execution_count": 30,
   "id": "1be28239-c1ba-4e4b-8567-804651ae382b",
   "metadata": {},
   "outputs": [
    {
     "data": {
      "text/plain": [
       "10"
      ]
     },
     "execution_count": 30,
     "metadata": {},
     "output_type": "execute_result"
    }
   ],
   "source": [
    "Pranav"
   ]
  },
  {
   "cell_type": "markdown",
   "id": "0d6b99a3-0c6c-4e7f-96ab-c0d863405918",
   "metadata": {},
   "source": [
    "# rule 5: it should not be keyword"
   ]
  },
  {
   "cell_type": "code",
   "execution_count": 31,
   "id": "6343131f-9379-4936-896a-ed0611986d10",
   "metadata": {},
   "outputs": [
    {
     "ename": "SyntaxError",
     "evalue": "invalid syntax (79668329.py, line 1)",
     "output_type": "error",
     "traceback": [
      "\u001b[1;36m  Cell \u001b[1;32mIn[31], line 1\u001b[1;36m\u001b[0m\n\u001b[1;33m    and=18\u001b[0m\n\u001b[1;37m    ^\u001b[0m\n\u001b[1;31mSyntaxError\u001b[0m\u001b[1;31m:\u001b[0m invalid syntax\n"
     ]
    }
   ],
   "source": [
    "and=18"
   ]
  },
  {
   "cell_type": "code",
   "execution_count": 32,
   "id": "2d4d1082-4099-4ce9-85b4-3edbd4eba770",
   "metadata": {},
   "outputs": [],
   "source": [
    "import keyword"
   ]
  },
  {
   "cell_type": "code",
   "execution_count": 33,
   "id": "42dcb6e4-6900-4535-933c-ab5c70f6c0df",
   "metadata": {},
   "outputs": [
    {
     "name": "stdout",
     "output_type": "stream",
     "text": [
      "['False', 'None', 'True', 'and', 'as', 'assert', 'async', 'await', 'break', 'class', 'continue', 'def', 'del', 'elif', 'else', 'except', 'finally', 'for', 'from', 'global', 'if', 'import', 'in', 'is', 'lambda', 'nonlocal', 'not', 'or', 'pass', 'raise', 'return', 'try', 'while', 'with', 'yield']\n"
     ]
    }
   ],
   "source": [
    "print(keyword.kwlist)"
   ]
  },
  {
   "cell_type": "markdown",
   "id": "b07870b8-b51c-4e91-b159-56e90e0c5514",
   "metadata": {},
   "source": [
    "# data type: defines the type of data"
   ]
  },
  {
   "cell_type": "markdown",
   "id": "ce3fc442-4c57-4d26-a8fe-81c5f33170f5",
   "metadata": {},
   "source": [
    "- numeric\n",
    "- int\n",
    "  - float\n",
    "  - complex\n",
    "- bool\n",
    "- sequence type\n",
    "  - string\n",
    "  - list\n",
    "  - tuple\n",
    "- dictionary\n",
    "- sets"
   ]
  },
  {
   "cell_type": "code",
   "execution_count": 35,
   "id": "9090e2f2-2f3e-4192-adc0-a770e31b08ba",
   "metadata": {},
   "outputs": [
    {
     "name": "stdout",
     "output_type": "stream",
     "text": [
      "19\n",
      "<class 'int'>\n"
     ]
    }
   ],
   "source": [
    "a=19\n",
    "print(a)\n",
    "print(type(a))"
   ]
  },
  {
   "cell_type": "code",
   "execution_count": 39,
   "id": "970564e7-2a92-456e-8fb5-a6832795cfef",
   "metadata": {},
   "outputs": [
    {
     "name": "stdout",
     "output_type": "stream",
     "text": [
      "-19\n",
      "<class 'int'>\n"
     ]
    }
   ],
   "source": [
    "a=-19\n",
    "print(a)\n",
    "print(type(a)) #type : gives the type of data "
   ]
  },
  {
   "cell_type": "code",
   "execution_count": 37,
   "id": "171eae10-8130-4aa8-bd94-76619066544f",
   "metadata": {},
   "outputs": [
    {
     "name": "stdout",
     "output_type": "stream",
     "text": [
      "19.34\n",
      "<class 'float'>\n"
     ]
    }
   ],
   "source": [
    "a=19.34\n",
    "print(a)\n",
    "print(type(a))"
   ]
  },
  {
   "cell_type": "code",
   "execution_count": 38,
   "id": "8ff8d43e-fe70-4acf-ae47-b79d444aaf72",
   "metadata": {},
   "outputs": [
    {
     "name": "stdout",
     "output_type": "stream",
     "text": [
      "(19+2j)\n",
      "<class 'complex'>\n"
     ]
    }
   ],
   "source": [
    "a=19+2j\n",
    "print(a)\n",
    "print(type(a))"
   ]
  },
  {
   "cell_type": "code",
   "execution_count": 1,
   "id": "bbb1adb4-afbe-43ab-913c-66c953992377",
   "metadata": {},
   "outputs": [],
   "source": [
    "# bool: true or False"
   ]
  },
  {
   "cell_type": "code",
   "execution_count": 3,
   "id": "d569b194-ef44-4eda-8780-157a8f9d7ad6",
   "metadata": {},
   "outputs": [
    {
     "name": "stdout",
     "output_type": "stream",
     "text": [
      "True\n",
      "<class 'bool'>\n"
     ]
    }
   ],
   "source": [
    "a=True\n",
    "print(a)\n",
    "print(type(a))"
   ]
  },
  {
   "cell_type": "code",
   "execution_count": 4,
   "id": "ec21a721-df9b-419b-bf86-48dd35186fbf",
   "metadata": {},
   "outputs": [
    {
     "name": "stdout",
     "output_type": "stream",
     "text": [
      "False\n",
      "<class 'bool'>\n"
     ]
    }
   ],
   "source": [
    "a=False\n",
    "print(a)\n",
    "print(type(a))"
   ]
  },
  {
   "cell_type": "markdown",
   "id": "ce622737-31cd-49a9-81a0-038fec486a19",
   "metadata": {},
   "source": [
    "# sequence: type\n",
    "-  string"
   ]
  },
  {
   "cell_type": "markdown",
   "id": "9fded1a7-e16a-4045-8c01-c199d6b4ee5c",
   "metadata": {},
   "source": [
    "# how to create"
   ]
  },
  {
   "cell_type": "markdown",
   "id": "b8261817-d606-4465-bc17-3d79c8ce4e2b",
   "metadata": {},
   "source": [
    "-  single quote\n",
    "-  double quote\n",
    "-  triple quote"
   ]
  },
  {
   "cell_type": "code",
   "execution_count": 6,
   "id": "ee135781-81cd-4956-b99c-f76ebdf670c3",
   "metadata": {},
   "outputs": [
    {
     "name": "stdout",
     "output_type": "stream",
     "text": [
      "19.34\n",
      "<class 'str'>\n"
     ]
    }
   ],
   "source": [
    "a='19.34'\n",
    "print(a)\n",
    "print(type(a))"
   ]
  },
  {
   "cell_type": "code",
   "execution_count": 10,
   "id": "8dc44766-9897-464e-b08d-64d2a24d2b19",
   "metadata": {},
   "outputs": [
    {
     "name": "stdout",
     "output_type": "stream",
     "text": [
      "19.34's\n",
      "<class 'str'>\n"
     ]
    }
   ],
   "source": [
    "a=\"19.34's\"\n",
    "print(a)\n",
    "print(type(a))"
   ]
  },
  {
   "cell_type": "code",
   "execution_count": 9,
   "id": "3cd87716-23c9-4d90-a682-27b9d8207a9d",
   "metadata": {},
   "outputs": [
    {
     "name": "stdout",
     "output_type": "stream",
     "text": [
      "dfadgd\n",
      "dfdsfds\n",
      "dsfdsf\n",
      "\n",
      "<class 'str'>\n"
     ]
    }
   ],
   "source": [
    "a='''dfadgd\n",
    "dfdsfds\n",
    "dsfdsf\n",
    "'''\n",
    "print(a)\n",
    "print(type(a))"
   ]
  },
  {
   "cell_type": "markdown",
   "id": "d6fa58cc-dd47-4cc2-981d-74fdd8fbeed4",
   "metadata": {},
   "source": [
    "# list: it is used for multiple collection of data "
   ]
  },
  {
   "cell_type": "markdown",
   "id": "d2d6c3b9-5532-4d56-b8af-30f35847a596",
   "metadata": {},
   "source": [
    "# how to create list\n",
    "## using []"
   ]
  },
  {
   "cell_type": "code",
   "execution_count": 16,
   "id": "2fd7d99e-4c7d-4d2c-8566-61be4bbb7960",
   "metadata": {},
   "outputs": [
    {
     "name": "stdout",
     "output_type": "stream",
     "text": [
      "['pranav', 1, 'data analytics', 98.5]\n"
     ]
    }
   ],
   "source": [
    "l=[\"pranav\",1,\"data analytics\",98.5] # hetro\n",
    "print(l)"
   ]
  },
  {
   "cell_type": "code",
   "execution_count": 17,
   "id": "80975065-ce3d-4f27-8e11-7291e188743c",
   "metadata": {},
   "outputs": [
    {
     "name": "stdout",
     "output_type": "stream",
     "text": [
      "[32, 4, 54, 56, 7, 78]\n"
     ]
    }
   ],
   "source": [
    "marks=[32,4,54,56,7,78] # homo\n",
    "print(marks)"
   ]
  },
  {
   "cell_type": "markdown",
   "id": "0a165cfc-5bd2-4e75-9f67-29b83923803f",
   "metadata": {},
   "source": [
    "# tuple\n",
    "## using ()"
   ]
  },
  {
   "cell_type": "code",
   "execution_count": 1,
   "id": "57022db8-ce99-4d46-899b-174a85259c0d",
   "metadata": {},
   "outputs": [
    {
     "name": "stdout",
     "output_type": "stream",
     "text": [
      "(23, 56, 78, 90)\n"
     ]
    }
   ],
   "source": [
    "t=(23,56,78,90) #homo\n",
    "print(t)"
   ]
  },
  {
   "cell_type": "code",
   "execution_count": 2,
   "id": "47c01654-a960-4b2d-a6cb-d7b1d81e1777",
   "metadata": {},
   "outputs": [
    {
     "name": "stdout",
     "output_type": "stream",
     "text": [
      "('sad', 23, 87.8)\n",
      "<class 'tuple'>\n"
     ]
    }
   ],
   "source": [
    "mark=(\"sad\",23,87.8) #hetro\n",
    "print(mark)\n",
    "print(type(mark))"
   ]
  },
  {
   "cell_type": "markdown",
   "id": "12e17600-f83e-4724-a060-2fff308c1bed",
   "metadata": {},
   "source": [
    "# type casting: type conversion"
   ]
  },
  {
   "cell_type": "code",
   "execution_count": 3,
   "id": "8715544c-86ab-449c-89e4-70bd3f5c8174",
   "metadata": {},
   "outputs": [
    {
     "name": "stdout",
     "output_type": "stream",
     "text": [
      "23\n",
      "<class 'int'>\n",
      "23.0\n",
      "<class 'float'>\n"
     ]
    }
   ],
   "source": [
    "#int to float\n",
    "a=23\n",
    "print(a)\n",
    "print(type(a))\n",
    "a1=float(a)\n",
    "print(a1)\n",
    "print(type(a1))"
   ]
  },
  {
   "cell_type": "code",
   "execution_count": 4,
   "id": "ef787085-0ff7-4e80-9c1d-10481251ba12",
   "metadata": {},
   "outputs": [
    {
     "name": "stdout",
     "output_type": "stream",
     "text": [
      "23.8\n",
      "<class 'float'>\n",
      "23\n",
      "<class 'int'>\n"
     ]
    }
   ],
   "source": [
    "# float to int\n",
    "a=23.8\n",
    "print(a)\n",
    "print(type(a))\n",
    "a1=int(a)\n",
    "print(a1)\n",
    "print(type(a1))"
   ]
  },
  {
   "cell_type": "code",
   "execution_count": 8,
   "id": "7c290482-c117-4290-9ddd-24a22fa9c8b6",
   "metadata": {},
   "outputs": [
    {
     "name": "stdout",
     "output_type": "stream",
     "text": [
      "23\n",
      "<class 'int'>\n",
      "23\n",
      "<class 'str'>\n"
     ]
    }
   ],
   "source": [
    "# int to string\n",
    "a=23\n",
    "print(a)\n",
    "print(type(a))\n",
    "a1=str(a)\n",
    "a1\n",
    "print(a1) \n",
    "print(type(a1))"
   ]
  },
  {
   "cell_type": "code",
   "execution_count": 10,
   "id": "c10275a1-09c8-4fc0-938c-1c67c4c087d6",
   "metadata": {},
   "outputs": [
    {
     "name": "stdout",
     "output_type": "stream",
     "text": [
      "23\n",
      "<class 'str'>\n",
      "23\n",
      "<class 'int'>\n"
     ]
    }
   ],
   "source": [
    "# string to int\n",
    "a=\"23\" # 23 can be converted to numeric\n",
    "print(a)\n",
    "print(type(a))\n",
    "a1=int(a)\n",
    "print(a1)\n",
    "print(type(a1))"
   ]
  },
  {
   "cell_type": "code",
   "execution_count": 11,
   "id": "8b3d62d1-c5bc-4e98-a125-dea69b173522",
   "metadata": {},
   "outputs": [
    {
     "name": "stdout",
     "output_type": "stream",
     "text": [
      "helo\n",
      "<class 'str'>\n"
     ]
    },
    {
     "ename": "ValueError",
     "evalue": "invalid literal for int() with base 10: 'helo'",
     "output_type": "error",
     "traceback": [
      "\u001b[1;31m---------------------------------------------------------------------------\u001b[0m",
      "\u001b[1;31mValueError\u001b[0m                                Traceback (most recent call last)",
      "Cell \u001b[1;32mIn[11], line 4\u001b[0m\n\u001b[0;32m      2\u001b[0m \u001b[38;5;28mprint\u001b[39m(a)\n\u001b[0;32m      3\u001b[0m \u001b[38;5;28mprint\u001b[39m(\u001b[38;5;28mtype\u001b[39m(a))\n\u001b[1;32m----> 4\u001b[0m a1\u001b[38;5;241m=\u001b[39m\u001b[38;5;28mint\u001b[39m(a)\n\u001b[0;32m      5\u001b[0m \u001b[38;5;28mprint\u001b[39m(a1)\n\u001b[0;32m      6\u001b[0m \u001b[38;5;28mprint\u001b[39m(\u001b[38;5;28mtype\u001b[39m(a1))\n",
      "\u001b[1;31mValueError\u001b[0m: invalid literal for int() with base 10: 'helo'"
     ]
    }
   ],
   "source": [
    "a=\"helo\" # helo cannot be converted in numeric\n",
    "print(a)\n",
    "print(type(a))\n",
    "a1=int(a)\n",
    "print(a1)\n",
    "print(type(a1))"
   ]
  },
  {
   "cell_type": "code",
   "execution_count": 29,
   "id": "4e3d124f-42c1-4f77-859d-ecf812b25200",
   "metadata": {},
   "outputs": [
    {
     "name": "stdout",
     "output_type": "stream",
     "text": [
      "helo\n",
      "<class 'str'>\n"
     ]
    },
    {
     "ename": "ValueError",
     "evalue": "could not convert string to float: 'helo'",
     "output_type": "error",
     "traceback": [
      "\u001b[1;31m---------------------------------------------------------------------------\u001b[0m",
      "\u001b[1;31mValueError\u001b[0m                                Traceback (most recent call last)",
      "Cell \u001b[1;32mIn[29], line 4\u001b[0m\n\u001b[0;32m      2\u001b[0m \u001b[38;5;28mprint\u001b[39m(a)\n\u001b[0;32m      3\u001b[0m \u001b[38;5;28mprint\u001b[39m(\u001b[38;5;28mtype\u001b[39m(a))\n\u001b[1;32m----> 4\u001b[0m a1\u001b[38;5;241m=\u001b[39m\u001b[38;5;28mfloat\u001b[39m(a)\n\u001b[0;32m      5\u001b[0m \u001b[38;5;28mprint\u001b[39m(a1)\n\u001b[0;32m      6\u001b[0m \u001b[38;5;28mprint\u001b[39m(\u001b[38;5;28mtype\u001b[39m(a1))\n",
      "\u001b[1;31mValueError\u001b[0m: could not convert string to float: 'helo'"
     ]
    }
   ],
   "source": [
    "a=\"helo\"\n",
    "print(a)\n",
    "print(type(a))\n",
    "a1=float(a)\n",
    "print(a1)\n",
    "print(type(a1))"
   ]
  },
  {
   "cell_type": "code",
   "execution_count": 12,
   "id": "960c2965-8a3a-40f4-ac71-0a797d084665",
   "metadata": {},
   "outputs": [
    {
     "name": "stdout",
     "output_type": "stream",
     "text": [
      "234\n",
      "<class 'str'>\n",
      "234.0\n",
      "<class 'float'>\n"
     ]
    }
   ],
   "source": [
    "# string to float\n",
    "a=\"234\"\n",
    "print(a)\n",
    "print(type(a))\n",
    "a1=float(a)\n",
    "print(a1)\n",
    "print(type(a1))"
   ]
  },
  {
   "cell_type": "code",
   "execution_count": 13,
   "id": "da20536e-0382-4076-8dd9-2711be940f43",
   "metadata": {},
   "outputs": [
    {
     "name": "stdout",
     "output_type": "stream",
     "text": [
      "234\n",
      "<class 'str'>\n",
      "234\n",
      "<class 'int'>\n"
     ]
    }
   ],
   "source": [
    "# string to int\n",
    "a=\"234\"\n",
    "print(a)\n",
    "print(type(a))\n",
    "a1=int(a)\n",
    "print(a1)\n",
    "print(type(a1))"
   ]
  },
  {
   "cell_type": "code",
   "execution_count": 16,
   "id": "2085de63-f0a9-4191-a04c-0cfeec645bbe",
   "metadata": {},
   "outputs": [
    {
     "name": "stdout",
     "output_type": "stream",
     "text": [
      "123\n",
      "<class 'str'>\n",
      "123\n",
      "<class 'int'>\n",
      "123.0\n",
      "<class 'float'>\n"
     ]
    }
   ],
   "source": [
    "# string to float\n",
    "a=\"123\"\n",
    "print(a)\n",
    "print(type(a))\n",
    "a1=int(a) # it req double conversion\n",
    "print(a1)\n",
    "print(type(a1))\n",
    "a2=float(a1)\n",
    "print(a2)\n",
    "print(type(a2))"
   ]
  },
  {
   "cell_type": "code",
   "execution_count": 17,
   "id": "b64c43b2-2e76-4652-9ffa-48bb6b835410",
   "metadata": {},
   "outputs": [
    {
     "name": "stdout",
     "output_type": "stream",
     "text": [
      "234\n",
      "<class 'str'>\n",
      "True\n",
      "<class 'bool'>\n"
     ]
    }
   ],
   "source": [
    "# string to bool\n",
    "a=\"234\"\n",
    "print(a)\n",
    "print(type(a))\n",
    "a1= bool(a)\n",
    "print(a1)\n",
    "print(type(a1))"
   ]
  },
  {
   "cell_type": "markdown",
   "id": "da8b8555-7342-4d21-9935-644b3e986544",
   "metadata": {},
   "source": [
    "# note: any positive is True negitive is False"
   ]
  },
  {
   "cell_type": "code",
   "execution_count": 19,
   "id": "e021fed4-dab5-4fc5-8ae8-064283d435d2",
   "metadata": {},
   "outputs": [
    {
     "name": "stdout",
     "output_type": "stream",
     "text": [
      "234\n",
      "<class 'int'>\n",
      "True\n",
      "<class 'bool'>\n"
     ]
    }
   ],
   "source": [
    "# int to bool\n",
    "a=234\n",
    "print(a)\n",
    "print(type(a))\n",
    "a1= bool(a)\n",
    "print(a1)\n",
    "print(type(a1))"
   ]
  },
  {
   "cell_type": "code",
   "execution_count": 20,
   "id": "5e4f4f07-66cb-448d-aacf-22147bcbd5d5",
   "metadata": {},
   "outputs": [
    {
     "name": "stdout",
     "output_type": "stream",
     "text": [
      "-234\n",
      "<class 'int'>\n",
      "True\n",
      "<class 'bool'>\n"
     ]
    }
   ],
   "source": [
    "# int to bool\n",
    "a=-234\n",
    "print(a)\n",
    "print(type(a))\n",
    "a1= bool(a)\n",
    "print(a1)\n",
    "print(type(a1))"
   ]
  },
  {
   "cell_type": "code",
   "execution_count": 21,
   "id": "a5060ea7-3eec-4e23-9a40-22539d28ac13",
   "metadata": {},
   "outputs": [
    {
     "name": "stdout",
     "output_type": "stream",
     "text": [
      "0\n",
      "<class 'int'>\n",
      "False\n",
      "<class 'bool'>\n"
     ]
    }
   ],
   "source": [
    "# int to bool\n",
    "a=0\n",
    "print(a)\n",
    "print(type(a))\n",
    "a1= bool(a)\n",
    "print(a1)\n",
    "print(type(a1))"
   ]
  },
  {
   "cell_type": "code",
   "execution_count": 22,
   "id": "164cf9e1-02d4-4cb4-bf48-e9b166a80473",
   "metadata": {},
   "outputs": [
    {
     "name": "stdout",
     "output_type": "stream",
     "text": [
      "234\n",
      "<class 'str'>\n",
      "True\n",
      "<class 'bool'>\n"
     ]
    }
   ],
   "source": [
    "# string to bool\n",
    "a=\"234\"\n",
    "print(a)\n",
    "print(type(a))\n",
    "a1= bool(a)\n",
    "print(a1)\n",
    "print(type(a1))"
   ]
  },
  {
   "cell_type": "code",
   "execution_count": 23,
   "id": "9671caa1-3d47-494f-bceb-f17da3e10bb5",
   "metadata": {},
   "outputs": [
    {
     "name": "stdout",
     "output_type": "stream",
     "text": [
      "\n",
      "<class 'str'>\n",
      "False\n",
      "<class 'bool'>\n"
     ]
    }
   ],
   "source": [
    "# string to bool\n",
    "a=\"\"\n",
    "print(a)\n",
    "print(type(a))\n",
    "a1= bool(a)\n",
    "print(a1)\n",
    "print(type(a1))"
   ]
  },
  {
   "cell_type": "markdown",
   "id": "826e3914-840e-4c72-990e-121fcdef4bf0",
   "metadata": {},
   "source": [
    "# note : non empty is true empty is False"
   ]
  },
  {
   "cell_type": "code",
   "execution_count": 24,
   "id": "c52956e0-6362-4edc-a2b2-017de694881b",
   "metadata": {},
   "outputs": [
    {
     "name": "stdout",
     "output_type": "stream",
     "text": [
      "True\n",
      "<class 'bool'>\n",
      "1\n",
      "<class 'int'>\n"
     ]
    }
   ],
   "source": [
    "# bool to int\n",
    "a=True\n",
    "print(a)\n",
    "print(type(a))\n",
    "a1= int(a)\n",
    "print(a1)\n",
    "print(type(a1))"
   ]
  },
  {
   "cell_type": "code",
   "execution_count": 25,
   "id": "51da8776-e3e3-4689-be65-7097d7e2b4ac",
   "metadata": {},
   "outputs": [
    {
     "name": "stdout",
     "output_type": "stream",
     "text": [
      "False\n",
      "<class 'bool'>\n",
      "0\n",
      "<class 'int'>\n"
     ]
    }
   ],
   "source": [
    "# bool to int\n",
    "a=False\n",
    "print(a)\n",
    "print(type(a))\n",
    "a1= int(a)\n",
    "print(a1)\n",
    "print(type(a1))"
   ]
  },
  {
   "cell_type": "code",
   "execution_count": 26,
   "id": "bd8ba914-eca5-4126-99f2-10ff32fbd9e4",
   "metadata": {},
   "outputs": [
    {
     "name": "stdout",
     "output_type": "stream",
     "text": [
      "True\n",
      "<class 'bool'>\n",
      "True\n",
      "<class 'str'>\n"
     ]
    }
   ],
   "source": [
    "# bool to string\n",
    "a=True\n",
    "print(a)\n",
    "print(type(a))\n",
    "a1= str(a)\n",
    "print(a1)\n",
    "print(type(a1))"
   ]
  },
  {
   "cell_type": "code",
   "execution_count": 27,
   "id": "49dbfdeb-b2b3-4897-a141-1c1704913518",
   "metadata": {},
   "outputs": [
    {
     "name": "stdout",
     "output_type": "stream",
     "text": [
      "False\n",
      "<class 'bool'>\n",
      "False\n",
      "<class 'str'>\n"
     ]
    }
   ],
   "source": [
    "# bool to string\n",
    "a=False\n",
    "print(a)\n",
    "print(type(a))\n",
    "a1= str(a)\n",
    "print(a1)\n",
    "print(type(a1))"
   ]
  },
  {
   "cell_type": "code",
   "execution_count": 28,
   "id": "d0ac7b01-27a6-4f34-a2d5-f463e21ce237",
   "metadata": {},
   "outputs": [
    {
     "name": "stdout",
     "output_type": "stream",
     "text": [
      "pranav\n",
      "<class 'str'>\n",
      "['p', 'r', 'a', 'n', 'a', 'v']\n",
      "<class 'list'>\n"
     ]
    }
   ],
   "source": [
    "# string to list\n",
    "a=\"pranav\"\n",
    "print(a)\n",
    "print(type(a))\n",
    "a1= list(a)\n",
    "print(a1)\n",
    "print(type(a1))"
   ]
  },
  {
   "cell_type": "code",
   "execution_count": 29,
   "id": "d91c8944-5a47-4c35-8456-d8b1bf5a376b",
   "metadata": {},
   "outputs": [
    {
     "name": "stdout",
     "output_type": "stream",
     "text": [
      "['pranav', 23, 87.9]\n",
      "<class 'list'>\n",
      "['pranav', 23, 87.9]\n",
      "<class 'str'>\n"
     ]
    },
    {
     "data": {
      "text/plain": [
       "\"['pranav', 23, 87.9]\""
      ]
     },
     "execution_count": 29,
     "metadata": {},
     "output_type": "execute_result"
    }
   ],
   "source": [
    "# list to string\n",
    "a=[\"pranav\",23,87.9]\n",
    "print(a)\n",
    "print(type(a))\n",
    "a1= str(a)\n",
    "print(a1)\n",
    "print(type(a1))\n",
    "a1"
   ]
  },
  {
   "cell_type": "code",
   "execution_count": 32,
   "id": "2fec4a6b-13cd-4071-9474-441a9ff2ece7",
   "metadata": {},
   "outputs": [
    {
     "name": "stdout",
     "output_type": "stream",
     "text": [
      "('pranav', 23, 87.9)\n",
      "<class 'tuple'>\n",
      "['pranav', 23, 87.9]\n",
      "<class 'list'>\n"
     ]
    },
    {
     "data": {
      "text/plain": [
       "['pranav', 23, 87.9]"
      ]
     },
     "execution_count": 32,
     "metadata": {},
     "output_type": "execute_result"
    }
   ],
   "source": [
    "# tuple to list\n",
    "a=(\"pranav\",23,87.9)\n",
    "print(a)\n",
    "print(type(a))\n",
    "a1= list(a)\n",
    "print(a1)\n",
    "print(type(a1))\n",
    "a1"
   ]
  },
  {
   "cell_type": "code",
   "execution_count": 33,
   "id": "5e34a93d-a002-487e-b5d9-8e7e06f3c628",
   "metadata": {},
   "outputs": [
    {
     "name": "stdout",
     "output_type": "stream",
     "text": [
      "['pranav', 23, 87.9]\n",
      "<class 'list'>\n",
      "('pranav', 23, 87.9)\n",
      "<class 'tuple'>\n"
     ]
    },
    {
     "data": {
      "text/plain": [
       "('pranav', 23, 87.9)"
      ]
     },
     "execution_count": 33,
     "metadata": {},
     "output_type": "execute_result"
    }
   ],
   "source": [
    "# list to tuple\n",
    "a=[\"pranav\",23,87.9]\n",
    "print(a)\n",
    "print(type(a))\n",
    "a1= tuple(a)\n",
    "print(a1)\n",
    "print(type(a1))\n",
    "a1"
   ]
  },
  {
   "cell_type": "markdown",
   "id": "85719708-7980-4898-b334-d42f8946561f",
   "metadata": {},
   "source": [
    "# input: take value from user"
   ]
  },
  {
   "cell_type": "code",
   "execution_count": 50,
   "id": "39d2d7df-af52-4fe1-8f1f-d9ddb09f5abd",
   "metadata": {},
   "outputs": [
    {
     "name": "stdin",
     "output_type": "stream",
     "text": [
      "enter the value 34\n"
     ]
    }
   ],
   "source": [
    "a= input(\"enter the value\")"
   ]
  },
  {
   "cell_type": "code",
   "execution_count": 53,
   "id": "a6720dbe-c41d-47fd-9ff9-ecf8c91eee0f",
   "metadata": {},
   "outputs": [
    {
     "data": {
      "text/plain": [
       "'34'"
      ]
     },
     "execution_count": 53,
     "metadata": {},
     "output_type": "execute_result"
    }
   ],
   "source": [
    "a # by default input take string"
   ]
  },
  {
   "cell_type": "code",
   "execution_count": 52,
   "id": "f89f3739-3c22-4a0d-8167-5257b7e85330",
   "metadata": {},
   "outputs": [
    {
     "data": {
      "text/plain": [
       "str"
      ]
     },
     "execution_count": 52,
     "metadata": {},
     "output_type": "execute_result"
    }
   ],
   "source": [
    "type(a)"
   ]
  },
  {
   "cell_type": "markdown",
   "id": "271d5074-27e4-46d6-b4d2-8bcd99e7f1be",
   "metadata": {},
   "source": [
    "# print() : display the value"
   ]
  },
  {
   "cell_type": "code",
   "execution_count": 54,
   "id": "95222cc4-7cf0-4465-b72e-5b406c6dae03",
   "metadata": {},
   "outputs": [],
   "source": [
    "# print with value"
   ]
  },
  {
   "cell_type": "code",
   "execution_count": 55,
   "id": "f447605d-781d-47f4-958d-dac45a5a2656",
   "metadata": {},
   "outputs": [
    {
     "name": "stdout",
     "output_type": "stream",
     "text": [
      "324\n"
     ]
    }
   ],
   "source": [
    "print(324)"
   ]
  },
  {
   "cell_type": "code",
   "execution_count": 56,
   "id": "f8b7401a-b26c-4340-a02d-a1f6dc38b29e",
   "metadata": {},
   "outputs": [
    {
     "name": "stdout",
     "output_type": "stream",
     "text": [
      "pranav\n"
     ]
    }
   ],
   "source": [
    "print(\"pranav\")"
   ]
  },
  {
   "cell_type": "code",
   "execution_count": 57,
   "id": "0511f844-9153-486e-afe9-1e3f9a64aa36",
   "metadata": {},
   "outputs": [
    {
     "name": "stdout",
     "output_type": "stream",
     "text": [
      "pranav asd 43\n"
     ]
    }
   ],
   "source": [
    "print(\"pranav\",\"asd\",43)"
   ]
  },
  {
   "cell_type": "code",
   "execution_count": 18,
   "id": "c85e9372-e92d-4e37-b679-abcb7f84fce5",
   "metadata": {},
   "outputs": [
    {
     "name": "stdin",
     "output_type": "stream",
     "text": [
      "enter name wqeq\n"
     ]
    },
    {
     "name": "stdout",
     "output_type": "stream",
     "text": [
      "wqeq\n"
     ]
    }
   ],
   "source": [
    "a= input(\"enter name\")\n",
    "print(a)"
   ]
  },
  {
   "cell_type": "code",
   "execution_count": 17,
   "id": "8bc1da8d-ad1d-4a61-a336-fbbd9abf7dae",
   "metadata": {},
   "outputs": [
    {
     "name": "stdin",
     "output_type": "stream",
     "text": [
      "enter name asd\n"
     ]
    }
   ],
   "source": [
    "a=input(\"enter name\")"
   ]
  },
  {
   "cell_type": "code",
   "execution_count": 16,
   "id": "730094bf-e4af-4087-9446-c6020ed290a2",
   "metadata": {},
   "outputs": [],
   "source": [
    "# sep: seperator"
   ]
  },
  {
   "cell_type": "code",
   "execution_count": 34,
   "id": "4060d24f-7fcf-4055-8fd2-a1f6c6f4f4bb",
   "metadata": {},
   "outputs": [
    {
     "name": "stdout",
     "output_type": "stream",
     "text": [
      "pranav 23 66.8 65 76 87 98\n"
     ]
    }
   ],
   "source": [
    "print(\"pranav\",23,66.8,65,76,87,98)"
   ]
  },
  {
   "cell_type": "code",
   "execution_count": 14,
   "id": "96dd7c32-17c5-4ca4-90bb-e467ddf7680b",
   "metadata": {},
   "outputs": [
    {
     "name": "stdout",
     "output_type": "stream",
     "text": [
      "pranav-23-66.8\n"
     ]
    }
   ],
   "source": [
    "print(\"pranav\",23,66.8,sep=\"-\")"
   ]
  },
  {
   "cell_type": "code",
   "execution_count": 19,
   "id": "301129bc-f4f2-450a-a692-bf2d5471245b",
   "metadata": {},
   "outputs": [],
   "source": [
    "# end"
   ]
  },
  {
   "cell_type": "code",
   "execution_count": 35,
   "id": "a876b408-e7a0-4f75-a20c-8e73264f0935",
   "metadata": {},
   "outputs": [
    {
     "name": "stdout",
     "output_type": "stream",
     "text": [
      "heloo asd@@@@@@@@23 6 5eeeeeeeee32.56 87.8\n"
     ]
    }
   ],
   "source": [
    "print(\"heloo\",\"asd\",end=\"@@@@@@@@\")\n",
    "print(23,6,5,end='eeeeeeeee')\n",
    "print(32.56,87.8)"
   ]
  },
  {
   "cell_type": "markdown",
   "id": "1ae48205-d3f1-499e-81df-85c765d34b97",
   "metadata": {},
   "source": [
    "# operators\n",
    "-  arithmatic\n",
    "-  relational\n",
    "-  logical\n",
    "-  bitwise\n",
    "-  assignment\n",
    "-  shorthand\n",
    "-  special character\n",
    "   -  membership operator\n",
    "   -  identity operator"
   ]
  },
  {
   "cell_type": "markdown",
   "id": "c8770984-13dc-4a88-a88d-26ecf350f07c",
   "metadata": {},
   "source": [
    "# Arithmatic operator"
   ]
  },
  {
   "cell_type": "code",
   "execution_count": 3,
   "id": "aaef77e0-641b-4096-9fe5-f53105c74d4b",
   "metadata": {},
   "outputs": [
    {
     "name": "stdin",
     "output_type": "stream",
     "text": [
      "enter first number 34\n",
      "enter second number 17\n"
     ]
    },
    {
     "name": "stdout",
     "output_type": "stream",
     "text": [
      "sum of num1 and num2 is : 51\n",
      "diff of num1 and num2 is : 17\n",
      "mul of num1 and num2 is : 578\n",
      "div of num1 and num2 is : 2.0\n",
      "pow of num1 and num2 is : 108428035605965932354207744\n",
      "mod of num1 and num2 is : 0\n",
      "flore div of num1 and num2 is : 2\n"
     ]
    }
   ],
   "source": [
    "num1=int(input(\"enter first number\"))\n",
    "num2=int(input(\"enter second number\"))\n",
    "    \n",
    "print(\"sum of num1 and num2 is :\",num1+num2)\n",
    "print(\"diff of num1 and num2 is :\",num1-num2)\n",
    "print(\"mul of num1 and num2 is :\",num1*num2)\n",
    "print(\"div of num1 and num2 is :\",num1/num2)\n",
    "print(\"pow of num1 and num2 is :\",num1**num2)\n",
    "print(\"mod of num1 and num2 is :\",num1%num2)\n",
    "print(\"flore div of num1 and num2 is :\",num1//num2)"
   ]
  },
  {
   "cell_type": "markdown",
   "id": "a9a34e90-b199-40c8-8799-b8ee89ab2d0c",
   "metadata": {},
   "source": [
    " # Question: Raj has 24 candies, simran has 34 candies, aditya has 21 candies . Candies would be equally distributed How many candies need to be distributed to each of them and remaning candies need to given to diksha ?"
   ]
  },
  {
   "cell_type": "code",
   "execution_count": 3,
   "id": "77c273da-876a-4113-b513-189d987c0726",
   "metadata": {},
   "outputs": [
    {
     "name": "stdout",
     "output_type": "stream",
     "text": [
      "24 34 21\n"
     ]
    }
   ],
   "source": [
    "r=24\n",
    "s=34\n",
    "a=21\n",
    "print(r,s,a)"
   ]
  },
  {
   "cell_type": "code",
   "execution_count": 6,
   "id": "3a83d1b5-2ab0-4099-8159-17aee1f236c8",
   "metadata": {},
   "outputs": [
    {
     "name": "stdout",
     "output_type": "stream",
     "text": [
      "26\n"
     ]
    }
   ],
   "source": [
    "t=(r+s+a)//3\n",
    "print(t)"
   ]
  },
  {
   "cell_type": "code",
   "execution_count": 12,
   "id": "f053783c-c6b2-4aeb-bb04-fd971ef82507",
   "metadata": {},
   "outputs": [
    {
     "name": "stdout",
     "output_type": "stream",
     "text": [
      "equally dist candiies are: 26\n",
      "diksha have candies: 1\n"
     ]
    }
   ],
   "source": [
    "# final code\n",
    "r=24\n",
    "s=34\n",
    "a=21\n",
    "dist=(r+s+a)//3\n",
    "print(\"equally dist candiies are:\",dist)\n",
    "d=(r+s+a)%3\n",
    "print(\"diksha have candies:\",d)"
   ]
  },
  {
   "cell_type": "markdown",
   "id": "264205ae-376e-4a70-9a39-c6797e7fbbfc",
   "metadata": {},
   "source": [
    "# relational operator"
   ]
  },
  {
   "cell_type": "code",
   "execution_count": 6,
   "id": "d8845821-490e-47bc-92de-06155c2c5519",
   "metadata": {},
   "outputs": [
    {
     "name": "stdin",
     "output_type": "stream",
     "text": [
      "enter first number  12\n",
      "enter second number  67\n"
     ]
    },
    {
     "name": "stdout",
     "output_type": "stream",
     "text": [
      "result of < is True\n",
      "result of <= is True\n",
      "result of > is False\n",
      "result of >= is False\n",
      "result of == is False\n",
      "result of != is True\n"
     ]
    }
   ],
   "source": [
    "num1=int(input(\"enter first number \"))\n",
    "num2=int(input(\"enter second number \"))\n",
    "print(\"result of < is\",num1<num2)\n",
    "print(\"result of <= is\",num1<=num2)\n",
    "print(\"result of > is\",num1>num2)\n",
    "print(\"result of >= is\",num1>=num2)\n",
    "print(\"result of == is\",num1==num2)\n",
    "print(\"result of != is\",num1!=num2)"
   ]
  },
  {
   "cell_type": "markdown",
   "id": "747aad2d-a175-44cf-a461-4b9b04330183",
   "metadata": {},
   "source": [
    "# logical operator\n",
    "  - or\n",
    "  - and\n",
    "  - not"
   ]
  },
  {
   "cell_type": "markdown",
   "id": "c06caebc-21ef-4565-a4b1-161548c88a42",
   "metadata": {},
   "source": [
    "# for or the logic is if any one of the input is true then output is true\n",
    "# for and the logic is if any one input is false then the output is false"
   ]
  },
  {
   "cell_type": "code",
   "execution_count": 8,
   "id": "72cf1cde-3ded-4713-b92a-0749782fd9ca",
   "metadata": {},
   "outputs": [
    {
     "ename": "NameError",
     "evalue": "name 'false' is not defined",
     "output_type": "error",
     "traceback": [
      "\u001b[1;31m---------------------------------------------------------------------------\u001b[0m",
      "\u001b[1;31mNameError\u001b[0m                                 Traceback (most recent call last)",
      "Cell \u001b[1;32mIn[8], line 1\u001b[0m\n\u001b[1;32m----> 1\u001b[0m \u001b[38;5;129;01mnot\u001b[39;00m(false)\n",
      "\u001b[1;31mNameError\u001b[0m: name 'false' is not defined"
     ]
    }
   ],
   "source": [
    "not(false)"
   ]
  },
  {
   "cell_type": "code",
   "execution_count": 9,
   "id": "04c5d75a-e949-4878-a86d-60eb204334e4",
   "metadata": {},
   "outputs": [
    {
     "data": {
      "text/plain": [
       "True"
      ]
     },
     "execution_count": 9,
     "metadata": {},
     "output_type": "execute_result"
    }
   ],
   "source": [
    "not(False)"
   ]
  },
  {
   "cell_type": "code",
   "execution_count": 10,
   "id": "b456feb6-adbe-4ed4-9276-63e84c27d7de",
   "metadata": {},
   "outputs": [
    {
     "data": {
      "text/plain": [
       "False"
      ]
     },
     "execution_count": 10,
     "metadata": {},
     "output_type": "execute_result"
    }
   ],
   "source": [
    "not(True)"
   ]
  },
  {
   "cell_type": "code",
   "execution_count": 11,
   "id": "ade5d380-fd16-4eca-a51c-884b8e108b07",
   "metadata": {},
   "outputs": [
    {
     "data": {
      "text/plain": [
       "2"
      ]
     },
     "execution_count": 11,
     "metadata": {},
     "output_type": "execute_result"
    }
   ],
   "source": [
    "2 or 7"
   ]
  },
  {
   "cell_type": "code",
   "execution_count": 12,
   "id": "10b0eb9a-474f-4c5b-a9eb-eca8bbe63ad3",
   "metadata": {},
   "outputs": [
    {
     "data": {
      "text/plain": [
       "7"
      ]
     },
     "execution_count": 12,
     "metadata": {},
     "output_type": "execute_result"
    }
   ],
   "source": [
    "7 or 2"
   ]
  },
  {
   "cell_type": "code",
   "execution_count": 13,
   "id": "ad03c8f2-125e-4a50-b517-49871c4d883a",
   "metadata": {},
   "outputs": [
    {
     "data": {
      "text/plain": [
       "2"
      ]
     },
     "execution_count": 13,
     "metadata": {},
     "output_type": "execute_result"
    }
   ],
   "source": [
    "2 or 0"
   ]
  },
  {
   "cell_type": "code",
   "execution_count": 14,
   "id": "2939b901-3cf9-4ba2-bf6d-88a740c65d53",
   "metadata": {},
   "outputs": [
    {
     "data": {
      "text/plain": [
       "2"
      ]
     },
     "execution_count": 14,
     "metadata": {},
     "output_type": "execute_result"
    }
   ],
   "source": [
    "0 or 2"
   ]
  },
  {
   "cell_type": "code",
   "execution_count": 15,
   "id": "bd70c0fb-127e-4805-b8e6-910cdd96d63a",
   "metadata": {},
   "outputs": [
    {
     "data": {
      "text/plain": [
       "-3"
      ]
     },
     "execution_count": 15,
     "metadata": {},
     "output_type": "execute_result"
    }
   ],
   "source": [
    "0 or -3"
   ]
  },
  {
   "cell_type": "code",
   "execution_count": 16,
   "id": "de6da877-e9cd-4171-b143-95f636cab7c2",
   "metadata": {},
   "outputs": [
    {
     "data": {
      "text/plain": [
       "-3"
      ]
     },
     "execution_count": 16,
     "metadata": {},
     "output_type": "execute_result"
    }
   ],
   "source": [
    "-3 or 0"
   ]
  },
  {
   "cell_type": "code",
   "execution_count": 17,
   "id": "1aecdbcc-f415-47c0-ae49-3f1db97a44fc",
   "metadata": {},
   "outputs": [
    {
     "data": {
      "text/plain": [
       "0"
      ]
     },
     "execution_count": 17,
     "metadata": {},
     "output_type": "execute_result"
    }
   ],
   "source": [
    "0 and 20"
   ]
  },
  {
   "cell_type": "code",
   "execution_count": 18,
   "id": "9f8425e8-f637-4766-a732-4c97cd887388",
   "metadata": {},
   "outputs": [
    {
     "data": {
      "text/plain": [
       "0"
      ]
     },
     "execution_count": 18,
     "metadata": {},
     "output_type": "execute_result"
    }
   ],
   "source": [
    "20 and 0"
   ]
  },
  {
   "cell_type": "code",
   "execution_count": 19,
   "id": "bde8f6b2-7c4e-4985-bd71-bfd45a511c77",
   "metadata": {},
   "outputs": [
    {
     "data": {
      "text/plain": [
       "34"
      ]
     },
     "execution_count": 19,
     "metadata": {},
     "output_type": "execute_result"
    }
   ],
   "source": [
    "20 and 34"
   ]
  },
  {
   "cell_type": "code",
   "execution_count": 20,
   "id": "8aaf90bf-63e5-473b-9ebb-1b1bc23cef5f",
   "metadata": {},
   "outputs": [
    {
     "data": {
      "text/plain": [
       "20"
      ]
     },
     "execution_count": 20,
     "metadata": {},
     "output_type": "execute_result"
    }
   ],
   "source": [
    "34 and 20"
   ]
  },
  {
   "cell_type": "code",
   "execution_count": 21,
   "id": "c5b794d9-8b52-4fb9-bec1-4b174c475143",
   "metadata": {},
   "outputs": [
    {
     "data": {
      "text/plain": [
       "''"
      ]
     },
     "execution_count": 21,
     "metadata": {},
     "output_type": "execute_result"
    }
   ],
   "source": [
    "\"\" and \"pranav\""
   ]
  },
  {
   "cell_type": "code",
   "execution_count": 22,
   "id": "92d9dfba-d4ce-4c77-bf8e-e48268274c07",
   "metadata": {},
   "outputs": [
    {
     "data": {
      "text/plain": [
       "''"
      ]
     },
     "execution_count": 22,
     "metadata": {},
     "output_type": "execute_result"
    }
   ],
   "source": [
    "\"d\" and \"\""
   ]
  },
  {
   "cell_type": "code",
   "execution_count": 23,
   "id": "2a423dc7-5244-47bb-8157-799d2b5dec62",
   "metadata": {},
   "outputs": [
    {
     "data": {
      "text/plain": [
       "True"
      ]
     },
     "execution_count": 23,
     "metadata": {},
     "output_type": "execute_result"
    }
   ],
   "source": [
    "not(0)"
   ]
  },
  {
   "cell_type": "code",
   "execution_count": 24,
   "id": "470da786-95cf-4952-8b99-76a5c5666e66",
   "metadata": {},
   "outputs": [
    {
     "data": {
      "text/plain": [
       "False"
      ]
     },
     "execution_count": 24,
     "metadata": {},
     "output_type": "execute_result"
    }
   ],
   "source": [
    "not(9)"
   ]
  },
  {
   "cell_type": "code",
   "execution_count": 25,
   "id": "58b69ab2-dcf7-4b3e-a5fa-28aac82c9a1d",
   "metadata": {},
   "outputs": [
    {
     "data": {
      "text/plain": [
       "False"
      ]
     },
     "execution_count": 25,
     "metadata": {},
     "output_type": "execute_result"
    }
   ],
   "source": [
    "not(-3)"
   ]
  },
  {
   "cell_type": "markdown",
   "id": "e9f48026-c0c3-422b-a312-17ac1f36c3bc",
   "metadata": {},
   "source": [
    "# assignment operator"
   ]
  },
  {
   "cell_type": "code",
   "execution_count": 26,
   "id": "9f5e6c79-e792-4ba2-9496-23a354259d38",
   "metadata": {},
   "outputs": [],
   "source": [
    "a=23"
   ]
  },
  {
   "cell_type": "code",
   "execution_count": 27,
   "id": "f3f6cfe8-068c-447e-a05d-7d2bebd59400",
   "metadata": {},
   "outputs": [
    {
     "data": {
      "text/plain": [
       "23"
      ]
     },
     "execution_count": 27,
     "metadata": {},
     "output_type": "execute_result"
    }
   ],
   "source": [
    "a"
   ]
  },
  {
   "cell_type": "markdown",
   "id": "2447d34b-fee9-4da9-a49c-2c85a3fb4085",
   "metadata": {},
   "source": [
    "# bitwise : skip"
   ]
  },
  {
   "cell_type": "markdown",
   "id": "cea55add-2541-4bdc-aa1c-4b1d0dc18d18",
   "metadata": {},
   "source": [
    "# shorthand"
   ]
  },
  {
   "cell_type": "code",
   "execution_count": 29,
   "id": "e8643690-b067-4347-8017-c3b0e26dde31",
   "metadata": {},
   "outputs": [
    {
     "data": {
      "text/plain": [
       "12"
      ]
     },
     "execution_count": 29,
     "metadata": {},
     "output_type": "execute_result"
    }
   ],
   "source": [
    "a=2\n",
    "a=a+10\n",
    "a"
   ]
  },
  {
   "cell_type": "code",
   "execution_count": 30,
   "id": "bd33eab4-ad1b-4253-aca3-c76ae16170a6",
   "metadata": {},
   "outputs": [],
   "source": [
    "a=2\n",
    "a+=10"
   ]
  },
  {
   "cell_type": "code",
   "execution_count": 31,
   "id": "653d4a4a-886b-468d-a4b3-06b326cf6da9",
   "metadata": {},
   "outputs": [
    {
     "data": {
      "text/plain": [
       "12"
      ]
     },
     "execution_count": 31,
     "metadata": {},
     "output_type": "execute_result"
    }
   ],
   "source": [
    "a"
   ]
  },
  {
   "cell_type": "markdown",
   "id": "b2b7f1b1-7a54-44ab-ae60-4c99b07797d8",
   "metadata": {},
   "source": [
    "# special operator"
   ]
  },
  {
   "cell_type": "markdown",
   "id": "abd69603-8eb7-4aa5-bd78-39b89f3f46e1",
   "metadata": {},
   "source": [
    "  # membership  \n",
    "    - in\n",
    "    - not in"
   ]
  },
  {
   "cell_type": "code",
   "execution_count": 33,
   "id": "1ce968ef-7bf1-4595-822f-431e9a7eedd4",
   "metadata": {},
   "outputs": [
    {
     "data": {
      "text/plain": [
       "True"
      ]
     },
     "execution_count": 33,
     "metadata": {},
     "output_type": "execute_result"
    }
   ],
   "source": [
    "a=\"madrid\"\n",
    "\"mad\" in a"
   ]
  },
  {
   "cell_type": "code",
   "execution_count": 34,
   "id": "25691fb2-6cb3-40d7-ac60-6c10452c9960",
   "metadata": {},
   "outputs": [
    {
     "ename": "NameError",
     "evalue": "name 'mad' is not defined",
     "output_type": "error",
     "traceback": [
      "\u001b[1;31m---------------------------------------------------------------------------\u001b[0m",
      "\u001b[1;31mNameError\u001b[0m                                 Traceback (most recent call last)",
      "Cell \u001b[1;32mIn[34], line 1\u001b[0m\n\u001b[1;32m----> 1\u001b[0m mad \u001b[38;5;129;01min\u001b[39;00m a\n",
      "\u001b[1;31mNameError\u001b[0m: name 'mad' is not defined"
     ]
    }
   ],
   "source": [
    "mad in a"
   ]
  },
  {
   "cell_type": "code",
   "execution_count": 35,
   "id": "d0158efd-17e5-4f85-8625-defa374fbb82",
   "metadata": {},
   "outputs": [
    {
     "data": {
      "text/plain": [
       "False"
      ]
     },
     "execution_count": 35,
     "metadata": {},
     "output_type": "execute_result"
    }
   ],
   "source": [
    "\"mrd\" in a"
   ]
  },
  {
   "cell_type": "code",
   "execution_count": 36,
   "id": "9a4860bb-a8e5-4304-8c37-6607a28c90f0",
   "metadata": {},
   "outputs": [
    {
     "data": {
      "text/plain": [
       "True"
      ]
     },
     "execution_count": 36,
     "metadata": {},
     "output_type": "execute_result"
    }
   ],
   "source": [
    "\"mrd\" not in a"
   ]
  },
  {
   "cell_type": "code",
   "execution_count": 37,
   "id": "3db9522a-b7ee-4cae-8220-46e533423a73",
   "metadata": {},
   "outputs": [
    {
     "data": {
      "text/plain": [
       "False"
      ]
     },
     "execution_count": 37,
     "metadata": {},
     "output_type": "execute_result"
    }
   ],
   "source": [
    "\"mad\" not in a"
   ]
  },
  {
   "cell_type": "code",
   "execution_count": 38,
   "id": "abb53cde-c7e3-4b05-90b6-8a92792d0364",
   "metadata": {},
   "outputs": [
    {
     "data": {
      "text/plain": [
       "True"
      ]
     },
     "execution_count": 38,
     "metadata": {},
     "output_type": "execute_result"
    }
   ],
   "source": [
    "l=[\"python\",\"123\",\"90.6\",12,\"programming\"]\n",
    "\"python\" in l"
   ]
  },
  {
   "cell_type": "code",
   "execution_count": 39,
   "id": "83f63203-0f05-4fc0-a8f0-2a92d98cea0e",
   "metadata": {},
   "outputs": [
    {
     "data": {
      "text/plain": [
       "False"
      ]
     },
     "execution_count": 39,
     "metadata": {},
     "output_type": "execute_result"
    }
   ],
   "source": [
    "90.6 in l"
   ]
  },
  {
   "cell_type": "code",
   "execution_count": 40,
   "id": "20312dd5-8b2c-4f86-afd5-fe9f0e675220",
   "metadata": {},
   "outputs": [
    {
     "data": {
      "text/plain": [
       "False"
      ]
     },
     "execution_count": 40,
     "metadata": {},
     "output_type": "execute_result"
    }
   ],
   "source": [
    "\"prog\" in l"
   ]
  },
  {
   "cell_type": "code",
   "execution_count": 41,
   "id": "47fd25e1-5b56-47f6-8ffe-3c8ca5ff4fa8",
   "metadata": {},
   "outputs": [
    {
     "data": {
      "text/plain": [
       "True"
      ]
     },
     "execution_count": 41,
     "metadata": {},
     "output_type": "execute_result"
    }
   ],
   "source": [
    "\"prog\" not  in l"
   ]
  },
  {
   "cell_type": "code",
   "execution_count": 42,
   "id": "2059419a-d32f-47d5-a35d-bbec6f4ba8f8",
   "metadata": {},
   "outputs": [
    {
     "data": {
      "text/plain": [
       "True"
      ]
     },
     "execution_count": 42,
     "metadata": {},
     "output_type": "execute_result"
    }
   ],
   "source": [
    "\"12\" in \"123.5\""
   ]
  },
  {
   "cell_type": "markdown",
   "id": "bbf03570-7510-4545-88c6-9d2a1ce12fc1",
   "metadata": {},
   "source": [
    "# identity\n",
    "  - is\n",
    "  - is not"
   ]
  },
  {
   "cell_type": "code",
   "execution_count": 43,
   "id": "6361d575-87f7-456e-80c0-47dd2c02846a",
   "metadata": {},
   "outputs": [
    {
     "name": "stdout",
     "output_type": "stream",
     "text": [
      "140708976578120\n",
      "140708976576680\n"
     ]
    }
   ],
   "source": [
    "a=90\n",
    "b=45\n",
    "print(id(a))\n",
    "print(id(b))"
   ]
  },
  {
   "cell_type": "code",
   "execution_count": 4,
   "id": "df93c1fe-05bc-4a9a-ada4-717fae8af2ae",
   "metadata": {},
   "outputs": [
    {
     "name": "stdout",
     "output_type": "stream",
     "text": [
      "140713780104776\n",
      "140713780103336\n"
     ]
    },
    {
     "data": {
      "text/plain": [
       "False"
      ]
     },
     "execution_count": 4,
     "metadata": {},
     "output_type": "execute_result"
    }
   ],
   "source": [
    "a=90\n",
    "b=45\n",
    "print(id(a))\n",
    "print(id(b))\n",
    "a is b"
   ]
  },
  {
   "cell_type": "code",
   "execution_count": 9,
   "id": "e387c7d4-b259-404f-8660-60b124855349",
   "metadata": {},
   "outputs": [
    {
     "name": "stdout",
     "output_type": "stream",
     "text": [
      "140713780104776\n",
      "140713780103336\n"
     ]
    },
    {
     "data": {
      "text/plain": [
       "True"
      ]
     },
     "execution_count": 9,
     "metadata": {},
     "output_type": "execute_result"
    }
   ],
   "source": [
    "a=90\n",
    "b=45\n",
    "print(id(a))\n",
    "print(id(b))\n",
    "a is not b"
   ]
  },
  {
   "cell_type": "code",
   "execution_count": 7,
   "id": "bc265eb6-8cb2-4b31-b2a4-026eda642491",
   "metadata": {},
   "outputs": [
    {
     "name": "stdout",
     "output_type": "stream",
     "text": [
      "140713780103336\n",
      "140713780103336\n"
     ]
    }
   ],
   "source": [
    "a=90\n",
    "a=b\n",
    "print(id(a))\n",
    "print(id(b))"
   ]
  },
  {
   "cell_type": "code",
   "execution_count": 6,
   "id": "a290592c-a246-4a85-9c8b-0906cf87e3c6",
   "metadata": {},
   "outputs": [
    {
     "name": "stdout",
     "output_type": "stream",
     "text": [
      "140713780103336\n",
      "140713780103336\n"
     ]
    },
    {
     "data": {
      "text/plain": [
       "True"
      ]
     },
     "execution_count": 6,
     "metadata": {},
     "output_type": "execute_result"
    }
   ],
   "source": [
    "a=90\n",
    "a=b\n",
    "print(id(a))\n",
    "print(id(b))\n",
    "a is b"
   ]
  },
  {
   "cell_type": "code",
   "execution_count": 8,
   "id": "f35e14ff-a361-4726-8fac-cd46ec4f631c",
   "metadata": {},
   "outputs": [
    {
     "name": "stdout",
     "output_type": "stream",
     "text": [
      "140713780103336\n",
      "140713780103336\n"
     ]
    },
    {
     "data": {
      "text/plain": [
       "False"
      ]
     },
     "execution_count": 8,
     "metadata": {},
     "output_type": "execute_result"
    }
   ],
   "source": [
    "a=90\n",
    "a=b\n",
    "print(id(a))\n",
    "print(id(b))\n",
    "a is not b"
   ]
  },
  {
   "cell_type": "markdown",
   "id": "1620dbfa-87d8-4a33-bc8b-1425811a7174",
   "metadata": {},
   "source": [
    "https://www.geeksforgeeks.org/precedence-and-associativity-of-operators-in-python/\n"
   ]
  },
  {
   "cell_type": "markdown",
   "id": "d31ce4be-26f8-49ac-aecb-4db572217de8",
   "metadata": {},
   "source": [
    "# escape sequence\n",
    "are the special char which are processed differently when we use them as a part of string they do not themselves as normal char rather they converted their owm meaning"
   ]
  },
  {
   "cell_type": "markdown",
   "id": "82e8b68b-602c-4bb7-98fc-ffdc43fe471a",
   "metadata": {},
   "source": [
    "# \\n : new line"
   ]
  },
  {
   "cell_type": "code",
   "execution_count": 55,
   "id": "3b9a471a-ea42-4d19-a41b-8b39a7cd285e",
   "metadata": {},
   "outputs": [
    {
     "name": "stdout",
     "output_type": "stream",
     "text": [
      "pranav\n",
      "sawant\n"
     ]
    }
   ],
   "source": [
    "print(\"pranav\\nsawant\")"
   ]
  },
  {
   "cell_type": "markdown",
   "id": "1d2935cf-4a64-4a8a-b5d1-b1bf4bdeca3f",
   "metadata": {},
   "source": [
    "# to print \\n"
   ]
  },
  {
   "cell_type": "code",
   "execution_count": 57,
   "id": "a4a5c632-08bd-489d-99e7-fc1162548fd4",
   "metadata": {},
   "outputs": [
    {
     "name": "stdout",
     "output_type": "stream",
     "text": [
      "pranav\\nsawant\n"
     ]
    }
   ],
   "source": [
    "print(\"pranav\\\\nsawant\")"
   ]
  },
  {
   "cell_type": "markdown",
   "id": "66892f61-f275-46a4-a2ff-d2ad30a23d71",
   "metadata": {},
   "source": [
    "# \\(backslash) is used to overcome the effect of escape seq."
   ]
  },
  {
   "cell_type": "markdown",
   "id": "aa197269-9b33-43be-afac-fad6126e7b44",
   "metadata": {},
   "source": [
    "# hi how'r you using ''"
   ]
  },
  {
   "cell_type": "code",
   "execution_count": 62,
   "id": "ba50e99e-6361-43c1-b321-74843b62a1ff",
   "metadata": {},
   "outputs": [
    {
     "name": "stdout",
     "output_type": "stream",
     "text": [
      "hi how'r you\n"
     ]
    }
   ],
   "source": [
    "print('hi how\\'r you')"
   ]
  },
  {
   "cell_type": "markdown",
   "id": "af3a8563-20d2-4ae4-b7a2-abc161468eb7",
   "metadata": {},
   "source": [
    "# \\b : backspace it simply work like backspace "
   ]
  },
  {
   "cell_type": "code",
   "execution_count": 64,
   "id": "6244ed6b-8880-48c5-9572-8f884024cdc4",
   "metadata": {},
   "outputs": [
    {
     "name": "stdout",
     "output_type": "stream",
     "text": [
      "pranasawant\n"
     ]
    }
   ],
   "source": [
    "print(\"pranav\\bsawant\")"
   ]
  },
  {
   "cell_type": "markdown",
   "id": "d3643186-4186-4c47-96da-6df676265369",
   "metadata": {},
   "source": [
    "# \\t : tab it simply give space"
   ]
  },
  {
   "cell_type": "code",
   "execution_count": 67,
   "id": "fca4a890-736a-4753-a93a-70f5bb384060",
   "metadata": {},
   "outputs": [
    {
     "name": "stdout",
     "output_type": "stream",
     "text": [
      "pranav\tsawant\n"
     ]
    }
   ],
   "source": [
    "print(\"pranav\\tsawant\")"
   ]
  }
 ],
 "metadata": {
  "kernelspec": {
   "display_name": "Python 3 (ipykernel)",
   "language": "python",
   "name": "python3"
  },
  "language_info": {
   "codemirror_mode": {
    "name": "ipython",
    "version": 3
   },
   "file_extension": ".py",
   "mimetype": "text/x-python",
   "name": "python",
   "nbconvert_exporter": "python",
   "pygments_lexer": "ipython3",
   "version": "3.11.7"
  }
 },
 "nbformat": 4,
 "nbformat_minor": 5
}
