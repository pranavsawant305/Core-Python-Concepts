{
 "cells": [
  {
   "cell_type": "markdown",
   "id": "139a0566-d51a-4574-bc46-f95510849d4b",
   "metadata": {},
   "source": [
    "# string: data type of textual data"
   ]
  },
  {
   "cell_type": "markdown",
   "id": "f1265139-9238-4506-ac18-a20c707353d2",
   "metadata": {},
   "source": [
    "# how to create string\n",
    "- single quote\n",
    "- double quote\n",
    "- three triple quote # for multi line \n",
    "- from string constructor"
   ]
  },
  {
   "cell_type": "code",
   "execution_count": 1,
   "id": "710f75ed-edca-4096-b0fe-b73482185a00",
   "metadata": {},
   "outputs": [
    {
     "name": "stdout",
     "output_type": "stream",
     "text": [
      "madrid\n",
      "<class 'str'>\n"
     ]
    }
   ],
   "source": [
    "s='madrid'\n",
    "print(s)\n",
    "print(type(s))"
   ]
  },
  {
   "cell_type": "code",
   "execution_count": 2,
   "id": "ebceb6e0-7772-4fbc-9de7-622606957543",
   "metadata": {},
   "outputs": [
    {
     "name": "stdout",
     "output_type": "stream",
     "text": [
      "madrid\n",
      "<class 'str'>\n"
     ]
    }
   ],
   "source": [
    "s=\"madrid\"\n",
    "print(s)\n",
    "print(type(s))"
   ]
  },
  {
   "cell_type": "code",
   "execution_count": 4,
   "id": "19a0cd51-64d9-4301-8761-f70defe902d9",
   "metadata": {},
   "outputs": [
    {
     "name": "stdout",
     "output_type": "stream",
     "text": [
      "djfhdkjsfh\n",
      "dsfsdkfjk  # multiline\n",
      "sdjfk\n",
      "<class 'str'>\n"
     ]
    }
   ],
   "source": [
    "s='''djfhdkjsfh\n",
    "dsfsdkfjk  # multiline\n",
    "sdjfk'''\n",
    "print(s)\n",
    "print(type(s))"
   ]
  },
  {
   "cell_type": "markdown",
   "id": "0745fe54-b3f6-4132-b98e-480f4bc8d0cd",
   "metadata": {},
   "source": [
    "# from str constructor"
   ]
  },
  {
   "cell_type": "code",
   "execution_count": 5,
   "id": "fe0a7281-4de8-4c8a-825e-27e6c0e86886",
   "metadata": {},
   "outputs": [
    {
     "name": "stdout",
     "output_type": "stream",
     "text": [
      "123\n",
      "<class 'str'>\n"
     ]
    }
   ],
   "source": [
    "s=str(123)\n",
    "print(s)\n",
    "print(type(s))"
   ]
  },
  {
   "cell_type": "markdown",
   "id": "f5a88064-57f1-4a7d-8de1-b5dc3f31b8a9",
   "metadata": {},
   "source": [
    "# empty string"
   ]
  },
  {
   "cell_type": "code",
   "execution_count": 6,
   "id": "ccb74d71-a4aa-49f1-b6be-2dec33f69911",
   "metadata": {},
   "outputs": [
    {
     "name": "stdout",
     "output_type": "stream",
     "text": [
      "\n",
      "<class 'str'>\n"
     ]
    }
   ],
   "source": [
    "s=\"\"\n",
    "print(s)\n",
    "print(type(s))"
   ]
  },
  {
   "cell_type": "markdown",
   "id": "ea2eb6fd-7bc0-43b6-a2e7-8293bd2db69b",
   "metadata": {},
   "source": [
    "# indexing and slicing"
   ]
  },
  {
   "cell_type": "markdown",
   "id": "9b0414d9-5718-4988-9910-404121a14903",
   "metadata": {},
   "source": [
    "# indexing"
   ]
  },
  {
   "cell_type": "code",
   "execution_count": 1,
   "id": "1e3713e9-59e6-40bc-95d6-10dfdc1d1a70",
   "metadata": {},
   "outputs": [],
   "source": [
    "s=\"madrid\"\n",
    "# fetch a"
   ]
  },
  {
   "cell_type": "code",
   "execution_count": 2,
   "id": "2904d7c6-a961-4d64-8241-58210713ac80",
   "metadata": {},
   "outputs": [
    {
     "data": {
      "text/plain": [
       "'a'"
      ]
     },
     "execution_count": 2,
     "metadata": {},
     "output_type": "execute_result"
    }
   ],
   "source": [
    "s[1]"
   ]
  },
  {
   "cell_type": "code",
   "execution_count": 3,
   "id": "bee2e03a-88a7-4534-a2e4-2345ef4744c5",
   "metadata": {},
   "outputs": [],
   "source": [
    "# or "
   ]
  },
  {
   "cell_type": "code",
   "execution_count": 4,
   "id": "0809e7c4-b170-4e2c-a38c-7a7b9a362425",
   "metadata": {},
   "outputs": [
    {
     "data": {
      "text/plain": [
       "'a'"
      ]
     },
     "execution_count": 4,
     "metadata": {},
     "output_type": "execute_result"
    }
   ],
   "source": [
    "s[-5]"
   ]
  },
  {
   "cell_type": "code",
   "execution_count": 5,
   "id": "aca0d583-66b3-4bc6-ac2c-e1cf2d3e5443",
   "metadata": {},
   "outputs": [],
   "source": [
    "# fetch i"
   ]
  },
  {
   "cell_type": "code",
   "execution_count": 6,
   "id": "2edf89b4-402f-450d-a7e8-b59eecf56c2f",
   "metadata": {},
   "outputs": [
    {
     "data": {
      "text/plain": [
       "'i'"
      ]
     },
     "execution_count": 6,
     "metadata": {},
     "output_type": "execute_result"
    }
   ],
   "source": [
    "s[4]"
   ]
  },
  {
   "cell_type": "code",
   "execution_count": 7,
   "id": "24fa435a-4d23-48ab-9734-28a8dca0982e",
   "metadata": {},
   "outputs": [
    {
     "data": {
      "text/plain": [
       "'i'"
      ]
     },
     "execution_count": 7,
     "metadata": {},
     "output_type": "execute_result"
    }
   ],
   "source": [
    "s[-2]"
   ]
  },
  {
   "cell_type": "code",
   "execution_count": 8,
   "id": "69b9e9ed-5748-4629-8fdb-0b7a4e22236e",
   "metadata": {},
   "outputs": [
    {
     "ename": "IndexError",
     "evalue": "string index out of range",
     "output_type": "error",
     "traceback": [
      "\u001b[1;31m---------------------------------------------------------------------------\u001b[0m",
      "\u001b[1;31mIndexError\u001b[0m                                Traceback (most recent call last)",
      "Cell \u001b[1;32mIn[8], line 1\u001b[0m\n\u001b[1;32m----> 1\u001b[0m s[\u001b[38;5;241m10\u001b[39m]\n",
      "\u001b[1;31mIndexError\u001b[0m: string index out of range"
     ]
    }
   ],
   "source": [
    "s[10]"
   ]
  },
  {
   "cell_type": "code",
   "execution_count": 9,
   "id": "db2f2015-cbbf-4258-8c48-e0874e393ab4",
   "metadata": {},
   "outputs": [
    {
     "ename": "IndexError",
     "evalue": "string index out of range",
     "output_type": "error",
     "traceback": [
      "\u001b[1;31m---------------------------------------------------------------------------\u001b[0m",
      "\u001b[1;31mIndexError\u001b[0m                                Traceback (most recent call last)",
      "Cell \u001b[1;32mIn[9], line 1\u001b[0m\n\u001b[1;32m----> 1\u001b[0m s[\u001b[38;5;241m-\u001b[39m\u001b[38;5;241m9\u001b[39m]\n",
      "\u001b[1;31mIndexError\u001b[0m: string index out of range"
     ]
    }
   ],
   "source": [
    "s[-9]"
   ]
  },
  {
   "cell_type": "markdown",
   "id": "6c553410-119c-485e-90b5-fe500178a2b2",
   "metadata": {},
   "source": [
    "# slicing:[str:end:stepsize]"
   ]
  },
  {
   "cell_type": "code",
   "execution_count": 10,
   "id": "989d3488-60b4-44ff-b437-e371aa959641",
   "metadata": {},
   "outputs": [
    {
     "data": {
      "text/plain": [
       "'madrid'"
      ]
     },
     "execution_count": 10,
     "metadata": {},
     "output_type": "execute_result"
    }
   ],
   "source": [
    "s"
   ]
  },
  {
   "cell_type": "markdown",
   "id": "4d2dc660-6c26-415f-a59d-c8b0480bf828",
   "metadata": {},
   "source": [
    "# fetch dri"
   ]
  },
  {
   "cell_type": "code",
   "execution_count": 12,
   "id": "075a155a-c6ea-42a0-a09a-b68b7d0c4c94",
   "metadata": {},
   "outputs": [
    {
     "data": {
      "text/plain": [
       "'dri'"
      ]
     },
     "execution_count": 12,
     "metadata": {},
     "output_type": "execute_result"
    }
   ],
   "source": [
    "s[2:5] # step size by default +1"
   ]
  },
  {
   "cell_type": "code",
   "execution_count": 13,
   "id": "fb3345c2-6144-4821-92b5-fab182edbede",
   "metadata": {},
   "outputs": [
    {
     "data": {
      "text/plain": [
       "'adri'"
      ]
     },
     "execution_count": 13,
     "metadata": {},
     "output_type": "execute_result"
    }
   ],
   "source": [
    "s[1:5]"
   ]
  },
  {
   "cell_type": "code",
   "execution_count": 14,
   "id": "4067fb9b-5c17-499a-b29a-cc39b4928f54",
   "metadata": {},
   "outputs": [
    {
     "data": {
      "text/plain": [
       "'adri'"
      ]
     },
     "execution_count": 14,
     "metadata": {},
     "output_type": "execute_result"
    }
   ],
   "source": [
    "s[-5:-1]"
   ]
  },
  {
   "cell_type": "code",
   "execution_count": 15,
   "id": "d19bcbd4-1092-42cb-b5fc-6f52b803a95d",
   "metadata": {},
   "outputs": [
    {
     "data": {
      "text/plain": [
       "'adri'"
      ]
     },
     "execution_count": 15,
     "metadata": {},
     "output_type": "execute_result"
    }
   ],
   "source": [
    "s[-5:5]"
   ]
  },
  {
   "cell_type": "code",
   "execution_count": 16,
   "id": "b7b529d9-e736-4dc3-948f-1ae36e3df481",
   "metadata": {},
   "outputs": [
    {
     "data": {
      "text/plain": [
       "'ar'"
      ]
     },
     "execution_count": 16,
     "metadata": {},
     "output_type": "execute_result"
    }
   ],
   "source": [
    "s[1:-1:2]"
   ]
  },
  {
   "cell_type": "code",
   "execution_count": 17,
   "id": "e93a623f-b2e5-4978-a82a-3621b77a0c97",
   "metadata": {},
   "outputs": [
    {
     "data": {
      "text/plain": [
       "'drid'"
      ]
     },
     "execution_count": 17,
     "metadata": {},
     "output_type": "execute_result"
    }
   ],
   "source": [
    "s[2:] # by default step size till end "
   ]
  },
  {
   "cell_type": "code",
   "execution_count": 18,
   "id": "714ce9df-86ba-4a13-9041-250b096ee597",
   "metadata": {},
   "outputs": [
    {
     "data": {
      "text/plain": [
       "'drid'"
      ]
     },
     "execution_count": 18,
     "metadata": {},
     "output_type": "execute_result"
    }
   ],
   "source": [
    "s[2:9088] # if u specify the end which is beyond the range then it treats till end "
   ]
  },
  {
   "cell_type": "code",
   "execution_count": 39,
   "id": "b2e75e85-dd24-4806-9adf-fc952080a938",
   "metadata": {},
   "outputs": [
    {
     "data": {
      "text/plain": [
       "'madr'"
      ]
     },
     "execution_count": 39,
     "metadata": {},
     "output_type": "execute_result"
    }
   ],
   "source": [
    "s[:4] # start is by default 0 provided the step size is +1"
   ]
  },
  {
   "cell_type": "code",
   "execution_count": 40,
   "id": "5c868641-c895-430d-9891-df55cdc839ce",
   "metadata": {},
   "outputs": [
    {
     "data": {
      "text/plain": [
       "'d'"
      ]
     },
     "execution_count": 40,
     "metadata": {},
     "output_type": "execute_result"
    }
   ],
   "source": [
    "s[:4:-1]  # here start is from last "
   ]
  },
  {
   "cell_type": "markdown",
   "id": "9c583d17-5041-49df-9a4a-7bb979570859",
   "metadata": {},
   "source": [
    "<!--  -->"
   ]
  },
  {
   "cell_type": "code",
   "execution_count": 24,
   "id": "e5904fe8-201b-46df-a153-e5fce8a36bb9",
   "metadata": {},
   "outputs": [
    {
     "data": {
      "text/plain": [
       "'madrid'"
      ]
     },
     "execution_count": 24,
     "metadata": {},
     "output_type": "execute_result"
    }
   ],
   "source": [
    "s[:] # when nothing is mentioned it take the complete string with default stepsize +1"
   ]
  },
  {
   "cell_type": "code",
   "execution_count": 43,
   "id": "b86433b9-c35a-42fb-b603-bb6bc016887a",
   "metadata": {},
   "outputs": [
    {
     "data": {
      "text/plain": [
       "''"
      ]
     },
     "execution_count": 43,
     "metadata": {},
     "output_type": "execute_result"
    }
   ],
   "source": [
    "s[-5:-1:-2] "
   ]
  },
  {
   "cell_type": "code",
   "execution_count": 44,
   "id": "edc97ef5-8918-4cd9-bf9a-3d21fb09417b",
   "metadata": {},
   "outputs": [
    {
     "data": {
      "text/plain": [
       "'ar'"
      ]
     },
     "execution_count": 44,
     "metadata": {},
     "output_type": "execute_result"
    }
   ],
   "source": [
    "s[-5:-1:2]"
   ]
  },
  {
   "cell_type": "code",
   "execution_count": 26,
   "id": "9de1d297-47b5-4f0d-90fc-bc2aa42d71b2",
   "metadata": {},
   "outputs": [
    {
     "data": {
      "text/plain": [
       "''"
      ]
     },
     "execution_count": 26,
     "metadata": {},
     "output_type": "execute_result"
    }
   ],
   "source": [
    "s[4:-6:3]"
   ]
  },
  {
   "cell_type": "code",
   "execution_count": 27,
   "id": "a9801c81-62d4-44e6-89b6-93a4d7457fcc",
   "metadata": {},
   "outputs": [
    {
     "data": {
      "text/plain": [
       "'i'"
      ]
     },
     "execution_count": 27,
     "metadata": {},
     "output_type": "execute_result"
    }
   ],
   "source": [
    "s[4:6:3]"
   ]
  },
  {
   "cell_type": "code",
   "execution_count": 28,
   "id": "3608f65c-51a0-4950-a0bf-89e40d5656f3",
   "metadata": {},
   "outputs": [
    {
     "data": {
      "text/plain": [
       "'m'"
      ]
     },
     "execution_count": 28,
     "metadata": {},
     "output_type": "execute_result"
    }
   ],
   "source": [
    "s[-6:-1:5]"
   ]
  },
  {
   "cell_type": "markdown",
   "id": "29fa5176-d70b-4f2a-989c-75c2ac3975a4",
   "metadata": {},
   "source": [
    "# advance indexing\n",
    "\n",
    "\n",
    "s[start::stepsize]"
   ]
  },
  {
   "cell_type": "code",
   "execution_count": 29,
   "id": "6c94a455-ac6c-4254-997b-8193a7d89f78",
   "metadata": {},
   "outputs": [],
   "source": [
    "s=\"madrid\""
   ]
  },
  {
   "cell_type": "code",
   "execution_count": 45,
   "id": "05e1e68d-850e-4608-b0ed-6e6ef3ec1320",
   "metadata": {},
   "outputs": [
    {
     "data": {
      "text/plain": [
       "'di'"
      ]
     },
     "execution_count": 45,
     "metadata": {},
     "output_type": "execute_result"
    }
   ],
   "source": [
    "s[2::2] # +ve means forward direction"
   ]
  },
  {
   "cell_type": "code",
   "execution_count": 47,
   "id": "e4bb6be9-99d3-46b6-a8cd-f20d576c612d",
   "metadata": {},
   "outputs": [
    {
     "data": {
      "text/plain": [
       "'dm'"
      ]
     },
     "execution_count": 47,
     "metadata": {},
     "output_type": "execute_result"
    }
   ],
   "source": [
    "s[2::-2] # -ve means backward direction"
   ]
  },
  {
   "cell_type": "code",
   "execution_count": 32,
   "id": "4d4dcb18-509e-432a-bc13-13163de89673",
   "metadata": {},
   "outputs": [
    {
     "data": {
      "text/plain": [
       "'ai'"
      ]
     },
     "execution_count": 32,
     "metadata": {},
     "output_type": "execute_result"
    }
   ],
   "source": [
    "s[-5::3]"
   ]
  },
  {
   "cell_type": "code",
   "execution_count": 33,
   "id": "46996cd8-2451-4c84-a054-969e323cf6d8",
   "metadata": {},
   "outputs": [
    {
     "data": {
      "text/plain": [
       "'dra'"
      ]
     },
     "execution_count": 33,
     "metadata": {},
     "output_type": "execute_result"
    }
   ],
   "source": [
    "s[::-2]"
   ]
  },
  {
   "cell_type": "code",
   "execution_count": 48,
   "id": "b8d1fde7-09bc-422b-96a7-b19300b53532",
   "metadata": {},
   "outputs": [
    {
     "data": {
      "text/plain": [
       "'dirdam'"
      ]
     },
     "execution_count": 48,
     "metadata": {},
     "output_type": "execute_result"
    }
   ],
   "source": [
    "s[::-1] # reverse karne ke liye"
   ]
  },
  {
   "cell_type": "code",
   "execution_count": 35,
   "id": "6a0d5645-e0d8-4d3c-bff7-ff56ea6933a0",
   "metadata": {},
   "outputs": [
    {
     "data": {
      "text/plain": [
       "'drid'"
      ]
     },
     "execution_count": 35,
     "metadata": {},
     "output_type": "execute_result"
    }
   ],
   "source": [
    "s[2::]"
   ]
  },
  {
   "cell_type": "markdown",
   "id": "7ea50811-42ed-4cc0-90f3-76d275fac484",
   "metadata": {},
   "source": [
    "# wap to display entered name is palindrome or not"
   ]
  },
  {
   "cell_type": "code",
   "execution_count": 36,
   "id": "3a6054c5-911f-442a-98a4-9acd4fb06b33",
   "metadata": {},
   "outputs": [
    {
     "name": "stdin",
     "output_type": "stream",
     "text": [
      "enter the name  pranav\n"
     ]
    },
    {
     "name": "stdout",
     "output_type": "stream",
     "text": [
      "not\n"
     ]
    }
   ],
   "source": [
    "name=input(\"enter the name \")\n",
    "if name==name[::-1]:\n",
    "    print(\"palindrome\")\n",
    "else:\n",
    "    print(\"not\")"
   ]
  },
  {
   "cell_type": "markdown",
   "id": "e569b4cb-49ad-467c-905f-1afcbacf976b",
   "metadata": {},
   "source": [
    "# traversal:\n",
    "- for\n",
    "- while\n"
   ]
  },
  {
   "cell_type": "code",
   "execution_count": 7,
   "id": "0ffba34c-2b50-4183-b026-d664791d21e2",
   "metadata": {},
   "outputs": [
    {
     "name": "stdout",
     "output_type": "stream",
     "text": [
      "S\n",
      "a\n",
      "w\n",
      "a\n",
      "n\n",
      "t\n"
     ]
    }
   ],
   "source": [
    "s=\"Sawant\"\n",
    "for i in s:\n",
    "    print(i)"
   ]
  },
  {
   "cell_type": "code",
   "execution_count": 6,
   "id": "bd847ae6-ea8d-4720-ac84-7157c80f8bc1",
   "metadata": {},
   "outputs": [
    {
     "name": "stdout",
     "output_type": "stream",
     "text": [
      "P\n",
      "r\n",
      "a\n",
      "n\n",
      "a\n",
      "v\n"
     ]
    }
   ],
   "source": [
    "s=\"Pranav\"\n",
    "i=0\n",
    "while(i<len(s)):\n",
    "    print(s[i])\n",
    "    i=i+1"
   ]
  },
  {
   "cell_type": "markdown",
   "id": "7e27b66d-34ec-4005-a7ff-16bf8801ec79",
   "metadata": {},
   "source": [
    "# Operators \n",
    " "
   ]
  },
  {
   "cell_type": "markdown",
   "id": "3fb1b8f9-d250-44bf-b183-472f362a1e34",
   "metadata": {},
   "source": [
    "# arithmatic\n",
    "   - \"*\"\n",
    "   - \"+\""
   ]
  },
  {
   "cell_type": "markdown",
   "id": "a5f53b58-a2b6-4fc9-949c-941356c18302",
   "metadata": {},
   "source": [
    "# + : concatination : joining"
   ]
  },
  {
   "cell_type": "code",
   "execution_count": 1,
   "id": "62ce73d7-5cd3-42a4-ae0d-7a625964d94c",
   "metadata": {},
   "outputs": [
    {
     "data": {
      "text/plain": [
       "'madridsolutions'"
      ]
     },
     "execution_count": 1,
     "metadata": {},
     "output_type": "execute_result"
    }
   ],
   "source": [
    "s=\"madrid\"\n",
    "s1=\"solutions\"\n",
    "s+s1"
   ]
  },
  {
   "cell_type": "code",
   "execution_count": 2,
   "id": "6a42f4fb-d2b3-455a-9ca1-7fcc2d371e2e",
   "metadata": {},
   "outputs": [
    {
     "name": "stdin",
     "output_type": "stream",
     "text": [
      "enter the first name  pranav\n",
      "enter the last name  sawant\n"
     ]
    },
    {
     "data": {
      "text/plain": [
       "'pranav:sawant'"
      ]
     },
     "execution_count": 2,
     "metadata": {},
     "output_type": "execute_result"
    }
   ],
   "source": [
    "first=input(\"enter the first name \")\n",
    "last=input(\"enter the last name \")\n",
    "first+\":\"+last"
   ]
  },
  {
   "cell_type": "markdown",
   "id": "7580f8e7-cc8e-4550-b0e3-228857979ac4",
   "metadata": {},
   "source": [
    "# * :replica"
   ]
  },
  {
   "cell_type": "code",
   "execution_count": 1,
   "id": "5096b7ea-d469-46ef-b31b-7819388fb1f2",
   "metadata": {},
   "outputs": [
    {
     "data": {
      "text/plain": [
       "'madridmadridmadridmadridmadridmadridmadridmadridmadridmadrid'"
      ]
     },
     "execution_count": 1,
     "metadata": {},
     "output_type": "execute_result"
    }
   ],
   "source": [
    "s=\"madrid\"\n",
    "s*10"
   ]
  },
  {
   "cell_type": "code",
   "execution_count": 3,
   "id": "49e614d2-9aee-4f5d-a6f1-b6667207c76c",
   "metadata": {},
   "outputs": [
    {
     "data": {
      "text/plain": [
       "'madrid madrid madrid madrid madrid madrid madrid madrid madrid madrid '"
      ]
     },
     "execution_count": 3,
     "metadata": {},
     "output_type": "execute_result"
    }
   ],
   "source": [
    "s=\"madrid\"\n",
    "s1=s+\" \"\n",
    "s1*10"
   ]
  },
  {
   "cell_type": "markdown",
   "id": "b782e086-15be-4c33-85c7-d4be281b6182",
   "metadata": {},
   "source": [
    "# relational"
   ]
  },
  {
   "cell_type": "code",
   "execution_count": 4,
   "id": "e2e1d6fb-9ebb-4783-af45-a22af6a6415e",
   "metadata": {},
   "outputs": [
    {
     "data": {
      "text/plain": [
       "True"
      ]
     },
     "execution_count": 4,
     "metadata": {},
     "output_type": "execute_result"
    }
   ],
   "source": [
    "\"madrid\"<\"solutions\"  # based on ascii"
   ]
  },
  {
   "cell_type": "code",
   "execution_count": 5,
   "id": "27f587ad-574e-4d14-bee5-7f6e57cfa12e",
   "metadata": {},
   "outputs": [
    {
     "data": {
      "text/plain": [
       "False"
      ]
     },
     "execution_count": 5,
     "metadata": {},
     "output_type": "execute_result"
    }
   ],
   "source": [
    "\"szdrid\"<\"solutions\""
   ]
  },
  {
   "cell_type": "markdown",
   "id": "d79409f9-ff1e-4057-bc4f-27e67f8c6f3c",
   "metadata": {},
   "source": [
    "# logical"
   ]
  },
  {
   "cell_type": "code",
   "execution_count": 6,
   "id": "c4f9d6b1-6e7a-4c0d-944c-fe90add08018",
   "metadata": {},
   "outputs": [
    {
     "data": {
      "text/plain": [
       "'madrid'"
      ]
     },
     "execution_count": 6,
     "metadata": {},
     "output_type": "execute_result"
    }
   ],
   "source": [
    "\"madrid\" or \"solutions\""
   ]
  },
  {
   "cell_type": "code",
   "execution_count": 7,
   "id": "9afa4a69-2032-4890-a21c-7f371a3f95fc",
   "metadata": {},
   "outputs": [
    {
     "data": {
      "text/plain": [
       "'solutions'"
      ]
     },
     "execution_count": 7,
     "metadata": {},
     "output_type": "execute_result"
    }
   ],
   "source": [
    "\"\" or \"solutions\""
   ]
  },
  {
   "cell_type": "code",
   "execution_count": 8,
   "id": "618849d8-9ca5-4d12-b5e2-a2409a8e7c25",
   "metadata": {},
   "outputs": [
    {
     "data": {
      "text/plain": [
       "''"
      ]
     },
     "execution_count": 8,
     "metadata": {},
     "output_type": "execute_result"
    }
   ],
   "source": [
    "\"\" and \"solutions\""
   ]
  },
  {
   "cell_type": "code",
   "execution_count": 9,
   "id": "0780f042-b92b-4fdd-a2f7-8a010083b3ab",
   "metadata": {},
   "outputs": [
    {
     "data": {
      "text/plain": [
       "False"
      ]
     },
     "execution_count": 9,
     "metadata": {},
     "output_type": "execute_result"
    }
   ],
   "source": [
    "not(\"madrid\")"
   ]
  },
  {
   "cell_type": "code",
   "execution_count": 2,
   "id": "5b158975-0eac-4937-b022-24d66e90bc78",
   "metadata": {},
   "outputs": [
    {
     "data": {
      "text/plain": [
       "True"
      ]
     },
     "execution_count": 2,
     "metadata": {},
     "output_type": "execute_result"
    }
   ],
   "source": [
    "not(\"\")"
   ]
  },
  {
   "cell_type": "markdown",
   "id": "f3f171a7-7775-412c-be21-7697946e696e",
   "metadata": {},
   "source": [
    "# in and not in : done before"
   ]
  },
  {
   "cell_type": "markdown",
   "id": "bab08261-9304-443d-b503-9dbc1e8a981f",
   "metadata": {},
   "source": [
    "# property: immutable: changes are not allowed once the string is created only u can redefine it"
   ]
  },
  {
   "cell_type": "code",
   "execution_count": 4,
   "id": "935a3b6a-14b3-4b96-a55d-029dd40b778d",
   "metadata": {},
   "outputs": [
    {
     "ename": "TypeError",
     "evalue": "'str' object does not support item assignment",
     "output_type": "error",
     "traceback": [
      "\u001b[1;31m---------------------------------------------------------------------------\u001b[0m",
      "\u001b[1;31mTypeError\u001b[0m                                 Traceback (most recent call last)",
      "Cell \u001b[1;32mIn[4], line 2\u001b[0m\n\u001b[0;32m      1\u001b[0m s\u001b[38;5;241m=\u001b[39m\u001b[38;5;124m\"\u001b[39m\u001b[38;5;124mmadrid\u001b[39m\u001b[38;5;124m\"\u001b[39m\n\u001b[1;32m----> 2\u001b[0m s[\u001b[38;5;241m-\u001b[39m\u001b[38;5;241m1\u001b[39m]\u001b[38;5;241m=\u001b[39m\u001b[38;5;124m\"\u001b[39m\u001b[38;5;124mt\u001b[39m\u001b[38;5;124m\"\u001b[39m\n",
      "\u001b[1;31mTypeError\u001b[0m: 'str' object does not support item assignment"
     ]
    }
   ],
   "source": [
    "s=\"madrid\"\n",
    "s[-1]=\"t\" # string is immutable\n"
   ]
  },
  {
   "cell_type": "code",
   "execution_count": 3,
   "id": "e02009c5-906b-4725-87d2-afbfd8ac9c20",
   "metadata": {},
   "outputs": [
    {
     "name": "stdout",
     "output_type": "stream",
     "text": [
      "[1234, 5, 56, 10]\n",
      "2120519971776\n",
      "[1234, 5, 56, 1000]\n",
      "2120519971776\n"
     ]
    }
   ],
   "source": [
    "l=[1234,5,56,10]\n",
    "print(l)\n",
    "print(id(l))\n",
    "l[-1]=1000 # list are mutable\n",
    "print(l)\n",
    "print(id(l))"
   ]
  },
  {
   "cell_type": "code",
   "execution_count": 5,
   "id": "c6fe9efe-ed12-4c77-8dd4-da2bfc0d159c",
   "metadata": {},
   "outputs": [
    {
     "name": "stdout",
     "output_type": "stream",
     "text": [
      "madrid\n",
      "2120519790960\n",
      "madrid solutions\n",
      "2120519117648\n"
     ]
    }
   ],
   "source": [
    "s=\"madrid\"\n",
    "print(s)\n",
    "print(id(s))\n",
    "s=\"madrid solutions\"\n",
    "print(s)\n",
    "print(id(s))"
   ]
  },
  {
   "cell_type": "markdown",
   "id": "f8265b41-40d2-4f11-b8ae-6a0c053d5311",
   "metadata": {},
   "source": [
    "# common functions\n",
    "\n",
    "- len\n",
    "- max\n",
    "- min\n",
    "- sum\n",
    "-  sorted\n",
    "- del\n",
    " "
   ]
  },
  {
   "cell_type": "code",
   "execution_count": 6,
   "id": "b1cdc694-ee70-4ae7-9fa4-26cf7f56c35a",
   "metadata": {},
   "outputs": [
    {
     "name": "stdout",
     "output_type": "stream",
     "text": [
      "6\n",
      "r\n",
      "a\n"
     ]
    },
    {
     "ename": "TypeError",
     "evalue": "unsupported operand type(s) for +: 'int' and 'str'",
     "output_type": "error",
     "traceback": [
      "\u001b[1;31m---------------------------------------------------------------------------\u001b[0m",
      "\u001b[1;31mTypeError\u001b[0m                                 Traceback (most recent call last)",
      "Cell \u001b[1;32mIn[6], line 5\u001b[0m\n\u001b[0;32m      3\u001b[0m \u001b[38;5;28mprint\u001b[39m(\u001b[38;5;28mmax\u001b[39m(s)) \u001b[38;5;66;03m# on the basis of ascii\u001b[39;00m\n\u001b[0;32m      4\u001b[0m \u001b[38;5;28mprint\u001b[39m(\u001b[38;5;28mmin\u001b[39m(s)) \u001b[38;5;66;03m# on the basis of ascii\u001b[39;00m\n\u001b[1;32m----> 5\u001b[0m \u001b[38;5;28mprint\u001b[39m(\u001b[38;5;28msum\u001b[39m(s))\n",
      "\u001b[1;31mTypeError\u001b[0m: unsupported operand type(s) for +: 'int' and 'str'"
     ]
    }
   ],
   "source": [
    "s=\"madrid\"\n",
    "print(len(s))\n",
    "print(max(s)) # on the basis of ascii\n",
    "print(min(s)) # on the basis of ascii\n",
    "print(sum(s))"
   ]
  },
  {
   "cell_type": "code",
   "execution_count": 7,
   "id": "e0f816ab-d0af-44ce-940d-c4944c6a4495",
   "metadata": {},
   "outputs": [
    {
     "name": "stdout",
     "output_type": "stream",
     "text": [
      "['a', 'd', 'd', 'i', 'm', 'r']\n"
     ]
    }
   ],
   "source": [
    "print(sorted(s)) # by default ascending order"
   ]
  },
  {
   "cell_type": "code",
   "execution_count": 8,
   "id": "b84dea00-ea0c-43d1-b2ca-a7c6d1e4d914",
   "metadata": {},
   "outputs": [
    {
     "name": "stdout",
     "output_type": "stream",
     "text": [
      "['r', 'm', 'i', 'd', 'd', 'a']\n"
     ]
    }
   ],
   "source": [
    "print(sorted(s,reverse=True)) # decending order"
   ]
  },
  {
   "cell_type": "code",
   "execution_count": 15,
   "id": "86c7db83-7ce1-4d60-bf7c-cefdb29dd13a",
   "metadata": {},
   "outputs": [],
   "source": [
    "del s"
   ]
  },
  {
   "cell_type": "code",
   "execution_count": 16,
   "id": "1a7d3c5d-3ff4-40bf-8a20-ff0839d2e411",
   "metadata": {},
   "outputs": [
    {
     "ename": "NameError",
     "evalue": "name 's' is not defined",
     "output_type": "error",
     "traceback": [
      "\u001b[1;31m---------------------------------------------------------------------------\u001b[0m",
      "\u001b[1;31mNameError\u001b[0m                                 Traceback (most recent call last)",
      "Cell \u001b[1;32mIn[16], line 1\u001b[0m\n\u001b[1;32m----> 1\u001b[0m s\n",
      "\u001b[1;31mNameError\u001b[0m: name 's' is not defined"
     ]
    }
   ],
   "source": [
    "s"
   ]
  },
  {
   "cell_type": "code",
   "execution_count": 17,
   "id": "c2603e22-f7aa-4a9b-ab22-45b0bdb3a968",
   "metadata": {},
   "outputs": [
    {
     "data": {
      "text/plain": [
       "['__add__',\n",
       " '__class__',\n",
       " '__contains__',\n",
       " '__delattr__',\n",
       " '__dir__',\n",
       " '__doc__',\n",
       " '__eq__',\n",
       " '__format__',\n",
       " '__ge__',\n",
       " '__getattribute__',\n",
       " '__getitem__',\n",
       " '__getnewargs__',\n",
       " '__getstate__',\n",
       " '__gt__',\n",
       " '__hash__',\n",
       " '__init__',\n",
       " '__init_subclass__',\n",
       " '__iter__',\n",
       " '__le__',\n",
       " '__len__',\n",
       " '__lt__',\n",
       " '__mod__',\n",
       " '__mul__',\n",
       " '__ne__',\n",
       " '__new__',\n",
       " '__reduce__',\n",
       " '__reduce_ex__',\n",
       " '__repr__',\n",
       " '__rmod__',\n",
       " '__rmul__',\n",
       " '__setattr__',\n",
       " '__sizeof__',\n",
       " '__str__',\n",
       " '__subclasshook__',\n",
       " 'capitalize',\n",
       " 'casefold',\n",
       " 'center',\n",
       " 'count',\n",
       " 'encode',\n",
       " 'endswith',\n",
       " 'expandtabs',\n",
       " 'find',\n",
       " 'format',\n",
       " 'format_map',\n",
       " 'index',\n",
       " 'isalnum',\n",
       " 'isalpha',\n",
       " 'isascii',\n",
       " 'isdecimal',\n",
       " 'isdigit',\n",
       " 'isidentifier',\n",
       " 'islower',\n",
       " 'isnumeric',\n",
       " 'isprintable',\n",
       " 'isspace',\n",
       " 'istitle',\n",
       " 'isupper',\n",
       " 'join',\n",
       " 'ljust',\n",
       " 'lower',\n",
       " 'lstrip',\n",
       " 'maketrans',\n",
       " 'partition',\n",
       " 'removeprefix',\n",
       " 'removesuffix',\n",
       " 'replace',\n",
       " 'rfind',\n",
       " 'rindex',\n",
       " 'rjust',\n",
       " 'rpartition',\n",
       " 'rsplit',\n",
       " 'rstrip',\n",
       " 'split',\n",
       " 'splitlines',\n",
       " 'startswith',\n",
       " 'strip',\n",
       " 'swapcase',\n",
       " 'title',\n",
       " 'translate',\n",
       " 'upper',\n",
       " 'zfill']"
      ]
     },
     "execution_count": 17,
     "metadata": {},
     "output_type": "execute_result"
    }
   ],
   "source": [
    "dir(str)"
   ]
  },
  {
   "cell_type": "code",
   "execution_count": 18,
   "id": "1ce3fc2f-d810-47b0-979e-d5e4a47dfb7c",
   "metadata": {},
   "outputs": [
    {
     "data": {
      "text/plain": [
       "'Madrid solutions 234'"
      ]
     },
     "execution_count": 18,
     "metadata": {},
     "output_type": "execute_result"
    }
   ],
   "source": [
    "s=\"madrid soLuTions 234\"\n",
    "S1=s.capitalize()\n",
    "S1"
   ]
  },
  {
   "cell_type": "code",
   "execution_count": 19,
   "id": "7937bc5a-92f5-4cb0-9956-1c11f04e4d27",
   "metadata": {},
   "outputs": [
    {
     "data": {
      "text/plain": [
       "'madrid soLuTions 234'"
      ]
     },
     "execution_count": 19,
     "metadata": {},
     "output_type": "execute_result"
    }
   ],
   "source": [
    "s"
   ]
  },
  {
   "cell_type": "code",
   "execution_count": 20,
   "id": "442aaadb-3240-497b-96ec-7f6bdb8da23a",
   "metadata": {},
   "outputs": [
    {
     "data": {
      "text/plain": [
       "'Madrid Solutions 234'"
      ]
     },
     "execution_count": 20,
     "metadata": {},
     "output_type": "execute_result"
    }
   ],
   "source": [
    "s=\"madrid soLuTions 234\"\n",
    "s.title()"
   ]
  },
  {
   "cell_type": "code",
   "execution_count": 21,
   "id": "bddf8a92-32df-46aa-a610-5fd8a862fff5",
   "metadata": {},
   "outputs": [
    {
     "data": {
      "text/plain": [
       "'MADRID SOLUTIONS 234'"
      ]
     },
     "execution_count": 21,
     "metadata": {},
     "output_type": "execute_result"
    }
   ],
   "source": [
    "s=\"madrid soLuTions 234\"\n",
    "s.upper()"
   ]
  },
  {
   "cell_type": "code",
   "execution_count": 22,
   "id": "f6fb6d73-d783-4649-959c-40bcf969469b",
   "metadata": {},
   "outputs": [
    {
     "data": {
      "text/plain": [
       "'madrid solutions 234'"
      ]
     },
     "execution_count": 22,
     "metadata": {},
     "output_type": "execute_result"
    }
   ],
   "source": [
    "s=\"madrid soLuTions 234\"\n",
    "s.lower()"
   ]
  },
  {
   "cell_type": "code",
   "execution_count": 23,
   "id": "de7fba41-944c-4fc6-b95f-4b46866b53b5",
   "metadata": {},
   "outputs": [
    {
     "data": {
      "text/plain": [
       "'MADRID SOlUtIONS 234'"
      ]
     },
     "execution_count": 23,
     "metadata": {},
     "output_type": "execute_result"
    }
   ],
   "source": [
    "s.swapcase()"
   ]
  },
  {
   "cell_type": "code",
   "execution_count": 24,
   "id": "800802d0-ca6b-417d-a2e7-bda5df33ba46",
   "metadata": {},
   "outputs": [
    {
     "data": {
      "text/plain": [
       "False"
      ]
     },
     "execution_count": 24,
     "metadata": {},
     "output_type": "execute_result"
    }
   ],
   "source": [
    "s=\"madrid\"\n",
    "s.startswith(\"s\")"
   ]
  },
  {
   "cell_type": "code",
   "execution_count": 25,
   "id": "01d0af97-ee16-4e6b-a175-46a1b0366812",
   "metadata": {},
   "outputs": [
    {
     "data": {
      "text/plain": [
       "True"
      ]
     },
     "execution_count": 25,
     "metadata": {},
     "output_type": "execute_result"
    }
   ],
   "source": [
    "s=\"madrid\"\n",
    "s.startswith(\"m\")"
   ]
  },
  {
   "cell_type": "code",
   "execution_count": 26,
   "id": "c99792d9-645c-4d6c-b5cc-cfa799776943",
   "metadata": {},
   "outputs": [
    {
     "data": {
      "text/plain": [
       "True"
      ]
     },
     "execution_count": 26,
     "metadata": {},
     "output_type": "execute_result"
    }
   ],
   "source": [
    "s=\"madrid\"\n",
    "s.startswith(\"ma\")"
   ]
  },
  {
   "cell_type": "code",
   "execution_count": 27,
   "id": "60d87762-8fea-4b89-8404-6cd64b28e48b",
   "metadata": {},
   "outputs": [
    {
     "data": {
      "text/plain": [
       "False"
      ]
     },
     "execution_count": 27,
     "metadata": {},
     "output_type": "execute_result"
    }
   ],
   "source": [
    "s=\"madrid\"\n",
    "s.startswith(\"mt\")"
   ]
  },
  {
   "cell_type": "code",
   "execution_count": 28,
   "id": "1d7d1dc7-e00a-493e-811b-ccba671ecd38",
   "metadata": {},
   "outputs": [
    {
     "data": {
      "text/plain": [
       "False"
      ]
     },
     "execution_count": 28,
     "metadata": {},
     "output_type": "execute_result"
    }
   ],
   "source": [
    "s=\"madrid\"\n",
    "s.endswith(\"mt\")"
   ]
  },
  {
   "cell_type": "code",
   "execution_count": 29,
   "id": "ecd193d9-99aa-4da1-8652-6861241b6af8",
   "metadata": {},
   "outputs": [
    {
     "data": {
      "text/plain": [
       "True"
      ]
     },
     "execution_count": 29,
     "metadata": {},
     "output_type": "execute_result"
    }
   ],
   "source": [
    "s=\"madrid\"\n",
    "s.endswith(\"rid\")"
   ]
  },
  {
   "cell_type": "markdown",
   "id": "0a52f10d-602d-4c85-9d2a-fa5d4fef30f8",
   "metadata": {},
   "source": [
    "# ischeck "
   ]
  },
  {
   "cell_type": "code",
   "execution_count": 9,
   "id": "67960a74-dadb-4e13-b4fe-6026df73e709",
   "metadata": {},
   "outputs": [
    {
     "data": {
      "text/plain": [
       "False"
      ]
     },
     "execution_count": 9,
     "metadata": {},
     "output_type": "execute_result"
    }
   ],
   "source": [
    "s=\"madrid SoLuTIons 3928\"\n",
    "s.islower()"
   ]
  },
  {
   "cell_type": "code",
   "execution_count": 31,
   "id": "a1a51c36-ea15-447e-91f1-6f34690af57c",
   "metadata": {},
   "outputs": [
    {
     "data": {
      "text/plain": [
       "True"
      ]
     },
     "execution_count": 31,
     "metadata": {},
     "output_type": "execute_result"
    }
   ],
   "source": [
    "s=\"madrid solutions 3928\"\n",
    "s.islower()"
   ]
  },
  {
   "cell_type": "code",
   "execution_count": 32,
   "id": "f8a1d682-b75d-4fdf-b7be-824fe885cde9",
   "metadata": {},
   "outputs": [
    {
     "data": {
      "text/plain": [
       "False"
      ]
     },
     "execution_count": 32,
     "metadata": {},
     "output_type": "execute_result"
    }
   ],
   "source": [
    "s=\"Madrid SoLuTIons 3928\"\n",
    "s.isupper()"
   ]
  },
  {
   "cell_type": "code",
   "execution_count": 1,
   "id": "00e6beee-9f3a-47b9-bb2c-f28dbd1d52c7",
   "metadata": {},
   "outputs": [
    {
     "data": {
      "text/plain": [
       "True"
      ]
     },
     "execution_count": 1,
     "metadata": {},
     "output_type": "execute_result"
    }
   ],
   "source": [
    "s=\"MADRID 3928\"\n",
    "s.isupper()"
   ]
  },
  {
   "cell_type": "code",
   "execution_count": 33,
   "id": "6da38f6a-de16-4c8a-8270-000ae70df27b",
   "metadata": {},
   "outputs": [
    {
     "data": {
      "text/plain": [
       "False"
      ]
     },
     "execution_count": 33,
     "metadata": {},
     "output_type": "execute_result"
    }
   ],
   "source": [
    "s=\"Madrid SoLuTIons 3928\"\n",
    "s.istitle()"
   ]
  },
  {
   "cell_type": "code",
   "execution_count": 2,
   "id": "4c52d79d-539e-4a77-a16e-bd0cc1e278d2",
   "metadata": {},
   "outputs": [
    {
     "data": {
      "text/plain": [
       "False"
      ]
     },
     "execution_count": 2,
     "metadata": {},
     "output_type": "execute_result"
    }
   ],
   "source": [
    "s=\"Madrid SoLuTIons 3928\"\n",
    "s.isalpha() # checks alphabat"
   ]
  },
  {
   "cell_type": "code",
   "execution_count": 3,
   "id": "4cd30966-1c1f-4242-beb4-f38275ee6e1b",
   "metadata": {},
   "outputs": [
    {
     "data": {
      "text/plain": [
       "True"
      ]
     },
     "execution_count": 3,
     "metadata": {},
     "output_type": "execute_result"
    }
   ],
   "source": [
    "s=\"MadridSoLuTIons3928\"\n",
    "s.isalnum() # check alphabat or numeric"
   ]
  },
  {
   "cell_type": "code",
   "execution_count": 11,
   "id": "385af958-9b58-4015-84f6-f6f443a4938c",
   "metadata": {},
   "outputs": [
    {
     "data": {
      "text/plain": [
       "False"
      ]
     },
     "execution_count": 11,
     "metadata": {},
     "output_type": "execute_result"
    }
   ],
   "source": [
    "s=\"MadridSoLuTIons 3928\" # false because there is a space\n",
    "s.isalnum()"
   ]
  },
  {
   "cell_type": "code",
   "execution_count": 36,
   "id": "e94de0bc-c870-4eed-b9e4-af1652485df6",
   "metadata": {},
   "outputs": [
    {
     "data": {
      "text/plain": [
       "True"
      ]
     },
     "execution_count": 36,
     "metadata": {},
     "output_type": "execute_result"
    }
   ],
   "source": [
    "s=\"MadridSoLuTIons\"\n",
    "s.isalnum()"
   ]
  },
  {
   "cell_type": "code",
   "execution_count": 37,
   "id": "20034261-7989-446e-8160-1cd12bdf704d",
   "metadata": {},
   "outputs": [
    {
     "data": {
      "text/plain": [
       "True"
      ]
     },
     "execution_count": 37,
     "metadata": {},
     "output_type": "execute_result"
    }
   ],
   "source": [
    "s=\"977878\"\n",
    "s.isalnum()"
   ]
  },
  {
   "cell_type": "code",
   "execution_count": 38,
   "id": "182e50fb-6833-4cce-8265-9ae68d74f6dc",
   "metadata": {},
   "outputs": [
    {
     "data": {
      "text/plain": [
       "True"
      ]
     },
     "execution_count": 38,
     "metadata": {},
     "output_type": "execute_result"
    }
   ],
   "source": [
    "s=\"988977887\"\n",
    "s.isdigit()"
   ]
  },
  {
   "cell_type": "code",
   "execution_count": 4,
   "id": "d8734275-c5f0-4c6f-a4ba-d1f665ef8c72",
   "metadata": {},
   "outputs": [
    {
     "data": {
      "text/plain": [
       "False"
      ]
     },
     "execution_count": 4,
     "metadata": {},
     "output_type": "execute_result"
    }
   ],
   "source": [
    "s=\" a b  \"\n",
    "s.isspace() # check only space"
   ]
  },
  {
   "cell_type": "code",
   "execution_count": 12,
   "id": "6b01acac-532f-4dec-95a1-fe5cc0891677",
   "metadata": {},
   "outputs": [
    {
     "data": {
      "text/plain": [
       "True"
      ]
     },
     "execution_count": 12,
     "metadata": {},
     "output_type": "execute_result"
    }
   ],
   "source": [
    "s=\"   \"\n",
    "s.isspace()"
   ]
  },
  {
   "cell_type": "markdown",
   "id": "8841264b-187e-4313-9140-a9c1edc91a35",
   "metadata": {},
   "source": [
    "# location and counting based \n",
    "- index\n",
    "- find\n",
    "- count"
   ]
  },
  {
   "cell_type": "code",
   "execution_count": 41,
   "id": "2a643b19-e2a4-4aaf-8271-cedf1c0d2ce8",
   "metadata": {},
   "outputs": [
    {
     "name": "stdin",
     "output_type": "stream",
     "text": [
      "enter the sub string  a\n"
     ]
    },
    {
     "data": {
      "text/plain": [
       "1"
      ]
     },
     "execution_count": 41,
     "metadata": {},
     "output_type": "execute_result"
    }
   ],
   "source": [
    "s=\"madrid\"\n",
    "sub=input(\"enter the sub string \")\n",
    "s.index(sub)"
   ]
  },
  {
   "cell_type": "code",
   "execution_count": 42,
   "id": "f82ab8e6-989e-423b-8aa7-63c6759f1591",
   "metadata": {},
   "outputs": [
    {
     "name": "stdin",
     "output_type": "stream",
     "text": [
      "enter the sub string  r\n"
     ]
    },
    {
     "data": {
      "text/plain": [
       "3"
      ]
     },
     "execution_count": 42,
     "metadata": {},
     "output_type": "execute_result"
    }
   ],
   "source": [
    "s=\"madrid\"\n",
    "sub=input(\"enter the sub string \")\n",
    "s.index(sub)"
   ]
  },
  {
   "cell_type": "code",
   "execution_count": 43,
   "id": "3a3c857a-b533-4757-8829-c1eae33c43e1",
   "metadata": {},
   "outputs": [
    {
     "name": "stdin",
     "output_type": "stream",
     "text": [
      "enter the sub string  d\n"
     ]
    },
    {
     "data": {
      "text/plain": [
       "2"
      ]
     },
     "execution_count": 43,
     "metadata": {},
     "output_type": "execute_result"
    }
   ],
   "source": [
    "s=\"madrid\"\n",
    "sub=input(\"enter the sub string \")\n",
    "s.index(sub) # it gives the index of first occurance"
   ]
  },
  {
   "cell_type": "code",
   "execution_count": 44,
   "id": "44ee547d-79e2-429c-a381-97cd9d006e2c",
   "metadata": {},
   "outputs": [
    {
     "name": "stdin",
     "output_type": "stream",
     "text": [
      "enter the sub string  p\n"
     ]
    },
    {
     "ename": "ValueError",
     "evalue": "substring not found",
     "output_type": "error",
     "traceback": [
      "\u001b[1;31m---------------------------------------------------------------------------\u001b[0m",
      "\u001b[1;31mValueError\u001b[0m                                Traceback (most recent call last)",
      "Cell \u001b[1;32mIn[44], line 3\u001b[0m\n\u001b[0;32m      1\u001b[0m s\u001b[38;5;241m=\u001b[39m\u001b[38;5;124m\"\u001b[39m\u001b[38;5;124mmadrid\u001b[39m\u001b[38;5;124m\"\u001b[39m\n\u001b[0;32m      2\u001b[0m sub\u001b[38;5;241m=\u001b[39m\u001b[38;5;28minput\u001b[39m(\u001b[38;5;124m\"\u001b[39m\u001b[38;5;124menter the sub string \u001b[39m\u001b[38;5;124m\"\u001b[39m)\n\u001b[1;32m----> 3\u001b[0m s\u001b[38;5;241m.\u001b[39mindex(sub)\n",
      "\u001b[1;31mValueError\u001b[0m: substring not found"
     ]
    }
   ],
   "source": [
    "s=\"madrid\"\n",
    "sub=input(\"enter the sub string \")\n",
    "s.index(sub) "
   ]
  },
  {
   "cell_type": "code",
   "execution_count": 13,
   "id": "422fa039-133f-49aa-b4bc-eca8d54e6ede",
   "metadata": {},
   "outputs": [
    {
     "name": "stdin",
     "output_type": "stream",
     "text": [
      "enter the sub string  dr\n"
     ]
    },
    {
     "data": {
      "text/plain": [
       "2"
      ]
     },
     "execution_count": 13,
     "metadata": {},
     "output_type": "execute_result"
    }
   ],
   "source": [
    "s=\"madrid\"\n",
    "sub=input(\"enter the sub string \")\n",
    "s.index(sub) # gives the position of first character as a position of dr"
   ]
  },
  {
   "cell_type": "markdown",
   "id": "61d40c86-e076-45cc-bf62-5a448afaf7c3",
   "metadata": {},
   "source": [
    "# CUSTOMIZED SEARCH REGION"
   ]
  },
  {
   "cell_type": "code",
   "execution_count": 17,
   "id": "d194a691-b02e-4160-90a0-4584b189d625",
   "metadata": {},
   "outputs": [
    {
     "name": "stdin",
     "output_type": "stream",
     "text": [
      "enter the sub string : i\n"
     ]
    },
    {
     "data": {
      "text/plain": [
       "4"
      ]
     },
     "execution_count": 17,
     "metadata": {},
     "output_type": "execute_result"
    }
   ],
   "source": [
    "s=\"madrid\"\n",
    "sub=input(\"enter the sub string :\")\n",
    "s.index(sub,3,6) "
   ]
  },
  {
   "cell_type": "code",
   "execution_count": 18,
   "id": "20d11372-220d-4895-a69c-ab56fe6b7742",
   "metadata": {},
   "outputs": [
    {
     "name": "stdin",
     "output_type": "stream",
     "text": [
      "enter the sub string :  a\n"
     ]
    },
    {
     "ename": "ValueError",
     "evalue": "substring not found",
     "output_type": "error",
     "traceback": [
      "\u001b[1;31m---------------------------------------------------------------------------\u001b[0m",
      "\u001b[1;31mValueError\u001b[0m                                Traceback (most recent call last)",
      "Cell \u001b[1;32mIn[18], line 3\u001b[0m\n\u001b[0;32m      1\u001b[0m s\u001b[38;5;241m=\u001b[39m\u001b[38;5;124m\"\u001b[39m\u001b[38;5;124mmadrid\u001b[39m\u001b[38;5;124m\"\u001b[39m\n\u001b[0;32m      2\u001b[0m sub\u001b[38;5;241m=\u001b[39m\u001b[38;5;28minput\u001b[39m(\u001b[38;5;124m\"\u001b[39m\u001b[38;5;124menter the sub string : \u001b[39m\u001b[38;5;124m\"\u001b[39m)\n\u001b[1;32m----> 3\u001b[0m s\u001b[38;5;241m.\u001b[39mindex(sub,\u001b[38;5;241m3\u001b[39m,\u001b[38;5;241m6\u001b[39m)\n",
      "\u001b[1;31mValueError\u001b[0m: substring not found"
     ]
    }
   ],
   "source": [
    "s=\"madrid\"\n",
    "sub=input(\"enter the sub string : \")\n",
    "s.index(sub,3,6) "
   ]
  },
  {
   "cell_type": "markdown",
   "id": "8b3fe179-265c-4b4d-849d-644ff2ee8b16",
   "metadata": {},
   "source": [
    "# find "
   ]
  },
  {
   "cell_type": "code",
   "execution_count": 1,
   "id": "edd6d3db-e5ff-4f7f-9afe-589e20e58a1c",
   "metadata": {},
   "outputs": [
    {
     "name": "stdin",
     "output_type": "stream",
     "text": [
      "enter the sub string:  i\n"
     ]
    },
    {
     "data": {
      "text/plain": [
       "4"
      ]
     },
     "execution_count": 1,
     "metadata": {},
     "output_type": "execute_result"
    }
   ],
   "source": [
    "s=\"madrid\"\n",
    "sub=input(\"enter the sub string: \")\n",
    "s.find(sub) "
   ]
  },
  {
   "cell_type": "code",
   "execution_count": 20,
   "id": "c100159d-712a-4485-b7b7-7bb4a74b2899",
   "metadata": {},
   "outputs": [
    {
     "name": "stdin",
     "output_type": "stream",
     "text": [
      "enter the sub string:  p\n"
     ]
    },
    {
     "data": {
      "text/plain": [
       "-1"
      ]
     },
     "execution_count": 20,
     "metadata": {},
     "output_type": "execute_result"
    }
   ],
   "source": [
    "s=\"madrid\"\n",
    "sub=input(\"enter the sub string: \")\n",
    "s.find(sub) "
   ]
  },
  {
   "cell_type": "markdown",
   "id": "57814900-91ad-46bc-be30-2ba0fe457b20",
   "metadata": {},
   "source": [
    "# NOTE\n",
    "# index: when we try to get the sub string that is not present in original string it gives error as **substring not found**\n",
    "# find: when we try to get the sub string that is not present in original string it gives -1 as result"
   ]
  },
  {
   "cell_type": "markdown",
   "id": "8d78f520-d165-47d5-ae8f-59062cf8c022",
   "metadata": {},
   "source": [
    "# wap to display the index of the each character  without using index function"
   ]
  },
  {
   "cell_type": "code",
   "execution_count": 21,
   "id": "5f210df1-b54e-4d64-a96c-4bc57f8a38a3",
   "metadata": {},
   "outputs": [
    {
     "name": "stdin",
     "output_type": "stream",
     "text": [
      "enter the string  pranav\n"
     ]
    },
    {
     "name": "stdout",
     "output_type": "stream",
     "text": [
      "p ------------- 0\n",
      "r ------------- 1\n",
      "a ------------- 2\n",
      "n ------------- 3\n",
      "a ------------- 4\n",
      "v ------------- 5\n"
     ]
    }
   ],
   "source": [
    "s=input(\"enter the string \")\n",
    "index=0\n",
    "for ch in s:\n",
    "    print(ch,\"-------------\",index)\n",
    "    index=index+1"
   ]
  },
  {
   "cell_type": "markdown",
   "id": "affcb90c-5fdb-4241-ab2d-923f576471be",
   "metadata": {},
   "source": [
    "# wap to display the index of the sub string without using index function"
   ]
  },
  {
   "cell_type": "code",
   "execution_count": 2,
   "id": "64e8a4a8-32f6-411c-a885-355390eec73e",
   "metadata": {},
   "outputs": [
    {
     "name": "stdin",
     "output_type": "stream",
     "text": [
      "enter the string  pranav\n",
      "enter the substring of which u want the index  a\n"
     ]
    },
    {
     "name": "stdout",
     "output_type": "stream",
     "text": [
      "a -------------- 2\n",
      "a -------------- 4\n"
     ]
    }
   ],
   "source": [
    "s=input(\"enter the string \")\n",
    "sub=input(\"enter the substring of which u want the index \")\n",
    "index=0\n",
    "for ch  in s:\n",
    "    if ch==sub:\n",
    "        print(ch,\"--------------\",index)\n",
    "    index=index+1"
   ]
  },
  {
   "cell_type": "markdown",
   "id": "2f1fe181-f78d-44ea-b628-b53e60676a05",
   "metadata": {},
   "source": [
    "# count: tells the frequency of sub string"
   ]
  },
  {
   "cell_type": "code",
   "execution_count": 51,
   "id": "b0704b68-a2a0-4d52-a250-f4fccf558235",
   "metadata": {},
   "outputs": [
    {
     "data": {
      "text/plain": [
       "1"
      ]
     },
     "execution_count": 51,
     "metadata": {},
     "output_type": "execute_result"
    }
   ],
   "source": [
    "s=\"madrid\"\n",
    "s.count(\"i\")"
   ]
  },
  {
   "cell_type": "code",
   "execution_count": 52,
   "id": "045fe3e5-7975-46b4-ad59-bbeaa2783dd2",
   "metadata": {},
   "outputs": [
    {
     "data": {
      "text/plain": [
       "2"
      ]
     },
     "execution_count": 52,
     "metadata": {},
     "output_type": "execute_result"
    }
   ],
   "source": [
    "s=\"madrid\"\n",
    "s.count(\"d\")"
   ]
  },
  {
   "cell_type": "code",
   "execution_count": 53,
   "id": "aeafb22b-5aa1-4bdd-98af-3454603f0793",
   "metadata": {},
   "outputs": [
    {
     "data": {
      "text/plain": [
       "1"
      ]
     },
     "execution_count": 53,
     "metadata": {},
     "output_type": "execute_result"
    }
   ],
   "source": [
    "s=\"madrid\"\n",
    "s.count(\"dr\")"
   ]
  },
  {
   "cell_type": "code",
   "execution_count": 54,
   "id": "d0695149-d36c-4fb6-a78e-ed0f3a6c939f",
   "metadata": {},
   "outputs": [
    {
     "name": "stdout",
     "output_type": "stream",
     "text": [
      "m ---------------------- 1\n",
      "a ---------------------- 1\n",
      "d ---------------------- 2\n",
      "r ---------------------- 1\n",
      "i ---------------------- 1\n",
      "d ---------------------- 2\n"
     ]
    }
   ],
   "source": [
    "for ch in s:\n",
    "    print(ch,\"----------------------\",s.count(ch))"
   ]
  },
  {
   "cell_type": "code",
   "execution_count": 55,
   "id": "a24dc38b-5831-4c27-867e-9c0133b36581",
   "metadata": {},
   "outputs": [],
   "source": [
    "from collections import Counter"
   ]
  },
  {
   "cell_type": "code",
   "execution_count": 56,
   "id": "f3621477-7a03-4d0a-9e35-42ef45472218",
   "metadata": {},
   "outputs": [
    {
     "data": {
      "text/plain": [
       "Counter({'d': 2, 'm': 1, 'a': 1, 'r': 1, 'i': 1})"
      ]
     },
     "execution_count": 56,
     "metadata": {},
     "output_type": "execute_result"
    }
   ],
   "source": [
    "Counter(s)"
   ]
  },
  {
   "cell_type": "code",
   "execution_count": 57,
   "id": "56f01bfd-a185-4043-80d7-2a0881e63cdf",
   "metadata": {},
   "outputs": [
    {
     "data": {
      "text/plain": [
       "0"
      ]
     },
     "execution_count": 57,
     "metadata": {},
     "output_type": "execute_result"
    }
   ],
   "source": [
    "s=\"madrid\"\n",
    "s.count(\"u\")"
   ]
  },
  {
   "cell_type": "code",
   "execution_count": 58,
   "id": "f5af9bb6-8621-4e5a-9740-2516f45493d3",
   "metadata": {},
   "outputs": [
    {
     "data": {
      "text/plain": [
       "0"
      ]
     },
     "execution_count": 58,
     "metadata": {},
     "output_type": "execute_result"
    }
   ],
   "source": [
    "s=\"madrid\"\n",
    "s.count(\"r\",4,6)"
   ]
  },
  {
   "cell_type": "markdown",
   "id": "4f1cc60a-0d6f-4339-b290-82e3b5e79c19",
   "metadata": {},
   "source": [
    "#  split : it breaks the string into words based on splitter u specify and by default splitter is space: and returns the words in **list**"
   ]
  },
  {
   "cell_type": "code",
   "execution_count": 59,
   "id": "a99027a6-2a2e-4f38-97ad-34301fec98d2",
   "metadata": {},
   "outputs": [
    {
     "data": {
      "text/plain": [
       "['python', 'is', 'progarming', 'lang']"
      ]
     },
     "execution_count": 59,
     "metadata": {},
     "output_type": "execute_result"
    }
   ],
   "source": [
    "s=\"python is progarming lang\"\n",
    "s.split()"
   ]
  },
  {
   "cell_type": "code",
   "execution_count": 60,
   "id": "97002ed7-b342-4787-a92c-9fb1a1b90e1e",
   "metadata": {},
   "outputs": [
    {
     "data": {
      "text/plain": [
       "['ma', 'ra', 'ca', 'ba', 'ha']"
      ]
     },
     "execution_count": 60,
     "metadata": {},
     "output_type": "execute_result"
    }
   ],
   "source": [
    "s=\"matratcatbatha\"\n",
    "s.split(\"t\")"
   ]
  },
  {
   "cell_type": "code",
   "execution_count": 61,
   "id": "65510928-273b-4a79-8b85-3d12073c626f",
   "metadata": {},
   "outputs": [
    {
     "data": {
      "text/plain": [
       "['matratcatbatha']"
      ]
     },
     "execution_count": 61,
     "metadata": {},
     "output_type": "execute_result"
    }
   ],
   "source": [
    "s=\"matratcatbatha\"\n",
    "s.split()"
   ]
  },
  {
   "cell_type": "markdown",
   "id": "f4e0ecd2-ea7f-4ab3-92f9-4a0c706dc22c",
   "metadata": {},
   "source": [
    "# rsplit"
   ]
  },
  {
   "cell_type": "code",
   "execution_count": 7,
   "id": "9232ae7e-3f25-405f-9daa-f6eec04188aa",
   "metadata": {},
   "outputs": [
    {
     "data": {
      "text/plain": [
       "['ma', 'ra', 'catbatha']"
      ]
     },
     "execution_count": 7,
     "metadata": {},
     "output_type": "execute_result"
    }
   ],
   "source": [
    "s=\"matratcatbatha\"\n",
    "s.split(\"t\",2)      # search from left to right and print left to right # here 2 is max count"
   ]
  },
  {
   "cell_type": "code",
   "execution_count": 23,
   "id": "13f60b0d-a2d6-46f8-89b2-4c5276c96b3f",
   "metadata": {},
   "outputs": [
    {
     "data": {
      "text/plain": [
       "['matratca', 'ba', 'ha']"
      ]
     },
     "execution_count": 23,
     "metadata": {},
     "output_type": "execute_result"
    }
   ],
   "source": [
    "s=\"matratcatbatha\"\n",
    "s.rsplit(\"t\",2)    # search from right to left and print left to right"
   ]
  },
  {
   "cell_type": "code",
   "execution_count": 64,
   "id": "06a6340c-5c06-4ab8-a472-9ed142459213",
   "metadata": {},
   "outputs": [
    {
     "data": {
      "text/plain": [
       "['ma', 'ra', 'ca', 'ba', 'ha']"
      ]
     },
     "execution_count": 64,
     "metadata": {},
     "output_type": "execute_result"
    }
   ],
   "source": [
    "s.split(\"t\",)"
   ]
  },
  {
   "cell_type": "code",
   "execution_count": 66,
   "id": "e2543847-77f3-493b-9882-990119bf5694",
   "metadata": {},
   "outputs": [
    {
     "name": "stdin",
     "output_type": "stream",
     "text": [
      "enter the email id  pranav@123@gmail.com\n"
     ]
    },
    {
     "data": {
      "text/plain": [
       "'pranav@123@gmail.com'"
      ]
     },
     "execution_count": 66,
     "metadata": {},
     "output_type": "execute_result"
    }
   ],
   "source": [
    "email=input(\"enter the email id \")\n",
    "email"
   ]
  },
  {
   "cell_type": "code",
   "execution_count": 67,
   "id": "20a1af21-285d-4a5a-855d-c12080df2830",
   "metadata": {},
   "outputs": [
    {
     "data": {
      "text/plain": [
       "['pranav', '123', 'gmail.com']"
      ]
     },
     "execution_count": 67,
     "metadata": {},
     "output_type": "execute_result"
    }
   ],
   "source": [
    "l=email.split(\"@\")\n",
    "l"
   ]
  },
  {
   "cell_type": "code",
   "execution_count": 68,
   "id": "cd1f898f-432b-4415-82d7-b790181556b1",
   "metadata": {},
   "outputs": [
    {
     "data": {
      "text/plain": [
       "'gmail.com'"
      ]
     },
     "execution_count": 68,
     "metadata": {},
     "output_type": "execute_result"
    }
   ],
   "source": [
    "l[-1]"
   ]
  },
  {
   "cell_type": "code",
   "execution_count": 8,
   "id": "d9c81757-16a5-4322-868b-edacea1f99bb",
   "metadata": {},
   "outputs": [
    {
     "data": {
      "text/plain": [
       "['pranavsawant305', 'gmail.com']"
      ]
     },
     "execution_count": 8,
     "metadata": {},
     "output_type": "execute_result"
    }
   ],
   "source": [
    "l=email.rsplit(\"@\",1)\n",
    "l"
   ]
  },
  {
   "cell_type": "markdown",
   "id": "8ea334cb-dad6-4219-b35c-edaeb6651604",
   "metadata": {},
   "source": [
    "# strip : unwanted trailing and leading character space,\\t \\n"
   ]
  },
  {
   "cell_type": "code",
   "execution_count": 70,
   "id": "ab87a0e7-af4a-45b3-ba94-5c4d83108f74",
   "metadata": {},
   "outputs": [
    {
     "name": "stdout",
     "output_type": "stream",
     "text": [
      "   hi how are you      \n",
      "23\n",
      "hi how are you\n",
      "14\n"
     ]
    }
   ],
   "source": [
    "s=\"   hi how are you      \"\n",
    "print(s)\n",
    "print(len(s))\n",
    "s1=s.strip()\n",
    "print(s1)\n",
    "print(len(s1))"
   ]
  },
  {
   "cell_type": "code",
   "execution_count": 71,
   "id": "ebbb42d5-6133-4a23-abf8-89ef58b037d2",
   "metadata": {},
   "outputs": [
    {
     "name": "stdout",
     "output_type": "stream",
     "text": [
      "   hi how are you      \n",
      "23\n",
      "hi how are you      \n",
      "20\n"
     ]
    }
   ],
   "source": [
    "s=\"   hi how are you      \"\n",
    "print(s)\n",
    "print(len(s))\n",
    "s1=s.lstrip()\n",
    "print(s1)\n",
    "print(len(s1))"
   ]
  },
  {
   "cell_type": "code",
   "execution_count": 72,
   "id": "89622445-b04a-4d51-ab0a-e6b8e3842ae9",
   "metadata": {},
   "outputs": [
    {
     "name": "stdout",
     "output_type": "stream",
     "text": [
      "   hi how are you      \n",
      "23\n",
      "   hi how are you\n",
      "17\n"
     ]
    }
   ],
   "source": [
    "s=\"   hi how are you      \"\n",
    "print(s)\n",
    "print(len(s))\n",
    "s1=s.rstrip()\n",
    "print(s1)\n",
    "print(len(s1))"
   ]
  },
  {
   "cell_type": "code",
   "execution_count": 73,
   "id": "a71a823d-3441-427d-ae35-6b9ccf4018a8",
   "metadata": {},
   "outputs": [
    {
     "name": "stdout",
     "output_type": "stream",
     "text": [
      "   hi how are you      \n",
      "23\n",
      "   hi how are you      \n",
      "23\n"
     ]
    }
   ],
   "source": [
    "s=\"   hi how are you      \"\n",
    "print(s)\n",
    "print(len(s))\n",
    "s1=s.strip(\"@\")\n",
    "print(s1)\n",
    "print(len(s1))"
   ]
  },
  {
   "cell_type": "code",
   "execution_count": 74,
   "id": "c4027f32-3237-4d80-bea2-a7a88a784fc5",
   "metadata": {},
   "outputs": [
    {
     "name": "stdout",
     "output_type": "stream",
     "text": [
      "@@  @@  hi how are you      \n",
      "28\n",
      "  @@  hi how are you      \n",
      "26\n"
     ]
    }
   ],
   "source": [
    "s=\"@@  @@  hi how are you      \"\n",
    "print(s)\n",
    "print(len(s))\n",
    "s1=s.strip(\"@\")\n",
    "print(s1)\n",
    "print(len(s1))"
   ]
  },
  {
   "cell_type": "markdown",
   "id": "bf09edb1-fe57-4ca2-bff2-6528f22ca215",
   "metadata": {},
   "source": [
    "# format :"
   ]
  },
  {
   "cell_type": "code",
   "execution_count": 75,
   "id": "9bdd9dd2-a441-402e-8908-723d922240c1",
   "metadata": {},
   "outputs": [
    {
     "name": "stdin",
     "output_type": "stream",
     "text": [
      "enter the fruit  mango\n"
     ]
    },
    {
     "name": "stdout",
     "output_type": "stream",
     "text": [
      "i love  mango\n"
     ]
    }
   ],
   "source": [
    "fruit=input(\"enter the fruit \")\n",
    "print(\"i love \",fruit)"
   ]
  },
  {
   "cell_type": "code",
   "execution_count": 76,
   "id": "53bfe959-fff9-4964-a2cc-51f072f1b559",
   "metadata": {},
   "outputs": [
    {
     "name": "stdout",
     "output_type": "stream",
     "text": [
      "i love  mango\n"
     ]
    }
   ],
   "source": [
    "print(\"i love  {}\".format(fruit))"
   ]
  },
  {
   "cell_type": "code",
   "execution_count": 77,
   "id": "8d989d18-9c26-4726-ad26-4e44980dfd4e",
   "metadata": {},
   "outputs": [
    {
     "name": "stdin",
     "output_type": "stream",
     "text": [
      "enter the fruit  mango\n",
      "enter the fruit  apple\n"
     ]
    },
    {
     "name": "stdout",
     "output_type": "stream",
     "text": [
      "i love  mango and apple\n"
     ]
    }
   ],
   "source": [
    "fruit1=input(\"enter the fruit \")\n",
    "fruit2=input(\"enter the fruit \")\n",
    "print(\"i love  {} and {}\".format(fruit1,fruit2))"
   ]
  },
  {
   "cell_type": "code",
   "execution_count": 78,
   "id": "52e7ee1b-9e8f-46d3-b3ef-7f26b58a4312",
   "metadata": {},
   "outputs": [
    {
     "name": "stdin",
     "output_type": "stream",
     "text": [
      "enter the fruit  mango\n",
      "enter the fruit  apple\n"
     ]
    },
    {
     "name": "stdout",
     "output_type": "stream",
     "text": [
      "i love  apple and mango\n"
     ]
    }
   ],
   "source": [
    "fruit1=input(\"enter the fruit \")\n",
    "fruit2=input(\"enter the fruit \")\n",
    "print(\"i love  {1} and {0}\".format(fruit1,fruit2))"
   ]
  },
  {
   "cell_type": "code",
   "execution_count": 79,
   "id": "1af53862-7df0-46c2-9014-71624cfb16d4",
   "metadata": {},
   "outputs": [
    {
     "name": "stdin",
     "output_type": "stream",
     "text": [
      "enter the fruit  mango\n",
      "enter the fruit  apple\n"
     ]
    },
    {
     "name": "stdout",
     "output_type": "stream",
     "text": [
      "i love  mango and apple\n"
     ]
    }
   ],
   "source": [
    "fruit1=input(\"enter the fruit \")\n",
    "fruit2=input(\"enter the fruit \")\n",
    "print(f\"i love  {fruit1} and {fruit2}\")"
   ]
  },
  {
   "cell_type": "markdown",
   "id": "a67e1b3e-c3bf-4fb4-98fd-f45680e19f5d",
   "metadata": {},
   "source": [
    "# join"
   ]
  },
  {
   "cell_type": "code",
   "execution_count": 26,
   "id": "aa8bb791-8532-43fa-8b2e-dea5e79a3f85",
   "metadata": {},
   "outputs": [
    {
     "data": {
      "text/plain": [
       "'m a d r i d'"
      ]
     },
     "execution_count": 26,
     "metadata": {},
     "output_type": "execute_result"
    }
   ],
   "source": [
    "l=[\"m\",\"a\",\"d\",\"r\",\"i\",\"d\"]\n",
    "s=\" \"\n",
    "s.join(l)"
   ]
  },
  {
   "cell_type": "code",
   "execution_count": 27,
   "id": "3137bec5-e97d-4b76-848c-28103ad9f259",
   "metadata": {},
   "outputs": [
    {
     "data": {
      "text/plain": [
       "'m-a-d-r-i-d'"
      ]
     },
     "execution_count": 27,
     "metadata": {},
     "output_type": "execute_result"
    }
   ],
   "source": [
    "l=[\"m\",\"a\",\"d\",\"r\",\"i\",\"d\"]\n",
    "s=\"-\"\n",
    "s.join(l)"
   ]
  },
  {
   "cell_type": "markdown",
   "id": "fb20c4e1-bd79-407c-9905-53aa5ddc012a",
   "metadata": {},
   "source": [
    "# wap to create the password validity checker while sign up\n",
    "- min 1 upper\n",
    "- min 1 lower\n",
    "- min 1 digit\n",
    "- min 1 special\n",
    "- min 10 characters"
   ]
  },
  {
   "cell_type": "code",
   "execution_count": 82,
   "id": "2e37bcfe-28d2-4c9d-b25d-7e17721e58b6",
   "metadata": {},
   "outputs": [
    {
     "name": "stdin",
     "output_type": "stream",
     "text": [
      "enter the username  pranav\n",
      "enter the password  Pranav@123\n"
     ]
    },
    {
     "name": "stdout",
     "output_type": "stream",
     "text": [
      "sign up succesfully...\n",
      "\n",
      "welcome... pranav\n"
     ]
    }
   ],
   "source": [
    "username=input(\"enter the username \")\n",
    "password =input(\"enter the password \")\n",
    "count_u=0\n",
    "count_l=0\n",
    "count_d=0\n",
    "count_s=0\n",
    "for ch in password:\n",
    "    if ch.isupper():\n",
    "        count_u=count_u+1\n",
    "    elif ch.islower():\n",
    "        count_l=count_l+1\n",
    "    elif ch.isdigit():\n",
    "        count_d=count_d+1\n",
    "    else:\n",
    "        count_s=count_s+1\n",
    "if count_u>=1 and  count_l>=1 and  count_d>=1 and  count_s>=1  and  len(password)>=10:\n",
    "    print(\"sign up succesfully...\\n\\nwelcome...\",username)\n",
    "else:\n",
    "    print(\"invalid passowrd \")"
   ]
  },
  {
   "cell_type": "markdown",
   "id": "28e2795f-ca51-43d4-9d23-dd200ab1429f",
   "metadata": {},
   "source": [
    "# wap to take the email id and display \n",
    "- vowels\n",
    "- con\n",
    "- digit\n",
    "- spec"
   ]
  },
  {
   "cell_type": "code",
   "execution_count": 5,
   "id": "154784e2-d9d9-4e41-845a-66b9ac5732df",
   "metadata": {},
   "outputs": [
    {
     "name": "stdin",
     "output_type": "stream",
     "text": [
      "Enter the email:  pranavsawant305@gmail.com\n"
     ]
    },
    {
     "name": "stdout",
     "output_type": "stream",
     "text": [
      "25\n",
      "Total number of vowels: 7\n",
      "Total number of consonants: 13\n",
      "Total number of digits: 3\n",
      "Total number of special characters: 2\n"
     ]
    }
   ],
   "source": [
    "email = input(\"Enter the email: \")\n",
    "count_v = 0\n",
    "count_c = 0\n",
    "count_d = 0\n",
    "count_s = 0\n",
    "print(len(email))\n",
    "for ch in email:\n",
    "    if ch.lower() in \"aeiou\":\n",
    "        count_v += 1\n",
    "    elif ch.isalpha():\n",
    "        count_c += 1\n",
    "    elif ch.isdigit():\n",
    "        count_d += 1\n",
    "    else:\n",
    "        count_s += 1\n",
    "\n",
    "print(\"Total number of vowels:\", count_v)\n",
    "print(\"Total number of consonants:\", count_c)\n",
    "print(\"Total number of digits:\", count_d)\n",
    "print(\"Total number of special characters:\", count_s)"
   ]
  },
  {
   "cell_type": "markdown",
   "id": "5c969909-747f-4ee0-9ec1-b3c0999d3b8c",
   "metadata": {},
   "source": [
    "# wap to remove the duplicants or to display unique or distinct character"
   ]
  },
  {
   "cell_type": "code",
   "execution_count": 32,
   "id": "9b1564ea-06e4-4b16-8362-ac3630c35717",
   "metadata": {},
   "outputs": [
    {
     "name": "stdin",
     "output_type": "stream",
     "text": [
      "enter the string pranav sawant\n"
     ]
    },
    {
     "name": "stdout",
     "output_type": "stream",
     "text": [
      "unique character are: pranv swt\n",
      "total unique char: 9\n",
      "duplicate char are: aaan\n",
      "total duplicate char: 4\n"
     ]
    }
   ],
   "source": [
    "s=input(\"enter the string\")\n",
    "uni=\"\"\n",
    "count=0\n",
    "countd=0\n",
    "dup=\"\"\n",
    "for ch in s:\n",
    "    if ch not in uni:\n",
    "        uni=uni+ch\n",
    "        count=count+1\n",
    "    else:\n",
    "        dup=dup+ch\n",
    "        countd=countd+1\n",
    "print(\"unique character are:\",uni)\n",
    "print(\"total unique char:\",count)\n",
    "print(\"duplicate char are:\",dup)\n",
    "print(\"total duplicate char:\",countd)"
   ]
  },
  {
   "cell_type": "markdown",
   "id": "c79ebb9f-2816-48a4-bd40-dd23f3fa90ce",
   "metadata": {},
   "source": [
    "# wap to seggregate digit,alpha and spl character in that order"
   ]
  },
  {
   "cell_type": "code",
   "execution_count": 35,
   "id": "1c18e728-6257-44fb-ba2a-6b4128d4fb30",
   "metadata": {},
   "outputs": [
    {
     "name": "stdin",
     "output_type": "stream",
     "text": [
      "enter the string kjhfak686%^&&^lkdjfladkj^*&^*&987987\n"
     ]
    },
    {
     "name": "stdout",
     "output_type": "stream",
     "text": [
      "kjhfaklkdjfladkj\n",
      "686987987\n",
      "%^&&^^*&^*&\n"
     ]
    },
    {
     "data": {
      "text/plain": [
       "'686987987kjhfaklkdjfladkj%^&&^^*&^*&'"
      ]
     },
     "execution_count": 35,
     "metadata": {},
     "output_type": "execute_result"
    }
   ],
   "source": [
    "s=input(\"enter the string\")\n",
    "al=\"\"\n",
    "d=\"\"\n",
    "sp=\"\"\n",
    "for i in s:\n",
    "    if i.isalpha():\n",
    "        al=al+i\n",
    "    elif i.isdigit():\n",
    "        d=d+i\n",
    "    else:\n",
    "        sp=sp+i\n",
    "print(al)\n",
    "print(d)\n",
    "print(sp)\n",
    "d+al+sp"
   ]
  },
  {
   "cell_type": "markdown",
   "id": "7155bf73-00d1-4dbf-8cd2-b84e36fa92dd",
   "metadata": {},
   "source": [
    "# deletion in string\n",
    "\n",
    " - naive\n",
    " - slicing and concatination\n",
    " - replace"
   ]
  },
  {
   "cell_type": "markdown",
   "id": "7d31ceae-4db5-43f9-84b9-b2212bc2aadf",
   "metadata": {},
   "source": [
    "# replace : "
   ]
  },
  {
   "cell_type": "code",
   "execution_count": 1,
   "id": "cc8be4df-de09-4765-9499-94611bb87943",
   "metadata": {},
   "outputs": [
    {
     "data": {
      "text/plain": [
       "'matrit'"
      ]
     },
     "execution_count": 1,
     "metadata": {},
     "output_type": "execute_result"
    }
   ],
   "source": [
    "s=\"madrid\"\n",
    "s1=s.replace(\"d\",\"t\")\n",
    "s1"
   ]
  },
  {
   "cell_type": "code",
   "execution_count": 2,
   "id": "f04deae4-f649-449d-b16b-c91f10dae98f",
   "metadata": {},
   "outputs": [
    {
     "data": {
      "text/plain": [
       "'mtdrid'"
      ]
     },
     "execution_count": 2,
     "metadata": {},
     "output_type": "execute_result"
    }
   ],
   "source": [
    "s=\"madrid\"\n",
    "s1=s.replace(\"a\",\"t\")\n",
    "s1"
   ]
  },
  {
   "cell_type": "code",
   "execution_count": 3,
   "id": "5108e27f-a347-4486-8a9c-ce733d75c7d9",
   "metadata": {},
   "outputs": [
    {
     "data": {
      "text/plain": [
       "'matrid'"
      ]
     },
     "execution_count": 3,
     "metadata": {},
     "output_type": "execute_result"
    }
   ],
   "source": [
    "s=\"madrid\"\n",
    "s1=s.replace(\"d\",\"t\",1)\n",
    "s1"
   ]
  },
  {
   "cell_type": "markdown",
   "id": "85ca8cf1-831b-44dd-a4ef-007b771cdd48",
   "metadata": {},
   "source": [
    "# deletion using replace"
   ]
  },
  {
   "cell_type": "code",
   "execution_count": 4,
   "id": "57f7e046-6762-4382-a92d-757e76eb5998",
   "metadata": {},
   "outputs": [
    {
     "name": "stdin",
     "output_type": "stream",
     "text": [
      "enter the sub u want to delete  d\n"
     ]
    },
    {
     "name": "stdout",
     "output_type": "stream",
     "text": [
      "mari\n"
     ]
    }
   ],
   "source": [
    "s=\"madrid\"\n",
    "sub=input(\"enter the sub u want to delete \")\n",
    "if sub in s:\n",
    "    s1=s.replace(sub,\"\")\n",
    "    print(s1)\n",
    "else:\n",
    "    print(sub,\"is not found \")"
   ]
  },
  {
   "cell_type": "code",
   "execution_count": 5,
   "id": "5d1b25f4-52d3-457c-8a6f-52219184e456",
   "metadata": {},
   "outputs": [
    {
     "name": "stdin",
     "output_type": "stream",
     "text": [
      "enter the pos at which u want to delete   90\n"
     ]
    },
    {
     "ename": "IndexError",
     "evalue": "string index out of range",
     "output_type": "error",
     "traceback": [
      "\u001b[1;31m---------------------------------------------------------------------------\u001b[0m",
      "\u001b[1;31mIndexError\u001b[0m                                Traceback (most recent call last)",
      "Cell \u001b[1;32mIn[5], line 3\u001b[0m\n\u001b[0;32m      1\u001b[0m s\u001b[38;5;241m=\u001b[39m\u001b[38;5;124m\"\u001b[39m\u001b[38;5;124mmadrid\u001b[39m\u001b[38;5;124m\"\u001b[39m\n\u001b[0;32m      2\u001b[0m pos\u001b[38;5;241m=\u001b[39m\u001b[38;5;28mint\u001b[39m(\u001b[38;5;28minput\u001b[39m(\u001b[38;5;124m\"\u001b[39m\u001b[38;5;124menter the pos at which u want to delete  \u001b[39m\u001b[38;5;124m\"\u001b[39m))\n\u001b[1;32m----> 3\u001b[0m sub\u001b[38;5;241m=\u001b[39ms[pos]\n\u001b[0;32m      4\u001b[0m s\u001b[38;5;241m.\u001b[39mreplace(sub,\u001b[38;5;124m\"\u001b[39m\u001b[38;5;124m\"\u001b[39m,\u001b[38;5;241m1\u001b[39m)\n",
      "\u001b[1;31mIndexError\u001b[0m: string index out of range"
     ]
    }
   ],
   "source": [
    "s=\"madrid\"\n",
    "pos=int(input(\"enter the pos at which u want to delete  \"))\n",
    "sub=s[pos]\n",
    "s.replace(sub,\"\",1)"
   ]
  },
  {
   "cell_type": "code",
   "execution_count": 36,
   "id": "df46b079-20bd-4cf3-b208-e4d640be69c4",
   "metadata": {},
   "outputs": [
    {
     "name": "stdin",
     "output_type": "stream",
     "text": [
      "enter the pos at which u want to delete   2\n"
     ]
    },
    {
     "data": {
      "text/plain": [
       "'marid'"
      ]
     },
     "execution_count": 36,
     "metadata": {},
     "output_type": "execute_result"
    }
   ],
   "source": [
    "s=\"madrid\"\n",
    "pos=int(input(\"enter the pos at which u want to delete  \"))\n",
    "sub=s[pos]\n",
    "s.replace(sub,\"\",1)"
   ]
  },
  {
   "cell_type": "markdown",
   "id": "e7bb9fed-cbd2-4a06-8456-2345ad8c05cf",
   "metadata": {},
   "source": [
    "# slicing and concatination"
   ]
  },
  {
   "cell_type": "code",
   "execution_count": 6,
   "id": "9adce312-eff6-4aed-9bf4-be9d3b07e857",
   "metadata": {},
   "outputs": [
    {
     "name": "stdin",
     "output_type": "stream",
     "text": [
      "enter the string  balmeet\n",
      "enter the sub to be delete  me\n"
     ]
    },
    {
     "name": "stdout",
     "output_type": "stream",
     "text": [
      "balet\n"
     ]
    }
   ],
   "source": [
    "s=input(\"enter the string \")\n",
    "sub=input(\"enter the sub to be delete \")\n",
    "if sub not in s:\n",
    "    print(\"not found\")\n",
    "else:\n",
    "    pos=s.index(sub)\n",
    "    l=len(sub)\n",
    "    print(s[0:pos]+s[pos+l:])"
   ]
  },
  {
   "cell_type": "code",
   "execution_count": 7,
   "id": "00f01495-8c7b-4673-a0ad-42d13085db80",
   "metadata": {},
   "outputs": [
    {
     "data": {
      "text/plain": [
       "'balmeet'"
      ]
     },
     "execution_count": 7,
     "metadata": {},
     "output_type": "execute_result"
    }
   ],
   "source": [
    "s"
   ]
  },
  {
   "cell_type": "markdown",
   "id": "7099821d-cfa7-4120-8c92-67c495aa02a3",
   "metadata": {},
   "source": [
    "# naive"
   ]
  },
  {
   "cell_type": "code",
   "execution_count": 1,
   "id": "5bb6326b-f4c6-4478-962c-51f18d43f234",
   "metadata": {},
   "outputs": [
    {
     "data": {
      "text/plain": [
       "'mari'"
      ]
     },
     "execution_count": 1,
     "metadata": {},
     "output_type": "execute_result"
    }
   ],
   "source": [
    "s=\"madrid\"\n",
    "sub=\"d\"\n",
    "ss=\"\"\n",
    "for ch in s:\n",
    "    if ch!=\"d\":\n",
    "        ss=ss+ch\n",
    "ss       "
   ]
  },
  {
   "cell_type": "markdown",
   "id": "ccaa08d5-18d5-4a52-8e81-ac6d4dca4f8a",
   "metadata": {},
   "source": [
    "# addition"
   ]
  },
  {
   "cell_type": "code",
   "execution_count": 9,
   "id": "f14edec2-20e5-44cf-9ef1-d3cd8d3875c3",
   "metadata": {},
   "outputs": [
    {
     "name": "stdin",
     "output_type": "stream",
     "text": [
      "enter the string  balmeet\n",
      "new sub string to be added  helo\n",
      "enter the pos  2\n"
     ]
    },
    {
     "data": {
      "text/plain": [
       "'bahelolmeet'"
      ]
     },
     "execution_count": 9,
     "metadata": {},
     "output_type": "execute_result"
    }
   ],
   "source": [
    "s=input(\"enter the string \")\n",
    "sub=input(\"new sub string to be added \")\n",
    "pos=int(input(\"enter the pos \"))\n",
    "s[0:pos]+sub+s[pos:]"
   ]
  },
  {
   "cell_type": "markdown",
   "id": "1c32e3ec-9c10-45a0-94ce-afc5d976047f",
   "metadata": {},
   "source": [
    "# updation:\n",
    "- replace\n",
    "- concat"
   ]
  },
  {
   "cell_type": "code",
   "execution_count": 10,
   "id": "8a0e1f77-d610-42e1-ba57-cc9d3a6247ba",
   "metadata": {},
   "outputs": [
    {
     "data": {
      "text/plain": [
       "'madridsolu'"
      ]
     },
     "execution_count": 10,
     "metadata": {},
     "output_type": "execute_result"
    }
   ],
   "source": [
    "s=\"madrid\"\n",
    "sub=\"solu\"\n",
    "s+sub"
   ]
  },
  {
   "cell_type": "code",
   "execution_count": 11,
   "id": "65feda3f-1de1-4f46-a6f7-fe7abcb04eb3",
   "metadata": {},
   "outputs": [
    {
     "data": {
      "text/plain": [
       "'matrid'"
      ]
     },
     "execution_count": 11,
     "metadata": {},
     "output_type": "execute_result"
    }
   ],
   "source": [
    "s.replace(\"d\",\"t\",1)"
   ]
  },
  {
   "cell_type": "markdown",
   "id": "96374188-b024-483a-acd1-a98ce6a60e72",
   "metadata": {},
   "source": [
    "# s=\"a quick brown fox jumps over the lazy dog\"\n",
    "# task1 total alpha and distinct\n",
    "# task2 total words\n",
    "# task3 prove it has a-z"
   ]
  },
  {
   "cell_type": "markdown",
   "id": "4627e6b8-cf38-4cf3-89e6-64a75e010cd3",
   "metadata": {},
   "source": [
    "# task 1"
   ]
  },
  {
   "cell_type": "code",
   "execution_count": 25,
   "id": "9857cc83-d179-48f3-b049-ffb5eda4dca3",
   "metadata": {},
   "outputs": [],
   "source": [
    "s=\"a quick brown fox jumps over the lazy dog\""
   ]
  },
  {
   "cell_type": "code",
   "execution_count": 26,
   "id": "324fc781-af27-402f-a82d-617537f6ff12",
   "metadata": {},
   "outputs": [
    {
     "data": {
      "text/plain": [
       "'aquickbrownfoxjumpsoverthelazydog'"
      ]
     },
     "execution_count": 26,
     "metadata": {},
     "output_type": "execute_result"
    }
   ],
   "source": [
    "s1=s.replace(\" \",\"\")\n",
    "s1"
   ]
  },
  {
   "cell_type": "code",
   "execution_count": 27,
   "id": "e2041218-1ec1-4ac4-acd2-a4a307f66e5c",
   "metadata": {},
   "outputs": [
    {
     "data": {
      "text/plain": [
       "33"
      ]
     },
     "execution_count": 27,
     "metadata": {},
     "output_type": "execute_result"
    }
   ],
   "source": [
    "len(s1) # total alphabat"
   ]
  },
  {
   "cell_type": "code",
   "execution_count": 28,
   "id": "de0f55c0-95d0-48e8-bc73-bb453cf56758",
   "metadata": {},
   "outputs": [
    {
     "data": {
      "text/plain": [
       "'aquickbrownfxjmpsvethlzydg'"
      ]
     },
     "execution_count": 28,
     "metadata": {},
     "output_type": "execute_result"
    }
   ],
   "source": [
    "uni=\"\"\n",
    "for i in s1:\n",
    "    if i not in uni:\n",
    "        uni=uni+i\n",
    "uni"
   ]
  },
  {
   "cell_type": "code",
   "execution_count": 29,
   "id": "9ae7327b-8b50-4304-b224-8ca8e6880f26",
   "metadata": {},
   "outputs": [
    {
     "data": {
      "text/plain": [
       "26"
      ]
     },
     "execution_count": 29,
     "metadata": {},
     "output_type": "execute_result"
    }
   ],
   "source": [
    "len(uni) # distinct "
   ]
  },
  {
   "cell_type": "code",
   "execution_count": 30,
   "id": "d41751dc-2a64-400b-9bd7-80d9b2beca81",
   "metadata": {},
   "outputs": [
    {
     "data": {
      "text/plain": [
       "'a quick brown fox jumps over the lazy dog'"
      ]
     },
     "execution_count": 30,
     "metadata": {},
     "output_type": "execute_result"
    }
   ],
   "source": [
    "s"
   ]
  },
  {
   "cell_type": "markdown",
   "id": "1f581800-9eff-4a42-8a27-70c5d6927990",
   "metadata": {},
   "source": [
    "# task 2"
   ]
  },
  {
   "cell_type": "code",
   "execution_count": 18,
   "id": "91dcd3e6-0043-4dde-b1a8-aa99bc1c0043",
   "metadata": {},
   "outputs": [
    {
     "data": {
      "text/plain": [
       "9"
      ]
     },
     "execution_count": 18,
     "metadata": {},
     "output_type": "execute_result"
    }
   ],
   "source": [
    "len(s.split())"
   ]
  },
  {
   "cell_type": "markdown",
   "id": "499a011b-0cc9-4517-8712-5f3f1b9adb2a",
   "metadata": {},
   "source": [
    "# task 3"
   ]
  },
  {
   "cell_type": "code",
   "execution_count": 19,
   "id": "14b21845-30a3-4907-828a-8a41f3557e01",
   "metadata": {},
   "outputs": [
    {
     "data": {
      "text/plain": [
       "'aquickbrownfxjmpsvethlzydg'"
      ]
     },
     "execution_count": 19,
     "metadata": {},
     "output_type": "execute_result"
    }
   ],
   "source": [
    "uni"
   ]
  },
  {
   "cell_type": "code",
   "execution_count": 20,
   "id": "2c9460a0-8dab-4d4c-8527-e47c2771298b",
   "metadata": {},
   "outputs": [
    {
     "data": {
      "text/plain": [
       "['a',\n",
       " 'b',\n",
       " 'c',\n",
       " 'd',\n",
       " 'e',\n",
       " 'f',\n",
       " 'g',\n",
       " 'h',\n",
       " 'i',\n",
       " 'j',\n",
       " 'k',\n",
       " 'l',\n",
       " 'm',\n",
       " 'n',\n",
       " 'o',\n",
       " 'p',\n",
       " 'q',\n",
       " 'r',\n",
       " 's',\n",
       " 't',\n",
       " 'u',\n",
       " 'v',\n",
       " 'w',\n",
       " 'x',\n",
       " 'y',\n",
       " 'z']"
      ]
     },
     "execution_count": 20,
     "metadata": {},
     "output_type": "execute_result"
    }
   ],
   "source": [
    "sorted(uni)"
   ]
  },
  {
   "cell_type": "code",
   "execution_count": 21,
   "id": "fa33631d-2de2-4861-b54b-54854a812e83",
   "metadata": {},
   "outputs": [
    {
     "data": {
      "text/plain": [
       "'a b c d e f g h i j k l m n o p q r s t u v w x y z'"
      ]
     },
     "execution_count": 21,
     "metadata": {},
     "output_type": "execute_result"
    }
   ],
   "source": [
    "s=\" \"\n",
    "s.join(sorted(uni))"
   ]
  },
  {
   "cell_type": "markdown",
   "id": "5ea91645-39d4-47ac-9c0c-6acbceceb080",
   "metadata": {},
   "source": [
    "# wap to display wheather the entered string is anagram or not"
   ]
  },
  {
   "cell_type": "code",
   "execution_count": 16,
   "id": "97b6cd6a-68bf-4443-9569-69f30dfd1841",
   "metadata": {},
   "outputs": [
    {
     "name": "stdin",
     "output_type": "stream",
     "text": [
      "enter the first string earTH\n",
      "enter the second string HEArt\n"
     ]
    },
    {
     "name": "stdout",
     "output_type": "stream",
     "text": [
      "anagram\n"
     ]
    }
   ],
   "source": [
    "s1=input(\"enter the first string\")\n",
    "s2=input(\"enter the second string\")\n",
    "s1=s1.lower()\n",
    "s2=s2.lower()\n",
    "l1=sorted(s1)\n",
    "l2=sorted(s2)\n",
    "if l1==l2:\n",
    "    print(\"anagram\")\n",
    "else:\n",
    "    print(\"not anagram\")"
   ]
  },
  {
   "cell_type": "code",
   "execution_count": 14,
   "id": "111f8dc3-3f7c-4cbe-ae36-0273487dc983",
   "metadata": {},
   "outputs": [
    {
     "data": {
      "text/plain": [
       "['a', 'e', 'h', 'r', 't']"
      ]
     },
     "execution_count": 14,
     "metadata": {},
     "output_type": "execute_result"
    }
   ],
   "source": [
    "l1"
   ]
  },
  {
   "cell_type": "code",
   "execution_count": 15,
   "id": "c40c0db8-b695-41b5-b05a-7772b26680c9",
   "metadata": {},
   "outputs": [
    {
     "data": {
      "text/plain": [
       "['a', 'e', 'h', 'r', 't']"
      ]
     },
     "execution_count": 15,
     "metadata": {},
     "output_type": "execute_result"
    }
   ],
   "source": [
    "l2"
   ]
  }
 ],
 "metadata": {
  "kernelspec": {
   "display_name": "Python 3 (ipykernel)",
   "language": "python",
   "name": "python3"
  },
  "language_info": {
   "codemirror_mode": {
    "name": "ipython",
    "version": 3
   },
   "file_extension": ".py",
   "mimetype": "text/x-python",
   "name": "python",
   "nbconvert_exporter": "python",
   "pygments_lexer": "ipython3",
   "version": "3.11.7"
  }
 },
 "nbformat": 4,
 "nbformat_minor": 5
}
